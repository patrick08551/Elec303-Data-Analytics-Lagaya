{
 "cells": [
  {
   "cell_type": "code",
   "execution_count": 32,
   "id": "f1843633-9927-4957-b0b8-fb2082ffa7bb",
   "metadata": {},
   "outputs": [],
   "source": [
    "import numpy as np\n",
    "import pandas as pd"
   ]
  },
  {
   "cell_type": "code",
   "execution_count": 33,
   "id": "4ab2832b-21e3-4bff-bb6b-c002fc4d3041",
   "metadata": {},
   "outputs": [],
   "source": [
    "df = pd.read_csv(\"roadaccidents\\\\uk_road_accident.csv\")"
   ]
  },
  {
   "cell_type": "code",
   "execution_count": 34,
   "id": "1288ddd6-7534-4f00-a70d-4a8d5fd776a0",
   "metadata": {},
   "outputs": [
    {
     "data": {
      "text/html": [
       "<div>\n",
       "<style scoped>\n",
       "    .dataframe tbody tr th:only-of-type {\n",
       "        vertical-align: middle;\n",
       "    }\n",
       "\n",
       "    .dataframe tbody tr th {\n",
       "        vertical-align: top;\n",
       "    }\n",
       "\n",
       "    .dataframe thead th {\n",
       "        text-align: right;\n",
       "    }\n",
       "</style>\n",
       "<table border=\"1\" class=\"dataframe\">\n",
       "  <thead>\n",
       "    <tr style=\"text-align: right;\">\n",
       "      <th></th>\n",
       "      <th>Latitude</th>\n",
       "      <th>Longitude</th>\n",
       "      <th>Number_of_Casualties</th>\n",
       "      <th>Number_of_Vehicles</th>\n",
       "    </tr>\n",
       "  </thead>\n",
       "  <tbody>\n",
       "    <tr>\n",
       "      <th>count</th>\n",
       "      <td>660654.000000</td>\n",
       "      <td>660653.000000</td>\n",
       "      <td>660679.000000</td>\n",
       "      <td>660679.000000</td>\n",
       "    </tr>\n",
       "    <tr>\n",
       "      <th>mean</th>\n",
       "      <td>52.553866</td>\n",
       "      <td>-1.431210</td>\n",
       "      <td>1.357040</td>\n",
       "      <td>1.831255</td>\n",
       "    </tr>\n",
       "    <tr>\n",
       "      <th>std</th>\n",
       "      <td>1.406922</td>\n",
       "      <td>1.383330</td>\n",
       "      <td>0.824847</td>\n",
       "      <td>0.715269</td>\n",
       "    </tr>\n",
       "    <tr>\n",
       "      <th>min</th>\n",
       "      <td>49.914430</td>\n",
       "      <td>-7.516225</td>\n",
       "      <td>1.000000</td>\n",
       "      <td>1.000000</td>\n",
       "    </tr>\n",
       "    <tr>\n",
       "      <th>25%</th>\n",
       "      <td>51.490690</td>\n",
       "      <td>-2.332291</td>\n",
       "      <td>1.000000</td>\n",
       "      <td>1.000000</td>\n",
       "    </tr>\n",
       "    <tr>\n",
       "      <th>50%</th>\n",
       "      <td>52.315641</td>\n",
       "      <td>-1.411667</td>\n",
       "      <td>1.000000</td>\n",
       "      <td>2.000000</td>\n",
       "    </tr>\n",
       "    <tr>\n",
       "      <th>75%</th>\n",
       "      <td>53.453452</td>\n",
       "      <td>-0.232869</td>\n",
       "      <td>1.000000</td>\n",
       "      <td>2.000000</td>\n",
       "    </tr>\n",
       "    <tr>\n",
       "      <th>max</th>\n",
       "      <td>60.757544</td>\n",
       "      <td>1.762010</td>\n",
       "      <td>68.000000</td>\n",
       "      <td>32.000000</td>\n",
       "    </tr>\n",
       "  </tbody>\n",
       "</table>\n",
       "</div>"
      ],
      "text/plain": [
       "            Latitude      Longitude  Number_of_Casualties  Number_of_Vehicles\n",
       "count  660654.000000  660653.000000         660679.000000       660679.000000\n",
       "mean       52.553866      -1.431210              1.357040            1.831255\n",
       "std         1.406922       1.383330              0.824847            0.715269\n",
       "min        49.914430      -7.516225              1.000000            1.000000\n",
       "25%        51.490690      -2.332291              1.000000            1.000000\n",
       "50%        52.315641      -1.411667              1.000000            2.000000\n",
       "75%        53.453452      -0.232869              1.000000            2.000000\n",
       "max        60.757544       1.762010             68.000000           32.000000"
      ]
     },
     "execution_count": 34,
     "metadata": {},
     "output_type": "execute_result"
    }
   ],
   "source": [
    "df.describe()"
   ]
  },
  {
   "cell_type": "code",
   "execution_count": 37,
   "id": "fc618fe4-7755-4789-afaa-eefe70d54097",
   "metadata": {},
   "outputs": [
    {
     "data": {
      "text/html": [
       "<div>\n",
       "<style scoped>\n",
       "    .dataframe tbody tr th:only-of-type {\n",
       "        vertical-align: middle;\n",
       "    }\n",
       "\n",
       "    .dataframe tbody tr th {\n",
       "        vertical-align: top;\n",
       "    }\n",
       "\n",
       "    .dataframe thead th {\n",
       "        text-align: right;\n",
       "    }\n",
       "</style>\n",
       "<table border=\"1\" class=\"dataframe\">\n",
       "  <thead>\n",
       "    <tr style=\"text-align: right;\">\n",
       "      <th></th>\n",
       "      <th>Index</th>\n",
       "      <th>Accident_Severity</th>\n",
       "      <th>Accident Date</th>\n",
       "      <th>Latitude</th>\n",
       "      <th>Light_Conditions</th>\n",
       "      <th>District Area</th>\n",
       "      <th>Longitude</th>\n",
       "      <th>Number_of_Casualties</th>\n",
       "      <th>Number_of_Vehicles</th>\n",
       "      <th>Road_Surface_Conditions</th>\n",
       "      <th>Road_Type</th>\n",
       "      <th>Urban_or_Rural_Area</th>\n",
       "      <th>Weather_Conditions</th>\n",
       "      <th>Vehicle_Type</th>\n",
       "    </tr>\n",
       "  </thead>\n",
       "  <tbody>\n",
       "    <tr>\n",
       "      <th>0</th>\n",
       "      <td>False</td>\n",
       "      <td>False</td>\n",
       "      <td>False</td>\n",
       "      <td>False</td>\n",
       "      <td>False</td>\n",
       "      <td>False</td>\n",
       "      <td>False</td>\n",
       "      <td>False</td>\n",
       "      <td>False</td>\n",
       "      <td>False</td>\n",
       "      <td>False</td>\n",
       "      <td>False</td>\n",
       "      <td>False</td>\n",
       "      <td>False</td>\n",
       "    </tr>\n",
       "    <tr>\n",
       "      <th>1</th>\n",
       "      <td>False</td>\n",
       "      <td>False</td>\n",
       "      <td>False</td>\n",
       "      <td>False</td>\n",
       "      <td>False</td>\n",
       "      <td>False</td>\n",
       "      <td>False</td>\n",
       "      <td>False</td>\n",
       "      <td>False</td>\n",
       "      <td>False</td>\n",
       "      <td>False</td>\n",
       "      <td>False</td>\n",
       "      <td>False</td>\n",
       "      <td>False</td>\n",
       "    </tr>\n",
       "    <tr>\n",
       "      <th>2</th>\n",
       "      <td>False</td>\n",
       "      <td>False</td>\n",
       "      <td>False</td>\n",
       "      <td>False</td>\n",
       "      <td>False</td>\n",
       "      <td>False</td>\n",
       "      <td>False</td>\n",
       "      <td>False</td>\n",
       "      <td>False</td>\n",
       "      <td>False</td>\n",
       "      <td>True</td>\n",
       "      <td>False</td>\n",
       "      <td>True</td>\n",
       "      <td>False</td>\n",
       "    </tr>\n",
       "    <tr>\n",
       "      <th>3</th>\n",
       "      <td>False</td>\n",
       "      <td>False</td>\n",
       "      <td>False</td>\n",
       "      <td>False</td>\n",
       "      <td>False</td>\n",
       "      <td>False</td>\n",
       "      <td>False</td>\n",
       "      <td>False</td>\n",
       "      <td>False</td>\n",
       "      <td>False</td>\n",
       "      <td>False</td>\n",
       "      <td>False</td>\n",
       "      <td>False</td>\n",
       "      <td>False</td>\n",
       "    </tr>\n",
       "    <tr>\n",
       "      <th>4</th>\n",
       "      <td>False</td>\n",
       "      <td>False</td>\n",
       "      <td>False</td>\n",
       "      <td>False</td>\n",
       "      <td>False</td>\n",
       "      <td>False</td>\n",
       "      <td>False</td>\n",
       "      <td>False</td>\n",
       "      <td>False</td>\n",
       "      <td>False</td>\n",
       "      <td>True</td>\n",
       "      <td>False</td>\n",
       "      <td>True</td>\n",
       "      <td>False</td>\n",
       "    </tr>\n",
       "    <tr>\n",
       "      <th>...</th>\n",
       "      <td>...</td>\n",
       "      <td>...</td>\n",
       "      <td>...</td>\n",
       "      <td>...</td>\n",
       "      <td>...</td>\n",
       "      <td>...</td>\n",
       "      <td>...</td>\n",
       "      <td>...</td>\n",
       "      <td>...</td>\n",
       "      <td>...</td>\n",
       "      <td>...</td>\n",
       "      <td>...</td>\n",
       "      <td>...</td>\n",
       "      <td>...</td>\n",
       "    </tr>\n",
       "    <tr>\n",
       "      <th>660674</th>\n",
       "      <td>False</td>\n",
       "      <td>False</td>\n",
       "      <td>False</td>\n",
       "      <td>False</td>\n",
       "      <td>False</td>\n",
       "      <td>False</td>\n",
       "      <td>False</td>\n",
       "      <td>False</td>\n",
       "      <td>False</td>\n",
       "      <td>False</td>\n",
       "      <td>False</td>\n",
       "      <td>False</td>\n",
       "      <td>False</td>\n",
       "      <td>False</td>\n",
       "    </tr>\n",
       "    <tr>\n",
       "      <th>660675</th>\n",
       "      <td>False</td>\n",
       "      <td>False</td>\n",
       "      <td>False</td>\n",
       "      <td>False</td>\n",
       "      <td>False</td>\n",
       "      <td>False</td>\n",
       "      <td>False</td>\n",
       "      <td>False</td>\n",
       "      <td>False</td>\n",
       "      <td>False</td>\n",
       "      <td>False</td>\n",
       "      <td>False</td>\n",
       "      <td>False</td>\n",
       "      <td>False</td>\n",
       "    </tr>\n",
       "    <tr>\n",
       "      <th>660676</th>\n",
       "      <td>False</td>\n",
       "      <td>False</td>\n",
       "      <td>False</td>\n",
       "      <td>False</td>\n",
       "      <td>False</td>\n",
       "      <td>False</td>\n",
       "      <td>False</td>\n",
       "      <td>False</td>\n",
       "      <td>False</td>\n",
       "      <td>False</td>\n",
       "      <td>False</td>\n",
       "      <td>False</td>\n",
       "      <td>False</td>\n",
       "      <td>False</td>\n",
       "    </tr>\n",
       "    <tr>\n",
       "      <th>660677</th>\n",
       "      <td>False</td>\n",
       "      <td>False</td>\n",
       "      <td>False</td>\n",
       "      <td>False</td>\n",
       "      <td>False</td>\n",
       "      <td>False</td>\n",
       "      <td>False</td>\n",
       "      <td>False</td>\n",
       "      <td>False</td>\n",
       "      <td>False</td>\n",
       "      <td>False</td>\n",
       "      <td>False</td>\n",
       "      <td>False</td>\n",
       "      <td>False</td>\n",
       "    </tr>\n",
       "    <tr>\n",
       "      <th>660678</th>\n",
       "      <td>False</td>\n",
       "      <td>False</td>\n",
       "      <td>False</td>\n",
       "      <td>False</td>\n",
       "      <td>False</td>\n",
       "      <td>False</td>\n",
       "      <td>False</td>\n",
       "      <td>False</td>\n",
       "      <td>False</td>\n",
       "      <td>False</td>\n",
       "      <td>False</td>\n",
       "      <td>False</td>\n",
       "      <td>False</td>\n",
       "      <td>False</td>\n",
       "    </tr>\n",
       "  </tbody>\n",
       "</table>\n",
       "<p>660679 rows × 14 columns</p>\n",
       "</div>"
      ],
      "text/plain": [
       "        Index  Accident_Severity  Accident Date  Latitude  Light_Conditions  \\\n",
       "0       False              False          False     False             False   \n",
       "1       False              False          False     False             False   \n",
       "2       False              False          False     False             False   \n",
       "3       False              False          False     False             False   \n",
       "4       False              False          False     False             False   \n",
       "...       ...                ...            ...       ...               ...   \n",
       "660674  False              False          False     False             False   \n",
       "660675  False              False          False     False             False   \n",
       "660676  False              False          False     False             False   \n",
       "660677  False              False          False     False             False   \n",
       "660678  False              False          False     False             False   \n",
       "\n",
       "        District Area  Longitude  Number_of_Casualties  Number_of_Vehicles  \\\n",
       "0               False      False                 False               False   \n",
       "1               False      False                 False               False   \n",
       "2               False      False                 False               False   \n",
       "3               False      False                 False               False   \n",
       "4               False      False                 False               False   \n",
       "...               ...        ...                   ...                 ...   \n",
       "660674          False      False                 False               False   \n",
       "660675          False      False                 False               False   \n",
       "660676          False      False                 False               False   \n",
       "660677          False      False                 False               False   \n",
       "660678          False      False                 False               False   \n",
       "\n",
       "        Road_Surface_Conditions  Road_Type  Urban_or_Rural_Area  \\\n",
       "0                         False      False                False   \n",
       "1                         False      False                False   \n",
       "2                         False       True                False   \n",
       "3                         False      False                False   \n",
       "4                         False       True                False   \n",
       "...                         ...        ...                  ...   \n",
       "660674                    False      False                False   \n",
       "660675                    False      False                False   \n",
       "660676                    False      False                False   \n",
       "660677                    False      False                False   \n",
       "660678                    False      False                False   \n",
       "\n",
       "        Weather_Conditions  Vehicle_Type  \n",
       "0                    False         False  \n",
       "1                    False         False  \n",
       "2                     True         False  \n",
       "3                    False         False  \n",
       "4                     True         False  \n",
       "...                    ...           ...  \n",
       "660674               False         False  \n",
       "660675               False         False  \n",
       "660676               False         False  \n",
       "660677               False         False  \n",
       "660678               False         False  \n",
       "\n",
       "[660679 rows x 14 columns]"
      ]
     },
     "execution_count": 37,
     "metadata": {},
     "output_type": "execute_result"
    }
   ],
   "source": [
    "df.isnull()"
   ]
  },
  {
   "cell_type": "code",
   "execution_count": 38,
   "id": "d5043d9e-d68b-44ee-bf43-37a39b529668",
   "metadata": {},
   "outputs": [
    {
     "data": {
      "text/plain": [
       "Index                          0\n",
       "Accident_Severity              0\n",
       "Accident Date                  0\n",
       "Latitude                      25\n",
       "Light_Conditions               0\n",
       "District Area                  0\n",
       "Longitude                     26\n",
       "Number_of_Casualties           0\n",
       "Number_of_Vehicles             0\n",
       "Road_Surface_Conditions      726\n",
       "Road_Type                   4520\n",
       "Urban_or_Rural_Area           15\n",
       "Weather_Conditions         14128\n",
       "Vehicle_Type                   0\n",
       "dtype: int64"
      ]
     },
     "execution_count": 38,
     "metadata": {},
     "output_type": "execute_result"
    }
   ],
   "source": [
    "df.isnull().sum()"
   ]
  },
  {
   "cell_type": "markdown",
   "id": "95becf97-c0ec-486a-8fd6-fe7dfdd68399",
   "metadata": {},
   "source": [
    "<h1>1. How many accidents are recorded in the data set?</h1>"
   ]
  },
  {
   "cell_type": "code",
   "execution_count": 39,
   "id": "1f0074ee-7e62-4209-bbd5-12c0af7b1aed",
   "metadata": {},
   "outputs": [
    {
     "data": {
      "text/plain": [
       "Accident_Severity    660679\n",
       "dtype: int64"
      ]
     },
     "execution_count": 39,
     "metadata": {},
     "output_type": "execute_result"
    }
   ],
   "source": [
    "df[['Accident_Severity']].count()"
   ]
  },
  {
   "cell_type": "code",
   "execution_count": 40,
   "id": "c0ed9683-7278-440e-b27b-8e1998f97d92",
   "metadata": {},
   "outputs": [
    {
     "data": {
      "text/plain": [
       "660679"
      ]
     },
     "execution_count": 40,
     "metadata": {},
     "output_type": "execute_result"
    }
   ],
   "source": [
    "len(df)"
   ]
  },
  {
   "cell_type": "markdown",
   "id": "775db76c-d329-4420-bb45-062c2a1a20aa",
   "metadata": {},
   "source": [
    "<p>This shows the total number of accidents that happened in the dataset that been given</p>"
   ]
  },
  {
   "cell_type": "markdown",
   "id": "b8cacd10-ce45-452e-ab45-a9054353410e",
   "metadata": {},
   "source": [
    "<h1>2. What is the severity of the accidents in the data set?</h1>"
   ]
  },
  {
   "cell_type": "code",
   "execution_count": 41,
   "id": "63440ccb-b141-4086-a1e2-aaca7f220e24",
   "metadata": {},
   "outputs": [
    {
     "data": {
      "text/plain": [
       "Accident_Severity\n",
       "Slight     563801\n",
       "Serious     88217\n",
       "Fatal        8661\n",
       "Name: count, dtype: int64"
      ]
     },
     "execution_count": 41,
     "metadata": {},
     "output_type": "execute_result"
    }
   ],
   "source": [
    "df['Accident_Severity'].value_counts()"
   ]
  },
  {
   "cell_type": "markdown",
   "id": "fc9fde76-d44c-4acb-8885-5481c4b23108",
   "metadata": {},
   "source": [
    "<p>Most of the accidents are slightly severe, but still there is too many serious and fatal accidents that been given</p>"
   ]
  },
  {
   "cell_type": "markdown",
   "id": "90138179-0e1c-4a87-b76c-539cc35c6887",
   "metadata": {},
   "source": [
    "<h1>3. On which  district area have the highest numbers of road accidents? </h1>"
   ]
  },
  {
   "cell_type": "code",
   "execution_count": 42,
   "id": "24e22cc9-a50c-40f7-be3e-32701bfe3a1a",
   "metadata": {},
   "outputs": [
    {
     "data": {
      "text/plain": [
       "District Area\n",
       "Birmingham            13491\n",
       "Leeds                  8898\n",
       "Manchester             6720\n",
       "Bradford               6212\n",
       "Sheffield              5710\n",
       "                      ...  \n",
       "Berwick-upon-Tweed      153\n",
       "Teesdale                142\n",
       "Shetland Islands        133\n",
       "Orkney Islands          117\n",
       "Clackmannanshire         91\n",
       "Name: count, Length: 422, dtype: int64"
      ]
     },
     "execution_count": 42,
     "metadata": {},
     "output_type": "execute_result"
    }
   ],
   "source": [
    "df['District Area'].value_counts()"
   ]
  },
  {
   "cell_type": "markdown",
   "id": "b7598e24-77e5-464a-8fbb-42d8ff72c75e",
   "metadata": {},
   "source": [
    "<p>This shows that there's a lot of district that is prone for road accidents, but the highest one is Birmigham</p>"
   ]
  },
  {
   "cell_type": "markdown",
   "id": "2c5550f9-79af-4635-911f-31ef3b22085d",
   "metadata": {},
   "source": [
    "<h1>4. What is the average number of vehicles per accident?</h1>"
   ]
  },
  {
   "cell_type": "code",
   "execution_count": 43,
   "id": "ca20c506-12c4-4aba-8004-1d6cc61f4376",
   "metadata": {},
   "outputs": [
    {
     "data": {
      "text/plain": [
       "np.float64(1.8312554205597575)"
      ]
     },
     "execution_count": 43,
     "metadata": {},
     "output_type": "execute_result"
    }
   ],
   "source": [
    "df['Number_of_Vehicles'].mean()"
   ]
  },
  {
   "cell_type": "markdown",
   "id": "9f75493d-2e39-4ef1-b8fe-35df43a4eaf7",
   "metadata": {},
   "source": [
    "<p>This sums up that maybe around 2 vehicles are there per accidents</p>"
   ]
  },
  {
   "cell_type": "markdown",
   "id": "ccdfc84c-117c-48c8-9bf4-8337e1ddac05",
   "metadata": {},
   "source": [
    "<h1>5. What are the typical numbers of casualties in an accidents?</h1>"
   ]
  },
  {
   "cell_type": "code",
   "execution_count": 44,
   "id": "9960646e-dcfc-44e9-9552-b4f0cfe09a67",
   "metadata": {},
   "outputs": [
    {
     "data": {
      "text/plain": [
       "np.float64(1.357040257068864)"
      ]
     },
     "execution_count": 44,
     "metadata": {},
     "output_type": "execute_result"
    }
   ],
   "source": [
    "df['Number_of_Casualties'].mean()"
   ]
  },
  {
   "cell_type": "code",
   "execution_count": 45,
   "id": "48e78b00-a019-4b59-8e8d-afc19185bae2",
   "metadata": {},
   "outputs": [
    {
     "data": {
      "text/plain": [
       "count    660679.000000\n",
       "mean          1.357040\n",
       "std           0.824847\n",
       "min           1.000000\n",
       "25%           1.000000\n",
       "50%           1.000000\n",
       "75%           1.000000\n",
       "max          68.000000\n",
       "Name: Number_of_Casualties, dtype: float64"
      ]
     },
     "execution_count": 45,
     "metadata": {},
     "output_type": "execute_result"
    }
   ],
   "source": [
    "df['Number_of_Casualties'].describe()"
   ]
  },
  {
   "cell_type": "markdown",
   "id": "85ae0c39-2ab9-462c-b339-8d727249b156",
   "metadata": {},
   "source": [
    "<p>Most accidents involve 1 casualty only</p>"
   ]
  },
  {
   "cell_type": "markdown",
   "id": "a90a2e69-4f58-42de-8acd-6f875f011c3c",
   "metadata": {},
   "source": [
    "<h1>6. How many vehicles are usually involve in accidents?</h1>"
   ]
  },
  {
   "cell_type": "code",
   "execution_count": 46,
   "id": "b1b26a77-7e58-4a71-ad1b-4abd6ee15f22",
   "metadata": {},
   "outputs": [
    {
     "data": {
      "text/plain": [
       "count    660679.000000\n",
       "mean          1.831255\n",
       "std           0.715269\n",
       "min           1.000000\n",
       "25%           1.000000\n",
       "50%           2.000000\n",
       "75%           2.000000\n",
       "max          32.000000\n",
       "Name: Number_of_Vehicles, dtype: float64"
      ]
     },
     "execution_count": 46,
     "metadata": {},
     "output_type": "execute_result"
    }
   ],
   "source": [
    "df['Number_of_Vehicles'].describe()"
   ]
  },
  {
   "cell_type": "markdown",
   "id": "64e40aa8-dd48-4a50-a5e8-e1f0b3793798",
   "metadata": {},
   "source": [
    "<p>Usually 2 vehicles are involve around</p>"
   ]
  },
  {
   "cell_type": "markdown",
   "id": "4daf75ff-e7c6-4bbd-bc89-f31c94a2406c",
   "metadata": {},
   "source": [
    "<h1>7. Do accidents happen more in daylight or in darkness?</h1>"
   ]
  },
  {
   "cell_type": "code",
   "execution_count": 47,
   "id": "0c11685c-1865-4e9e-9096-4380331261a4",
   "metadata": {},
   "outputs": [
    {
     "data": {
      "text/plain": [
       "Light_Conditions\n",
       "Daylight                       484880\n",
       "Darkness - lights lit          129335\n",
       "Darkness - no lighting          37437\n",
       "Darkness - lighting unknown      6484\n",
       "Darkness - lights unlit          2543\n",
       "Name: count, dtype: int64"
      ]
     },
     "execution_count": 47,
     "metadata": {},
     "output_type": "execute_result"
    }
   ],
   "source": [
    "df['Light_Conditions'].value_counts()"
   ]
  },
  {
   "cell_type": "markdown",
   "id": "b96a0635-e1d0-4b16-8bfa-6295fc63bfb0",
   "metadata": {},
   "source": [
    "<p>This shows that more accidents happen in daylight, tho dark unlit conditions show heightened severity</p>"
   ]
  },
  {
   "cell_type": "markdown",
   "id": "d455a518-e5e6-42ab-b20f-b9a338a992a5",
   "metadata": {},
   "source": [
    "<h1>8. Which surface type correspond with more frequent accidents?</h1>"
   ]
  },
  {
   "cell_type": "code",
   "execution_count": 48,
   "id": "66bb2933-d18f-4510-bfed-25f97b4e5131",
   "metadata": {},
   "outputs": [
    {
     "data": {
      "text/plain": [
       "Road_Surface_Conditions\n",
       "Dry                     447821\n",
       "Wet or damp             186708\n",
       "Frost or ice             18517\n",
       "Snow                      5890\n",
       "Flood over 3cm. deep      1017\n",
       "Name: count, dtype: int64"
      ]
     },
     "execution_count": 48,
     "metadata": {},
     "output_type": "execute_result"
    }
   ],
   "source": [
    "df['Road_Surface_Conditions'].value_counts()"
   ]
  },
  {
   "cell_type": "markdown",
   "id": "5215fff4-5f6c-45ab-bff7-fca292940526",
   "metadata": {},
   "source": [
    "<p>This simply shows that dry surface dominate more accidents than other type of surface</p>"
   ]
  },
  {
   "cell_type": "markdown",
   "id": "841aebe1-5187-4f21-a834-120161125ad5",
   "metadata": {},
   "source": [
    "<h1>9. Does  accident happened more on urban or rural area?</h1>"
   ]
  },
  {
   "cell_type": "code",
   "execution_count": 49,
   "id": "b04f82b3-c699-495d-b14f-b68e1b308916",
   "metadata": {},
   "outputs": [
    {
     "data": {
      "text/plain": [
       "count     660664\n",
       "unique         3\n",
       "top        Urban\n",
       "freq      421663\n",
       "Name: Urban_or_Rural_Area, dtype: object"
      ]
     },
     "execution_count": 49,
     "metadata": {},
     "output_type": "execute_result"
    }
   ],
   "source": [
    "df['Urban_or_Rural_Area'].describe()"
   ]
  },
  {
   "cell_type": "code",
   "execution_count": 50,
   "id": "3d397b8e-8a64-4b67-b55b-87d08cb57b38",
   "metadata": {},
   "outputs": [
    {
     "data": {
      "text/plain": [
       "Urban_or_Rural_Area\n",
       "Urban          421663\n",
       "Rural          238990\n",
       "Unallocated        11\n",
       "Name: count, dtype: int64"
      ]
     },
     "execution_count": 50,
     "metadata": {},
     "output_type": "execute_result"
    }
   ],
   "source": [
    "df['Urban_or_Rural_Area'].value_counts()"
   ]
  },
  {
   "cell_type": "markdown",
   "id": "e2bb45d4-e927-405f-88f1-d7060cd3f657",
   "metadata": {},
   "source": [
    "<p>It simply shows that the Urban are prone to more accidents, likely due to higher density of vehicles and people around</p>"
   ]
  },
  {
   "cell_type": "markdown",
   "id": "f5ad74d2-8dd9-49aa-aa5b-98367fc92c2a",
   "metadata": {},
   "source": [
    "<h1>10. Which weather is more likely prone to accidents?</h1>"
   ]
  },
  {
   "cell_type": "code",
   "execution_count": 51,
   "id": "81dd376d-9538-46a8-82a0-d6114a78ec1a",
   "metadata": {},
   "outputs": [
    {
     "data": {
      "text/plain": [
       "Weather_Conditions\n",
       "Fine no high winds       520885\n",
       "Raining no high winds     79696\n",
       "Other                     17150\n",
       "Raining + high winds       9615\n",
       "Fine + high winds          8554\n",
       "Snowing no high winds      6238\n",
       "Fog or mist                3528\n",
       "Snowing + high winds        885\n",
       "Name: count, dtype: int64"
      ]
     },
     "execution_count": 51,
     "metadata": {},
     "output_type": "execute_result"
    }
   ],
   "source": [
    "df['Weather_Conditions'].value_counts()"
   ]
  },
  {
   "cell_type": "markdown",
   "id": "b40c3585-26ef-4b96-acfa-f629b3847960",
   "metadata": {},
   "source": [
    "<p>Surprisingly Clear weather are more prone to accidents</p>"
   ]
  },
  {
   "cell_type": "markdown",
   "id": "cd432e30-147f-4dea-9e7b-694c634f45a9",
   "metadata": {},
   "source": [
    "<h1>11. How many accidents happened in snowing with no high winds?</h1>"
   ]
  },
  {
   "cell_type": "code",
   "execution_count": 54,
   "id": "2b32871e-816f-47cf-8eb3-719daffdf846",
   "metadata": {},
   "outputs": [
    {
     "data": {
      "text/plain": [
       "Weather_Conditions\n",
       "Fine no high winds       520885\n",
       "Raining no high winds     79696\n",
       "Other                     17150\n",
       "Raining + high winds       9615\n",
       "Fine + high winds          8554\n",
       "Snowing no high winds      6238\n",
       "Fog or mist                3528\n",
       "Snowing + high winds        885\n",
       "Name: count, dtype: int64"
      ]
     },
     "execution_count": 54,
     "metadata": {},
     "output_type": "execute_result"
    }
   ],
   "source": [
    "df['Weather_Conditions'].value_counts()"
   ]
  },
  {
   "cell_type": "markdown",
   "id": "42c45694-ce87-465c-82ee-23af2c814243",
   "metadata": {},
   "source": [
    "<p>This shows that accidents happened in snowing with no high winds are 6238 which is low than the other weathers</p>"
   ]
  },
  {
   "cell_type": "markdown",
   "id": "b9462410-e0d7-468d-b1d4-309c8d6a6cc8",
   "metadata": {},
   "source": [
    "<h1>12. Which light settings correspond with the most severe outcomes?</h1>"
   ]
  },
  {
   "cell_type": "code",
   "execution_count": 60,
   "id": "b3c9b796-85bb-4ddd-968f-90eeb9ef9514",
   "metadata": {},
   "outputs": [
    {
     "data": {
      "text/html": [
       "<div>\n",
       "<style scoped>\n",
       "    .dataframe tbody tr th:only-of-type {\n",
       "        vertical-align: middle;\n",
       "    }\n",
       "\n",
       "    .dataframe tbody tr th {\n",
       "        vertical-align: top;\n",
       "    }\n",
       "\n",
       "    .dataframe thead th {\n",
       "        text-align: right;\n",
       "    }\n",
       "</style>\n",
       "<table border=\"1\" class=\"dataframe\">\n",
       "  <thead>\n",
       "    <tr style=\"text-align: right;\">\n",
       "      <th>Accident_Severity</th>\n",
       "      <th>Fatal</th>\n",
       "      <th>Serious</th>\n",
       "      <th>Slight</th>\n",
       "    </tr>\n",
       "    <tr>\n",
       "      <th>Light_Conditions</th>\n",
       "      <th></th>\n",
       "      <th></th>\n",
       "      <th></th>\n",
       "    </tr>\n",
       "  </thead>\n",
       "  <tbody>\n",
       "    <tr>\n",
       "      <th>Darkness - lighting unknown</th>\n",
       "      <td>68</td>\n",
       "      <td>794</td>\n",
       "      <td>5622</td>\n",
       "    </tr>\n",
       "    <tr>\n",
       "      <th>Darkness - lights lit</th>\n",
       "      <td>1860</td>\n",
       "      <td>19130</td>\n",
       "      <td>108345</td>\n",
       "    </tr>\n",
       "    <tr>\n",
       "      <th>Darkness - lights unlit</th>\n",
       "      <td>45</td>\n",
       "      <td>360</td>\n",
       "      <td>2138</td>\n",
       "    </tr>\n",
       "    <tr>\n",
       "      <th>Darkness - no lighting</th>\n",
       "      <td>1612</td>\n",
       "      <td>7174</td>\n",
       "      <td>28651</td>\n",
       "    </tr>\n",
       "    <tr>\n",
       "      <th>Daylight</th>\n",
       "      <td>5076</td>\n",
       "      <td>60759</td>\n",
       "      <td>419045</td>\n",
       "    </tr>\n",
       "  </tbody>\n",
       "</table>\n",
       "</div>"
      ],
      "text/plain": [
       "Accident_Severity            Fatal  Serious  Slight\n",
       "Light_Conditions                                   \n",
       "Darkness - lighting unknown     68      794    5622\n",
       "Darkness - lights lit         1860    19130  108345\n",
       "Darkness - lights unlit         45      360    2138\n",
       "Darkness - no lighting        1612     7174   28651\n",
       "Daylight                      5076    60759  419045"
      ]
     },
     "execution_count": 60,
     "metadata": {},
     "output_type": "execute_result"
    }
   ],
   "source": [
    "pd.crosstab( df['Light_Conditions'], df['Accident_Severity'])"
   ]
  },
  {
   "cell_type": "markdown",
   "id": "e43fbb57-023a-42f7-a780-b154add31cdc",
   "metadata": {},
   "source": [
    "<p>Dark roads without lighting shows severe and fatal accident counts</p>"
   ]
  },
  {
   "cell_type": "markdown",
   "id": "b4efbbc0-cdc0-48f9-a637-292b1e9bbd48",
   "metadata": {},
   "source": [
    "<h1>13. Which latitudes recorded the most accidents?</h1>"
   ]
  },
  {
   "cell_type": "code",
   "execution_count": 61,
   "id": "a764c573-e65a-43e1-9696-73eb461c5c20",
   "metadata": {},
   "outputs": [
    {
     "data": {
      "text/plain": [
       "Latitude\n",
       "52.458798    50\n",
       "52.949719    45\n",
       "53.083165    33\n",
       "52.967634    31\n",
       "52.938860    29\n",
       "             ..\n",
       "56.880265     1\n",
       "56.865367     1\n",
       "57.528413     1\n",
       "57.194499     1\n",
       "51.493490     1\n",
       "Name: count, Length: 511618, dtype: int64"
      ]
     },
     "execution_count": 61,
     "metadata": {},
     "output_type": "execute_result"
    }
   ],
   "source": [
    "df['Latitude'].value_counts()"
   ]
  },
  {
   "cell_type": "code",
   "execution_count": 62,
   "id": "be42db8e-827f-43cd-9c6a-94b76d36d110",
   "metadata": {},
   "outputs": [
    {
     "data": {
      "text/plain": [
       "np.int64(660654)"
      ]
     },
     "execution_count": 62,
     "metadata": {},
     "output_type": "execute_result"
    }
   ],
   "source": [
    "df['Latitude'].count()"
   ]
  },
  {
   "cell_type": "markdown",
   "id": "7fb2b791-0f4f-4f99-b4fa-54b4770d14f2",
   "metadata": {},
   "source": [
    "<h1>14. Which longitudes recorded the most accidents?</h1>"
   ]
  },
  {
   "cell_type": "code",
   "execution_count": 65,
   "id": "ee740c3e-01a4-4593-89b1-eef8931bf595",
   "metadata": {},
   "outputs": [
    {
     "data": {
      "text/plain": [
       "Longitude\n",
       "-0.977611    45\n",
       "-1.871043    36\n",
       "-0.816789    33\n",
       "-1.190861    31\n",
       "-1.216694    29\n",
       "             ..\n",
       "-4.169644     1\n",
       "-3.798648     1\n",
       "-3.630574     1\n",
       "-3.836563     1\n",
       "-3.924477     1\n",
       "Name: count, Length: 529766, dtype: int64"
      ]
     },
     "execution_count": 65,
     "metadata": {},
     "output_type": "execute_result"
    }
   ],
   "source": [
    "df['Longitude'].value_counts()"
   ]
  },
  {
   "cell_type": "code",
   "execution_count": 66,
   "id": "d8776556-f59c-4ea4-ad74-9d2c074bc5e9",
   "metadata": {},
   "outputs": [
    {
     "data": {
      "text/plain": [
       "np.int64(660653)"
      ]
     },
     "execution_count": 66,
     "metadata": {},
     "output_type": "execute_result"
    }
   ],
   "source": [
    "df['Longitude'].count()"
   ]
  },
  {
   "cell_type": "markdown",
   "id": "982b08e1-df4e-45a7-b8a0-a9dd78157769",
   "metadata": {},
   "source": [
    "<h1>15. Where do the latitude and longitude values fall within the data sets?</h1>"
   ]
  },
  {
   "cell_type": "code",
   "execution_count": 67,
   "id": "5a1cf9cf-e03d-4083-b0bb-bd6d9d9b0f6c",
   "metadata": {},
   "outputs": [
    {
     "data": {
      "text/html": [
       "<div>\n",
       "<style scoped>\n",
       "    .dataframe tbody tr th:only-of-type {\n",
       "        vertical-align: middle;\n",
       "    }\n",
       "\n",
       "    .dataframe tbody tr th {\n",
       "        vertical-align: top;\n",
       "    }\n",
       "\n",
       "    .dataframe thead th {\n",
       "        text-align: right;\n",
       "    }\n",
       "</style>\n",
       "<table border=\"1\" class=\"dataframe\">\n",
       "  <thead>\n",
       "    <tr style=\"text-align: right;\">\n",
       "      <th></th>\n",
       "      <th>Latitude</th>\n",
       "      <th>Longitude</th>\n",
       "    </tr>\n",
       "  </thead>\n",
       "  <tbody>\n",
       "    <tr>\n",
       "      <th>count</th>\n",
       "      <td>660654.000000</td>\n",
       "      <td>660653.000000</td>\n",
       "    </tr>\n",
       "    <tr>\n",
       "      <th>mean</th>\n",
       "      <td>52.553866</td>\n",
       "      <td>-1.431210</td>\n",
       "    </tr>\n",
       "    <tr>\n",
       "      <th>std</th>\n",
       "      <td>1.406922</td>\n",
       "      <td>1.383330</td>\n",
       "    </tr>\n",
       "    <tr>\n",
       "      <th>min</th>\n",
       "      <td>49.914430</td>\n",
       "      <td>-7.516225</td>\n",
       "    </tr>\n",
       "    <tr>\n",
       "      <th>25%</th>\n",
       "      <td>51.490690</td>\n",
       "      <td>-2.332291</td>\n",
       "    </tr>\n",
       "    <tr>\n",
       "      <th>50%</th>\n",
       "      <td>52.315641</td>\n",
       "      <td>-1.411667</td>\n",
       "    </tr>\n",
       "    <tr>\n",
       "      <th>75%</th>\n",
       "      <td>53.453452</td>\n",
       "      <td>-0.232869</td>\n",
       "    </tr>\n",
       "    <tr>\n",
       "      <th>max</th>\n",
       "      <td>60.757544</td>\n",
       "      <td>1.762010</td>\n",
       "    </tr>\n",
       "  </tbody>\n",
       "</table>\n",
       "</div>"
      ],
      "text/plain": [
       "            Latitude      Longitude\n",
       "count  660654.000000  660653.000000\n",
       "mean       52.553866      -1.431210\n",
       "std         1.406922       1.383330\n",
       "min        49.914430      -7.516225\n",
       "25%        51.490690      -2.332291\n",
       "50%        52.315641      -1.411667\n",
       "75%        53.453452      -0.232869\n",
       "max        60.757544       1.762010"
      ]
     },
     "execution_count": 67,
     "metadata": {},
     "output_type": "execute_result"
    }
   ],
   "source": [
    "df[['Latitude', 'Longitude']].describe()"
   ]
  },
  {
   "cell_type": "markdown",
   "id": "7d9073c2-b472-4e1e-ad84-bcb56c7dfb2e",
   "metadata": {},
   "source": [
    "<p>This confirms that the spans of the data set cover both northern/sothern and eastern/western regions</p>"
   ]
  },
  {
   "cell_type": "markdown",
   "id": "7654313c-01d5-48fe-b4bd-d20c94cd1060",
   "metadata": {},
   "source": [
    "<h1>16. Is there a measurable connections between vehicle counts and casualties?</h1>"
   ]
  },
  {
   "cell_type": "code",
   "execution_count": 68,
   "id": "92f4b1e1-e4cb-4569-a91c-9d151e480578",
   "metadata": {},
   "outputs": [
    {
     "data": {
      "text/html": [
       "<div>\n",
       "<style scoped>\n",
       "    .dataframe tbody tr th:only-of-type {\n",
       "        vertical-align: middle;\n",
       "    }\n",
       "\n",
       "    .dataframe tbody tr th {\n",
       "        vertical-align: top;\n",
       "    }\n",
       "\n",
       "    .dataframe thead th {\n",
       "        text-align: right;\n",
       "    }\n",
       "</style>\n",
       "<table border=\"1\" class=\"dataframe\">\n",
       "  <thead>\n",
       "    <tr style=\"text-align: right;\">\n",
       "      <th></th>\n",
       "      <th>Number_of_Vehicles</th>\n",
       "      <th>Number_of_Casualties</th>\n",
       "    </tr>\n",
       "  </thead>\n",
       "  <tbody>\n",
       "    <tr>\n",
       "      <th>Number_of_Vehicles</th>\n",
       "      <td>1.000000</td>\n",
       "      <td>0.228889</td>\n",
       "    </tr>\n",
       "    <tr>\n",
       "      <th>Number_of_Casualties</th>\n",
       "      <td>0.228889</td>\n",
       "      <td>1.000000</td>\n",
       "    </tr>\n",
       "  </tbody>\n",
       "</table>\n",
       "</div>"
      ],
      "text/plain": [
       "                      Number_of_Vehicles  Number_of_Casualties\n",
       "Number_of_Vehicles              1.000000              0.228889\n",
       "Number_of_Casualties            0.228889              1.000000"
      ]
     },
     "execution_count": 68,
     "metadata": {},
     "output_type": "execute_result"
    }
   ],
   "source": [
    "df[['Number_of_Vehicles', 'Number_of_Casualties']].corr()"
   ]
  },
  {
   "cell_type": "markdown",
   "id": "f119fdd1-7eae-4ef4-b3f5-467e54635fbf",
   "metadata": {},
   "source": [
    "<p> This simply shows that there is connection, which indicates that more vehicles are prone to more casualties as well</p>"
   ]
  },
  {
   "cell_type": "markdown",
   "id": "f117b75f-52ac-41ce-bf01-603e99d40cbe",
   "metadata": {},
   "source": [
    "<h1>17. Which road design contributes most to accident frequency?</h1>"
   ]
  },
  {
   "cell_type": "code",
   "execution_count": 69,
   "id": "9ab0656f-2bb1-42c6-a857-4398810aa32d",
   "metadata": {},
   "outputs": [
    {
     "data": {
      "text/plain": [
       "Road_Type\n",
       "Single carriageway    492143\n",
       "Dual carriageway       99424\n",
       "Roundabout             43992\n",
       "One way street         13559\n",
       "Slip road               7041\n",
       "Name: count, dtype: int64"
      ]
     },
     "execution_count": 69,
     "metadata": {},
     "output_type": "execute_result"
    }
   ],
   "source": [
    "df[\"Road_Type\"].value_counts()"
   ]
  },
  {
   "cell_type": "markdown",
   "id": "97ea5450-4e0d-4149-9a15-1ae41389d54e",
   "metadata": {},
   "source": [
    "<p>This data shows that Single carriageway are the most common sites for accidents</p>"
   ]
  },
  {
   "cell_type": "markdown",
   "id": "6b29f02f-2a9c-4552-932c-1f09e8843d0c",
   "metadata": {},
   "source": [
    "<h1>18. Does the weather contributes to the severe damage of every accidents?</h1>"
   ]
  },
  {
   "cell_type": "code",
   "execution_count": 71,
   "id": "ca229a60-df93-43e6-bca8-abfe5d877b4a",
   "metadata": {},
   "outputs": [
    {
     "data": {
      "text/html": [
       "<div>\n",
       "<style scoped>\n",
       "    .dataframe tbody tr th:only-of-type {\n",
       "        vertical-align: middle;\n",
       "    }\n",
       "\n",
       "    .dataframe tbody tr th {\n",
       "        vertical-align: top;\n",
       "    }\n",
       "\n",
       "    .dataframe thead th {\n",
       "        text-align: right;\n",
       "    }\n",
       "</style>\n",
       "<table border=\"1\" class=\"dataframe\">\n",
       "  <thead>\n",
       "    <tr style=\"text-align: right;\">\n",
       "      <th>Accident_Severity</th>\n",
       "      <th>Fatal</th>\n",
       "      <th>Serious</th>\n",
       "      <th>Slight</th>\n",
       "    </tr>\n",
       "    <tr>\n",
       "      <th>Weather_Conditions</th>\n",
       "      <th></th>\n",
       "      <th></th>\n",
       "      <th></th>\n",
       "    </tr>\n",
       "  </thead>\n",
       "  <tbody>\n",
       "    <tr>\n",
       "      <th>Fine + high winds</th>\n",
       "      <td>175</td>\n",
       "      <td>1245</td>\n",
       "      <td>7134</td>\n",
       "    </tr>\n",
       "    <tr>\n",
       "      <th>Fine no high winds</th>\n",
       "      <td>7100</td>\n",
       "      <td>72046</td>\n",
       "      <td>441739</td>\n",
       "    </tr>\n",
       "    <tr>\n",
       "      <th>Fog or mist</th>\n",
       "      <td>82</td>\n",
       "      <td>483</td>\n",
       "      <td>2963</td>\n",
       "    </tr>\n",
       "    <tr>\n",
       "      <th>Other</th>\n",
       "      <td>165</td>\n",
       "      <td>1801</td>\n",
       "      <td>15184</td>\n",
       "    </tr>\n",
       "    <tr>\n",
       "      <th>Raining + high winds</th>\n",
       "      <td>145</td>\n",
       "      <td>1261</td>\n",
       "      <td>8209</td>\n",
       "    </tr>\n",
       "    <tr>\n",
       "      <th>Raining no high winds</th>\n",
       "      <td>848</td>\n",
       "      <td>9468</td>\n",
       "      <td>69380</td>\n",
       "    </tr>\n",
       "    <tr>\n",
       "      <th>Snowing + high winds</th>\n",
       "      <td>3</td>\n",
       "      <td>109</td>\n",
       "      <td>773</td>\n",
       "    </tr>\n",
       "    <tr>\n",
       "      <th>Snowing no high winds</th>\n",
       "      <td>36</td>\n",
       "      <td>565</td>\n",
       "      <td>5637</td>\n",
       "    </tr>\n",
       "  </tbody>\n",
       "</table>\n",
       "</div>"
      ],
      "text/plain": [
       "Accident_Severity      Fatal  Serious  Slight\n",
       "Weather_Conditions                           \n",
       "Fine + high winds        175     1245    7134\n",
       "Fine no high winds      7100    72046  441739\n",
       "Fog or mist               82      483    2963\n",
       "Other                    165     1801   15184\n",
       "Raining + high winds     145     1261    8209\n",
       "Raining no high winds    848     9468   69380\n",
       "Snowing + high winds       3      109     773\n",
       "Snowing no high winds     36      565    5637"
      ]
     },
     "execution_count": 71,
     "metadata": {},
     "output_type": "execute_result"
    }
   ],
   "source": [
    "pd.crosstab(df['Weather_Conditions'], df['Accident_Severity'])"
   ]
  },
  {
   "cell_type": "markdown",
   "id": "bdaa3d48-c56f-48f9-877e-f6668094e527",
   "metadata": {},
   "source": [
    "<p>It shows that weathers contributes, it simply shows that a severe outcomes are more frequent in poor weather</p>"
   ]
  },
  {
   "cell_type": "markdown",
   "id": "f486fb85-314c-4b72-aded-30c2150095fb",
   "metadata": {},
   "source": [
    "<h1>19. To what extend does road surface influence road severity?</h1>"
   ]
  },
  {
   "cell_type": "code",
   "execution_count": 73,
   "id": "b02c8643-85f6-4eac-a2d2-61ea849288a2",
   "metadata": {},
   "outputs": [
    {
     "data": {
      "text/html": [
       "<div>\n",
       "<style scoped>\n",
       "    .dataframe tbody tr th:only-of-type {\n",
       "        vertical-align: middle;\n",
       "    }\n",
       "\n",
       "    .dataframe tbody tr th {\n",
       "        vertical-align: top;\n",
       "    }\n",
       "\n",
       "    .dataframe thead th {\n",
       "        text-align: right;\n",
       "    }\n",
       "</style>\n",
       "<table border=\"1\" class=\"dataframe\">\n",
       "  <thead>\n",
       "    <tr style=\"text-align: right;\">\n",
       "      <th>Accident_Severity</th>\n",
       "      <th>Fatal</th>\n",
       "      <th>Serious</th>\n",
       "      <th>Slight</th>\n",
       "    </tr>\n",
       "    <tr>\n",
       "      <th>Road_Surface_Conditions</th>\n",
       "      <th></th>\n",
       "      <th></th>\n",
       "      <th></th>\n",
       "    </tr>\n",
       "  </thead>\n",
       "  <tbody>\n",
       "    <tr>\n",
       "      <th>Dry</th>\n",
       "      <td>5788</td>\n",
       "      <td>61638</td>\n",
       "      <td>380395</td>\n",
       "    </tr>\n",
       "    <tr>\n",
       "      <th>Flood over 3cm. deep</th>\n",
       "      <td>23</td>\n",
       "      <td>152</td>\n",
       "      <td>842</td>\n",
       "    </tr>\n",
       "    <tr>\n",
       "      <th>Frost or ice</th>\n",
       "      <td>193</td>\n",
       "      <td>2007</td>\n",
       "      <td>16317</td>\n",
       "    </tr>\n",
       "    <tr>\n",
       "      <th>Snow</th>\n",
       "      <td>35</td>\n",
       "      <td>565</td>\n",
       "      <td>5290</td>\n",
       "    </tr>\n",
       "    <tr>\n",
       "      <th>Wet or damp</th>\n",
       "      <td>2620</td>\n",
       "      <td>23785</td>\n",
       "      <td>160303</td>\n",
       "    </tr>\n",
       "  </tbody>\n",
       "</table>\n",
       "</div>"
      ],
      "text/plain": [
       "Accident_Severity        Fatal  Serious  Slight\n",
       "Road_Surface_Conditions                        \n",
       "Dry                       5788    61638  380395\n",
       "Flood over 3cm. deep        23      152     842\n",
       "Frost or ice               193     2007   16317\n",
       "Snow                        35      565    5290\n",
       "Wet or damp               2620    23785  160303"
      ]
     },
     "execution_count": 73,
     "metadata": {},
     "output_type": "execute_result"
    }
   ],
   "source": [
    "pd.crosstab(df['Road_Surface_Conditions'], df['Accident_Severity'])"
   ]
  },
  {
   "cell_type": "markdown",
   "id": "66a7f350-d43c-4378-8da4-18443ae42717",
   "metadata": {},
   "source": [
    "<p>This demonstrate that wet and icy have a higher risk of severe accidents</p>"
   ]
  },
  {
   "cell_type": "markdown",
   "id": "9685b0ea-6e18-4f02-9168-ef6dd8340ba9",
   "metadata": {},
   "source": [
    "<h1>20. What road type has the most road severity?</h1>"
   ]
  },
  {
   "cell_type": "code",
   "execution_count": 74,
   "id": "8dc2543a-b526-4852-8dc7-7ae1706afeb0",
   "metadata": {},
   "outputs": [
    {
     "data": {
      "text/html": [
       "<div>\n",
       "<style scoped>\n",
       "    .dataframe tbody tr th:only-of-type {\n",
       "        vertical-align: middle;\n",
       "    }\n",
       "\n",
       "    .dataframe tbody tr th {\n",
       "        vertical-align: top;\n",
       "    }\n",
       "\n",
       "    .dataframe thead th {\n",
       "        text-align: right;\n",
       "    }\n",
       "</style>\n",
       "<table border=\"1\" class=\"dataframe\">\n",
       "  <thead>\n",
       "    <tr style=\"text-align: right;\">\n",
       "      <th>Accident_Severity</th>\n",
       "      <th>Fatal</th>\n",
       "      <th>Serious</th>\n",
       "      <th>Slight</th>\n",
       "    </tr>\n",
       "    <tr>\n",
       "      <th>Road_Type</th>\n",
       "      <th></th>\n",
       "      <th></th>\n",
       "      <th></th>\n",
       "    </tr>\n",
       "  </thead>\n",
       "  <tbody>\n",
       "    <tr>\n",
       "      <th>Dual carriageway</th>\n",
       "      <td>1815</td>\n",
       "      <td>11746</td>\n",
       "      <td>85863</td>\n",
       "    </tr>\n",
       "    <tr>\n",
       "      <th>One way street</th>\n",
       "      <td>95</td>\n",
       "      <td>1655</td>\n",
       "      <td>11809</td>\n",
       "    </tr>\n",
       "    <tr>\n",
       "      <th>Roundabout</th>\n",
       "      <td>142</td>\n",
       "      <td>3665</td>\n",
       "      <td>40185</td>\n",
       "    </tr>\n",
       "    <tr>\n",
       "      <th>Single carriageway</th>\n",
       "      <td>6527</td>\n",
       "      <td>70059</td>\n",
       "      <td>415557</td>\n",
       "    </tr>\n",
       "    <tr>\n",
       "      <th>Slip road</th>\n",
       "      <td>49</td>\n",
       "      <td>611</td>\n",
       "      <td>6381</td>\n",
       "    </tr>\n",
       "  </tbody>\n",
       "</table>\n",
       "</div>"
      ],
      "text/plain": [
       "Accident_Severity   Fatal  Serious  Slight\n",
       "Road_Type                                 \n",
       "Dual carriageway     1815    11746   85863\n",
       "One way street         95     1655   11809\n",
       "Roundabout            142     3665   40185\n",
       "Single carriageway   6527    70059  415557\n",
       "Slip road              49      611    6381"
      ]
     },
     "execution_count": 74,
     "metadata": {},
     "output_type": "execute_result"
    }
   ],
   "source": [
    "pd.crosstab(df[\"Road_Type\"], df['Accident_Severity'])"
   ]
  },
  {
   "cell_type": "markdown",
   "id": "ecc72b45-ba5d-490c-b0c9-454bbae7949f",
   "metadata": {},
   "source": [
    "<p>The data set shows that most of the road severity comes from dual carriageway</p>"
   ]
  },
  {
   "cell_type": "code",
   "execution_count": null,
   "id": "5d5fe071-d407-476e-b98e-64d7c3df4d23",
   "metadata": {},
   "outputs": [],
   "source": []
  }
 ],
 "metadata": {
  "kernelspec": {
   "display_name": "Python 3 (ipykernel)",
   "language": "python",
   "name": "python3"
  },
  "language_info": {
   "codemirror_mode": {
    "name": "ipython",
    "version": 3
   },
   "file_extension": ".py",
   "mimetype": "text/x-python",
   "name": "python",
   "nbconvert_exporter": "python",
   "pygments_lexer": "ipython3",
   "version": "3.12.4"
  }
 },
 "nbformat": 4,
 "nbformat_minor": 5
}
