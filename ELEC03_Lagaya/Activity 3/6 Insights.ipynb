{
 "cells": [
  {
   "cell_type": "code",
   "execution_count": 1,
   "id": "f1843633-9927-4957-b0b8-fb2082ffa7bb",
   "metadata": {},
   "outputs": [],
   "source": [
    "import numpy as np\n",
    "import pandas as pd"
   ]
  },
  {
   "cell_type": "code",
   "execution_count": 2,
   "id": "4ab2832b-21e3-4bff-bb6b-c002fc4d3041",
   "metadata": {},
   "outputs": [],
   "source": [
    "df = pd.read_csv(\"roadaccidents\\\\uk_road_accident.csv\")"
   ]
  },
  {
   "cell_type": "code",
   "execution_count": 3,
   "id": "1288ddd6-7534-4f00-a70d-4a8d5fd776a0",
   "metadata": {
    "scrolled": true
   },
   "outputs": [
    {
     "data": {
      "text/html": [
       "<div>\n",
       "<style scoped>\n",
       "    .dataframe tbody tr th:only-of-type {\n",
       "        vertical-align: middle;\n",
       "    }\n",
       "\n",
       "    .dataframe tbody tr th {\n",
       "        vertical-align: top;\n",
       "    }\n",
       "\n",
       "    .dataframe thead th {\n",
       "        text-align: right;\n",
       "    }\n",
       "</style>\n",
       "<table border=\"1\" class=\"dataframe\">\n",
       "  <thead>\n",
       "    <tr style=\"text-align: right;\">\n",
       "      <th></th>\n",
       "      <th>Latitude</th>\n",
       "      <th>Longitude</th>\n",
       "      <th>Number_of_Casualties</th>\n",
       "      <th>Number_of_Vehicles</th>\n",
       "    </tr>\n",
       "  </thead>\n",
       "  <tbody>\n",
       "    <tr>\n",
       "      <th>count</th>\n",
       "      <td>660654.000000</td>\n",
       "      <td>660653.000000</td>\n",
       "      <td>660679.000000</td>\n",
       "      <td>660679.000000</td>\n",
       "    </tr>\n",
       "    <tr>\n",
       "      <th>mean</th>\n",
       "      <td>52.553866</td>\n",
       "      <td>-1.431210</td>\n",
       "      <td>1.357040</td>\n",
       "      <td>1.831255</td>\n",
       "    </tr>\n",
       "    <tr>\n",
       "      <th>std</th>\n",
       "      <td>1.406922</td>\n",
       "      <td>1.383330</td>\n",
       "      <td>0.824847</td>\n",
       "      <td>0.715269</td>\n",
       "    </tr>\n",
       "    <tr>\n",
       "      <th>min</th>\n",
       "      <td>49.914430</td>\n",
       "      <td>-7.516225</td>\n",
       "      <td>1.000000</td>\n",
       "      <td>1.000000</td>\n",
       "    </tr>\n",
       "    <tr>\n",
       "      <th>25%</th>\n",
       "      <td>51.490690</td>\n",
       "      <td>-2.332291</td>\n",
       "      <td>1.000000</td>\n",
       "      <td>1.000000</td>\n",
       "    </tr>\n",
       "    <tr>\n",
       "      <th>50%</th>\n",
       "      <td>52.315641</td>\n",
       "      <td>-1.411667</td>\n",
       "      <td>1.000000</td>\n",
       "      <td>2.000000</td>\n",
       "    </tr>\n",
       "    <tr>\n",
       "      <th>75%</th>\n",
       "      <td>53.453452</td>\n",
       "      <td>-0.232869</td>\n",
       "      <td>1.000000</td>\n",
       "      <td>2.000000</td>\n",
       "    </tr>\n",
       "    <tr>\n",
       "      <th>max</th>\n",
       "      <td>60.757544</td>\n",
       "      <td>1.762010</td>\n",
       "      <td>68.000000</td>\n",
       "      <td>32.000000</td>\n",
       "    </tr>\n",
       "  </tbody>\n",
       "</table>\n",
       "</div>"
      ],
      "text/plain": [
       "            Latitude      Longitude  Number_of_Casualties  Number_of_Vehicles\n",
       "count  660654.000000  660653.000000         660679.000000       660679.000000\n",
       "mean       52.553866      -1.431210              1.357040            1.831255\n",
       "std         1.406922       1.383330              0.824847            0.715269\n",
       "min        49.914430      -7.516225              1.000000            1.000000\n",
       "25%        51.490690      -2.332291              1.000000            1.000000\n",
       "50%        52.315641      -1.411667              1.000000            2.000000\n",
       "75%        53.453452      -0.232869              1.000000            2.000000\n",
       "max        60.757544       1.762010             68.000000           32.000000"
      ]
     },
     "execution_count": 3,
     "metadata": {},
     "output_type": "execute_result"
    }
   ],
   "source": [
    "df.describe()"
   ]
  },
  {
   "cell_type": "code",
   "execution_count": 4,
   "id": "fc618fe4-7755-4789-afaa-eefe70d54097",
   "metadata": {},
   "outputs": [
    {
     "data": {
      "text/html": [
       "<div>\n",
       "<style scoped>\n",
       "    .dataframe tbody tr th:only-of-type {\n",
       "        vertical-align: middle;\n",
       "    }\n",
       "\n",
       "    .dataframe tbody tr th {\n",
       "        vertical-align: top;\n",
       "    }\n",
       "\n",
       "    .dataframe thead th {\n",
       "        text-align: right;\n",
       "    }\n",
       "</style>\n",
       "<table border=\"1\" class=\"dataframe\">\n",
       "  <thead>\n",
       "    <tr style=\"text-align: right;\">\n",
       "      <th></th>\n",
       "      <th>Index</th>\n",
       "      <th>Accident_Severity</th>\n",
       "      <th>Accident Date</th>\n",
       "      <th>Latitude</th>\n",
       "      <th>Light_Conditions</th>\n",
       "      <th>District Area</th>\n",
       "      <th>Longitude</th>\n",
       "      <th>Number_of_Casualties</th>\n",
       "      <th>Number_of_Vehicles</th>\n",
       "      <th>Road_Surface_Conditions</th>\n",
       "      <th>Road_Type</th>\n",
       "      <th>Urban_or_Rural_Area</th>\n",
       "      <th>Weather_Conditions</th>\n",
       "      <th>Vehicle_Type</th>\n",
       "    </tr>\n",
       "  </thead>\n",
       "  <tbody>\n",
       "    <tr>\n",
       "      <th>0</th>\n",
       "      <td>False</td>\n",
       "      <td>False</td>\n",
       "      <td>False</td>\n",
       "      <td>False</td>\n",
       "      <td>False</td>\n",
       "      <td>False</td>\n",
       "      <td>False</td>\n",
       "      <td>False</td>\n",
       "      <td>False</td>\n",
       "      <td>False</td>\n",
       "      <td>False</td>\n",
       "      <td>False</td>\n",
       "      <td>False</td>\n",
       "      <td>False</td>\n",
       "    </tr>\n",
       "    <tr>\n",
       "      <th>1</th>\n",
       "      <td>False</td>\n",
       "      <td>False</td>\n",
       "      <td>False</td>\n",
       "      <td>False</td>\n",
       "      <td>False</td>\n",
       "      <td>False</td>\n",
       "      <td>False</td>\n",
       "      <td>False</td>\n",
       "      <td>False</td>\n",
       "      <td>False</td>\n",
       "      <td>False</td>\n",
       "      <td>False</td>\n",
       "      <td>False</td>\n",
       "      <td>False</td>\n",
       "    </tr>\n",
       "    <tr>\n",
       "      <th>2</th>\n",
       "      <td>False</td>\n",
       "      <td>False</td>\n",
       "      <td>False</td>\n",
       "      <td>False</td>\n",
       "      <td>False</td>\n",
       "      <td>False</td>\n",
       "      <td>False</td>\n",
       "      <td>False</td>\n",
       "      <td>False</td>\n",
       "      <td>False</td>\n",
       "      <td>True</td>\n",
       "      <td>False</td>\n",
       "      <td>True</td>\n",
       "      <td>False</td>\n",
       "    </tr>\n",
       "    <tr>\n",
       "      <th>3</th>\n",
       "      <td>False</td>\n",
       "      <td>False</td>\n",
       "      <td>False</td>\n",
       "      <td>False</td>\n",
       "      <td>False</td>\n",
       "      <td>False</td>\n",
       "      <td>False</td>\n",
       "      <td>False</td>\n",
       "      <td>False</td>\n",
       "      <td>False</td>\n",
       "      <td>False</td>\n",
       "      <td>False</td>\n",
       "      <td>False</td>\n",
       "      <td>False</td>\n",
       "    </tr>\n",
       "    <tr>\n",
       "      <th>4</th>\n",
       "      <td>False</td>\n",
       "      <td>False</td>\n",
       "      <td>False</td>\n",
       "      <td>False</td>\n",
       "      <td>False</td>\n",
       "      <td>False</td>\n",
       "      <td>False</td>\n",
       "      <td>False</td>\n",
       "      <td>False</td>\n",
       "      <td>False</td>\n",
       "      <td>True</td>\n",
       "      <td>False</td>\n",
       "      <td>True</td>\n",
       "      <td>False</td>\n",
       "    </tr>\n",
       "    <tr>\n",
       "      <th>...</th>\n",
       "      <td>...</td>\n",
       "      <td>...</td>\n",
       "      <td>...</td>\n",
       "      <td>...</td>\n",
       "      <td>...</td>\n",
       "      <td>...</td>\n",
       "      <td>...</td>\n",
       "      <td>...</td>\n",
       "      <td>...</td>\n",
       "      <td>...</td>\n",
       "      <td>...</td>\n",
       "      <td>...</td>\n",
       "      <td>...</td>\n",
       "      <td>...</td>\n",
       "    </tr>\n",
       "    <tr>\n",
       "      <th>660674</th>\n",
       "      <td>False</td>\n",
       "      <td>False</td>\n",
       "      <td>False</td>\n",
       "      <td>False</td>\n",
       "      <td>False</td>\n",
       "      <td>False</td>\n",
       "      <td>False</td>\n",
       "      <td>False</td>\n",
       "      <td>False</td>\n",
       "      <td>False</td>\n",
       "      <td>False</td>\n",
       "      <td>False</td>\n",
       "      <td>False</td>\n",
       "      <td>False</td>\n",
       "    </tr>\n",
       "    <tr>\n",
       "      <th>660675</th>\n",
       "      <td>False</td>\n",
       "      <td>False</td>\n",
       "      <td>False</td>\n",
       "      <td>False</td>\n",
       "      <td>False</td>\n",
       "      <td>False</td>\n",
       "      <td>False</td>\n",
       "      <td>False</td>\n",
       "      <td>False</td>\n",
       "      <td>False</td>\n",
       "      <td>False</td>\n",
       "      <td>False</td>\n",
       "      <td>False</td>\n",
       "      <td>False</td>\n",
       "    </tr>\n",
       "    <tr>\n",
       "      <th>660676</th>\n",
       "      <td>False</td>\n",
       "      <td>False</td>\n",
       "      <td>False</td>\n",
       "      <td>False</td>\n",
       "      <td>False</td>\n",
       "      <td>False</td>\n",
       "      <td>False</td>\n",
       "      <td>False</td>\n",
       "      <td>False</td>\n",
       "      <td>False</td>\n",
       "      <td>False</td>\n",
       "      <td>False</td>\n",
       "      <td>False</td>\n",
       "      <td>False</td>\n",
       "    </tr>\n",
       "    <tr>\n",
       "      <th>660677</th>\n",
       "      <td>False</td>\n",
       "      <td>False</td>\n",
       "      <td>False</td>\n",
       "      <td>False</td>\n",
       "      <td>False</td>\n",
       "      <td>False</td>\n",
       "      <td>False</td>\n",
       "      <td>False</td>\n",
       "      <td>False</td>\n",
       "      <td>False</td>\n",
       "      <td>False</td>\n",
       "      <td>False</td>\n",
       "      <td>False</td>\n",
       "      <td>False</td>\n",
       "    </tr>\n",
       "    <tr>\n",
       "      <th>660678</th>\n",
       "      <td>False</td>\n",
       "      <td>False</td>\n",
       "      <td>False</td>\n",
       "      <td>False</td>\n",
       "      <td>False</td>\n",
       "      <td>False</td>\n",
       "      <td>False</td>\n",
       "      <td>False</td>\n",
       "      <td>False</td>\n",
       "      <td>False</td>\n",
       "      <td>False</td>\n",
       "      <td>False</td>\n",
       "      <td>False</td>\n",
       "      <td>False</td>\n",
       "    </tr>\n",
       "  </tbody>\n",
       "</table>\n",
       "<p>660679 rows × 14 columns</p>\n",
       "</div>"
      ],
      "text/plain": [
       "        Index  Accident_Severity  Accident Date  Latitude  Light_Conditions  \\\n",
       "0       False              False          False     False             False   \n",
       "1       False              False          False     False             False   \n",
       "2       False              False          False     False             False   \n",
       "3       False              False          False     False             False   \n",
       "4       False              False          False     False             False   \n",
       "...       ...                ...            ...       ...               ...   \n",
       "660674  False              False          False     False             False   \n",
       "660675  False              False          False     False             False   \n",
       "660676  False              False          False     False             False   \n",
       "660677  False              False          False     False             False   \n",
       "660678  False              False          False     False             False   \n",
       "\n",
       "        District Area  Longitude  Number_of_Casualties  Number_of_Vehicles  \\\n",
       "0               False      False                 False               False   \n",
       "1               False      False                 False               False   \n",
       "2               False      False                 False               False   \n",
       "3               False      False                 False               False   \n",
       "4               False      False                 False               False   \n",
       "...               ...        ...                   ...                 ...   \n",
       "660674          False      False                 False               False   \n",
       "660675          False      False                 False               False   \n",
       "660676          False      False                 False               False   \n",
       "660677          False      False                 False               False   \n",
       "660678          False      False                 False               False   \n",
       "\n",
       "        Road_Surface_Conditions  Road_Type  Urban_or_Rural_Area  \\\n",
       "0                         False      False                False   \n",
       "1                         False      False                False   \n",
       "2                         False       True                False   \n",
       "3                         False      False                False   \n",
       "4                         False       True                False   \n",
       "...                         ...        ...                  ...   \n",
       "660674                    False      False                False   \n",
       "660675                    False      False                False   \n",
       "660676                    False      False                False   \n",
       "660677                    False      False                False   \n",
       "660678                    False      False                False   \n",
       "\n",
       "        Weather_Conditions  Vehicle_Type  \n",
       "0                    False         False  \n",
       "1                    False         False  \n",
       "2                     True         False  \n",
       "3                    False         False  \n",
       "4                     True         False  \n",
       "...                    ...           ...  \n",
       "660674               False         False  \n",
       "660675               False         False  \n",
       "660676               False         False  \n",
       "660677               False         False  \n",
       "660678               False         False  \n",
       "\n",
       "[660679 rows x 14 columns]"
      ]
     },
     "execution_count": 4,
     "metadata": {},
     "output_type": "execute_result"
    }
   ],
   "source": [
    "df.isnull()"
   ]
  },
  {
   "cell_type": "code",
   "execution_count": 5,
   "id": "d5043d9e-d68b-44ee-bf43-37a39b529668",
   "metadata": {},
   "outputs": [
    {
     "data": {
      "text/plain": [
       "Index                          0\n",
       "Accident_Severity              0\n",
       "Accident Date                  0\n",
       "Latitude                      25\n",
       "Light_Conditions               0\n",
       "District Area                  0\n",
       "Longitude                     26\n",
       "Number_of_Casualties           0\n",
       "Number_of_Vehicles             0\n",
       "Road_Surface_Conditions      726\n",
       "Road_Type                   4520\n",
       "Urban_or_Rural_Area           15\n",
       "Weather_Conditions         14128\n",
       "Vehicle_Type                   0\n",
       "dtype: int64"
      ]
     },
     "execution_count": 5,
     "metadata": {},
     "output_type": "execute_result"
    }
   ],
   "source": [
    "df.isnull().sum()"
   ]
  },
  {
   "cell_type": "markdown",
   "id": "95becf97-c0ec-486a-8fd6-fe7dfdd68399",
   "metadata": {},
   "source": [
    "<h1>1. How many accidents are recorded in the data set?</h1>"
   ]
  },
  {
   "cell_type": "code",
   "execution_count": 6,
   "id": "1f0074ee-7e62-4209-bbd5-12c0af7b1aed",
   "metadata": {},
   "outputs": [
    {
     "data": {
      "text/plain": [
       "Accident_Severity    660679\n",
       "dtype: int64"
      ]
     },
     "execution_count": 6,
     "metadata": {},
     "output_type": "execute_result"
    }
   ],
   "source": [
    "df[['Accident_Severity']].count()"
   ]
  },
  {
   "cell_type": "code",
   "execution_count": 7,
   "id": "c0ed9683-7278-440e-b27b-8e1998f97d92",
   "metadata": {},
   "outputs": [
    {
     "data": {
      "text/plain": [
       "660679"
      ]
     },
     "execution_count": 7,
     "metadata": {},
     "output_type": "execute_result"
    }
   ],
   "source": [
    "len(df)"
   ]
  },
  {
   "cell_type": "markdown",
   "id": "775db76c-d329-4420-bb45-062c2a1a20aa",
   "metadata": {},
   "source": [
    "<p>This shows the total number of accidents that happened in the dataset that been given</p>"
   ]
  },
  {
   "cell_type": "markdown",
   "id": "b8cacd10-ce45-452e-ab45-a9054353410e",
   "metadata": {},
   "source": [
    "<h1>2. What is the severity of the accidents in the data set?</h1>"
   ]
  },
  {
   "cell_type": "code",
   "execution_count": 8,
   "id": "63440ccb-b141-4086-a1e2-aaca7f220e24",
   "metadata": {},
   "outputs": [
    {
     "data": {
      "text/plain": [
       "Accident_Severity\n",
       "Slight     563801\n",
       "Serious     88217\n",
       "Fatal        8661\n",
       "Name: count, dtype: int64"
      ]
     },
     "execution_count": 8,
     "metadata": {},
     "output_type": "execute_result"
    }
   ],
   "source": [
    "df['Accident_Severity'].value_counts()"
   ]
  },
  {
   "cell_type": "markdown",
   "id": "fc9fde76-d44c-4acb-8885-5481c4b23108",
   "metadata": {},
   "source": [
    "<p>Most of the accidents are slightly severe, but still there is too many serious and fatal accidents that been given</p>"
   ]
  },
  {
   "cell_type": "markdown",
   "id": "90138179-0e1c-4a87-b76c-539cc35c6887",
   "metadata": {},
   "source": [
    "<h1>3. On which  district area have the highest numbers of road accidents? </h1>"
   ]
  },
  {
   "cell_type": "code",
   "execution_count": 9,
   "id": "24e22cc9-a50c-40f7-be3e-32701bfe3a1a",
   "metadata": {},
   "outputs": [
    {
     "data": {
      "text/plain": [
       "District Area\n",
       "Birmingham            13491\n",
       "Leeds                  8898\n",
       "Manchester             6720\n",
       "Bradford               6212\n",
       "Sheffield              5710\n",
       "                      ...  \n",
       "Berwick-upon-Tweed      153\n",
       "Teesdale                142\n",
       "Shetland Islands        133\n",
       "Orkney Islands          117\n",
       "Clackmannanshire         91\n",
       "Name: count, Length: 422, dtype: int64"
      ]
     },
     "execution_count": 9,
     "metadata": {},
     "output_type": "execute_result"
    }
   ],
   "source": [
    "df['District Area'].value_counts()"
   ]
  },
  {
   "cell_type": "markdown",
   "id": "b7598e24-77e5-464a-8fbb-42d8ff72c75e",
   "metadata": {},
   "source": [
    "<p>This shows that there's a lot of district that is prone for road accidents, but the highest one is Birmigham</p>"
   ]
  },
  {
   "cell_type": "markdown",
   "id": "2c5550f9-79af-4635-911f-31ef3b22085d",
   "metadata": {},
   "source": [
    "<h1>4. What is the average number of vehicles per accident?</h1>"
   ]
  },
  {
   "cell_type": "code",
   "execution_count": 10,
   "id": "ca20c506-12c4-4aba-8004-1d6cc61f4376",
   "metadata": {},
   "outputs": [
    {
     "data": {
      "text/plain": [
       "np.float64(1.8312554205597575)"
      ]
     },
     "execution_count": 10,
     "metadata": {},
     "output_type": "execute_result"
    }
   ],
   "source": [
    "df['Number_of_Vehicles'].mean()"
   ]
  },
  {
   "cell_type": "markdown",
   "id": "9f75493d-2e39-4ef1-b8fe-35df43a4eaf7",
   "metadata": {},
   "source": [
    "<p>This sums up that maybe around 2 vehicles are there per accidents</p>"
   ]
  },
  {
   "cell_type": "markdown",
   "id": "ccdfc84c-117c-48c8-9bf4-8337e1ddac05",
   "metadata": {},
   "source": [
    "<h1>5. What are the typical numbers of casualties in an accidents?</h1>"
   ]
  },
  {
   "cell_type": "code",
   "execution_count": 11,
   "id": "9960646e-dcfc-44e9-9552-b4f0cfe09a67",
   "metadata": {},
   "outputs": [
    {
     "data": {
      "text/plain": [
       "np.float64(1.357040257068864)"
      ]
     },
     "execution_count": 11,
     "metadata": {},
     "output_type": "execute_result"
    }
   ],
   "source": [
    "df['Number_of_Casualties'].mean()"
   ]
  },
  {
   "cell_type": "code",
   "execution_count": 12,
   "id": "48e78b00-a019-4b59-8e8d-afc19185bae2",
   "metadata": {},
   "outputs": [
    {
     "data": {
      "text/plain": [
       "count    660679.000000\n",
       "mean          1.357040\n",
       "std           0.824847\n",
       "min           1.000000\n",
       "25%           1.000000\n",
       "50%           1.000000\n",
       "75%           1.000000\n",
       "max          68.000000\n",
       "Name: Number_of_Casualties, dtype: float64"
      ]
     },
     "execution_count": 12,
     "metadata": {},
     "output_type": "execute_result"
    }
   ],
   "source": [
    "df['Number_of_Casualties'].describe()"
   ]
  },
  {
   "cell_type": "markdown",
   "id": "85ae0c39-2ab9-462c-b339-8d727249b156",
   "metadata": {},
   "source": [
    "<p>Most accidents involve 1 casualty only</p>"
   ]
  },
  {
   "cell_type": "markdown",
   "id": "a90a2e69-4f58-42de-8acd-6f875f011c3c",
   "metadata": {},
   "source": [
    "<h1>6. How many vehicles are usually involve in accidents?</h1>"
   ]
  },
  {
   "cell_type": "code",
   "execution_count": 13,
   "id": "b1b26a77-7e58-4a71-ad1b-4abd6ee15f22",
   "metadata": {},
   "outputs": [
    {
     "data": {
      "text/plain": [
       "count    660679.000000\n",
       "mean          1.831255\n",
       "std           0.715269\n",
       "min           1.000000\n",
       "25%           1.000000\n",
       "50%           2.000000\n",
       "75%           2.000000\n",
       "max          32.000000\n",
       "Name: Number_of_Vehicles, dtype: float64"
      ]
     },
     "execution_count": 13,
     "metadata": {},
     "output_type": "execute_result"
    }
   ],
   "source": [
    "df['Number_of_Vehicles'].describe()"
   ]
  },
  {
   "cell_type": "markdown",
   "id": "64e40aa8-dd48-4a50-a5e8-e1f0b3793798",
   "metadata": {},
   "source": [
    "<p>Usually 2 vehicles are involve around</p>"
   ]
  },
  {
   "cell_type": "markdown",
   "id": "4daf75ff-e7c6-4bbd-bc89-f31c94a2406c",
   "metadata": {},
   "source": [
    "<h1>7. Do accidents happen more in daylight or in darkness?</h1>"
   ]
  },
  {
   "cell_type": "code",
   "execution_count": 14,
   "id": "0c11685c-1865-4e9e-9096-4380331261a4",
   "metadata": {},
   "outputs": [
    {
     "data": {
      "text/plain": [
       "Light_Conditions\n",
       "Daylight                       484880\n",
       "Darkness - lights lit          129335\n",
       "Darkness - no lighting          37437\n",
       "Darkness - lighting unknown      6484\n",
       "Darkness - lights unlit          2543\n",
       "Name: count, dtype: int64"
      ]
     },
     "execution_count": 14,
     "metadata": {},
     "output_type": "execute_result"
    }
   ],
   "source": [
    "df['Light_Conditions'].value_counts()"
   ]
  },
  {
   "cell_type": "markdown",
   "id": "b96a0635-e1d0-4b16-8bfa-6295fc63bfb0",
   "metadata": {},
   "source": [
    "<p>This shows that more accidents happen in daylight, tho dark unlit conditions show heightened severity</p>"
   ]
  },
  {
   "cell_type": "markdown",
   "id": "d455a518-e5e6-42ab-b20f-b9a338a992a5",
   "metadata": {},
   "source": [
    "<h1>8. Which surface type correspond with more frequent accidents?</h1>"
   ]
  },
  {
   "cell_type": "code",
   "execution_count": 15,
   "id": "66bb2933-d18f-4510-bfed-25f97b4e5131",
   "metadata": {},
   "outputs": [
    {
     "data": {
      "text/plain": [
       "Road_Surface_Conditions\n",
       "Dry                     447821\n",
       "Wet or damp             186708\n",
       "Frost or ice             18517\n",
       "Snow                      5890\n",
       "Flood over 3cm. deep      1017\n",
       "Name: count, dtype: int64"
      ]
     },
     "execution_count": 15,
     "metadata": {},
     "output_type": "execute_result"
    }
   ],
   "source": [
    "df['Road_Surface_Conditions'].value_counts()"
   ]
  },
  {
   "cell_type": "markdown",
   "id": "5215fff4-5f6c-45ab-bff7-fca292940526",
   "metadata": {},
   "source": [
    "<p>This simply shows that dry surface dominate more accidents than other type of surface</p>"
   ]
  },
  {
   "cell_type": "markdown",
   "id": "841aebe1-5187-4f21-a834-120161125ad5",
   "metadata": {},
   "source": [
    "<h1>9. Does  accident happened more on urban or rural area?</h1>"
   ]
  },
  {
   "cell_type": "code",
   "execution_count": 16,
   "id": "b04f82b3-c699-495d-b14f-b68e1b308916",
   "metadata": {},
   "outputs": [
    {
     "data": {
      "text/plain": [
       "count     660664\n",
       "unique         3\n",
       "top        Urban\n",
       "freq      421663\n",
       "Name: Urban_or_Rural_Area, dtype: object"
      ]
     },
     "execution_count": 16,
     "metadata": {},
     "output_type": "execute_result"
    }
   ],
   "source": [
    "df['Urban_or_Rural_Area'].describe()"
   ]
  },
  {
   "cell_type": "code",
   "execution_count": 17,
   "id": "3d397b8e-8a64-4b67-b55b-87d08cb57b38",
   "metadata": {},
   "outputs": [
    {
     "data": {
      "text/plain": [
       "Urban_or_Rural_Area\n",
       "Urban          421663\n",
       "Rural          238990\n",
       "Unallocated        11\n",
       "Name: count, dtype: int64"
      ]
     },
     "execution_count": 17,
     "metadata": {},
     "output_type": "execute_result"
    }
   ],
   "source": [
    "df['Urban_or_Rural_Area'].value_counts()"
   ]
  },
  {
   "cell_type": "markdown",
   "id": "e2bb45d4-e927-405f-88f1-d7060cd3f657",
   "metadata": {},
   "source": [
    "<p>It simply shows that the Urban are prone to more accidents, likely due to higher density of vehicles and people around</p>"
   ]
  },
  {
   "cell_type": "markdown",
   "id": "f5ad74d2-8dd9-49aa-aa5b-98367fc92c2a",
   "metadata": {},
   "source": [
    "<h1>10. Which weather is more likely prone to accidents?</h1>"
   ]
  },
  {
   "cell_type": "code",
   "execution_count": 18,
   "id": "81dd376d-9538-46a8-82a0-d6114a78ec1a",
   "metadata": {},
   "outputs": [
    {
     "data": {
      "text/plain": [
       "Weather_Conditions\n",
       "Fine no high winds       520885\n",
       "Raining no high winds     79696\n",
       "Other                     17150\n",
       "Raining + high winds       9615\n",
       "Fine + high winds          8554\n",
       "Snowing no high winds      6238\n",
       "Fog or mist                3528\n",
       "Snowing + high winds        885\n",
       "Name: count, dtype: int64"
      ]
     },
     "execution_count": 18,
     "metadata": {},
     "output_type": "execute_result"
    }
   ],
   "source": [
    "df['Weather_Conditions'].value_counts()"
   ]
  },
  {
   "cell_type": "markdown",
   "id": "b40c3585-26ef-4b96-acfa-f629b3847960",
   "metadata": {},
   "source": [
    "<p>Surprisingly Clear weather are more prone to accidents</p>"
   ]
  },
  {
   "cell_type": "markdown",
   "id": "cd432e30-147f-4dea-9e7b-694c634f45a9",
   "metadata": {},
   "source": [
    "<h1>11. How many accidents happened in snowing with no high winds?</h1>"
   ]
  },
  {
   "cell_type": "code",
   "execution_count": 19,
   "id": "2b32871e-816f-47cf-8eb3-719daffdf846",
   "metadata": {},
   "outputs": [
    {
     "data": {
      "text/plain": [
       "Weather_Conditions\n",
       "Fine no high winds       520885\n",
       "Raining no high winds     79696\n",
       "Other                     17150\n",
       "Raining + high winds       9615\n",
       "Fine + high winds          8554\n",
       "Snowing no high winds      6238\n",
       "Fog or mist                3528\n",
       "Snowing + high winds        885\n",
       "Name: count, dtype: int64"
      ]
     },
     "execution_count": 19,
     "metadata": {},
     "output_type": "execute_result"
    }
   ],
   "source": [
    "df['Weather_Conditions'].value_counts()"
   ]
  },
  {
   "cell_type": "markdown",
   "id": "42c45694-ce87-465c-82ee-23af2c814243",
   "metadata": {},
   "source": [
    "<p>This shows that accidents happened in snowing with no high winds are 6238 which is low than the other weathers</p>"
   ]
  },
  {
   "cell_type": "markdown",
   "id": "b9462410-e0d7-468d-b1d4-309c8d6a6cc8",
   "metadata": {},
   "source": [
    "<h1>12. Which light settings correspond with the most severe outcomes?</h1>"
   ]
  },
  {
   "cell_type": "code",
   "execution_count": 20,
   "id": "b3c9b796-85bb-4ddd-968f-90eeb9ef9514",
   "metadata": {},
   "outputs": [
    {
     "data": {
      "text/html": [
       "<div>\n",
       "<style scoped>\n",
       "    .dataframe tbody tr th:only-of-type {\n",
       "        vertical-align: middle;\n",
       "    }\n",
       "\n",
       "    .dataframe tbody tr th {\n",
       "        vertical-align: top;\n",
       "    }\n",
       "\n",
       "    .dataframe thead th {\n",
       "        text-align: right;\n",
       "    }\n",
       "</style>\n",
       "<table border=\"1\" class=\"dataframe\">\n",
       "  <thead>\n",
       "    <tr style=\"text-align: right;\">\n",
       "      <th>Accident_Severity</th>\n",
       "      <th>Fatal</th>\n",
       "      <th>Serious</th>\n",
       "      <th>Slight</th>\n",
       "    </tr>\n",
       "    <tr>\n",
       "      <th>Light_Conditions</th>\n",
       "      <th></th>\n",
       "      <th></th>\n",
       "      <th></th>\n",
       "    </tr>\n",
       "  </thead>\n",
       "  <tbody>\n",
       "    <tr>\n",
       "      <th>Darkness - lighting unknown</th>\n",
       "      <td>68</td>\n",
       "      <td>794</td>\n",
       "      <td>5622</td>\n",
       "    </tr>\n",
       "    <tr>\n",
       "      <th>Darkness - lights lit</th>\n",
       "      <td>1860</td>\n",
       "      <td>19130</td>\n",
       "      <td>108345</td>\n",
       "    </tr>\n",
       "    <tr>\n",
       "      <th>Darkness - lights unlit</th>\n",
       "      <td>45</td>\n",
       "      <td>360</td>\n",
       "      <td>2138</td>\n",
       "    </tr>\n",
       "    <tr>\n",
       "      <th>Darkness - no lighting</th>\n",
       "      <td>1612</td>\n",
       "      <td>7174</td>\n",
       "      <td>28651</td>\n",
       "    </tr>\n",
       "    <tr>\n",
       "      <th>Daylight</th>\n",
       "      <td>5076</td>\n",
       "      <td>60759</td>\n",
       "      <td>419045</td>\n",
       "    </tr>\n",
       "  </tbody>\n",
       "</table>\n",
       "</div>"
      ],
      "text/plain": [
       "Accident_Severity            Fatal  Serious  Slight\n",
       "Light_Conditions                                   \n",
       "Darkness - lighting unknown     68      794    5622\n",
       "Darkness - lights lit         1860    19130  108345\n",
       "Darkness - lights unlit         45      360    2138\n",
       "Darkness - no lighting        1612     7174   28651\n",
       "Daylight                      5076    60759  419045"
      ]
     },
     "execution_count": 20,
     "metadata": {},
     "output_type": "execute_result"
    }
   ],
   "source": [
    "pd.crosstab( df['Light_Conditions'], df['Accident_Severity'])"
   ]
  },
  {
   "cell_type": "markdown",
   "id": "e43fbb57-023a-42f7-a780-b154add31cdc",
   "metadata": {},
   "source": [
    "<p>Dark roads without lighting shows severe and fatal accident counts</p>"
   ]
  },
  {
   "cell_type": "markdown",
   "id": "b4efbbc0-cdc0-48f9-a637-292b1e9bbd48",
   "metadata": {},
   "source": [
    "<h1>13. Which latitudes recorded the most accidents?</h1>"
   ]
  },
  {
   "cell_type": "code",
   "execution_count": 21,
   "id": "a764c573-e65a-43e1-9696-73eb461c5c20",
   "metadata": {},
   "outputs": [
    {
     "data": {
      "text/plain": [
       "Latitude\n",
       "52.458798    50\n",
       "52.949719    45\n",
       "53.083165    33\n",
       "52.967634    31\n",
       "52.938860    29\n",
       "             ..\n",
       "56.880265     1\n",
       "56.865367     1\n",
       "57.528413     1\n",
       "57.194499     1\n",
       "51.493490     1\n",
       "Name: count, Length: 511618, dtype: int64"
      ]
     },
     "execution_count": 21,
     "metadata": {},
     "output_type": "execute_result"
    }
   ],
   "source": [
    "df['Latitude'].value_counts()"
   ]
  },
  {
   "cell_type": "code",
   "execution_count": 22,
   "id": "be42db8e-827f-43cd-9c6a-94b76d36d110",
   "metadata": {},
   "outputs": [
    {
     "data": {
      "text/plain": [
       "np.int64(660654)"
      ]
     },
     "execution_count": 22,
     "metadata": {},
     "output_type": "execute_result"
    }
   ],
   "source": [
    "df['Latitude'].count()"
   ]
  },
  {
   "cell_type": "markdown",
   "id": "7fb2b791-0f4f-4f99-b4fa-54b4770d14f2",
   "metadata": {},
   "source": [
    "<h1>14. Which longitudes recorded the most accidents?</h1>"
   ]
  },
  {
   "cell_type": "code",
   "execution_count": 23,
   "id": "ee740c3e-01a4-4593-89b1-eef8931bf595",
   "metadata": {},
   "outputs": [
    {
     "data": {
      "text/plain": [
       "Longitude\n",
       "-0.977611    45\n",
       "-1.871043    36\n",
       "-0.816789    33\n",
       "-1.190861    31\n",
       "-1.216694    29\n",
       "             ..\n",
       "-4.169644     1\n",
       "-3.798648     1\n",
       "-3.630574     1\n",
       "-3.836563     1\n",
       "-3.924477     1\n",
       "Name: count, Length: 529766, dtype: int64"
      ]
     },
     "execution_count": 23,
     "metadata": {},
     "output_type": "execute_result"
    }
   ],
   "source": [
    "df['Longitude'].value_counts()"
   ]
  },
  {
   "cell_type": "code",
   "execution_count": 24,
   "id": "d8776556-f59c-4ea4-ad74-9d2c074bc5e9",
   "metadata": {},
   "outputs": [
    {
     "data": {
      "text/plain": [
       "np.int64(660653)"
      ]
     },
     "execution_count": 24,
     "metadata": {},
     "output_type": "execute_result"
    }
   ],
   "source": [
    "df['Longitude'].count()"
   ]
  },
  {
   "cell_type": "markdown",
   "id": "982b08e1-df4e-45a7-b8a0-a9dd78157769",
   "metadata": {},
   "source": [
    "<h1>15. Where do the latitude and longitude values fall within the data sets?</h1>"
   ]
  },
  {
   "cell_type": "code",
   "execution_count": 25,
   "id": "5a1cf9cf-e03d-4083-b0bb-bd6d9d9b0f6c",
   "metadata": {},
   "outputs": [
    {
     "data": {
      "text/html": [
       "<div>\n",
       "<style scoped>\n",
       "    .dataframe tbody tr th:only-of-type {\n",
       "        vertical-align: middle;\n",
       "    }\n",
       "\n",
       "    .dataframe tbody tr th {\n",
       "        vertical-align: top;\n",
       "    }\n",
       "\n",
       "    .dataframe thead th {\n",
       "        text-align: right;\n",
       "    }\n",
       "</style>\n",
       "<table border=\"1\" class=\"dataframe\">\n",
       "  <thead>\n",
       "    <tr style=\"text-align: right;\">\n",
       "      <th></th>\n",
       "      <th>Latitude</th>\n",
       "      <th>Longitude</th>\n",
       "    </tr>\n",
       "  </thead>\n",
       "  <tbody>\n",
       "    <tr>\n",
       "      <th>count</th>\n",
       "      <td>660654.000000</td>\n",
       "      <td>660653.000000</td>\n",
       "    </tr>\n",
       "    <tr>\n",
       "      <th>mean</th>\n",
       "      <td>52.553866</td>\n",
       "      <td>-1.431210</td>\n",
       "    </tr>\n",
       "    <tr>\n",
       "      <th>std</th>\n",
       "      <td>1.406922</td>\n",
       "      <td>1.383330</td>\n",
       "    </tr>\n",
       "    <tr>\n",
       "      <th>min</th>\n",
       "      <td>49.914430</td>\n",
       "      <td>-7.516225</td>\n",
       "    </tr>\n",
       "    <tr>\n",
       "      <th>25%</th>\n",
       "      <td>51.490690</td>\n",
       "      <td>-2.332291</td>\n",
       "    </tr>\n",
       "    <tr>\n",
       "      <th>50%</th>\n",
       "      <td>52.315641</td>\n",
       "      <td>-1.411667</td>\n",
       "    </tr>\n",
       "    <tr>\n",
       "      <th>75%</th>\n",
       "      <td>53.453452</td>\n",
       "      <td>-0.232869</td>\n",
       "    </tr>\n",
       "    <tr>\n",
       "      <th>max</th>\n",
       "      <td>60.757544</td>\n",
       "      <td>1.762010</td>\n",
       "    </tr>\n",
       "  </tbody>\n",
       "</table>\n",
       "</div>"
      ],
      "text/plain": [
       "            Latitude      Longitude\n",
       "count  660654.000000  660653.000000\n",
       "mean       52.553866      -1.431210\n",
       "std         1.406922       1.383330\n",
       "min        49.914430      -7.516225\n",
       "25%        51.490690      -2.332291\n",
       "50%        52.315641      -1.411667\n",
       "75%        53.453452      -0.232869\n",
       "max        60.757544       1.762010"
      ]
     },
     "execution_count": 25,
     "metadata": {},
     "output_type": "execute_result"
    }
   ],
   "source": [
    "df[['Latitude', 'Longitude']].describe()"
   ]
  },
  {
   "cell_type": "markdown",
   "id": "7d9073c2-b472-4e1e-ad84-bcb56c7dfb2e",
   "metadata": {},
   "source": [
    "<p>This confirms that the spans of the data set cover both northern/sothern and eastern/western regions</p>"
   ]
  },
  {
   "cell_type": "markdown",
   "id": "7654313c-01d5-48fe-b4bd-d20c94cd1060",
   "metadata": {},
   "source": [
    "<h1>16. Is there a measurable connections between vehicle counts and casualties?</h1>"
   ]
  },
  {
   "cell_type": "code",
   "execution_count": 26,
   "id": "92f4b1e1-e4cb-4569-a91c-9d151e480578",
   "metadata": {},
   "outputs": [
    {
     "data": {
      "text/html": [
       "<div>\n",
       "<style scoped>\n",
       "    .dataframe tbody tr th:only-of-type {\n",
       "        vertical-align: middle;\n",
       "    }\n",
       "\n",
       "    .dataframe tbody tr th {\n",
       "        vertical-align: top;\n",
       "    }\n",
       "\n",
       "    .dataframe thead th {\n",
       "        text-align: right;\n",
       "    }\n",
       "</style>\n",
       "<table border=\"1\" class=\"dataframe\">\n",
       "  <thead>\n",
       "    <tr style=\"text-align: right;\">\n",
       "      <th></th>\n",
       "      <th>Number_of_Vehicles</th>\n",
       "      <th>Number_of_Casualties</th>\n",
       "    </tr>\n",
       "  </thead>\n",
       "  <tbody>\n",
       "    <tr>\n",
       "      <th>Number_of_Vehicles</th>\n",
       "      <td>1.000000</td>\n",
       "      <td>0.228889</td>\n",
       "    </tr>\n",
       "    <tr>\n",
       "      <th>Number_of_Casualties</th>\n",
       "      <td>0.228889</td>\n",
       "      <td>1.000000</td>\n",
       "    </tr>\n",
       "  </tbody>\n",
       "</table>\n",
       "</div>"
      ],
      "text/plain": [
       "                      Number_of_Vehicles  Number_of_Casualties\n",
       "Number_of_Vehicles              1.000000              0.228889\n",
       "Number_of_Casualties            0.228889              1.000000"
      ]
     },
     "execution_count": 26,
     "metadata": {},
     "output_type": "execute_result"
    }
   ],
   "source": [
    "df[['Number_of_Vehicles', 'Number_of_Casualties']].corr()"
   ]
  },
  {
   "cell_type": "markdown",
   "id": "f119fdd1-7eae-4ef4-b3f5-467e54635fbf",
   "metadata": {},
   "source": [
    "<p> This simply shows that there is connection, which indicates that more vehicles are prone to more casualties as well</p>"
   ]
  },
  {
   "cell_type": "markdown",
   "id": "f117b75f-52ac-41ce-bf01-603e99d40cbe",
   "metadata": {},
   "source": [
    "<h1>17. Which road design contributes most to accident frequency?</h1>"
   ]
  },
  {
   "cell_type": "code",
   "execution_count": 27,
   "id": "9ab0656f-2bb1-42c6-a857-4398810aa32d",
   "metadata": {},
   "outputs": [
    {
     "data": {
      "text/plain": [
       "Road_Type\n",
       "Single carriageway    492143\n",
       "Dual carriageway       99424\n",
       "Roundabout             43992\n",
       "One way street         13559\n",
       "Slip road               7041\n",
       "Name: count, dtype: int64"
      ]
     },
     "execution_count": 27,
     "metadata": {},
     "output_type": "execute_result"
    }
   ],
   "source": [
    "df[\"Road_Type\"].value_counts()"
   ]
  },
  {
   "cell_type": "markdown",
   "id": "97ea5450-4e0d-4149-9a15-1ae41389d54e",
   "metadata": {},
   "source": [
    "<p>This data shows that Single carriageway are the most common sites for accidents</p>"
   ]
  },
  {
   "cell_type": "markdown",
   "id": "6b29f02f-2a9c-4552-932c-1f09e8843d0c",
   "metadata": {},
   "source": [
    "<h1>18. Does the weather contributes to the severe damage of every accidents?</h1>"
   ]
  },
  {
   "cell_type": "code",
   "execution_count": 28,
   "id": "ca229a60-df93-43e6-bca8-abfe5d877b4a",
   "metadata": {},
   "outputs": [
    {
     "data": {
      "text/html": [
       "<div>\n",
       "<style scoped>\n",
       "    .dataframe tbody tr th:only-of-type {\n",
       "        vertical-align: middle;\n",
       "    }\n",
       "\n",
       "    .dataframe tbody tr th {\n",
       "        vertical-align: top;\n",
       "    }\n",
       "\n",
       "    .dataframe thead th {\n",
       "        text-align: right;\n",
       "    }\n",
       "</style>\n",
       "<table border=\"1\" class=\"dataframe\">\n",
       "  <thead>\n",
       "    <tr style=\"text-align: right;\">\n",
       "      <th>Accident_Severity</th>\n",
       "      <th>Fatal</th>\n",
       "      <th>Serious</th>\n",
       "      <th>Slight</th>\n",
       "    </tr>\n",
       "    <tr>\n",
       "      <th>Weather_Conditions</th>\n",
       "      <th></th>\n",
       "      <th></th>\n",
       "      <th></th>\n",
       "    </tr>\n",
       "  </thead>\n",
       "  <tbody>\n",
       "    <tr>\n",
       "      <th>Fine + high winds</th>\n",
       "      <td>175</td>\n",
       "      <td>1245</td>\n",
       "      <td>7134</td>\n",
       "    </tr>\n",
       "    <tr>\n",
       "      <th>Fine no high winds</th>\n",
       "      <td>7100</td>\n",
       "      <td>72046</td>\n",
       "      <td>441739</td>\n",
       "    </tr>\n",
       "    <tr>\n",
       "      <th>Fog or mist</th>\n",
       "      <td>82</td>\n",
       "      <td>483</td>\n",
       "      <td>2963</td>\n",
       "    </tr>\n",
       "    <tr>\n",
       "      <th>Other</th>\n",
       "      <td>165</td>\n",
       "      <td>1801</td>\n",
       "      <td>15184</td>\n",
       "    </tr>\n",
       "    <tr>\n",
       "      <th>Raining + high winds</th>\n",
       "      <td>145</td>\n",
       "      <td>1261</td>\n",
       "      <td>8209</td>\n",
       "    </tr>\n",
       "    <tr>\n",
       "      <th>Raining no high winds</th>\n",
       "      <td>848</td>\n",
       "      <td>9468</td>\n",
       "      <td>69380</td>\n",
       "    </tr>\n",
       "    <tr>\n",
       "      <th>Snowing + high winds</th>\n",
       "      <td>3</td>\n",
       "      <td>109</td>\n",
       "      <td>773</td>\n",
       "    </tr>\n",
       "    <tr>\n",
       "      <th>Snowing no high winds</th>\n",
       "      <td>36</td>\n",
       "      <td>565</td>\n",
       "      <td>5637</td>\n",
       "    </tr>\n",
       "  </tbody>\n",
       "</table>\n",
       "</div>"
      ],
      "text/plain": [
       "Accident_Severity      Fatal  Serious  Slight\n",
       "Weather_Conditions                           \n",
       "Fine + high winds        175     1245    7134\n",
       "Fine no high winds      7100    72046  441739\n",
       "Fog or mist               82      483    2963\n",
       "Other                    165     1801   15184\n",
       "Raining + high winds     145     1261    8209\n",
       "Raining no high winds    848     9468   69380\n",
       "Snowing + high winds       3      109     773\n",
       "Snowing no high winds     36      565    5637"
      ]
     },
     "execution_count": 28,
     "metadata": {},
     "output_type": "execute_result"
    }
   ],
   "source": [
    "pd.crosstab(df['Weather_Conditions'], df['Accident_Severity'])"
   ]
  },
  {
   "cell_type": "markdown",
   "id": "bdaa3d48-c56f-48f9-877e-f6668094e527",
   "metadata": {},
   "source": [
    "<p>It shows that weathers contributes, it simply shows that a severe outcomes are more frequent in poor weather</p>"
   ]
  },
  {
   "cell_type": "markdown",
   "id": "f486fb85-314c-4b72-aded-30c2150095fb",
   "metadata": {},
   "source": [
    "<h1>19. To what extend does road surface influence road severity?</h1>"
   ]
  },
  {
   "cell_type": "code",
   "execution_count": 29,
   "id": "b02c8643-85f6-4eac-a2d2-61ea849288a2",
   "metadata": {},
   "outputs": [
    {
     "data": {
      "text/html": [
       "<div>\n",
       "<style scoped>\n",
       "    .dataframe tbody tr th:only-of-type {\n",
       "        vertical-align: middle;\n",
       "    }\n",
       "\n",
       "    .dataframe tbody tr th {\n",
       "        vertical-align: top;\n",
       "    }\n",
       "\n",
       "    .dataframe thead th {\n",
       "        text-align: right;\n",
       "    }\n",
       "</style>\n",
       "<table border=\"1\" class=\"dataframe\">\n",
       "  <thead>\n",
       "    <tr style=\"text-align: right;\">\n",
       "      <th>Accident_Severity</th>\n",
       "      <th>Fatal</th>\n",
       "      <th>Serious</th>\n",
       "      <th>Slight</th>\n",
       "    </tr>\n",
       "    <tr>\n",
       "      <th>Road_Surface_Conditions</th>\n",
       "      <th></th>\n",
       "      <th></th>\n",
       "      <th></th>\n",
       "    </tr>\n",
       "  </thead>\n",
       "  <tbody>\n",
       "    <tr>\n",
       "      <th>Dry</th>\n",
       "      <td>5788</td>\n",
       "      <td>61638</td>\n",
       "      <td>380395</td>\n",
       "    </tr>\n",
       "    <tr>\n",
       "      <th>Flood over 3cm. deep</th>\n",
       "      <td>23</td>\n",
       "      <td>152</td>\n",
       "      <td>842</td>\n",
       "    </tr>\n",
       "    <tr>\n",
       "      <th>Frost or ice</th>\n",
       "      <td>193</td>\n",
       "      <td>2007</td>\n",
       "      <td>16317</td>\n",
       "    </tr>\n",
       "    <tr>\n",
       "      <th>Snow</th>\n",
       "      <td>35</td>\n",
       "      <td>565</td>\n",
       "      <td>5290</td>\n",
       "    </tr>\n",
       "    <tr>\n",
       "      <th>Wet or damp</th>\n",
       "      <td>2620</td>\n",
       "      <td>23785</td>\n",
       "      <td>160303</td>\n",
       "    </tr>\n",
       "  </tbody>\n",
       "</table>\n",
       "</div>"
      ],
      "text/plain": [
       "Accident_Severity        Fatal  Serious  Slight\n",
       "Road_Surface_Conditions                        \n",
       "Dry                       5788    61638  380395\n",
       "Flood over 3cm. deep        23      152     842\n",
       "Frost or ice               193     2007   16317\n",
       "Snow                        35      565    5290\n",
       "Wet or damp               2620    23785  160303"
      ]
     },
     "execution_count": 29,
     "metadata": {},
     "output_type": "execute_result"
    }
   ],
   "source": [
    "pd.crosstab(df['Road_Surface_Conditions'], df['Accident_Severity'])"
   ]
  },
  {
   "cell_type": "markdown",
   "id": "66a7f350-d43c-4378-8da4-18443ae42717",
   "metadata": {},
   "source": [
    "<p>This demonstrate that wet and icy have a higher risk of severe accidents</p>"
   ]
  },
  {
   "cell_type": "markdown",
   "id": "9685b0ea-6e18-4f02-9168-ef6dd8340ba9",
   "metadata": {},
   "source": [
    "<h1>20. What road type has the most road severity?</h1>"
   ]
  },
  {
   "cell_type": "code",
   "execution_count": 30,
   "id": "8dc2543a-b526-4852-8dc7-7ae1706afeb0",
   "metadata": {},
   "outputs": [
    {
     "data": {
      "text/html": [
       "<div>\n",
       "<style scoped>\n",
       "    .dataframe tbody tr th:only-of-type {\n",
       "        vertical-align: middle;\n",
       "    }\n",
       "\n",
       "    .dataframe tbody tr th {\n",
       "        vertical-align: top;\n",
       "    }\n",
       "\n",
       "    .dataframe thead th {\n",
       "        text-align: right;\n",
       "    }\n",
       "</style>\n",
       "<table border=\"1\" class=\"dataframe\">\n",
       "  <thead>\n",
       "    <tr style=\"text-align: right;\">\n",
       "      <th>Accident_Severity</th>\n",
       "      <th>Fatal</th>\n",
       "      <th>Serious</th>\n",
       "      <th>Slight</th>\n",
       "    </tr>\n",
       "    <tr>\n",
       "      <th>Road_Type</th>\n",
       "      <th></th>\n",
       "      <th></th>\n",
       "      <th></th>\n",
       "    </tr>\n",
       "  </thead>\n",
       "  <tbody>\n",
       "    <tr>\n",
       "      <th>Dual carriageway</th>\n",
       "      <td>1815</td>\n",
       "      <td>11746</td>\n",
       "      <td>85863</td>\n",
       "    </tr>\n",
       "    <tr>\n",
       "      <th>One way street</th>\n",
       "      <td>95</td>\n",
       "      <td>1655</td>\n",
       "      <td>11809</td>\n",
       "    </tr>\n",
       "    <tr>\n",
       "      <th>Roundabout</th>\n",
       "      <td>142</td>\n",
       "      <td>3665</td>\n",
       "      <td>40185</td>\n",
       "    </tr>\n",
       "    <tr>\n",
       "      <th>Single carriageway</th>\n",
       "      <td>6527</td>\n",
       "      <td>70059</td>\n",
       "      <td>415557</td>\n",
       "    </tr>\n",
       "    <tr>\n",
       "      <th>Slip road</th>\n",
       "      <td>49</td>\n",
       "      <td>611</td>\n",
       "      <td>6381</td>\n",
       "    </tr>\n",
       "  </tbody>\n",
       "</table>\n",
       "</div>"
      ],
      "text/plain": [
       "Accident_Severity   Fatal  Serious  Slight\n",
       "Road_Type                                 \n",
       "Dual carriageway     1815    11746   85863\n",
       "One way street         95     1655   11809\n",
       "Roundabout            142     3665   40185\n",
       "Single carriageway   6527    70059  415557\n",
       "Slip road              49      611    6381"
      ]
     },
     "execution_count": 30,
     "metadata": {},
     "output_type": "execute_result"
    }
   ],
   "source": [
    "pd.crosstab(df[\"Road_Type\"], df['Accident_Severity'])"
   ]
  },
  {
   "cell_type": "markdown",
   "id": "ecc72b45-ba5d-490c-b0c9-454bbae7949f",
   "metadata": {},
   "source": [
    "<p>The data set shows that most of the road severity comes from dual carriageway</p>"
   ]
  },
  {
   "cell_type": "code",
   "execution_count": 31,
   "id": "5d5fe071-d407-476e-b98e-64d7c3df4d23",
   "metadata": {},
   "outputs": [],
   "source": [
    "df['Accident Date'] = pd.to_datetime(df['Accident Date'], dayfirst = True, errors = 'coerce')"
   ]
  },
  {
   "cell_type": "code",
   "execution_count": 32,
   "id": "663360c4-ed6d-46c3-92cd-c822b1341d86",
   "metadata": {},
   "outputs": [
    {
     "data": {
      "text/plain": [
       "Index                              object\n",
       "Accident_Severity                  object\n",
       "Accident Date              datetime64[ns]\n",
       "Latitude                          float64\n",
       "Light_Conditions                   object\n",
       "District Area                      object\n",
       "Longitude                         float64\n",
       "Number_of_Casualties                int64\n",
       "Number_of_Vehicles                  int64\n",
       "Road_Surface_Conditions            object\n",
       "Road_Type                          object\n",
       "Urban_or_Rural_Area                object\n",
       "Weather_Conditions                 object\n",
       "Vehicle_Type                       object\n",
       "dtype: object"
      ]
     },
     "execution_count": 32,
     "metadata": {},
     "output_type": "execute_result"
    }
   ],
   "source": [
    "df.dtypes"
   ]
  },
  {
   "cell_type": "code",
   "execution_count": 33,
   "id": "0fd34cb4-f046-406d-a6f0-2fc966613930",
   "metadata": {},
   "outputs": [
    {
     "data": {
      "text/plain": [
       "Index                           0\n",
       "Accident_Severity               0\n",
       "Accident Date              395672\n",
       "Latitude                       25\n",
       "Light_Conditions                0\n",
       "District Area                   0\n",
       "Longitude                      26\n",
       "Number_of_Casualties            0\n",
       "Number_of_Vehicles              0\n",
       "Road_Surface_Conditions       726\n",
       "Road_Type                    4520\n",
       "Urban_or_Rural_Area            15\n",
       "Weather_Conditions          14128\n",
       "Vehicle_Type                    0\n",
       "dtype: int64"
      ]
     },
     "execution_count": 33,
     "metadata": {},
     "output_type": "execute_result"
    }
   ],
   "source": [
    "df.isnull().sum()"
   ]
  },
  {
   "cell_type": "markdown",
   "id": "163e3e6d-a77b-4a89-a2da-4590a983bff0",
   "metadata": {},
   "source": [
    "<h1>Extracting date information using pandas date time</h1>"
   ]
  },
  {
   "cell_type": "code",
   "execution_count": 34,
   "id": "527c21a2-65e3-4780-9fb1-769cc10fe1c9",
   "metadata": {},
   "outputs": [],
   "source": [
    "df['Year'] = df['Accident Date'].dt.year\n",
    "df['Month'] = df['Accident Date'].dt.month\n",
    "df['Day'] = df['Accident Date'].dt.day\n",
    "df['DayOfWeek'] = df['Accident Date'].dt.dayofweek"
   ]
  },
  {
   "cell_type": "code",
   "execution_count": 35,
   "id": "f99c816b-1fa4-4785-8318-bcd4f0294ce3",
   "metadata": {},
   "outputs": [
    {
     "data": {
      "text/plain": [
       "Index                           0\n",
       "Accident_Severity               0\n",
       "Accident Date              395672\n",
       "Latitude                       25\n",
       "Light_Conditions                0\n",
       "District Area                   0\n",
       "Longitude                      26\n",
       "Number_of_Casualties            0\n",
       "Number_of_Vehicles              0\n",
       "Road_Surface_Conditions       726\n",
       "Road_Type                    4520\n",
       "Urban_or_Rural_Area            15\n",
       "Weather_Conditions          14128\n",
       "Vehicle_Type                    0\n",
       "Year                       395672\n",
       "Month                      395672\n",
       "Day                        395672\n",
       "DayOfWeek                  395672\n",
       "dtype: int64"
      ]
     },
     "execution_count": 35,
     "metadata": {},
     "output_type": "execute_result"
    }
   ],
   "source": [
    "df.isnull().sum()"
   ]
  },
  {
   "cell_type": "markdown",
   "id": "1edbad6d-74d3-4307-863b-7db5589c8d70",
   "metadata": {},
   "source": [
    "<h1>Adding additional Insights</h1>"
   ]
  },
  {
   "cell_type": "markdown",
   "id": "03ad12b9-ce00-48f4-9bfd-519e234c7cc6",
   "metadata": {},
   "source": [
    "<h1>21. What year have the most severe accident of all time?</h1>"
   ]
  },
  {
   "cell_type": "code",
   "execution_count": 36,
   "id": "99665113-d854-48d0-a392-d3a5c9004ef2",
   "metadata": {},
   "outputs": [
    {
     "data": {
      "text/html": [
       "<div>\n",
       "<style scoped>\n",
       "    .dataframe tbody tr th:only-of-type {\n",
       "        vertical-align: middle;\n",
       "    }\n",
       "\n",
       "    .dataframe tbody tr th {\n",
       "        vertical-align: top;\n",
       "    }\n",
       "\n",
       "    .dataframe thead th {\n",
       "        text-align: right;\n",
       "    }\n",
       "</style>\n",
       "<table border=\"1\" class=\"dataframe\">\n",
       "  <thead>\n",
       "    <tr style=\"text-align: right;\">\n",
       "      <th>Accident_Severity</th>\n",
       "      <th>Fatal</th>\n",
       "      <th>Serious</th>\n",
       "      <th>Slight</th>\n",
       "    </tr>\n",
       "    <tr>\n",
       "      <th>Year</th>\n",
       "      <th></th>\n",
       "      <th></th>\n",
       "      <th></th>\n",
       "    </tr>\n",
       "  </thead>\n",
       "  <tbody>\n",
       "    <tr>\n",
       "      <th>2019.0</th>\n",
       "      <td>1116</td>\n",
       "      <td>9823</td>\n",
       "      <td>60928</td>\n",
       "    </tr>\n",
       "    <tr>\n",
       "      <th>2020.0</th>\n",
       "      <td>942</td>\n",
       "      <td>9346</td>\n",
       "      <td>59875</td>\n",
       "    </tr>\n",
       "    <tr>\n",
       "      <th>2021.0</th>\n",
       "      <td>823</td>\n",
       "      <td>8858</td>\n",
       "      <td>56491</td>\n",
       "    </tr>\n",
       "    <tr>\n",
       "      <th>2022.0</th>\n",
       "      <td>623</td>\n",
       "      <td>7266</td>\n",
       "      <td>48916</td>\n",
       "    </tr>\n",
       "  </tbody>\n",
       "</table>\n",
       "</div>"
      ],
      "text/plain": [
       "Accident_Severity  Fatal  Serious  Slight\n",
       "Year                                     \n",
       "2019.0              1116     9823   60928\n",
       "2020.0               942     9346   59875\n",
       "2021.0               823     8858   56491\n",
       "2022.0               623     7266   48916"
      ]
     },
     "execution_count": 36,
     "metadata": {},
     "output_type": "execute_result"
    }
   ],
   "source": [
    "pd.crosstab(df['Year'], df['Accident_Severity'])"
   ]
  },
  {
   "cell_type": "markdown",
   "id": "b1cf67c1-7628-4f33-bb0d-8c83ec239a59",
   "metadata": {},
   "source": [
    "<p>As the table shows above the highest severe accidents is in year 2019, which has a fatal numbers of 1116, while serious is 9823, and the slight was 60928</p>"
   ]
  },
  {
   "cell_type": "markdown",
   "id": "82da5f2a-f9c1-4a2e-a4d8-47966cba3358",
   "metadata": {},
   "source": [
    "<h1>22. What are the particular number of accidents per season in every year?</h1>"
   ]
  },
  {
   "cell_type": "code",
   "execution_count": 37,
   "id": "e9519204-4b0f-4157-b1ae-75d6369443c3",
   "metadata": {},
   "outputs": [
    {
     "data": {
      "text/html": [
       "<div>\n",
       "<style scoped>\n",
       "    .dataframe tbody tr th:only-of-type {\n",
       "        vertical-align: middle;\n",
       "    }\n",
       "\n",
       "    .dataframe tbody tr th {\n",
       "        vertical-align: top;\n",
       "    }\n",
       "\n",
       "    .dataframe thead th {\n",
       "        text-align: right;\n",
       "    }\n",
       "</style>\n",
       "<table border=\"1\" class=\"dataframe\">\n",
       "  <thead>\n",
       "    <tr style=\"text-align: right;\">\n",
       "      <th>Weather_Conditions</th>\n",
       "      <th>Fine + high winds</th>\n",
       "      <th>Fine no high winds</th>\n",
       "      <th>Fog or mist</th>\n",
       "      <th>Other</th>\n",
       "      <th>Raining + high winds</th>\n",
       "      <th>Raining no high winds</th>\n",
       "      <th>Snowing + high winds</th>\n",
       "      <th>Snowing no high winds</th>\n",
       "    </tr>\n",
       "    <tr>\n",
       "      <th>Year</th>\n",
       "      <th></th>\n",
       "      <th></th>\n",
       "      <th></th>\n",
       "      <th></th>\n",
       "      <th></th>\n",
       "      <th></th>\n",
       "      <th></th>\n",
       "      <th></th>\n",
       "    </tr>\n",
       "  </thead>\n",
       "  <tbody>\n",
       "    <tr>\n",
       "      <th>2019.0</th>\n",
       "      <td>1172</td>\n",
       "      <td>58345</td>\n",
       "      <td>245</td>\n",
       "      <td>1373</td>\n",
       "      <td>1395</td>\n",
       "      <td>7326</td>\n",
       "      <td>27</td>\n",
       "      <td>349</td>\n",
       "    </tr>\n",
       "    <tr>\n",
       "      <th>2020.0</th>\n",
       "      <td>1237</td>\n",
       "      <td>52827</td>\n",
       "      <td>327</td>\n",
       "      <td>2052</td>\n",
       "      <td>1411</td>\n",
       "      <td>10126</td>\n",
       "      <td>102</td>\n",
       "      <td>460</td>\n",
       "    </tr>\n",
       "    <tr>\n",
       "      <th>2021.0</th>\n",
       "      <td>722</td>\n",
       "      <td>51163</td>\n",
       "      <td>398</td>\n",
       "      <td>2060</td>\n",
       "      <td>818</td>\n",
       "      <td>8528</td>\n",
       "      <td>134</td>\n",
       "      <td>1005</td>\n",
       "    </tr>\n",
       "    <tr>\n",
       "      <th>2022.0</th>\n",
       "      <td>519</td>\n",
       "      <td>45558</td>\n",
       "      <td>282</td>\n",
       "      <td>1918</td>\n",
       "      <td>651</td>\n",
       "      <td>5380</td>\n",
       "      <td>157</td>\n",
       "      <td>1274</td>\n",
       "    </tr>\n",
       "  </tbody>\n",
       "</table>\n",
       "</div>"
      ],
      "text/plain": [
       "Weather_Conditions  Fine + high winds  Fine no high winds  Fog or mist  Other  \\\n",
       "Year                                                                            \n",
       "2019.0                           1172               58345          245   1373   \n",
       "2020.0                           1237               52827          327   2052   \n",
       "2021.0                            722               51163          398   2060   \n",
       "2022.0                            519               45558          282   1918   \n",
       "\n",
       "Weather_Conditions  Raining + high winds  Raining no high winds  \\\n",
       "Year                                                              \n",
       "2019.0                              1395                   7326   \n",
       "2020.0                              1411                  10126   \n",
       "2021.0                               818                   8528   \n",
       "2022.0                               651                   5380   \n",
       "\n",
       "Weather_Conditions  Snowing + high winds  Snowing no high winds  \n",
       "Year                                                             \n",
       "2019.0                                27                    349  \n",
       "2020.0                               102                    460  \n",
       "2021.0                               134                   1005  \n",
       "2022.0                               157                   1274  "
      ]
     },
     "execution_count": 37,
     "metadata": {},
     "output_type": "execute_result"
    }
   ],
   "source": [
    "pd.crosstab(df['Year'], df['Weather_Conditions'])"
   ]
  },
  {
   "cell_type": "markdown",
   "id": "86abd723-0c10-49ce-84fb-346f440d7ddc",
   "metadata": {},
   "source": [
    "<p>This shows all the numbers of accidents that happened in every different seasons, This data shows all the accidents that happened around 2019 - 2022</p>"
   ]
  },
  {
   "cell_type": "markdown",
   "id": "da72f715-3b62-4a8d-a6e0-2a294b7e2fba",
   "metadata": {},
   "source": [
    "<h1>23. In what month does the highest accidents cassualties occured?</h1>"
   ]
  },
  {
   "cell_type": "code",
   "execution_count": 38,
   "id": "82593bbd-aa64-432b-a489-23c230556dc1",
   "metadata": {},
   "outputs": [
    {
     "data": {
      "text/html": [
       "<div>\n",
       "<style scoped>\n",
       "    .dataframe tbody tr th:only-of-type {\n",
       "        vertical-align: middle;\n",
       "    }\n",
       "\n",
       "    .dataframe tbody tr th {\n",
       "        vertical-align: top;\n",
       "    }\n",
       "\n",
       "    .dataframe thead th {\n",
       "        text-align: right;\n",
       "    }\n",
       "</style>\n",
       "<table border=\"1\" class=\"dataframe\">\n",
       "  <thead>\n",
       "    <tr style=\"text-align: right;\">\n",
       "      <th>Number_of_Casualties</th>\n",
       "      <th>1</th>\n",
       "      <th>2</th>\n",
       "      <th>3</th>\n",
       "      <th>4</th>\n",
       "      <th>5</th>\n",
       "      <th>6</th>\n",
       "      <th>7</th>\n",
       "      <th>8</th>\n",
       "      <th>9</th>\n",
       "      <th>10</th>\n",
       "      <th>...</th>\n",
       "      <th>19</th>\n",
       "      <th>21</th>\n",
       "      <th>22</th>\n",
       "      <th>24</th>\n",
       "      <th>25</th>\n",
       "      <th>26</th>\n",
       "      <th>27</th>\n",
       "      <th>29</th>\n",
       "      <th>42</th>\n",
       "      <th>68</th>\n",
       "    </tr>\n",
       "    <tr>\n",
       "      <th>Month</th>\n",
       "      <th></th>\n",
       "      <th></th>\n",
       "      <th></th>\n",
       "      <th></th>\n",
       "      <th></th>\n",
       "      <th></th>\n",
       "      <th></th>\n",
       "      <th></th>\n",
       "      <th></th>\n",
       "      <th></th>\n",
       "      <th></th>\n",
       "      <th></th>\n",
       "      <th></th>\n",
       "      <th></th>\n",
       "      <th></th>\n",
       "      <th></th>\n",
       "      <th></th>\n",
       "      <th></th>\n",
       "      <th></th>\n",
       "      <th></th>\n",
       "      <th></th>\n",
       "    </tr>\n",
       "  </thead>\n",
       "  <tbody>\n",
       "    <tr>\n",
       "      <th>1.0</th>\n",
       "      <td>13837</td>\n",
       "      <td>3079</td>\n",
       "      <td>888</td>\n",
       "      <td>289</td>\n",
       "      <td>91</td>\n",
       "      <td>44</td>\n",
       "      <td>10</td>\n",
       "      <td>6</td>\n",
       "      <td>4</td>\n",
       "      <td>0</td>\n",
       "      <td>...</td>\n",
       "      <td>0</td>\n",
       "      <td>0</td>\n",
       "      <td>0</td>\n",
       "      <td>0</td>\n",
       "      <td>0</td>\n",
       "      <td>1</td>\n",
       "      <td>0</td>\n",
       "      <td>0</td>\n",
       "      <td>0</td>\n",
       "      <td>1</td>\n",
       "    </tr>\n",
       "    <tr>\n",
       "      <th>2.0</th>\n",
       "      <td>17133</td>\n",
       "      <td>3620</td>\n",
       "      <td>1000</td>\n",
       "      <td>340</td>\n",
       "      <td>111</td>\n",
       "      <td>37</td>\n",
       "      <td>10</td>\n",
       "      <td>3</td>\n",
       "      <td>4</td>\n",
       "      <td>2</td>\n",
       "      <td>...</td>\n",
       "      <td>0</td>\n",
       "      <td>0</td>\n",
       "      <td>0</td>\n",
       "      <td>0</td>\n",
       "      <td>0</td>\n",
       "      <td>0</td>\n",
       "      <td>0</td>\n",
       "      <td>0</td>\n",
       "      <td>0</td>\n",
       "      <td>0</td>\n",
       "    </tr>\n",
       "    <tr>\n",
       "      <th>3.0</th>\n",
       "      <td>16789</td>\n",
       "      <td>3561</td>\n",
       "      <td>978</td>\n",
       "      <td>323</td>\n",
       "      <td>98</td>\n",
       "      <td>45</td>\n",
       "      <td>10</td>\n",
       "      <td>11</td>\n",
       "      <td>3</td>\n",
       "      <td>3</td>\n",
       "      <td>...</td>\n",
       "      <td>1</td>\n",
       "      <td>1</td>\n",
       "      <td>0</td>\n",
       "      <td>0</td>\n",
       "      <td>0</td>\n",
       "      <td>0</td>\n",
       "      <td>0</td>\n",
       "      <td>0</td>\n",
       "      <td>0</td>\n",
       "      <td>0</td>\n",
       "    </tr>\n",
       "    <tr>\n",
       "      <th>4.0</th>\n",
       "      <td>14845</td>\n",
       "      <td>3364</td>\n",
       "      <td>964</td>\n",
       "      <td>370</td>\n",
       "      <td>142</td>\n",
       "      <td>63</td>\n",
       "      <td>23</td>\n",
       "      <td>4</td>\n",
       "      <td>4</td>\n",
       "      <td>1</td>\n",
       "      <td>...</td>\n",
       "      <td>0</td>\n",
       "      <td>0</td>\n",
       "      <td>0</td>\n",
       "      <td>0</td>\n",
       "      <td>0</td>\n",
       "      <td>0</td>\n",
       "      <td>1</td>\n",
       "      <td>0</td>\n",
       "      <td>0</td>\n",
       "      <td>0</td>\n",
       "    </tr>\n",
       "    <tr>\n",
       "      <th>5.0</th>\n",
       "      <td>16648</td>\n",
       "      <td>3458</td>\n",
       "      <td>1035</td>\n",
       "      <td>333</td>\n",
       "      <td>147</td>\n",
       "      <td>56</td>\n",
       "      <td>26</td>\n",
       "      <td>13</td>\n",
       "      <td>1</td>\n",
       "      <td>1</td>\n",
       "      <td>...</td>\n",
       "      <td>0</td>\n",
       "      <td>0</td>\n",
       "      <td>0</td>\n",
       "      <td>0</td>\n",
       "      <td>0</td>\n",
       "      <td>0</td>\n",
       "      <td>0</td>\n",
       "      <td>0</td>\n",
       "      <td>0</td>\n",
       "      <td>0</td>\n",
       "    </tr>\n",
       "    <tr>\n",
       "      <th>6.0</th>\n",
       "      <td>17137</td>\n",
       "      <td>3496</td>\n",
       "      <td>1016</td>\n",
       "      <td>343</td>\n",
       "      <td>125</td>\n",
       "      <td>39</td>\n",
       "      <td>19</td>\n",
       "      <td>5</td>\n",
       "      <td>5</td>\n",
       "      <td>4</td>\n",
       "      <td>...</td>\n",
       "      <td>0</td>\n",
       "      <td>0</td>\n",
       "      <td>1</td>\n",
       "      <td>0</td>\n",
       "      <td>0</td>\n",
       "      <td>0</td>\n",
       "      <td>0</td>\n",
       "      <td>0</td>\n",
       "      <td>0</td>\n",
       "      <td>0</td>\n",
       "    </tr>\n",
       "    <tr>\n",
       "      <th>7.0</th>\n",
       "      <td>17640</td>\n",
       "      <td>3654</td>\n",
       "      <td>1032</td>\n",
       "      <td>365</td>\n",
       "      <td>141</td>\n",
       "      <td>59</td>\n",
       "      <td>27</td>\n",
       "      <td>6</td>\n",
       "      <td>6</td>\n",
       "      <td>1</td>\n",
       "      <td>...</td>\n",
       "      <td>0</td>\n",
       "      <td>0</td>\n",
       "      <td>1</td>\n",
       "      <td>1</td>\n",
       "      <td>0</td>\n",
       "      <td>0</td>\n",
       "      <td>0</td>\n",
       "      <td>1</td>\n",
       "      <td>0</td>\n",
       "      <td>0</td>\n",
       "    </tr>\n",
       "    <tr>\n",
       "      <th>8.0</th>\n",
       "      <td>15842</td>\n",
       "      <td>3528</td>\n",
       "      <td>1048</td>\n",
       "      <td>420</td>\n",
       "      <td>171</td>\n",
       "      <td>51</td>\n",
       "      <td>24</td>\n",
       "      <td>10</td>\n",
       "      <td>9</td>\n",
       "      <td>0</td>\n",
       "      <td>...</td>\n",
       "      <td>0</td>\n",
       "      <td>0</td>\n",
       "      <td>0</td>\n",
       "      <td>0</td>\n",
       "      <td>1</td>\n",
       "      <td>0</td>\n",
       "      <td>0</td>\n",
       "      <td>1</td>\n",
       "      <td>0</td>\n",
       "      <td>0</td>\n",
       "    </tr>\n",
       "    <tr>\n",
       "      <th>9.0</th>\n",
       "      <td>17159</td>\n",
       "      <td>3724</td>\n",
       "      <td>1081</td>\n",
       "      <td>373</td>\n",
       "      <td>137</td>\n",
       "      <td>61</td>\n",
       "      <td>12</td>\n",
       "      <td>6</td>\n",
       "      <td>1</td>\n",
       "      <td>0</td>\n",
       "      <td>...</td>\n",
       "      <td>1</td>\n",
       "      <td>0</td>\n",
       "      <td>0</td>\n",
       "      <td>0</td>\n",
       "      <td>0</td>\n",
       "      <td>0</td>\n",
       "      <td>0</td>\n",
       "      <td>0</td>\n",
       "      <td>0</td>\n",
       "      <td>0</td>\n",
       "    </tr>\n",
       "    <tr>\n",
       "      <th>10.0</th>\n",
       "      <td>18505</td>\n",
       "      <td>3816</td>\n",
       "      <td>1062</td>\n",
       "      <td>356</td>\n",
       "      <td>139</td>\n",
       "      <td>45</td>\n",
       "      <td>19</td>\n",
       "      <td>7</td>\n",
       "      <td>1</td>\n",
       "      <td>4</td>\n",
       "      <td>...</td>\n",
       "      <td>1</td>\n",
       "      <td>0</td>\n",
       "      <td>0</td>\n",
       "      <td>0</td>\n",
       "      <td>0</td>\n",
       "      <td>0</td>\n",
       "      <td>0</td>\n",
       "      <td>0</td>\n",
       "      <td>1</td>\n",
       "      <td>0</td>\n",
       "    </tr>\n",
       "    <tr>\n",
       "      <th>11.0</th>\n",
       "      <td>18581</td>\n",
       "      <td>3920</td>\n",
       "      <td>1131</td>\n",
       "      <td>381</td>\n",
       "      <td>132</td>\n",
       "      <td>51</td>\n",
       "      <td>23</td>\n",
       "      <td>7</td>\n",
       "      <td>6</td>\n",
       "      <td>2</td>\n",
       "      <td>...</td>\n",
       "      <td>0</td>\n",
       "      <td>1</td>\n",
       "      <td>0</td>\n",
       "      <td>0</td>\n",
       "      <td>0</td>\n",
       "      <td>0</td>\n",
       "      <td>0</td>\n",
       "      <td>0</td>\n",
       "      <td>0</td>\n",
       "      <td>0</td>\n",
       "    </tr>\n",
       "    <tr>\n",
       "      <th>12.0</th>\n",
       "      <td>18491</td>\n",
       "      <td>3973</td>\n",
       "      <td>1121</td>\n",
       "      <td>386</td>\n",
       "      <td>116</td>\n",
       "      <td>47</td>\n",
       "      <td>10</td>\n",
       "      <td>3</td>\n",
       "      <td>2</td>\n",
       "      <td>2</td>\n",
       "      <td>...</td>\n",
       "      <td>0</td>\n",
       "      <td>0</td>\n",
       "      <td>0</td>\n",
       "      <td>0</td>\n",
       "      <td>0</td>\n",
       "      <td>0</td>\n",
       "      <td>0</td>\n",
       "      <td>0</td>\n",
       "      <td>0</td>\n",
       "      <td>0</td>\n",
       "    </tr>\n",
       "  </tbody>\n",
       "</table>\n",
       "<p>12 rows × 28 columns</p>\n",
       "</div>"
      ],
      "text/plain": [
       "Number_of_Casualties     1     2     3    4    5   6   7   8   9   10  ...  \\\n",
       "Month                                                                  ...   \n",
       "1.0                   13837  3079   888  289   91  44  10   6   4   0  ...   \n",
       "2.0                   17133  3620  1000  340  111  37  10   3   4   2  ...   \n",
       "3.0                   16789  3561   978  323   98  45  10  11   3   3  ...   \n",
       "4.0                   14845  3364   964  370  142  63  23   4   4   1  ...   \n",
       "5.0                   16648  3458  1035  333  147  56  26  13   1   1  ...   \n",
       "6.0                   17137  3496  1016  343  125  39  19   5   5   4  ...   \n",
       "7.0                   17640  3654  1032  365  141  59  27   6   6   1  ...   \n",
       "8.0                   15842  3528  1048  420  171  51  24  10   9   0  ...   \n",
       "9.0                   17159  3724  1081  373  137  61  12   6   1   0  ...   \n",
       "10.0                  18505  3816  1062  356  139  45  19   7   1   4  ...   \n",
       "11.0                  18581  3920  1131  381  132  51  23   7   6   2  ...   \n",
       "12.0                  18491  3973  1121  386  116  47  10   3   2   2  ...   \n",
       "\n",
       "Number_of_Casualties  19  21  22  24  25  26  27  29  42  68  \n",
       "Month                                                         \n",
       "1.0                    0   0   0   0   0   1   0   0   0   1  \n",
       "2.0                    0   0   0   0   0   0   0   0   0   0  \n",
       "3.0                    1   1   0   0   0   0   0   0   0   0  \n",
       "4.0                    0   0   0   0   0   0   1   0   0   0  \n",
       "5.0                    0   0   0   0   0   0   0   0   0   0  \n",
       "6.0                    0   0   1   0   0   0   0   0   0   0  \n",
       "7.0                    0   0   1   1   0   0   0   1   0   0  \n",
       "8.0                    0   0   0   0   1   0   0   1   0   0  \n",
       "9.0                    1   0   0   0   0   0   0   0   0   0  \n",
       "10.0                   1   0   0   0   0   0   0   0   1   0  \n",
       "11.0                   0   1   0   0   0   0   0   0   0   0  \n",
       "12.0                   0   0   0   0   0   0   0   0   0   0  \n",
       "\n",
       "[12 rows x 28 columns]"
      ]
     },
     "execution_count": 38,
     "metadata": {},
     "output_type": "execute_result"
    }
   ],
   "source": [
    "pd.crosstab(df['Month'], df['Number_of_Casualties'])"
   ]
  },
  {
   "cell_type": "markdown",
   "id": "b7a5458d-fc63-482e-b29a-df6f4c5b4c37",
   "metadata": {},
   "source": [
    "<p>The table above shows that month of november has the highest number of cassualties</p>"
   ]
  },
  {
   "cell_type": "markdown",
   "id": "a1065d15-f724-41d4-8885-67a52e2be21b",
   "metadata": {},
   "source": [
    "<h1>24 On what week does the highest data of accidents happened?</h1>"
   ]
  },
  {
   "cell_type": "code",
   "execution_count": 39,
   "id": "f198c1ef-eb25-4cb4-9f27-b8bc72e2705d",
   "metadata": {},
   "outputs": [
    {
     "data": {
      "text/html": [
       "<div>\n",
       "<style scoped>\n",
       "    .dataframe tbody tr th:only-of-type {\n",
       "        vertical-align: middle;\n",
       "    }\n",
       "\n",
       "    .dataframe tbody tr th {\n",
       "        vertical-align: top;\n",
       "    }\n",
       "\n",
       "    .dataframe thead th {\n",
       "        text-align: right;\n",
       "    }\n",
       "</style>\n",
       "<table border=\"1\" class=\"dataframe\">\n",
       "  <thead>\n",
       "    <tr style=\"text-align: right;\">\n",
       "      <th>Number_of_Casualties</th>\n",
       "      <th>1</th>\n",
       "      <th>2</th>\n",
       "      <th>3</th>\n",
       "      <th>4</th>\n",
       "      <th>5</th>\n",
       "      <th>6</th>\n",
       "      <th>7</th>\n",
       "      <th>8</th>\n",
       "      <th>9</th>\n",
       "      <th>10</th>\n",
       "      <th>...</th>\n",
       "      <th>19</th>\n",
       "      <th>21</th>\n",
       "      <th>22</th>\n",
       "      <th>24</th>\n",
       "      <th>25</th>\n",
       "      <th>26</th>\n",
       "      <th>27</th>\n",
       "      <th>29</th>\n",
       "      <th>42</th>\n",
       "      <th>68</th>\n",
       "    </tr>\n",
       "    <tr>\n",
       "      <th>DayOfWeek</th>\n",
       "      <th></th>\n",
       "      <th></th>\n",
       "      <th></th>\n",
       "      <th></th>\n",
       "      <th></th>\n",
       "      <th></th>\n",
       "      <th></th>\n",
       "      <th></th>\n",
       "      <th></th>\n",
       "      <th></th>\n",
       "      <th></th>\n",
       "      <th></th>\n",
       "      <th></th>\n",
       "      <th></th>\n",
       "      <th></th>\n",
       "      <th></th>\n",
       "      <th></th>\n",
       "      <th></th>\n",
       "      <th></th>\n",
       "      <th></th>\n",
       "      <th></th>\n",
       "    </tr>\n",
       "  </thead>\n",
       "  <tbody>\n",
       "    <tr>\n",
       "      <th>0.0</th>\n",
       "      <td>20380</td>\n",
       "      <td>5255</td>\n",
       "      <td>1762</td>\n",
       "      <td>690</td>\n",
       "      <td>279</td>\n",
       "      <td>120</td>\n",
       "      <td>40</td>\n",
       "      <td>21</td>\n",
       "      <td>9</td>\n",
       "      <td>2</td>\n",
       "      <td>...</td>\n",
       "      <td>0</td>\n",
       "      <td>0</td>\n",
       "      <td>0</td>\n",
       "      <td>0</td>\n",
       "      <td>0</td>\n",
       "      <td>0</td>\n",
       "      <td>0</td>\n",
       "      <td>0</td>\n",
       "      <td>0</td>\n",
       "      <td>0</td>\n",
       "    </tr>\n",
       "    <tr>\n",
       "      <th>1.0</th>\n",
       "      <td>30018</td>\n",
       "      <td>6166</td>\n",
       "      <td>1694</td>\n",
       "      <td>522</td>\n",
       "      <td>187</td>\n",
       "      <td>74</td>\n",
       "      <td>28</td>\n",
       "      <td>9</td>\n",
       "      <td>6</td>\n",
       "      <td>1</td>\n",
       "      <td>...</td>\n",
       "      <td>0</td>\n",
       "      <td>0</td>\n",
       "      <td>0</td>\n",
       "      <td>0</td>\n",
       "      <td>0</td>\n",
       "      <td>0</td>\n",
       "      <td>0</td>\n",
       "      <td>0</td>\n",
       "      <td>0</td>\n",
       "      <td>0</td>\n",
       "    </tr>\n",
       "    <tr>\n",
       "      <th>2.0</th>\n",
       "      <td>31213</td>\n",
       "      <td>6315</td>\n",
       "      <td>1664</td>\n",
       "      <td>562</td>\n",
       "      <td>173</td>\n",
       "      <td>68</td>\n",
       "      <td>25</td>\n",
       "      <td>5</td>\n",
       "      <td>3</td>\n",
       "      <td>2</td>\n",
       "      <td>...</td>\n",
       "      <td>0</td>\n",
       "      <td>1</td>\n",
       "      <td>0</td>\n",
       "      <td>0</td>\n",
       "      <td>0</td>\n",
       "      <td>0</td>\n",
       "      <td>0</td>\n",
       "      <td>0</td>\n",
       "      <td>0</td>\n",
       "      <td>0</td>\n",
       "    </tr>\n",
       "    <tr>\n",
       "      <th>3.0</th>\n",
       "      <td>31141</td>\n",
       "      <td>6045</td>\n",
       "      <td>1625</td>\n",
       "      <td>528</td>\n",
       "      <td>182</td>\n",
       "      <td>60</td>\n",
       "      <td>25</td>\n",
       "      <td>7</td>\n",
       "      <td>9</td>\n",
       "      <td>5</td>\n",
       "      <td>...</td>\n",
       "      <td>1</td>\n",
       "      <td>0</td>\n",
       "      <td>1</td>\n",
       "      <td>0</td>\n",
       "      <td>0</td>\n",
       "      <td>0</td>\n",
       "      <td>0</td>\n",
       "      <td>1</td>\n",
       "      <td>0</td>\n",
       "      <td>1</td>\n",
       "    </tr>\n",
       "    <tr>\n",
       "      <th>4.0</th>\n",
       "      <td>31073</td>\n",
       "      <td>6285</td>\n",
       "      <td>1638</td>\n",
       "      <td>559</td>\n",
       "      <td>167</td>\n",
       "      <td>47</td>\n",
       "      <td>28</td>\n",
       "      <td>6</td>\n",
       "      <td>5</td>\n",
       "      <td>2</td>\n",
       "      <td>...</td>\n",
       "      <td>1</td>\n",
       "      <td>0</td>\n",
       "      <td>1</td>\n",
       "      <td>1</td>\n",
       "      <td>0</td>\n",
       "      <td>1</td>\n",
       "      <td>1</td>\n",
       "      <td>0</td>\n",
       "      <td>1</td>\n",
       "      <td>0</td>\n",
       "    </tr>\n",
       "    <tr>\n",
       "      <th>5.0</th>\n",
       "      <td>33009</td>\n",
       "      <td>7080</td>\n",
       "      <td>2005</td>\n",
       "      <td>646</td>\n",
       "      <td>258</td>\n",
       "      <td>104</td>\n",
       "      <td>24</td>\n",
       "      <td>15</td>\n",
       "      <td>9</td>\n",
       "      <td>2</td>\n",
       "      <td>...</td>\n",
       "      <td>0</td>\n",
       "      <td>1</td>\n",
       "      <td>0</td>\n",
       "      <td>0</td>\n",
       "      <td>1</td>\n",
       "      <td>0</td>\n",
       "      <td>0</td>\n",
       "      <td>1</td>\n",
       "      <td>0</td>\n",
       "      <td>0</td>\n",
       "    </tr>\n",
       "    <tr>\n",
       "      <th>6.0</th>\n",
       "      <td>25773</td>\n",
       "      <td>6047</td>\n",
       "      <td>1968</td>\n",
       "      <td>772</td>\n",
       "      <td>304</td>\n",
       "      <td>125</td>\n",
       "      <td>43</td>\n",
       "      <td>18</td>\n",
       "      <td>5</td>\n",
       "      <td>6</td>\n",
       "      <td>...</td>\n",
       "      <td>1</td>\n",
       "      <td>0</td>\n",
       "      <td>0</td>\n",
       "      <td>0</td>\n",
       "      <td>0</td>\n",
       "      <td>0</td>\n",
       "      <td>0</td>\n",
       "      <td>0</td>\n",
       "      <td>0</td>\n",
       "      <td>0</td>\n",
       "    </tr>\n",
       "  </tbody>\n",
       "</table>\n",
       "<p>7 rows × 28 columns</p>\n",
       "</div>"
      ],
      "text/plain": [
       "Number_of_Casualties     1     2     3    4    5    6   7   8   9   10  ...  \\\n",
       "DayOfWeek                                                               ...   \n",
       "0.0                   20380  5255  1762  690  279  120  40  21   9   2  ...   \n",
       "1.0                   30018  6166  1694  522  187   74  28   9   6   1  ...   \n",
       "2.0                   31213  6315  1664  562  173   68  25   5   3   2  ...   \n",
       "3.0                   31141  6045  1625  528  182   60  25   7   9   5  ...   \n",
       "4.0                   31073  6285  1638  559  167   47  28   6   5   2  ...   \n",
       "5.0                   33009  7080  2005  646  258  104  24  15   9   2  ...   \n",
       "6.0                   25773  6047  1968  772  304  125  43  18   5   6  ...   \n",
       "\n",
       "Number_of_Casualties  19  21  22  24  25  26  27  29  42  68  \n",
       "DayOfWeek                                                     \n",
       "0.0                    0   0   0   0   0   0   0   0   0   0  \n",
       "1.0                    0   0   0   0   0   0   0   0   0   0  \n",
       "2.0                    0   1   0   0   0   0   0   0   0   0  \n",
       "3.0                    1   0   1   0   0   0   0   1   0   1  \n",
       "4.0                    1   0   1   1   0   1   1   0   1   0  \n",
       "5.0                    0   1   0   0   1   0   0   1   0   0  \n",
       "6.0                    1   0   0   0   0   0   0   0   0   0  \n",
       "\n",
       "[7 rows x 28 columns]"
      ]
     },
     "execution_count": 39,
     "metadata": {},
     "output_type": "execute_result"
    }
   ],
   "source": [
    "pd.crosstab(df['DayOfWeek'], df['Number_of_Casualties'])"
   ]
  },
  {
   "cell_type": "code",
   "execution_count": 40,
   "id": "78bf6d78-7760-410c-a3cf-90cd61092a09",
   "metadata": {},
   "outputs": [
    {
     "data": {
      "text/plain": [
       "<Axes: xlabel='Year'>"
      ]
     },
     "execution_count": 40,
     "metadata": {},
     "output_type": "execute_result"
    },
    {
     "data": {
      "image/png": "[encoded data removed]",
      "text/plain": [
       "<Figure size 640x480 with 1 Axes>"
      ]
     },
     "metadata": {},
     "output_type": "display_data"
    }
   ],
   "source": [
    "# Example: Bar chart of accident counts per year\n",
    "import matplotlib.pyplot as plt\n",
    "df.groupby('Year')['Index'].count().plot(kind='bar')"
   ]
  },
  {
   "cell_type": "code",
   "execution_count": 41,
   "id": "1accb575-f641-4349-9e08-9edc3684b94d",
   "metadata": {},
   "outputs": [
    {
     "data": {
      "image/png": "[encoded data removed]",
      "text/plain": [
       "<Figure size 640x480 with 1 Axes>"
      ]
     },
     "metadata": {},
     "output_type": "display_data"
    }
   ],
   "source": [
    "df['Vehicle_Type'].value_counts().plot(kind='bar')\n",
    "plt.show()"
   ]
  },
  {
   "cell_type": "code",
   "execution_count": 42,
   "id": "bb435877-1784-4d9c-9375-00a1de3ad879",
   "metadata": {},
   "outputs": [
    {
     "data": {
      "image/png": "[encoded data removed]",
      "text/plain": [
       "<Figure size 1000x500 with 1 Axes>"
      ]
     },
     "metadata": {},
     "output_type": "display_data"
    }
   ],
   "source": [
    "import matplotlib.pyplot as plt\n",
    "\n",
    "# 1. Group by Year FIRST, then Month (critical order!)\n",
    "monthly_data = df.groupby(['Year', 'Month']).size()\n",
    "\n",
    "# 2. Unstack Year to create separate lines for each year\n",
    "monthly_data = monthly_data.unstack(level=0)\n",
    "\n",
    "# 3. Plot with clean formatting (only 4 lines!)\n",
    "monthly_data.plot(\n",
    "    marker='o', \n",
    "    figsize=(10, 5),\n",
    "    title='Monthly Road Accidents by Year (2019-2022)'\n",
    ")\n",
    "plt.xticks(range(1, 13), ['Jan','Feb','Mar','Apr','May','Jun','Jul','Aug','Sep','Oct','Nov','Dec'])\n",
    "plt.legend(title='Year and Month Severity Comparison', bbox_to_anchor = (1.05,1), loc='upper left')\n",
    "plt.grid(alpha=0.3)\n",
    "plt.show()"
   ]
  },
  {
   "cell_type": "code",
   "execution_count": 43,
   "id": "75ad8b65-ed66-4d82-972d-ac3320240b79",
   "metadata": {},
   "outputs": [
    {
     "data": {
      "image/png": "[encoded data removed]",
      "text/plain": [
       "<Figure size 640x480 with 1 Axes>"
      ]
     },
     "metadata": {},
     "output_type": "display_data"
    },
    {
     "data": {
      "image/png": "[encoded data removed]",
      "text/plain": [
       "<Figure size 640x480 with 1 Axes>"
      ]
     },
     "metadata": {},
     "output_type": "display_data"
    },
    {
     "name": "stdout",
     "output_type": "stream",
     "text": [
      "DayOfWeek\n",
      "Monday       28564\n",
      "Tuesday      38714\n",
      "Wednesday    40037\n",
      "Thursday     39641\n",
      "Friday       39822\n",
      "Saturday     43164\n",
      "Sunday       35065\n",
      "Name: count, dtype: int64\n"
     ]
    },
    {
     "data": {
      "image/png": "[encoded data removed]",
      "text/plain": [
       "<Figure size 640x480 with 1 Axes>"
      ]
     },
     "metadata": {},
     "output_type": "display_data"
    }
   ],
   "source": [
    "# Accidents per year\n",
    "accidents_per_year = df['Year'].value_counts().sort_index()\n",
    "accidents_per_month = df['Month'].value_counts().sort_index()\n",
    "accidents_per_day = df['DayOfWeek'].value_counts().sort_index()\n",
    "\n",
    "\n",
    "#PER YEAR \n",
    "accidents_per_year.plot(kind='bar')\n",
    "plt.title('Accidents per Year')\n",
    "plt.xlabel('Year')\n",
    "plt.ylabel('Number of Accidents')\n",
    "plt.show()\n",
    "\n",
    "month_names = {\n",
    "    1: 'January', 2: 'February', 3: 'March', 4: 'April',\n",
    "    5: 'May', 6: 'June', 7: 'July', 8: 'August',\n",
    "    9: 'September', 10: 'October', 11: 'November', 12: 'December'\n",
    "}\n",
    "\n",
    "# Replace numerical months with their names\n",
    "accidents_per_month.index = accidents_per_month.index.map(month_names)\n",
    "\n",
    "\n",
    "accidents_per_month.plot(kind='bar')\n",
    "plt.title('Accidents per Month')\n",
    "plt.xlabel('Month')\n",
    "plt.ylabel('Number of Accidents')\n",
    "plt.show()\n",
    "\n",
    "\n",
    "#accident per day\n",
    "day_names = {\n",
    "    0: 'Monday',\n",
    "    1: 'Tuesday',\n",
    "    2: 'Wednesday',\n",
    "    3: 'Thursday',\n",
    "    4: 'Friday',\n",
    "    5: 'Saturday',\n",
    "    6: 'Sunday'\n",
    "}\n",
    "\n",
    "accidents_per_day.index = accidents_per_day.index.map(day_names)\n",
    "accidents_per_day.plot(kind='bar')\n",
    "print(accidents_per_day)"
   ]
  },
  {
   "cell_type": "code",
   "execution_count": 44,
   "id": "543bbe05-9fc5-47c8-b3b4-0eebc73bcb5c",
   "metadata": {},
   "outputs": [
    {
     "data": {
      "text/plain": [
       "Month\n",
       "1.0     18252\n",
       "2.0     22264\n",
       "3.0     21824\n",
       "4.0     19787\n",
       "5.0     21723\n",
       "6.0     22196\n",
       "7.0     22939\n",
       "8.0     21106\n",
       "9.0     22558\n",
       "10.0    23962\n",
       "11.0    24240\n",
       "12.0    24156\n",
       "Name: count, dtype: int64"
      ]
     },
     "execution_count": 44,
     "metadata": {},
     "output_type": "execute_result"
    }
   ],
   "source": [
    "accidents_per_month = df['Month'].value_counts().sort_index()\n",
    "accidents_per_month"
   ]
  },
  {
   "cell_type": "code",
   "execution_count": 45,
   "id": "eecfb867-3fc3-474d-b23c-63f0b218cca3",
   "metadata": {},
   "outputs": [
    {
     "data": {
      "image/png": "[encoded data removed]",
      "text/plain": [
       "<Figure size 1000x700 with 1 Axes>"
      ]
     },
     "metadata": {},
     "output_type": "display_data"
    },
    {
     "data": {
      "image/png": "[encoded data removed]",
      "text/plain": [
       "<Figure size 1000x700 with 1 Axes>"
      ]
     },
     "metadata": {},
     "output_type": "display_data"
    }
   ],
   "source": [
    "severity_counts = df['Accident_Severity'].value_counts()\n",
    "\n",
    "plt.pie(severity_counts,\n",
    "        labels = severity_counts.index,\n",
    "        autopct = '%1.1f%%',\n",
    "        startangle = 90)\n",
    "plt.gcf().set_size_inches(10,7)\n",
    "plt.title('Accident Severity Distribution')\n",
    "plt.show()\n",
    "\n",
    "severity_2019 = df[df['Year'] == 2019]\n",
    "# severity_2019\n",
    "sc_2019 = severity_2019['Accident_Severity'].value_counts()\n",
    "\n",
    "plt.pie(sc_2019,\n",
    "        labels = sc_2019.index,\n",
    "        autopct = '%1.1f%%',\n",
    "        startangle = 90)\n",
    "plt.gcf().set_size_inches(10,7)\n",
    "plt.title('Accident Severity Distribution')\n",
    "plt.show()\n"
   ]
  },
  {
   "cell_type": "code",
   "execution_count": 46,
   "id": "f0f127a3-ec32-4cee-b565-36a8495f946d",
   "metadata": {},
   "outputs": [
    {
     "data": {
      "image/png": "[encoded data removed]",
      "text/plain": [
       "<Figure size 1300x800 with 1 Axes>"
      ]
     },
     "metadata": {},
     "output_type": "display_data"
    },
    {
     "data": {
      "image/png": "[encoded data removed]",
      "text/plain": [
       "<Figure size 1300x800 with 1 Axes>"
      ]
     },
     "metadata": {},
     "output_type": "display_data"
    }
   ],
   "source": [
    "# Accidents per month considering severity\n",
    "accidents_per_month_severity = df.groupby(['Month', 'Accident_Severity']).size().unstack()\n",
    "\n",
    "accidents_per_month_severity.plot(kind='bar', stacked = True)\n",
    "plt.title('Accidents per Month by Severity')\n",
    "plt.xlabel('Month')\n",
    "plt.ylabel('Number of Accidents')\n",
    "plt.gcf().set_size_inches(13,8)\n",
    "plt.show()\n",
    "\n",
    "\n",
    "# # Pivot table for accidents by month and weather conditions\n",
    "accidents_by_month_weather = df.pivot_table(index='Month', columns='Weather_Conditions', values='Index', aggfunc='count')\n",
    "\n",
    "accidents_by_month_weather.plot(kind='bar', stacked=True)\n",
    "plt.title('Accidents per Month by Weather Conditions')\n",
    "plt.xlabel('Month')\n",
    "plt.legend(title='Weather Conditions', bbox_to_anchor=(1.05, 1), loc='upper left')\n",
    "plt.ylabel('Number of Accidents')\n",
    "plt.gcf().set_size_inches(13,8)\n",
    "plt.show()\n"
   ]
  },
  {
   "cell_type": "code",
   "execution_count": 47,
   "id": "2a56ffb2-f86c-46e3-9c24-5b5b53130f9e",
   "metadata": {},
   "outputs": [
    {
     "name": "stdout",
     "output_type": "stream",
     "text": [
      "Defaulting to user installation because normal site-packages is not writeable\n",
      "Requirement already satisfied: folium in c:\\users\\paula lagaya\\appdata\\roaming\\python\\python312\\site-packages (0.20.0)\n",
      "Requirement already satisfied: branca>=0.6.0 in c:\\users\\paula lagaya\\appdata\\roaming\\python\\python312\\site-packages (from folium) (0.8.1)\n",
      "Requirement already satisfied: jinja2>=2.9 in c:\\users\\paula lagaya\\appdata\\roaming\\python\\python312\\site-packages (from folium) (3.1.4)\n",
      "Requirement already satisfied: numpy in c:\\users\\paula lagaya\\appdata\\roaming\\python\\python312\\site-packages (from folium) (2.1.2)\n",
      "Requirement already satisfied: requests in c:\\users\\paula lagaya\\appdata\\roaming\\python\\python312\\site-packages (from folium) (2.32.3)\n",
      "Requirement already satisfied: xyzservices in c:\\users\\paula lagaya\\appdata\\roaming\\python\\python312\\site-packages (from folium) (2025.4.0)\n",
      "Requirement already satisfied: MarkupSafe>=2.0 in c:\\users\\paula lagaya\\appdata\\roaming\\python\\python312\\site-packages (from jinja2>=2.9->folium) (3.0.2)\n",
      "Requirement already satisfied: charset-normalizer<4,>=2 in c:\\users\\paula lagaya\\appdata\\roaming\\python\\python312\\site-packages (from requests->folium) (3.4.0)\n",
      "Requirement already satisfied: idna<4,>=2.5 in c:\\users\\paula lagaya\\appdata\\roaming\\python\\python312\\site-packages (from requests->folium) (3.10)\n",
      "Requirement already satisfied: urllib3<3,>=1.21.1 in c:\\users\\paula lagaya\\appdata\\roaming\\python\\python312\\site-packages (from requests->folium) (2.2.3)\n",
      "Requirement already satisfied: certifi>=2017.4.17 in c:\\users\\paula lagaya\\appdata\\roaming\\python\\python312\\site-packages (from requests->folium) (2024.8.30)\n",
      "Note: you may need to restart the kernel to use updated packages.\n"
     ]
    },
    {
     "name": "stderr",
     "output_type": "stream",
     "text": [
      "\n",
      "[notice] A new release of pip is available: 24.1.2 -> 25.2\n",
      "[notice] To update, run: python.exe -m pip install --upgrade pip\n"
     ]
    }
   ],
   "source": [
    "pip install folium"
   ]
  },
  {
   "cell_type": "code",
   "execution_count": 49,
   "id": "76536883-1f41-4259-ad0a-74d52ffa7651",
   "metadata": {},
   "outputs": [
    {
     "name": "stdout",
     "output_type": "stream",
     "text": [
      "Defaulting to user installation because normal site-packages is not writeable\n",
      "Requirement already satisfied: pip in c:\\users\\paula lagaya\\appdata\\roaming\\python\\python312\\site-packages (24.1.2)\n",
      "Collecting pip\n",
      "  Downloading pip-25.2-py3-none-any.whl.metadata (4.7 kB)\n",
      "Downloading pip-25.2-py3-none-any.whl (1.8 MB)\n",
      "   ---------------------------------------- 0.0/1.8 MB ? eta -:--:--\n",
      "    --------------------------------------- 0.0/1.8 MB 487.6 kB/s eta 0:00:04\n",
      "   -- ------------------------------------- 0.1/1.8 MB 837.8 kB/s eta 0:00:02\n",
      "   --- ------------------------------------ 0.2/1.8 MB 913.1 kB/s eta 0:00:02\n",
      "   ---- ----------------------------------- 0.2/1.8 MB 958.4 kB/s eta 0:00:02\n",
      "   ----- ---------------------------------- 0.3/1.8 MB 1.1 MB/s eta 0:00:02\n",
      "   ------- -------------------------------- 0.3/1.8 MB 999.9 kB/s eta 0:00:02\n",
      "   --------- ------------------------------ 0.4/1.8 MB 1.2 MB/s eta 0:00:02\n",
      "   ----------- ---------------------------- 0.5/1.8 MB 1.3 MB/s eta 0:00:01\n",
      "   ------------- -------------------------- 0.6/1.8 MB 1.3 MB/s eta 0:00:01\n",
      "   --------------- ------------------------ 0.7/1.8 MB 1.4 MB/s eta 0:00:01\n",
      "   --------------- ------------------------ 0.7/1.8 MB 1.4 MB/s eta 0:00:01\n",
      "   --------------- ------------------------ 0.7/1.8 MB 1.4 MB/s eta 0:00:01\n",
      "   --------------- ------------------------ 0.7/1.8 MB 1.4 MB/s eta 0:00:01\n",
      "   --------------- ------------------------ 0.7/1.8 MB 990.5 kB/s eta 0:00:02\n",
      "   ------------------------- -------------- 1.1/1.8 MB 1.5 MB/s eta 0:00:01\n",
      "   ---------------------------- ----------- 1.3/1.8 MB 1.6 MB/s eta 0:00:01\n",
      "   -------------------------------- ------- 1.4/1.8 MB 1.8 MB/s eta 0:00:01\n",
      "   ------------------------------------ --- 1.6/1.8 MB 1.9 MB/s eta 0:00:01\n",
      "   ---------------------------------------  1.8/1.8 MB 2.0 MB/s eta 0:00:01\n",
      "   ---------------------------------------- 1.8/1.8 MB 1.9 MB/s eta 0:00:00\n",
      "Installing collected packages: pip\n",
      "  Attempting uninstall: pip\n",
      "    Found existing installation: pip 24.1.2\n",
      "    Uninstalling pip-24.1.2:\n",
      "      Successfully uninstalled pip-24.1.2\n",
      "Successfully installed pip-25.2\n",
      "Note: you may need to restart the kernel to use updated packages.\n"
     ]
    },
    {
     "name": "stderr",
     "output_type": "stream",
     "text": [
      "  WARNING: The scripts pip.exe, pip3.12.exe and pip3.exe are installed in 'C:\\Users\\paula lagaya\\AppData\\Roaming\\Python\\Python312\\Scripts' which is not on PATH.\n",
      "  Consider adding this directory to PATH or, if you prefer to suppress this warning, use --no-warn-script-location.\n"
     ]
    }
   ],
   "source": [
    "pip install --upgrade pip\n"
   ]
  },
  {
   "cell_type": "code",
   "execution_count": 48,
   "id": "f8c9b172-4ffd-4bf8-81d1-90c8a6e624c2",
   "metadata": {},
   "outputs": [
    {
     "ename": "ValueError",
     "evalue": "Location values cannot contain NaNs.",
     "output_type": "error",
     "traceback": [
      "\u001b[1;31m---------------------------------------------------------------------------\u001b[0m",
      "\u001b[1;31mValueError\u001b[0m                                Traceback (most recent call last)",
      "Cell \u001b[1;32mIn[48], line 12\u001b[0m\n\u001b[0;32m      9\u001b[0m m \u001b[38;5;241m=\u001b[39m folium\u001b[38;5;241m.\u001b[39mMap(location\u001b[38;5;241m=\u001b[39m[df[\u001b[38;5;124m'\u001b[39m\u001b[38;5;124mLatitude\u001b[39m\u001b[38;5;124m'\u001b[39m]\u001b[38;5;241m.\u001b[39mmean(), df[\u001b[38;5;124m'\u001b[39m\u001b[38;5;124mLongitude\u001b[39m\u001b[38;5;124m'\u001b[39m]\u001b[38;5;241m.\u001b[39mmean()], zoom_start\u001b[38;5;241m=\u001b[39m\u001b[38;5;241m10\u001b[39m)\n\u001b[0;32m     11\u001b[0m \u001b[38;5;66;03m# Step 3: Add the heatmap layer\u001b[39;00m\n\u001b[1;32m---> 12\u001b[0m \u001b[43mHeatMap\u001b[49m\u001b[43m(\u001b[49m\u001b[43mlocations\u001b[49m\u001b[43m)\u001b[49m\u001b[38;5;241m.\u001b[39madd_to(m)\n\u001b[0;32m     14\u001b[0m \u001b[38;5;66;03m# Step 4: Save or display the map\u001b[39;00m\n\u001b[0;32m     15\u001b[0m m\u001b[38;5;241m.\u001b[39msave(\u001b[38;5;124m'\u001b[39m\u001b[38;5;124maccident_heatmap.html\u001b[39m\u001b[38;5;124m'\u001b[39m)  \u001b[38;5;66;03m# Save the map as an HTML file\u001b[39;00m\n",
      "File \u001b[1;32m~\\AppData\\Roaming\\Python\\Python312\\site-packages\\folium\\plugins\\heat_map.py:84\u001b[0m, in \u001b[0;36mHeatMap.__init__\u001b[1;34m(self, data, name, min_opacity, max_zoom, radius, blur, gradient, overlay, control, show, **kwargs)\u001b[0m\n\u001b[0;32m     81\u001b[0m \u001b[38;5;28mself\u001b[39m\u001b[38;5;241m.\u001b[39m_name \u001b[38;5;241m=\u001b[39m \u001b[38;5;124m\"\u001b[39m\u001b[38;5;124mHeatMap\u001b[39m\u001b[38;5;124m\"\u001b[39m\n\u001b[0;32m     82\u001b[0m data \u001b[38;5;241m=\u001b[39m if_pandas_df_convert_to_numpy(data)\n\u001b[0;32m     83\u001b[0m \u001b[38;5;28mself\u001b[39m\u001b[38;5;241m.\u001b[39mdata \u001b[38;5;241m=\u001b[39m [\n\u001b[1;32m---> 84\u001b[0m     [\u001b[38;5;241m*\u001b[39m\u001b[43mvalidate_location\u001b[49m\u001b[43m(\u001b[49m\u001b[43mline\u001b[49m\u001b[43m[\u001b[49m\u001b[43m:\u001b[49m\u001b[38;5;241;43m2\u001b[39;49m\u001b[43m]\u001b[49m\u001b[43m)\u001b[49m, \u001b[38;5;241m*\u001b[39mline[\u001b[38;5;241m2\u001b[39m:]] \u001b[38;5;28;01mfor\u001b[39;00m line \u001b[38;5;129;01min\u001b[39;00m data  \u001b[38;5;66;03m# noqa: E999\u001b[39;00m\n\u001b[0;32m     85\u001b[0m ]\n\u001b[0;32m     86\u001b[0m \u001b[38;5;28;01mif\u001b[39;00m np\u001b[38;5;241m.\u001b[39many(np\u001b[38;5;241m.\u001b[39misnan(\u001b[38;5;28mself\u001b[39m\u001b[38;5;241m.\u001b[39mdata)):\n\u001b[0;32m     87\u001b[0m     \u001b[38;5;28;01mraise\u001b[39;00m \u001b[38;5;167;01mValueError\u001b[39;00m(\u001b[38;5;124m\"\u001b[39m\u001b[38;5;124mdata may not contain NaNs.\u001b[39m\u001b[38;5;124m\"\u001b[39m)\n",
      "File \u001b[1;32m~\\AppData\\Roaming\\Python\\Python312\\site-packages\\folium\\utilities.py:110\u001b[0m, in \u001b[0;36mvalidate_location\u001b[1;34m(location)\u001b[0m\n\u001b[0;32m    105\u001b[0m         \u001b[38;5;28;01mraise\u001b[39;00m \u001b[38;5;167;01mValueError\u001b[39;00m(\n\u001b[0;32m    106\u001b[0m             \u001b[38;5;124m\"\u001b[39m\u001b[38;5;124mLocation should consist of two numerical values, \u001b[39m\u001b[38;5;124m\"\u001b[39m\n\u001b[0;32m    107\u001b[0m             \u001b[38;5;124mf\u001b[39m\u001b[38;5;124m\"\u001b[39m\u001b[38;5;124mbut \u001b[39m\u001b[38;5;132;01m{\u001b[39;00mcoord\u001b[38;5;132;01m!r}\u001b[39;00m\u001b[38;5;124m of type \u001b[39m\u001b[38;5;132;01m{\u001b[39;00m\u001b[38;5;28mtype\u001b[39m(coord)\u001b[38;5;132;01m}\u001b[39;00m\u001b[38;5;124m is not convertible to float.\u001b[39m\u001b[38;5;124m\"\u001b[39m\n\u001b[0;32m    108\u001b[0m         )\n\u001b[0;32m    109\u001b[0m     \u001b[38;5;28;01mif\u001b[39;00m math\u001b[38;5;241m.\u001b[39misnan(\u001b[38;5;28mfloat\u001b[39m(coord)):\n\u001b[1;32m--> 110\u001b[0m         \u001b[38;5;28;01mraise\u001b[39;00m \u001b[38;5;167;01mValueError\u001b[39;00m(\u001b[38;5;124m\"\u001b[39m\u001b[38;5;124mLocation values cannot contain NaNs.\u001b[39m\u001b[38;5;124m\"\u001b[39m)\n\u001b[0;32m    111\u001b[0m \u001b[38;5;28;01mreturn\u001b[39;00m [\u001b[38;5;28mfloat\u001b[39m(x) \u001b[38;5;28;01mfor\u001b[39;00m x \u001b[38;5;129;01min\u001b[39;00m coords]\n",
      "\u001b[1;31mValueError\u001b[0m: Location values cannot contain NaNs."
     ]
    }
   ],
   "source": [
    "import folium\n",
    "from folium.plugins import HeatMap\n",
    "\n",
    "# Step 1: Extract latitude and longitude from the DataFrame\n",
    "locations = list(zip(df['Latitude'], df['Longitude']))\n",
    "\n",
    "# Step 2: Create a base map centered on a specific location\n",
    "# You can adjust the center and zoom level based on your data\n",
    "m = folium.Map(location=[df['Latitude'].mean(), df['Longitude'].mean()], zoom_start=10)\n",
    "\n",
    "# Step 3: Add the heatmap layer\n",
    "HeatMap(locations).add_to(m)\n",
    "\n",
    "# Step 4: Save or display the map\n",
    "m.save('accident_heatmap.html')  # Save the map as an HTML file\n",
    "m  # Display the map in a Jupyter Notebook"
   ]
  },
  {
   "cell_type": "code",
   "execution_count": null,
   "id": "d3410f56-4c08-4143-9a1a-b2c20449f4d0",
   "metadata": {},
   "outputs": [],
   "source": [
    "# Step 1: Extract latitude and longitude from the DataFrame\n",
    "#convert data into a tuple and then to a list \n",
    "\n",
    "import folium\n",
    "from folium.plugins import HeatMap\n",
    "locations = list(zip(df['Latitude'],df['Longitude']))\n",
    "\n",
    "# Step 2: Create a base map centered on a specific location\n",
    "# You can adjust the center and zoom level based on your data\n",
    "m = folium.Map(location=[df['Latitude'].mean(), df['Longitude'].mean()], zoom_start=10)\n",
    "\n",
    "# Step 3: Add the heatmap layer\n",
    "HeatMap(locations).add_to(m)\n",
    "\n",
    "# Step 4: Save or display the map\n",
    "m.save('london_heatmap.html')  # Save the map as an HTML file\n",
    "m  # Display the map in a Jupyter Notebook"
   ]
  },
  {
   "cell_type": "code",
   "execution_count": 53,
   "id": "683f82a4-9f4a-4eb6-95fe-ff5a2e7e8a63",
   "metadata": {},
   "outputs": [],
   "source": [
    "bolton_df = df[df['District Area'] == 'Bolton']\n"
   ]
  },
  {
   "cell_type": "code",
   "execution_count": 54,
   "id": "2004e30f-eeb7-4c49-98d0-4d6d934ad5f2",
   "metadata": {},
   "outputs": [
    {
     "data": {
      "text/html": [
       "<div style=\"width:100%;\"><div style=\"position:relative;width:100%;height:0;padding-bottom:60%;\"><span style=\"color:#565656\">Make this Notebook Trusted to load map: File -> Trust Notebook</span><iframe srcdoc=\"&lt;!DOCTYPE html&gt;\n",
       "&lt;html&gt;\n",
       "&lt;head&gt;\n",
       "    \n",
       "    &lt;meta http-equiv=&quot;content-type&quot; content=&quot;text/html; charset=UTF-8&quot; /&gt;\n",
       "    &lt;script src=&quot;https://cdn.jsdelivr.net/npm/leaflet@1.9.3/dist/leaflet.js&quot;&gt;&lt;/script&gt;\n",
       "    &lt;script src=&quot;https://code.jquery.com/jquery-3.7.1.min.js&quot;&gt;&lt;/script&gt;\n",
       "    &lt;script src=&quot;https://cdn.jsdelivr.net/npm/bootstrap@5.2.2/dist/js/bootstrap.bundle.min.js&quot;&gt;&lt;/script&gt;\n",
       "    &lt;script src=&quot;https://cdnjs.cloudflare.com/ajax/libs/Leaflet.awesome-markers/2.0.2/leaflet.awesome-markers.js&quot;&gt;&lt;/script&gt;\n",
       "    &lt;link rel=&quot;stylesheet&quot; href=&quot;https://cdn.jsdelivr.net/npm/leaflet@1.9.3/dist/leaflet.css&quot;/&gt;\n",
       "    &lt;link rel=&quot;stylesheet&quot; href=&quot;https://cdn.jsdelivr.net/npm/bootstrap@5.2.2/dist/css/bootstrap.min.css&quot;/&gt;\n",
       "    &lt;link rel=&quot;stylesheet&quot; href=&quot;https://netdna.bootstrapcdn.com/bootstrap/3.0.0/css/bootstrap-glyphicons.css&quot;/&gt;\n",
       "    &lt;link rel=&quot;stylesheet&quot; href=&quot;https://cdn.jsdelivr.net/npm/@fortawesome/fontawesome-free@6.2.0/css/all.min.css&quot;/&gt;\n",
       "    &lt;link rel=&quot;stylesheet&quot; href=&quot;https://cdnjs.cloudflare.com/ajax/libs/Leaflet.awesome-markers/2.0.2/leaflet.awesome-markers.css&quot;/&gt;\n",
       "    &lt;link rel=&quot;stylesheet&quot; href=&quot;https://cdn.jsdelivr.net/gh/python-visualization/folium/folium/templates/leaflet.awesome.rotate.min.css&quot;/&gt;\n",
       "    \n",
       "            &lt;meta name=&quot;viewport&quot; content=&quot;width=device-width,\n",
       "                initial-scale=1.0, maximum-scale=1.0, user-scalable=no&quot; /&gt;\n",
       "            &lt;style&gt;\n",
       "                #map_e387960c57ef662e0fdfc64c7cef40ed {\n",
       "                    position: relative;\n",
       "                    width: 100.0%;\n",
       "                    height: 100.0%;\n",
       "                    left: 0.0%;\n",
       "                    top: 0.0%;\n",
       "                }\n",
       "                .leaflet-container { font-size: 1rem; }\n",
       "            &lt;/style&gt;\n",
       "\n",
       "            &lt;style&gt;html, body {\n",
       "                width: 100%;\n",
       "                height: 100%;\n",
       "                margin: 0;\n",
       "                padding: 0;\n",
       "            }\n",
       "            &lt;/style&gt;\n",
       "\n",
       "            &lt;style&gt;#map {\n",
       "                position:absolute;\n",
       "                top:0;\n",
       "                bottom:0;\n",
       "                right:0;\n",
       "                left:0;\n",
       "                }\n",
       "            &lt;/style&gt;\n",
       "\n",
       "            &lt;script&gt;\n",
       "                L_NO_TOUCH = false;\n",
       "                L_DISABLE_3D = false;\n",
       "            &lt;/script&gt;\n",
       "\n",
       "        \n",
       "    &lt;script src=&quot;https://cdn.jsdelivr.net/gh/python-visualization/folium@main/folium/templates/leaflet_heat.min.js&quot;&gt;&lt;/script&gt;\n",
       "&lt;/head&gt;\n",
       "&lt;body&gt;\n",
       "    \n",
       "    \n",
       "            &lt;div class=&quot;folium-map&quot; id=&quot;map_e387960c57ef662e0fdfc64c7cef40ed&quot; &gt;&lt;/div&gt;\n",
       "        \n",
       "&lt;/body&gt;\n",
       "&lt;script&gt;\n",
       "    \n",
       "    \n",
       "            var map_e387960c57ef662e0fdfc64c7cef40ed = L.map(\n",
       "                &quot;map_e387960c57ef662e0fdfc64c7cef40ed&quot;,\n",
       "                {\n",
       "                    center: [53.57227567417678, -2.4462657105719234],\n",
       "                    crs: L.CRS.EPSG3857,\n",
       "                    ...{\n",
       "  &quot;zoom&quot;: 10,\n",
       "  &quot;zoomControl&quot;: true,\n",
       "  &quot;preferCanvas&quot;: false,\n",
       "}\n",
       "\n",
       "                }\n",
       "            );\n",
       "\n",
       "            \n",
       "\n",
       "        \n",
       "    \n",
       "            var tile_layer_f8f4c3e6ca725906a235268c0a0a8af0 = L.tileLayer(\n",
       "                &quot;https://tile.openstreetmap.org/{z}/{x}/{y}.png&quot;,\n",
       "                {\n",
       "  &quot;minZoom&quot;: 0,\n",
       "  &quot;maxZoom&quot;: 19,\n",
       "  &quot;maxNativeZoom&quot;: 19,\n",
       "  &quot;noWrap&quot;: false,\n",
       "  &quot;attribution&quot;: &quot;\\u0026copy; \\u003ca href=\\&quot;https://www.openstreetmap.org/copyright\\&quot;\\u003eOpenStreetMap\\u003c/a\\u003e contributors&quot;,\n",
       "  &quot;subdomains&quot;: &quot;abc&quot;,\n",
       "  &quot;detectRetina&quot;: false,\n",
       "  &quot;tms&quot;: false,\n",
       "  &quot;opacity&quot;: 1,\n",
       "}\n",
       "\n",
       "            );\n",
       "        \n",
       "    \n",
       "            tile_layer_f8f4c3e6ca725906a235268c0a0a8af0.addTo(map_e387960c57ef662e0fdfc64c7cef40ed);\n",
       "        \n",
       "    \n",
       "            var heat_map_e94f0dd44d801562a75a5a43685066db = L.heatLayer(\n",
       "                [[53.591928, -2.45155], [53.569149, -2.546891], [53.561883, -2.380724], [53.571649, -2.550548], [53.578064, -2.433127], [53.548871, -2.427546], [53.566699, -2.444033], [53.590208, -2.430683], [53.550391, -2.499256], [53.565157, -2.447641], [53.547906, -2.469192], [53.60034, -2.54669], [53.534525, -2.362524], [53.585051, -2.387881], [53.612313, -2.432419], [53.589463, -2.412395], [53.538451, -2.371913], [53.578419, -2.563776], [53.549277, -2.41457], [53.569664, -2.4193], [53.594147, -2.544797], [53.571075, -2.45163], [53.579775, -2.501414], [53.56, -2.456645], [53.547292, -2.465412], [53.591271, -2.434924], [53.578872, -2.433437], [53.574387, -2.430824], [53.563549, -2.420296], [53.59199, -2.434931], [53.54267, -2.538552], [53.595293, -2.509153], [53.549369, -2.413817], [53.543887, -2.38675], [53.542459, -2.383417], [53.544299, -2.44893], [53.559205, -2.40259], [53.562086, -2.474935], [53.567957, -2.467602], [53.576202, -2.450476], [53.583561, -2.429256], [53.570584, -2.438487], [53.580678, -2.455357], [53.590242, -2.445791], [53.558462, -2.524713], [53.597898, -2.550133], [53.546674, -2.527585], [53.548319, -2.405505], [53.551647, -2.454894], [53.547105, -2.392213], [53.603318, -2.434141], [53.596867, -2.452811], [53.568475, -2.449639], [53.539529, -2.399989], [53.539709, -2.399991], [53.579417, -2.431781], [53.583418, -2.443755], [53.581291, -2.435728], [53.559535, -2.411349], [53.549293, -2.524901], [53.574183, -2.546805], [53.569932, -2.419756], [53.585294, -2.422325], [53.565079, -2.468023], [53.559321, -2.42116], [53.584198, -2.427148], [53.567246, -2.416709], [53.542582, -2.517876], [53.582398, -2.427734], [53.546387, -2.391753], [53.561234, -2.507234], [53.587568, -2.414492], [53.597122, -2.432566], [53.549, -2.416681], [53.573648, -2.545892], [53.590168, -2.44156], [53.556187, -2.488908], [53.584019, -2.538322], [53.57404, -2.427498], [53.558405, -2.450589], [53.593524, -2.480274], [53.574383, -2.479302], [53.586213, -2.389855], [53.555455, -2.421273], [53.595235, -2.542695], [53.544596, -2.389775], [53.580698, -2.399471], [53.568248, -2.462169], [53.556136, -2.456301], [53.557516, -2.396838], [53.576386, -2.449421], [53.58103, -2.433157], [53.565293, -2.459117], [53.582215, -2.428789], [53.579236, -2.432233], [53.573728, -2.439123], [53.546962, -2.523514], [53.590745, -2.478429], [53.600621, -2.408726], [53.571765, -2.435026], [53.573908, -2.439125], [53.576463, -2.428429], [53.625953, -2.438607], [53.572984, -2.553434], [53.572907, -2.442437], [53.591824, -2.431001], [53.532656, -2.526657], [53.543082, -2.385535], [53.597495, -2.559497], [53.547997, -2.469042], [53.548629, -2.393283], [53.57177, -2.433667], [53.600846, -2.591577], [53.591465, -2.430998], [53.578417, -2.434943], [53.58209, -2.386192], [53.591209, -2.538564], [53.591704, -2.43931], [53.564434, -2.448841], [53.567653, -2.428944], [53.546406, -2.357042], [53.6172, -2.423248], [53.594878, -2.431637], [53.5966, -2.452204], [53.585766, -2.415683], [53.559355, -2.411499], [53.549284, -2.412457], [53.593808, -2.540259], [53.58004, -2.457616], [53.598849, -2.53851], [53.57594, -2.423893], [53.551467, -2.499872], [53.549945, -2.403257], [53.575604, -2.390664], [53.573747, -2.433838], [53.568778, -2.440884], [53.589731, -2.412851], [53.578217, -2.415307], [53.582264, -2.439967], [53.581688, -2.425159], [53.557427, -2.396837], [53.547887, -2.400219], [53.590232, -2.535984], [53.577908, -2.42648], [53.573281, -2.438364], [53.589477, -2.408317], [53.533177, -2.530737], [53.59745, -2.549674], [53.589064, -2.397435], [53.568715, -2.433333], [53.598511, -2.445878], [53.537191, -2.537728], [53.560374, -2.452874], [53.57477, -2.424334], [53.594235, -2.382979], [53.566934, -2.453095], [53.580126, -2.409133], [53.55067, -2.496995], [53.544384, -2.516993], [53.592363, -2.478447], [53.60238, -2.39348], [53.576719, -2.432207], [53.574143, -2.423724], [53.563341, -2.428145], [53.549075, -2.420757], [53.591016, -2.430842], [53.573727, -2.439274], [53.571806, -2.49392], [53.587513, -2.430202], [53.54617, -2.429028], [53.576719, -2.432207], [53.596928, -2.410957], [53.553031, -2.420645], [53.582843, -2.539969], [53.585491, -2.390604], [53.56389, -2.449892], [53.568056, -2.441632], [53.593681, -2.463353], [53.568231, -2.417776], [53.558008, -2.436394], [53.558755, -2.453159], [53.554413, -2.525719], [53.594547, -2.448254], [53.55881, -2.484862], [53.549939, -2.455027], [53.58338, -2.520188], [53.581325, -2.426212], [53.57212, -2.436238], [53.57468, -2.424484], [53.597939, -2.454636], [53.539431, -2.374789], [53.557794, -2.394576], [53.551084, -2.505452], [53.585605, -2.525351], [53.561487, -2.467078], [53.576282, -2.428729], [53.574153, -2.394426], [53.54952, -2.446721], [53.599807, -2.545474], [53.573908, -2.439125], [53.572804, -2.394867], [53.554783, -2.407831], [53.584426, -2.386667], [53.549045, -2.429359], [53.547655, -2.508581], [53.546627, -2.517926], [53.555867, -2.455996], [53.575825, -2.430839], [53.538451, -2.371762], [53.553073, -2.52374], [53.56543, -2.446889], [53.542285, -2.381605], [53.586705, -2.429892], [53.583594, -2.444966], [53.579586, -2.434804], [53.584307, -2.446484], [53.576685, -2.487936], [53.598191, -2.435297], [53.545165, -2.457541], [53.59011, -2.432797], [53.566704, -2.466229], [53.597127, -2.561305], [53.569531, -2.431379], [53.613829, -2.410365], [53.598864, -2.535186], [53.58189, -2.44389], [53.589477, -2.408317], [53.585401, -2.417341], [53.589447, -2.569663], [53.549116, -2.409135], [53.550976, -2.417002], [53.614319, -2.424579], [53.547812, -2.470399], [53.579602, -2.430575], [53.562176, -2.474785], [53.583607, -2.465207], [53.561825, -2.370608], [53.576365, -2.560879], [53.567431, -2.464274], [53.5617, -2.409106], [53.576685, -2.487936], [53.543519, -2.529659], [53.546536, -2.518075], [53.573727, -2.439274], [53.589447, -2.569663], [53.571923, -2.549645], [53.552893, -2.523738], [53.582352, -2.440572], [53.542548, -2.38372], [53.573349, -2.444254], [53.588007, -2.466313], [53.581489, -2.454913], [53.58458, -2.420807], [53.591379, -2.429788], [53.58502, -2.448153], [53.576415, -2.487933], [53.580714, -2.394789], [53.578417, -2.564078], [53.548882, -2.424528], [53.584288, -2.426997], [53.585401, -2.417492], [53.593261, -2.431318], [53.596658, -2.411257], [53.557882, -2.421448], [53.54139, -2.38054], [53.570973, -2.404665], [53.573453, -2.44048], [53.571674, -2.435327], [53.568796, -2.525294], [53.58071, -2.395998], [53.572906, -2.442588], [53.587391, -2.413735], [53.609832, -2.470483], [53.547547, -2.469188], [53.57691, -2.540195], [53.557516, -2.396838], [53.573747, -2.433989], [53.600447, -2.432903], [53.580419, -2.452635], [53.577729, -2.426327], [53.575685, -2.419813], [53.568627, -2.45704], [53.588649, -2.462996], [53.590477, -2.430686], [53.602781, -2.433682], [53.532826, -2.359341], [53.562436, -2.376351], [53.561176, -2.477643], [53.602967, -2.40618], [53.584197, -2.427299], [53.579473, -2.487515], [53.603505, -2.432329], [53.602103, -2.554268], [53.598379, -2.432881], [53.57792, -2.447927], [53.57262, -2.422349], [53.592518, -2.43811], [53.550665, -2.402962], [53.566665, -2.402661], [53.555885, -2.400898], [53.568055, -2.441934], [53.564959, -2.428011], [53.573747, -2.433838], [53.573818, -2.438973], [53.541029, -2.408303], [53.57755, -2.426174], [53.542014, -2.382206], [53.540939, -2.408302], [53.543931, -2.517742], [53.537117, -2.367224], [53.604752, -2.435516], [53.545821, -2.399898], [53.571257, -2.450876], [53.581313, -2.454004], [53.547009, -2.394174], [53.554751, -2.509874], [53.59793, -2.432726], [53.585652, -2.534868], [53.567249, -2.464876], [53.605891, -2.551597], [53.542409, -2.516214], [53.574771, -2.424183], [53.596238, -2.519288], [53.574118, -2.43067], [53.573926, -2.434142], [53.548754, -2.409736], [53.562772, -2.410928], [53.599997, -2.457076], [53.539537, -2.471665], [53.548882, -2.424528], [53.55312, -2.420948], [53.573321, -2.42734], [53.540598, -2.402715], [53.579474, -2.487364], [53.568597, -2.441184], [53.580387, -2.5055], [53.57907, -2.374988], [53.595711, -2.449475], [53.575866, -2.419512], [53.572533, -2.44636], [53.579966, -2.476646], [53.574453, -2.546809], [53.587782, -2.454527], [53.586147, -2.481852], [53.558939, -2.451802], [53.575226, -2.422375], [53.543301, -2.451334], [53.603508, -2.40558], [53.570008, -2.39771], [53.553569, -2.445858], [53.636798, -2.447038], [53.605071, -2.395168], [53.559265, -2.411498], [53.564531, -2.470282], [53.546387, -2.391753], [53.59407, -2.431478], [53.592177, -2.407285], [53.58365, -2.429559], [53.562027, -2.418469], [53.586643, -2.573402], [53.566609, -2.444032], [53.574914, -2.544247], [53.542191, -2.382962], [53.600888, -2.435023], [53.557882, -2.421448], [53.570983, -2.452082], [53.575454, -2.434157], [53.56543, -2.446738], [53.598745, -2.541682], [53.622365, -2.411355], [53.617377, -2.423854], [53.571127, -2.437435], [53.543479, -2.451939], [53.578639, -2.535384], [53.542665, -2.519537], [53.605125, -2.431741], [53.572995, -2.44274], [53.592426, -2.413331], [53.593051, -2.439626], [53.5818, -2.443889], [53.579572, -2.567114], [53.562358, -2.474183], [53.596125, -2.409287], [53.571045, -2.435471], [53.549205, -2.409287], [53.579474, -2.487364], [53.549286, -2.411854], [53.614165, -2.41702], [53.591106, -2.478131], [53.562649, -2.420438], [53.556533, -2.421434], [53.549231, -2.518561], [53.58447, -2.426546], [53.57486, -2.424184], [53.56369, -2.478275], [53.576281, -2.429031], [53.543518, -2.52981], [53.581767, -2.428331], [53.56253, -2.375295], [53.582531, -2.440574], [53.573639, -2.438971], [53.595801, -2.449476], [53.594117, -2.443263], [53.628015, -2.44014], [53.572624, -2.446059], [53.558989, -2.438367], [53.587423, -2.454372], [53.598806, -2.54803], [53.577525, -2.43297], [53.545672, -2.362016], [53.582659, -2.454472], [53.593366, -2.451716], [53.553852, -2.417181], [53.569829, -2.423681], [53.577795, -2.432973], [53.555099, -2.49116], [53.571348, -2.450726], [53.579572, -2.567114], [53.590183, -2.43733], [53.548901, -2.419095], [53.566969, -2.443734], [53.555009, -2.491159], [53.584397, -2.446485], [53.581111, -2.435575], [53.596383, -2.412765], [53.542401, -2.558015], [53.589665, -2.405901], [53.564162, -2.449442], [53.610877, -2.4318], [53.600888, -2.435174], [53.605859, -2.401522], [53.580602, -2.401283], [53.599481, -2.426395], [53.564362, -2.418945], [53.549665, -2.500907], [53.579474, -2.487364], [53.584468, -2.42715], [53.542523, -2.362894], [53.574771, -2.424183], [53.599419, -2.551664], [53.548985, -2.420756], [53.587635, -2.394703], [53.564959, -2.428011], [53.595131, -2.50492], [53.5659, -2.441307], [53.581096, -2.387694], [53.57212, -2.436238], [53.601079, -2.432002], [53.574821, -2.435057], [53.595264, -2.494496], [53.572076, -2.448167], [53.604085, -2.553387], [53.615057, -2.419145], [53.548881, -2.39887], [53.559415, -2.532877], [53.573913, -2.546953], [53.584288, -2.426997], [53.565528, -2.419712], [53.585912, -2.449975], [53.592543, -2.43116], [53.590232, -2.535833], [53.571716, -2.49407], [53.581181, -2.389356], [53.602195, -2.553816], [53.598379, -2.432881], [53.543796, -2.3869], [53.584998, -2.429572], [53.565894, -2.442968], [53.587297, -2.528997], [53.602361, -2.594168], [53.544241, -2.388413], [53.533151, -2.516252], [53.534105, -2.52411], [53.586525, -2.42989], [53.58004, -2.457767], [53.584916, -2.427457], [53.591704, -2.43931], [53.59145, -2.435077], [53.584396, -2.446636], [53.569651, -2.368865], [53.566983, -2.439959], [53.568612, -2.54628], [53.561294, -2.367886], [53.556424, -2.401054], [53.566155, -2.420322], [53.592796, -2.459718], [53.571669, -2.436837], [53.591984, -2.436593], [53.540341, -2.51634], [53.598676, -2.425178], [53.594737, -2.445687], [53.557733, -2.461602], [53.565611, -2.446438], [53.572719, -2.4447], [53.575167, -2.438836], [53.582975, -2.442089], [53.55303, -2.420796], [53.598404, -2.425931], [53.565937, -2.541716], [53.587126, -2.437601], [53.574868, -2.421919], [53.57743, -2.43448], [53.578598, -2.434643], [53.575274, -2.544101], [53.593229, -2.440232], [53.55001, -2.525363], [53.549075, -2.420757], [53.606314, -2.399864], [53.546547, -2.448652], [53.572349, -2.447415], [53.593238, -2.484501], [53.590724, -2.437033], [53.58338, -2.520188], [53.605072, -2.394865], [53.542104, -2.382207], [53.590477, -2.430686], [53.547194, -2.392364], [53.592783, -2.439321], [53.565747, -2.433907], [53.571968, -2.428685], [53.578278, -2.535681], [53.56208, -2.453345], [53.59838, -2.43273], [53.571217, -2.437587], [53.60336, -2.396209], [53.557793, -2.394727], [53.591091, -2.435073], [53.551653, -2.498516], [53.57062, -2.453135], [53.54901, -2.438867], [53.547757, -2.526693], [53.586694, -2.407383], [53.588489, -2.457707], [53.566026, -2.541868], [53.534614, -2.362676], [53.583548, -2.4572], [53.544651, -2.37242], [53.573362, -2.440932], [53.555016, -2.489498], [53.576809, -2.432208], [53.582313, -2.517607], [53.547906, -2.469192], [53.580599, -2.40234], [53.545254, -2.433697], [53.556001, -2.444374], [53.574131, -2.427197], [53.573818, -2.438973], [53.597539, -2.549827], [53.543667, -2.51638], [53.573947, -2.428252], [53.59314, -2.44008], [53.551212, -2.496548], [53.588026, -2.437459], [53.574603, -2.394279], [53.545558, -2.448792], [53.549275, -2.415174], [53.576282, -2.42888], [53.54558, -2.391142], [53.602019, -2.553058], [53.591621, -2.437496], [53.602271, -2.594166], [53.568055, -2.441783], [53.543291, -2.376332], [53.579238, -2.43178], [53.553267, -2.430157], [53.596495, -2.37892], [53.574129, -2.42765], [53.591704, -2.43931], [53.571473, -2.549639], [53.548955, -2.429207], [53.581248, -2.422435], [53.553815, -2.427596], [53.601082, -2.431096], [53.546404, -2.527733], [53.544415, -2.390226], [53.56604, -2.373665], [53.602106, -2.553664], [53.55001, -2.525363], [53.557461, -2.462203], [53.585605, -2.5252], [53.586979, -2.453159], [53.592013, -2.45291], [53.551022, -2.49881], [53.548157, -2.400372], [53.579571, -2.567265], [53.590329, -2.395634], [53.568142, -2.417624], [53.582595, -2.422902], [53.575043, -2.42328], [53.591861, -2.39444], [53.573088, -2.441986], [53.557738, -2.436542], [53.581489, -2.454913], [53.605124, -2.431893], [53.542091, -2.547448], [53.567701, -2.440269], [53.588501, -2.430363], [53.580402, -2.407323], [53.580811, -2.392525], [53.561701, -2.408804], [53.547997, -2.469042], [53.597379, -2.410659], [53.559584, -2.423125], [53.572532, -2.446511], [53.594223, -2.438883], [53.572255, -2.471878], [53.579255, -2.426947], [53.566141, -2.44901], [53.568687, -2.441034], [53.609832, -2.470483], [53.560642, -2.453179], [53.559456, -2.433692], [53.602214, -2.549736], [53.56317, -2.399759], [53.57177, -2.433667], [53.541836, -2.544125], [53.59398, -2.431477], [53.542854, -2.5378], [53.539806, -2.471819], [53.548416, -2.51991], [53.587207, -2.528996], [53.561717, -2.454096], [53.600985, -2.433059], [53.573747, -2.433989], [53.591472, -2.578453], [53.568326, -2.441483], [53.595955, -2.432101], [53.572828, -2.528213], [53.593317, -2.440686], [53.573158, -2.422657], [53.571696, -2.429438], [53.595358, -2.447809], [53.565357, -2.442358], [53.555074, -2.401494], [53.590075, -2.442465], [53.583329, -2.443603], [53.55664, -2.465515], [53.600986, -2.432908], [53.562565, -2.418777], [53.604979, -2.395922], [53.558215, -2.519577], [53.561749, -2.420731], [53.591361, -2.434925], [53.590242, -2.394576], [53.554106, -2.469714], [53.57849, -2.414554], [53.569341, -2.381546], [53.573747, -2.433838], [53.605777, -2.399104], [53.547909, -2.468588], [53.581202, -2.435274], [53.590557, -2.433406], [53.583065, -2.44209], [53.569933, -2.419605], [53.606185, -2.546312], [53.533649, -2.525764], [53.568055, -2.441783], [53.575231, -2.421016], [53.580809, -2.393129], [53.577705, -2.432972], [53.55759, -2.40182], [53.569892, -2.455392], [53.580592, -2.404304], [53.579805, -2.471962], [53.566245, -2.420323], [53.563998, -2.42015], [53.571543, -2.4465], [53.563549, -2.420296], [53.547667, -2.526692], [53.581011, -2.386334], [53.557231, -2.401515], [53.591718, -2.435684], [53.587385, -2.529301], [53.598942, -2.557551], [53.589808, -2.569366], [53.587563, -2.529756], [53.560451, -2.456046], [53.570235, -2.482426], [53.570022, -2.419756], [53.549284, -2.412457], [53.585356, -2.540907], [53.575284, -2.431437], [53.580711, -2.395544], [53.566155, -2.420322], [53.583652, -2.428955], [53.560733, -2.428572], [53.562713, -2.452144], [53.600965, -2.43865], [53.596897, -2.552689], [53.590142, -2.535983], [53.555009, -2.491159], [53.543655, -2.374977], [53.589665, -2.405901], [53.567116, -2.452644], [53.588052, -2.45453], [53.580568, -2.384215], [53.563799, -2.450193], [53.539939, -2.411461], [53.601424, -2.383649], [53.574731, -2.435056], [53.559021, -2.403796], [53.542992, -2.385384], [53.539948, -2.408896], [53.581011, -2.386334], [53.584358, -2.522767], [53.559379, -2.404403], [53.591914, -2.431002], [53.576901, -2.431605], [53.556962, -2.401512], [53.568433, -2.546127], [53.599282, -2.45601], [53.586357, -2.451037], [53.576409, -2.443229], [53.568906, -2.430466], [53.572907, -2.442437], [53.535087, -2.384105], [53.564793, -2.370181], [53.538006, -2.370551], [53.59798, -2.418674], [53.56048, -2.535759], [53.592073, -2.436896], [53.559411, -2.421161], [53.562436, -2.376351], [53.594117, -2.443263], [53.594358, -2.426343], [53.563701, -2.427998], [53.547933, -2.506622], [53.578908, -2.493852], [53.589021, -2.410276], [53.601934, -2.551999], [53.558462, -2.524713], [53.55932, -2.421462], [53.581847, -2.4309], [53.590477, -2.430686], [53.549429, -2.447173], [53.567653, -2.428944], [53.578315, -2.438265], [53.600087, -2.432899], [53.540517, -2.399998], [53.564071, -2.449592], [53.573818, -2.438973], [53.579837, -2.463655], [53.546477, -2.391754], [53.569803, -2.430929], [53.594879, -2.431486], [53.590266, -2.439295], [53.598009, -2.410363], [53.565848, -2.541413], [53.576319, -2.443228], [53.57477, -2.424334], [53.602271, -2.594166], [53.567434, -2.439511], [53.548507, -2.519609], [53.557644, -2.46145], [53.567265, -2.411424], [53.575684, -2.419964], [53.58868, -2.430667], [53.589084, -2.489137], [53.574041, -2.427196], [53.587297, -2.528997], [53.575824, -2.431292], [53.578502, -2.436303], [53.583234, -2.393604], [53.539181, -2.396364], [53.560189, -2.404109], [53.573728, -2.439123], [53.618888, -2.428707], [53.57477, -2.424334], [53.5683, -2.369608], [53.547798, -2.400218], [53.580835, -2.385275], [53.55851, -2.446514], [53.587386, -2.52915], [53.56444, -2.470583], [53.549431, -2.44672], [53.544214, -2.470962], [53.585478, -2.572631], [53.584926, -2.424738], [53.56121, -2.366225], [53.55294, -2.420946], [53.567694, -2.417166], [53.583562, -2.429105], [53.589931, -2.432493], [53.593261, -2.431318], [53.574029, -2.430518], [53.563531, -2.399159], [53.559547, -2.457395], [53.577819, -2.426328], [53.580659, -2.383914], [53.597571, -2.432722], [53.567215, -2.45023], [53.593165, -2.407446], [53.603599, -2.40543], [53.605069, -2.395772], [53.57636, -2.432052], [53.586193, -2.422334], [53.589732, -2.412549], [53.571621, -2.449672], [53.567241, -2.443133], [53.590142, -2.535983], [53.632766, -2.443668], [53.588654, -2.412539], [53.56455, -2.441746], [53.546703, -2.521096], [53.583342, -2.388319], [53.57929, -2.488268], [53.544685, -2.390228], [53.571185, -2.421278], [53.577124, -2.444294], [53.557322, -2.401365], [53.536252, -2.385172], [53.596511, -2.452052], [53.562342, -2.37786], [53.581325, -2.426212], [53.569739, -2.42368], [53.618316, -2.437772], [53.562342, -2.37786], [53.582232, -2.423805], [53.550933, -2.498809], [53.575867, -2.419059], [53.603147, -2.40603], [53.57907, -2.374837], [53.543262, -2.385386], [53.567072, -2.529047], [53.555644, -2.489807], [53.554839, -2.488892], [53.573835, -2.544384], [53.568402, -2.533141], [53.540102, -2.416442], [53.528844, -2.368359], [53.561526, -2.407443], [53.531152, -2.377582], [53.538509, -2.409033], [53.546408, -2.385264], [53.545868, -2.385712], [53.561318, -2.508594], [53.543167, -2.387045], [53.575777, -2.419209], [53.563266, -2.515411], [53.573649, -2.54559], [53.529198, -2.370022], [53.552618, -2.482376], [53.561499, -2.508445], [53.532033, -2.383323], [53.537482, -2.393783], [53.5365, -2.391813], [53.564237, -2.519651], [53.543978, -2.386449], [53.573028, -2.543921], [53.543621, -2.385691], [53.558571, -2.499201], [53.537212, -2.393932], [53.582317, -2.425316], [53.537849, -2.391373], [53.558662, -2.499051], [53.531223, -2.383617], [53.550224, -2.474199], [53.575505, -2.419811], [53.538609, -2.406167], [53.538457, -2.397867], [53.575956, -2.419513], [53.54371, -2.385692], [53.548717, -2.468748], [53.565198, -2.411253], [53.573267, -2.417221], [53.585909, -2.55738], [53.530449, -2.372446], [53.55645, -2.490572], [53.538546, -2.39832], [53.560188, -2.40426], [53.563352, -2.516469], [53.535605, -2.390447], [53.541844, -2.432003], [53.552799, -2.481926], [53.539479, -2.414475], [53.537657, -2.395294], [53.529369, -2.37304], [53.549335, -2.471623], [53.600237, -2.549559], [53.577281, -2.426021], [53.616843, -2.422337], [53.553723, -2.402236], [53.595022, -2.441459], [53.600844, -2.554403], [53.569622, -2.431229], [53.543802, -2.38524], [53.54896, -2.401889], [53.580508, -2.452787], [53.583322, -2.445567], [53.548788, -2.425734], [53.602335, -2.43262], [53.55851, -2.446514], [53.546727, -2.515512], [53.580949, -2.43074], [53.558601, -2.421304], [53.562505, -2.435686], [53.577012, -2.425867], [53.586624, -2.451946], [53.576417, -2.389312], [53.541232, -2.538533], [53.580692, -2.474993], [53.568055, -2.441783], [53.576719, -2.432207], [53.573546, -2.439726], [53.617654, -2.421892], [53.617596, -2.437916], [53.603508, -2.40558], [53.563611, -2.427997], [53.57404, -2.427498], [53.604045, -2.432184], [53.600992, -2.431246], [53.545581, -2.390991], [53.553227, -2.508799], [53.579345, -2.426948], [53.603508, -2.40558], [53.571471, -2.550092], [53.599604, -2.442112], [53.572005, -2.551307], [53.537022, -2.369034], [53.565254, -2.469384], [53.588501, -2.430363], [53.589206, -2.524036], [53.586193, -2.422183], [53.551212, -2.496548], [53.597018, -2.410958], [53.591539, -2.43538], [53.591286, -2.430845], [53.553553, -2.399518], [53.580922, -2.386182], [53.57583, -2.559966], [53.56111, -2.369394], [53.565904, -2.440099], [53.557591, -2.401367], [53.585203, -2.422475], [53.616901, -2.455596], [53.581847, -2.4309], [53.590182, -2.437783], [53.584198, -2.427148], [53.580786, -2.450525], [53.601526, -2.432763], [53.562469, -2.420588], [53.589665, -2.405901], [53.565126, -2.431636], [53.580404, -2.40687], [53.54894, -2.523387], [53.557233, -2.401062], [53.557948, -2.51897], [53.592894, -2.581797], [53.573445, -2.442745], [53.554916, -2.421267], [53.579949, -2.457917], [53.541327, -2.537478], [53.558065, -2.393975], [53.572806, -2.445456], [53.601166, -2.43291], [53.590297, -2.430684], [53.56738, -2.429696], [53.539849, -2.526142], [53.597811, -2.549528], [53.568145, -2.441784], [53.578315, -2.438416], [53.570711, -2.452834], [53.602869, -2.433985], [53.561883, -2.380875], [53.536761, -2.366165], [53.554826, -2.469571], [53.56369, -2.500318], [53.588082, -2.395462], [53.575783, -2.417397], [53.571673, -2.410259], [53.583495, -2.470795], [53.582215, -2.428789], [53.603946, -2.434601], [53.558764, -2.450744], [53.588142, -2.430209], [53.56111, -2.369394], [53.561206, -2.367433], [53.566155, -2.420322], [53.567482, -2.37247], [53.578598, -2.434643], [53.577559, -2.448376], [53.597829, -2.410512], [53.547933, -2.506773], [53.558158, -2.444397], [53.601688, -2.385162], [53.543338, -2.389612], [53.572843, -2.435188], [53.582119, -2.541168], [53.56313, -2.411384], [53.563161, -2.428143], [53.581089, -2.39011], [53.590717, -2.386724], [53.562792, -2.430857], [53.594641, -2.493129], [53.610249, -2.431491], [53.566064, -2.445537], [53.614165, -2.417171], [53.623268, -2.435404], [53.54941, -2.452304], [53.60376, -2.436261], [53.551462, -2.522211], [53.576289, -2.426917], [53.549374, -2.412458], [53.613475, -2.434245], [53.581847, -2.4309], [53.56217, -2.453195], [53.56926, -2.43198], [53.548988, -2.393739], [53.59679, -2.472756], [53.573818, -2.439124], [53.585468, -2.448611], [53.557321, -2.401667], [53.581945, -2.428786], [53.546765, -2.527435], [53.568231, -2.417776], [53.591635, -2.480705], [53.581433, -2.446], [53.566699, -2.444033], [53.576493, -2.490955], [53.618779, -2.458035], [53.551925, -2.497915], [53.551212, -2.496548], [53.583914, -2.521554], [53.54905, -2.40189], [53.543522, -2.529055], [53.549804, -2.391483], [53.570989, -2.450572], [53.597722, -2.415498], [53.559819, -2.456794], [53.551473, -2.403272], [53.607095, -2.408184], [53.578627, -2.426638], [53.545529, -2.406535], [53.550232, -2.424089], [53.598035, -2.519461], [53.551827, -2.430595], [53.571712, -2.449371], [53.578273, -2.536739], [53.570325, -2.482427], [53.582386, -2.541624], [53.570954, -2.435621], [53.568413, -2.44239], [53.540412, -2.377061], [53.55866, -2.520639], [53.560888, -2.410004], [53.550748, -2.454885], [53.553162, -2.523892], [53.56161, -2.38193], [53.554872, -2.523461], [53.599625, -2.545925], [53.575011, -2.432341], [53.596928, -2.411108], [53.566608, -2.444183], [53.575825, -2.43099], [53.597306, -2.541815], [53.574533, -2.440038], [53.571173, -2.424902], [53.542404, -2.537794], [53.576203, -2.450325], [53.557552, -2.462053], [53.549276, -2.414721], [53.574208, -2.430671], [53.60763, -2.601043], [53.578761, -2.413953], [53.547401, -2.411081], [53.58071, -2.395847], [53.630466, -2.380736], [53.570824, -2.395603], [53.573747, -2.433989], [53.5931, -2.57636], [53.573294, -2.434739], [53.568058, -2.464734], [53.551291, -2.498964], [53.582176, -2.439362], [53.572806, -2.445305], [53.562654, -2.532162], [53.568058, -2.464734], [53.559825, -2.405314], [53.601342, -2.40828], [53.55148, -2.518136], [53.548326, -2.519908], [53.549574, -2.501208], [53.536043, -2.533187], [53.56138, -2.369397], [53.557321, -2.401667], [53.54905, -2.518861], [53.578598, -2.434643], [53.560104, -2.428565], [53.573385, -2.434589], [53.591407, -2.446861], [53.568136, -2.467755], [53.603084, -2.593422], [53.574001, -2.527321], [53.593239, -2.41213], [53.546458, -2.423749], [53.568055, -2.441934], [53.533596, -2.537682], [53.578778, -2.434645], [53.567448, -2.482696], [53.580783, -2.426962], [53.567522, -2.463822], [53.56066, -2.423891], [53.542409, -2.516365], [53.544294, -2.399732], [53.623805, -2.436014], [53.536189, -2.520514], [53.576653, -2.425561], [53.562126, -2.440966], [53.548903, -2.418642], [53.566704, -2.46638], [53.538006, -2.370551], [53.561407, -2.415746], [53.581179, -2.389809], [53.579094, -2.492193], [53.611191, -2.444349], [53.583652, -2.429106], [53.564472, -2.41336], [53.581112, -2.435424], [53.559095, -2.458144], [53.574821, -2.435057], [53.568378, -2.538576], [53.573272, -2.44078], [53.562127, -2.529438], [53.53495, -2.472519], [53.569622, -2.431229], [53.603955, -2.432183], [53.568597, -2.441033], [53.540759, -2.408451], [53.562986, -2.373034], [53.579805, -2.471962], [53.54689, -2.428583], [53.604663, -2.435213], [53.570163, -2.454942], [53.547306, -2.526989], [53.572907, -2.442437], [53.574914, -2.544247], [53.552656, -2.398905], [53.567123, -2.450682], [53.556097, -2.488907], [53.561202, -2.36864], [53.547906, -2.469192], [53.540472, -2.413428], [53.601309, -2.391203], [53.579076, -2.426794], [53.577, -2.540196], [53.55811, -2.407562], [53.606135, -2.39956], [53.554643, -2.422321], [53.582304, -2.428941], [53.579699, -2.428462], [53.630367, -2.383609], [53.599727, -2.432895], [53.600965, -2.547755], [53.546458, -2.4239], [53.574712, -2.440342], [53.564631, -2.419099], [53.570022, -2.419756], [53.574822, -2.434906], [53.548027, -2.505869], [53.551022, -2.49881], [53.592339, -2.412423], [53.578598, -2.434794], [53.586673, -2.52763], [53.578596, -2.435096], [53.540878, -2.399851], [53.567336, -2.41671], [53.583909, -2.522611], [53.562342, -2.37786], [53.59194, -2.423902], [53.549884, -2.469063], [53.610105, -2.469881], [53.599123, -2.425938], [53.600896, -2.432907], [53.602155, -2.40723], [53.557321, -2.401667], [53.568098, -2.454467], [53.578688, -2.434644], [53.589554, -2.437475], [53.59359, -2.463655], [53.574822, -2.434906], [53.537705, -2.380356], [53.57212, -2.436238], [53.544873, -2.528317], [53.592879, -2.412278], [53.586021, -2.44484], [53.606224, -2.400015], [53.55067, -2.496995], [53.556365, -2.46687], [53.600992, -2.541711], [53.578328, -2.434791], [53.557702, -2.421446], [53.548985, -2.420756], [53.581864, -2.450687], [53.591317, -2.44686], [53.579511, -2.430876], [53.561329, -2.526862], [53.551212, -2.496548], [53.544717, -2.407584], [53.598369, -2.410216], [53.548986, -2.420605], [53.57129, -2.441967], [53.586231, -2.384266], [53.557271, -2.487562], [53.543711, -2.385541], [53.586303, -2.389705], [53.575268, -2.545309], [53.551652, -2.498667], [53.580613, -2.398111], [53.580878, -2.450073], [53.594706, -2.476963], [53.598812, -2.584749], [53.564161, -2.449593], [53.560014, -2.428414], [53.591298, -2.538717], [53.542104, -2.382207], [53.574887, -2.441552], [53.572299, -2.436541], [53.582352, -2.529087], [53.579574, -2.412903], [53.581345, -2.512761], [53.569709, -2.456296], [53.597675, -2.559348], [53.591632, -2.381898], [53.563899, -2.422866], [53.590536, -2.439298], [53.565633, -2.440549], [53.56253, -2.375295], [53.605333, -2.397588], [53.564783, -2.538531], [53.565029, -2.480555], [53.579862, -2.50202], [53.549773, -2.517813], [53.569738, -2.423831], [53.595269, -2.447657], [53.544133, -2.393996], [53.569739, -2.423529], [53.5856, -2.411905], [53.557734, -2.461451], [53.600357, -2.432902], [53.586103, -2.422182], [53.553553, -2.399367], [53.580995, -2.391318], [53.590069, -2.443976], [53.585774, -2.438795], [53.585377, -2.448761], [53.585767, -2.415532], [53.5695, -2.439986], [53.59112, -2.538261], [53.600873, -2.548056], [53.566902, -2.437694], [53.568439, -2.435143], [53.543795, -2.387353], [53.595899, -2.55464], [53.558336, -2.393524], [53.614968, -2.418842], [53.583291, -2.520035], [53.554827, -2.421116], [53.53952, -2.375091], [53.589609, -2.534465], [53.547129, -2.505556], [53.559444, -2.4115], [53.550215, -2.403109], [53.554354, -2.401789], [53.581382, -2.435427], [53.590271, -2.437935], [53.593554, -2.593742], [53.546926, -2.391909], [53.562086, -2.474784], [53.581325, -2.426212], [53.546275, -2.398694], [53.590289, -2.433101], [53.579961, -2.430579], [53.580403, -2.407172], [53.564161, -2.370931], [53.585931, -2.393478], [53.551905, -2.502745], [53.580508, -2.452787], [53.549298, -2.408232], [53.629651, -2.382392], [53.596602, -2.4516], [53.567242, -2.442982], [53.56161, -2.409105], [53.559382, -2.403498], [53.586945, -2.46192], [53.585541, -2.40284], [53.603508, -2.40558], [53.598676, -2.425178], [53.549804, -2.391483], [53.575684, -2.444883], [53.583562, -2.429105], [53.550574, -2.403112], [53.568158, -2.462168], [53.550304, -2.40326], [53.586103, -2.422182], [53.557231, -2.401515], [53.542182, -2.41269], [53.579692, -2.430274], [53.547367, -2.469186], [53.595269, -2.447657], [53.605687, -2.399103], [53.577998, -2.426481], [53.564426, -2.450955], [53.57641, -2.443078], [53.579525, -2.426798], [53.545646, -2.449095], [53.595805, -2.555546], [53.581859, -2.427577], [53.583734, -2.5214], [53.547997, -2.469042], [53.56175, -2.42058], [53.597806, -2.417161], [53.622819, -2.435248], [53.581183, -2.486931], [53.546387, -2.391753], [53.597018, -2.410958], [53.558404, -2.45074], [53.595889, -2.425452], [53.539519, -2.375242], [53.601076, -2.432909], [53.54337, -2.501588], [53.559625, -2.411199], [53.580997, -2.390714], [53.60238, -2.39348], [53.546469, -2.420731], [53.56662, -2.464718], [53.589832, -2.435211], [53.57743, -2.43448], [53.599625, -2.545925], [53.545745, -2.36745], [53.566027, -2.541717], [53.596352, -2.554042], [53.561541, -2.476288], [53.548986, -2.420605], [53.579923, -2.487369], [53.560452, -2.406074], [53.550062, -2.395108], [53.566381, -2.542779], [53.595979, -2.425453], [53.54678, -2.434166], [53.591704, -2.43931], [53.580714, -2.394789], [53.580568, -2.384215], [53.573061, -2.494841], [53.560888, -2.410004], [53.549285, -2.412307], [53.580695, -2.450977], [53.585203, -2.422626], [53.593522, -2.543731], [53.600161, -2.546536], [53.626311, -2.438913], [53.545953, -2.358396], [53.543621, -2.38554], [53.605046, -2.428567], [53.589442, -2.489443], [53.557877, -2.447564], [53.600519, -2.546843], [53.566245, -2.420323], [53.555074, -2.401494], [53.580032, -2.459881], [53.548868, -2.402643], [53.543214, -2.399873], [53.581111, -2.435575], [53.574823, -2.544397], [53.583949, -2.533789], [53.58463, -2.406306], [53.579962, -2.430428], [53.597933, -2.52218], [53.559443, -2.411801], [53.576052, -2.417702], [53.559905, -2.523674], [53.576651, -2.450783], [53.577639, -2.426326], [53.538863, -2.383837], [53.542281, -2.382963], [53.571543, -2.4465], [53.594878, -2.431637], [53.592339, -2.412423], [53.541594, -2.538085], [53.549372, -2.412911], [53.594826, -2.445839], [53.599188, -2.43289], [53.587807, -2.39697], [53.538544, -2.516318], [53.550304, -2.403411], [53.586213, -2.389704], [53.556693, -2.401208], [53.559594, -2.445016], [53.563076, -2.373035], [53.592882, -2.483439], [53.575684, -2.419964], [53.549184, -2.415324], [53.593784, -2.436007], [53.548903, -2.418491], [53.548921, -2.438716], [53.578418, -2.434641], [53.558531, -2.440778], [53.578685, -2.409874], [53.560658, -2.424344], [53.587302, -2.567066], [53.541119, -2.408304], [53.582233, -2.423503], [53.604088, -2.552783], [53.55946, -2.522611], [53.591592, -2.445352], [53.542293, -2.5224], [53.5723, -2.43639], [53.573445, -2.417827], [53.600668, -2.591273], [53.589447, -2.569663], [53.618621, -2.427948], [53.599625, -2.545925], [53.58155, -2.527717], [53.562986, -2.373034], [53.568158, -2.462168], [53.54528, -2.400345], [53.588322, -2.454533], [53.561151, -2.526407], [53.543531, -2.38554], [53.588651, -2.462543], [53.609979, -2.431489], [53.545633, -2.51897], [53.542003, -2.356552], [53.594554, -2.492373], [53.542271, -2.412993], [53.579379, -2.41713], [53.543346, -2.387198], [53.566789, -2.444034], [53.56208, -2.453345], [53.563834, -2.464537], [53.549026, -2.524294], [53.558251, -2.443643], [53.577011, -2.426018], [53.54424, -2.388715], [53.578896, -2.426792], [53.580695, -2.450977], [53.571347, -2.450877], [53.591929, -2.451399], [53.544098, -2.376943], [53.578816, -2.53599], [53.574364, -2.384914], [53.583502, -2.394362], [53.598835, -2.541684], [53.588438, -2.396523], [53.565235, -2.37245], [53.590743, -2.479033], [53.598587, -2.425177], [53.555461, -2.511995], [53.569216, -2.418842], [53.572038, -2.434274], [53.592516, -2.462434], [53.57752, -2.434481], [53.557324, -2.40061], [53.576371, -2.429032], [53.608724, -2.43072], [53.600251, -2.546537], [53.579692, -2.430274], [53.590339, -2.443828], [53.557501, -2.401366], [53.590557, -2.433557], [53.549431, -2.44672], [53.562125, -2.416206], [53.592428, -2.437957], [53.574221, -2.427047], [53.574771, -2.424183], [53.583558, -2.520643], [53.592518, -2.43811], [53.594421, -2.563233], [53.595979, -2.425453], [53.573747, -2.433838], [53.562147, -2.409865], [53.584198, -2.426996], [53.606045, -2.425705], [53.544204, -2.399731], [53.58361, -2.464452], [53.587151, -2.455124], [53.606968, -2.392314], [53.562666, -2.360349], [53.572783, -2.427032], [53.57985, -2.411093], [53.591062, -2.442929], [53.547566, -2.50858], [53.563914, -2.418639], [53.562811, -2.473434], [53.577495, -2.416357], [53.600532, -2.408725], [53.576912, -2.428735], [53.581414, -2.426515], [53.599625, -2.545925], [53.560994, -2.455146], [53.58859, -2.430515], [53.569918, -2.423682], [53.5612, -2.369395], [53.596214, -2.45915], [53.605902, -2.440515], [53.551652, -2.498818], [53.571809, -2.422945], [53.579829, -2.465921], [53.589111, -2.410277], [53.547311, -2.411231], [53.578872, -2.433437], [53.579849, -2.460634], [53.547221, -2.411079], [53.579345, -2.426948], [53.586071, -2.478527], [53.571258, -2.450725], [53.586876, -2.406781], [53.5807, -2.398867], [53.582526, -2.390275], [53.551652, -2.498667], [53.596533, -2.553591], [53.605332, -2.397739], [53.561595, -2.52762], [53.60376, -2.436261], [53.572783, -2.427032], [53.601166, -2.43291], [53.566251, -2.443576], [53.579964, -2.477099], [53.567434, -2.439511], [53.595327, -2.431793], [53.598387, -2.455094], [53.56336, -2.53504], [53.591539, -2.435229], [53.541012, -2.413282], [53.59693, -2.410655], [53.573068, -2.422656], [53.567652, -2.429095], [53.562076, -2.454402], [53.562649, -2.420438], [53.572031, -2.436237], [53.567332, -2.442983], [53.559121, -2.451351], [53.580693, -2.401133], [53.569622, -2.431229], [53.533216, -2.521986], [53.571673, -2.410259], [53.589358, -2.569511], [53.573709, -2.392912], [53.553533, -2.405404], [53.600619, -2.434869], [53.551045, -2.396777], [53.59234, -2.584811], [53.580698, -2.399622], [53.565547, -2.414428], [53.551652, -2.498667], [53.568715, -2.433333], [53.573927, -2.43384], [53.575069, -2.441101], [53.565611, -2.446438], [53.583562, -2.429105], [53.569123, -2.444814], [53.567022, -2.4537], [53.582234, -2.423352], [53.605284, -2.437335], [53.601933, -2.55215], [53.594795, -2.429672], [53.542466, -2.523911], [53.562215, -2.441118], [53.559321, -2.42116], [53.573909, -2.438823], [53.554308, -2.415374], [53.542556, -2.523912], [53.565974, -2.445536], [53.564178, -2.365496], [53.5612, -2.369395], [53.550229, -2.398883], [53.576372, -2.428881], [53.565677, -2.45278], [53.569238, -2.547194], [53.5613, -2.420727], [53.598822, -2.409313], [53.542104, -2.382207], [53.577191, -2.42602], [53.548898, -2.393738], [53.595216, -2.546775], [53.575866, -2.419512], [53.570711, -2.452834], [53.581013, -2.527106], [53.600986, -2.432757], [53.576809, -2.432359], [53.57212, -2.436238], [53.619257, -2.426141], [53.594147, -2.544797], [53.543867, -2.532229], [53.601436, -2.43261], [53.571978, -2.425967], [53.576416, -2.487782], [53.583379, -2.429858], [53.583803, -2.46098], [53.609832, -2.470483], [53.574233, -2.423725], [53.574003, -2.546954], [53.588412, -2.43006], [53.585605, -2.5252], [53.612556, -2.414585], [53.588835, -2.437316], [53.549804, -2.391483], [53.579435, -2.426948], [53.572442, -2.446661], [53.603779, -2.405281], [53.574325, -2.423121], [53.578896, -2.426792], [53.543305, -2.399572], [53.57632, -2.443077], [53.57253, -2.422348], [53.565198, -2.411253], [53.595396, -2.546928], [53.56161, -2.381779], [53.548625, -2.394792], [53.561814, -2.475536], [53.590776, -2.396394], [53.543167, -2.387045], [53.530353, -2.374407], [53.545724, -2.452265], [53.542809, -2.438652], [53.537657, -2.395143], [53.55636, -2.49057], [53.54193, -2.43306], [53.529198, -2.370022], [53.584198, -2.427148], [53.574253, -2.417986], [53.538594, -2.410694], [53.576958, -2.549257], [53.565561, -2.525253], [53.537569, -2.394539], [53.544069, -2.386148], [53.54246, -2.383266], [53.54452, -2.385549], [53.591721, -2.563953], [53.545688, -2.38571], [53.568937, -2.534053], [53.548807, -2.468749], [53.538457, -2.397867], [53.538897, -2.400889], [53.569381, -2.535418], [53.529998, -2.373046], [53.538883, -2.404812], [53.541505, -2.426416], [53.559471, -2.403649], [53.538191, -2.396808], [53.54598, -2.45589], [53.545869, -2.385259], [53.550487, -2.475862], [53.54378, -2.443341], [53.556449, -2.490722], [53.561318, -2.508594], [53.583398, -2.556138], [53.57365, -2.545439], [53.555279, -2.491162], [53.58375, -2.426841], [53.541505, -2.426416], [53.559113, -2.403193], [53.541276, -2.388084], [53.549161, -2.470112], [53.531589, -2.381509], [53.564161, -2.370931], [53.568018, -2.401466], [53.573452, -2.440782], [53.581037, -2.455512], [53.572076, -2.448167], [53.589808, -2.569366], [53.558618, -2.416624], [53.579572, -2.567114], [53.544693, -2.528466], [53.590142, -2.535983], [53.55027, -2.413222], [53.547033, -2.413643], [53.601228, -2.549119], [53.633213, -2.444126], [53.567963, -2.41732], [53.568055, -2.441934], [53.57849, -2.414554], [53.590476, -2.478426], [53.584358, -2.522767], [53.57486, -2.424335], [53.548937, -2.523991], [53.602639, -2.555031], [53.548066, -2.400522], [53.570855, -2.438188], [53.554641, -2.422925], [53.56161, -2.38193], [53.548897, -2.39404], [53.580402, -2.407323], [53.540532, -2.53445], [53.600986, -2.432757], [53.560081, -2.524431], [53.576556, -2.427524], [53.589035, -2.406197], [53.571833, -2.549644], [53.585683, -2.438945], [53.538778, -2.503495], [53.572013, -2.549495], [53.595663, -2.547385], [53.574036, -2.428404], [53.556136, -2.45615], [53.600896, -2.432756], [53.588005, -2.466766], [53.546917, -2.469332], [53.59847, -2.456757], [53.582476, -2.455225], [53.582957, -2.42215], [53.549901, -2.487326], [53.59359, -2.463655], [53.552422, -2.414903], [53.597721, -2.4158], [53.552656, -2.398905], [53.603508, -2.40558], [53.546473, -2.419372], [53.597809, -2.416254], [53.584537, -2.407212], [53.569829, -2.423681], [53.552591, -2.510451], [53.564072, -2.449441], [53.59174, -2.578759], [53.546594, -2.504493], [53.565089, -2.441752], [53.586578, -2.414784], [53.592074, -2.436594], [53.592623, -2.457903], [53.599103, -2.455857], [53.59693, -2.410655], [53.576801, -2.434473], [53.547997, -2.469042], [53.612205, -2.412012], [53.569327, -2.547196], [53.596214, -2.45915], [53.591685, -2.468166], [53.573747, -2.433838], [53.569206, -2.446476], [53.557703, -2.394877], [53.557743, -2.524704], [53.575921, -2.429329], [53.586298, -2.391367], [53.574093, -2.546804], [53.599742, -2.375322], [53.555163, -2.401797], [53.581083, -2.510946], [53.585496, -2.415831], [53.549552, -2.484907], [53.596839, -2.410956], [53.549429, -2.447173], [53.57385, -2.430366], [53.549075, -2.420757], [53.55631, -2.407997], [53.549256, -2.468905], [53.586488, -2.414934], [53.544117, -2.449532], [53.598676, -2.425178], [53.543621, -2.38554], [53.548026, -2.50602], [53.559429, -2.440938], [53.578508, -2.434793], [53.557324, -2.40061], [53.575724, -2.434009], [53.619846, -2.437183], [53.56702, -2.454153], [53.568145, -2.441935], [53.616848, -2.420977], [53.55165, -2.49912], [53.583562, -2.429105], [53.559411, -2.421161], [53.562342, -2.37786], [53.553814, -2.402086], [53.561915, -2.37076], [53.568346, -2.482857], [53.587613, -2.427333], [53.584149, -2.440742], [53.579418, -2.431479], [53.584998, -2.429572], [53.591918, -2.477385], [53.574117, -2.430972], [53.580698, -2.399622], [53.58467, -2.394524], [53.549368, -2.414269], [53.573913, -2.546953], [53.586845, -2.415542], [53.572301, -2.435937], [53.584485, -2.44709], [53.566173, -2.415189], [53.560418, -2.440948], [53.56129, -2.369396], [53.595979, -2.425453], [53.573963, -2.555561], [53.552743, -2.425623], [53.567043, -2.448114], [53.568077, -2.545518], [53.568911, -2.476371], [53.590587, -2.536895], [53.583496, -2.53469], [53.57951, -2.377862], [53.580715, -2.394487], [53.565367, -2.414426], [53.591407, -2.446861], [53.582492, -2.426526], [53.54791, -2.468287], [53.549374, -2.412307], [53.597379, -2.410659], [53.572121, -2.436087], [53.580694, -2.451128], [53.582534, -2.43997], [53.591888, -2.527242], [53.548951, -2.430566], [53.560284, -2.452722], [53.544379, -2.40094], [53.565979, -2.444177], [53.549885, -2.468912], [53.598065, -2.420185], [53.599446, -2.54562], [53.590631, -2.412558], [53.580789, -2.399321], [53.586103, -2.422333], [53.565791, -2.421677], [53.535459, -2.522919], [53.602548, -2.555181], [53.533333, -2.472199], [53.557996, -2.486061], [53.579953, -2.37998], [53.558734, -2.458593], [53.574453, -2.412098], [53.573591, -2.427343], [53.59, -2.462105], [53.600897, -2.432605], [53.557905, -2.486361], [53.616441, -2.458463], [53.61878, -2.408146], [53.616427, -2.438206], [53.60062, -2.434718], [53.577011, -2.426169], [53.57486, -2.424335], [53.582476, -2.455225], [53.583048, -2.422], [53.615325, -2.419601], [53.598868, -2.534431], [53.569063, -2.460517], [53.574063, -2.394425], [53.582352, -2.529238], [53.58217, -2.441174], [53.559321, -2.42116], [53.604359, -2.552484], [53.602153, -2.433373], [53.574003, -2.546954], [53.549411, -2.452003], [53.569739, -2.42368], [53.562713, -2.452144], [53.562984, -2.451845], [53.592799, -2.409557], [53.598379, -2.432881], [53.600251, -2.546537], [53.543125, -2.450427], [53.601613, -2.40798], [53.546183, -2.399297], [53.582752, -2.453718], [53.551607, -2.416404], [53.580415, -2.453693], [53.585659, -2.420818], [53.566245, -2.420323], [53.592177, -2.407436], [53.564088, -2.420151], [53.571696, -2.429287], [53.545164, -2.457692], [53.544783, -2.528467], [53.591142, -2.445498], [53.583008, -2.380159], [53.61553, -2.437592], [53.630367, -2.383609], [53.58236, -2.484981], [53.565357, -2.442207], [53.581369, -2.527866], [53.594644, -2.492374], [53.571764, -2.435479], [53.577639, -2.426326], [53.549376, -2.483849], [53.588184, -2.391838], [53.548986, -2.420605], [53.573651, -2.410127], [53.55976, -2.424184], [53.591645, -2.431], [53.613061, -2.398265], [53.587374, -2.48957], [53.575094, -2.544098], [53.593761, -2.442202], [53.559163, -2.463882], [53.565246, -2.447793], [53.589969, -2.395782], [53.557142, -2.401212], [53.57486, -2.424335], [53.568158, -2.462168], [53.597171, -2.392374], [53.568433, -2.546278], [53.586303, -2.389705], [53.546474, -2.419222], [53.548137, -2.406258], [53.601884, -2.407529], [53.56478, -2.427858], [53.562415, -2.410321], [53.541329, -2.425207], [53.553176, -2.430307], [53.542765, -2.450574], [53.610175, -2.40111], [53.544316, -2.392941], [53.555796, -2.400746], [53.55067, -2.496995], [53.554832, -2.490553], [53.590222, -2.40077], [53.583014, -2.431365], [53.57849, -2.414554], [53.539498, -2.409194], [53.586001, -2.450278], [53.590343, -2.391253], [53.565062, -2.44915], [53.561497, -2.440959], [53.550762, -2.496543], [53.576318, -2.418762], [53.56324, -2.431164], [53.58496, -2.440146], [53.582233, -2.423654], [53.579951, -2.502323], [53.575825, -2.43099], [53.630526, -2.441679], [53.578094, -2.536585], [53.574092, -2.546955], [53.578549, -2.535383], [53.53826, -2.519483], [53.560573, -2.422984], [53.591537, -2.435984], [53.59234, -2.412272], [53.565528, -2.419863], [53.576021, -2.450927], [53.573913, -2.546953], [53.58134, -2.446603], [53.56253, -2.375295], [53.553723, -2.402236], [53.557141, -2.401514], [53.56868, -2.418082], [53.610372, -2.367859], [53.53533, -2.363738], [53.557426, -2.397139], [53.562214, -2.529892], [53.574822, -2.434906], [53.543713, -2.411951], [53.581186, -2.387846], [53.55845, -2.412999], [53.55851, -2.446514], [53.542636, -2.384324], [53.542028, -2.521189], [53.555099, -2.49116], [53.543886, -2.386901], [53.541857, -2.402727], [53.571403, -2.482741], [53.578508, -2.563928], [53.560697, -2.438536], [53.574039, -2.427649], [53.561556, -2.536376], [53.577999, -2.42633], [53.543353, -2.412098], [53.600986, -2.432757], [53.59367, -2.442503], [53.55391, -2.426088], [53.595237, -2.561733], [53.576123, -2.422988], [53.576589, -2.41816], [53.579572, -2.567114], [53.590182, -2.437632], [53.595956, -2.43195], [53.582266, -2.439514], [53.578459, -2.535382], [53.572808, -2.444852], [53.563076, -2.373186], [53.564072, -2.449441], [53.5805, -2.430584], [53.614995, -2.436528], [53.58873, -2.389879], [53.573616, -2.445163], [53.562414, -2.410471], [53.554719, -2.400132], [53.598297, -2.454942], [53.583048, -2.422], [53.539169, -2.399986], [53.552995, -2.430607], [53.551728, -2.502139], [53.578768, -2.526625], [53.563376, -2.418181], [53.543301, -2.451334], [53.603869, -2.405282], [53.559596, -2.444412], [53.550843, -2.498808], [53.566027, -2.541717], [53.55402, -2.512733], [53.56262, -2.375296], [53.543301, -2.451334], [53.569376, -2.47245], [53.573911, -2.52732], [53.549374, -2.412307], [53.544504, -2.390378], [53.556136, -2.45615], [53.574132, -2.426895], [53.551652, -2.498667], [53.557323, -2.401063], [53.546021, -2.36549], [53.580508, -2.452787], [53.576202, -2.450476], [53.569067, -2.459611], [53.542195, -2.381755], [53.581757, -2.43105], [53.566114, -2.431797], [53.547582, -2.436136], [53.591247, -2.44142], [53.541864, -2.537938], [53.546626, -2.518077], [53.560703, -2.436875], [53.590557, -2.433406], [53.551391, -2.496551], [53.54237, -2.383416], [53.557543, -2.486961], [53.572531, -2.446662], [53.544115, -2.516688], [53.563959, -2.431322], [53.572441, -2.422197], [53.569982, -2.455242], [53.572806, -2.445456], [53.580602, -2.401283], [53.54941, -2.452154], [53.577201, -2.447919], [53.551462, -2.50108], [53.546963, -2.523363], [53.579668, -2.483741], [53.600465, -2.427765], [53.588591, -2.430364], [53.61279, -2.398565], [53.567987, -2.545517], [53.584091, -2.522009], [53.582353, -2.440119], [53.580704, -2.39781], [53.59194, -2.423751], [53.571763, -2.43563], [53.565174, -2.466665], [53.562803, -2.452145], [53.600874, -2.4388], [53.567653, -2.428944], [53.56487, -2.427859], [53.588564, -2.412387], [53.569983, -2.430779], [53.578872, -2.433437], [53.603357, -2.59267], [53.580046, -2.406262], [53.540162, -2.516187], [53.549954, -2.517514], [53.610175, -2.40111], [53.546474, -2.419222], [53.550844, -2.402964], [53.587836, -2.415099], [53.581103, -2.526957], [53.580745, -2.385274], [53.569829, -2.423681], [53.559027, -2.401985], [53.5765, -2.418159], [53.561359, -2.47689], [53.550755, -2.402963], [53.570734, -2.395602], [53.583064, -2.442241], [53.54738, -2.417118], [53.557322, -2.401214], [53.548882, -2.424528], [53.588501, -2.430363], [53.579572, -2.567114], [53.547907, -2.469041], [53.600799, -2.434871], [53.546563, -2.419373], [53.543166, -2.387196], [53.590825, -2.433862], [53.542852, -2.538101], [53.590737, -2.433559], [53.589447, -2.569663], [53.618945, -2.461816], [53.58329, -2.520186], [53.591119, -2.451692], [53.547906, -2.469192], [53.571144, -2.432905], [53.572167, -2.447866], [53.579382, -2.487816], [53.563488, -2.411841], [53.555099, -2.49116], [53.597867, -2.516739], [53.550693, -2.420773], [53.550305, -2.403109], [53.589253, -2.533705], [53.580603, -2.400981], [53.550394, -2.40311], [53.599785, -2.44166], [53.616039, -2.42112], [53.57404, -2.427498], [53.569548, -2.426698], [53.5623, -2.417566], [53.574896, -2.387184], [53.567392, -2.372469], [53.590329, -2.395483], [53.579852, -2.459879], [53.60089, -2.434418], [53.575274, -2.544101], [53.562342, -2.37786], [53.568906, -2.430466], [53.532469, -2.358735], [53.5371, -2.537878], [53.583652, -2.429106], [53.598655, -2.455399], [53.602113, -2.490194], [53.551301, -2.49655], [53.579935, -2.461693], [53.569574, -2.419299], [53.54863, -2.393132], [53.581184, -2.388299], [53.55303, -2.420947], [53.575825, -2.430839], [53.574131, -2.427046], [53.584183, -2.455697], [53.568326, -2.441483], [53.581368, -2.528017], [53.59972, -2.409473], [53.569829, -2.423681], [53.566192, -2.435271], [53.569829, -2.423681], [53.580032, -2.41034], [53.562351, -2.452895], [53.583018, -2.430308], [53.578094, -2.536736], [53.590567, -2.430687], [53.566921, -2.456568], [53.560004, -2.405617], [53.581612, -2.394949], [53.543656, -2.452545], [53.601411, -2.439562], [53.554195, -2.492508], [53.554624, -2.401641], [53.551212, -2.496548], [53.558393, -2.520032], [53.577168, -2.432363], [53.546791, -2.52155], [53.540921, -2.413432], [53.581433, -2.445849], [53.600981, -2.458446], [53.57413, -2.427499], [53.543124, -2.400174], [53.559175, -2.436859], [53.545311, -2.390989], [53.567977, -2.462468], [53.581555, -2.437241], [53.595025, -2.587114], [53.578508, -2.563928], [53.551862, -2.420633], [53.54666, -2.417412], [53.575744, -2.428573], [53.546701, -2.521549], [53.561662, -2.365172], [53.545111, -2.448184], [53.595979, -2.425453], [53.549615, -2.420762], [53.590293, -2.40636], [53.57849, -2.414554], [53.567653, -2.428944], [53.59484, -2.390539], [53.565883, -2.445837], [53.560367, -2.404413], [53.557271, -2.487562], [53.594294, -2.443869], [53.573819, -2.438822], [53.55027, -2.413222], [53.561204, -2.368036], [53.576417, -2.389312], [53.568612, -2.54628], [53.602155, -2.432618], [53.537473, -2.368283], [53.549093, -2.415776], [53.603599, -2.40543], [53.617999, -2.425977], [53.539717, -2.471667], [53.574632, -2.412251], [53.549075, -2.420757], [53.609521, -2.408359], [53.578249, -2.43177], [53.559719, -2.482306], [53.594826, -2.445839], [53.547887, -2.400219], [53.572102, -2.549799], [53.589931, -2.432493], [53.543803, -2.411951], [53.545584, -2.361562], [53.575308, -2.424642], [53.554916, -2.421267], [53.586534, -2.451794], [53.574118, -2.430821], [53.543442, -2.385388], [53.579166, -2.426795], [53.589253, -2.533705], [53.561447, -2.454245], [53.572904, -2.443192], [53.603295, -2.549297], [53.572521, -2.449531], [53.573336, -2.423112], [53.58119, -2.438748], [53.546991, -2.399607], [53.560356, -2.480351], [53.605034, -2.431892], [53.576672, -2.420124], [53.592074, -2.436594], [53.599776, -2.552122], [53.564919, -2.413968], [53.629376, -2.384205], [53.566155, -2.420322], [53.551391, -2.496551], [53.544304, -2.470963], [53.577262, -2.455622], [53.543621, -2.38554], [53.604585, -2.431887], [53.590969, -2.443683], [53.590764, -2.537501], [53.596784, -2.450997], [53.568413, -2.442239], [53.537562, -2.368737], [53.559095, -2.458144], [53.592517, -2.462283], [53.57495, -2.424336], [53.597719, -2.54998], [53.588744, -2.412388], [53.542548, -2.38372], [53.581556, -2.436788], [53.595432, -2.558412], [53.538004, -2.516462], [53.589609, -2.534465], [53.565618, -2.419713], [53.595802, -2.449325], [53.543124, -2.400023], [53.548955, -2.429207], [53.557634, -2.48666], [53.575929, -2.45153], [53.602825, -2.394844], [53.592038, -2.421485], [53.603415, -2.432328], [53.574003, -2.546954], [53.593673, -2.441748], [53.550061, -2.395259], [53.538629, -2.372518], [53.549076, -2.420455], [53.547826, -2.418178], [53.598676, -2.425178], [53.545671, -2.362469], [53.549024, -2.481883], [53.584198, -2.427148], [53.597721, -2.415649], [53.574144, -2.423422], [53.597983, -2.417918], [53.576749, -2.448518], [53.588501, -2.430363], [53.579837, -2.463806], [53.585507, -2.412659], [53.541748, -2.380996], [53.603145, -2.432326], [53.551301, -2.49655], [53.567821, -2.456427], [53.571833, -2.549644], [53.59135, -2.412565], [53.547907, -2.469041], [53.587481, -2.413585], [53.597751, -2.432724], [53.580754, -2.434967], [53.578872, -2.433437], [53.546631, -2.425562], [53.558904, -2.411947], [53.57495, -2.424185], [53.56229, -2.420435], [53.538777, -2.40979], [53.629561, -2.382392], [53.559113, -2.403193], [53.591097, -2.562887], [53.543247, -2.441675], [53.533544, -2.388466], [53.554839, -2.488892], [53.544575, -2.447273], [53.55645, -2.490421], [53.543621, -2.38554], [53.542808, -2.38674], [53.579371, -2.552309], [53.565033, -2.522529], [53.55413, -2.486318], [53.55645, -2.490421], [53.545367, -2.451658], [53.537836, -2.395597], [53.55404, -2.486317], [53.541402, -2.430036], [53.538929, -2.391081], [53.573649, -2.54559], [53.544299, -2.448779], [53.532397, -2.381968], [53.565034, -2.522378], [53.544046, -2.4444], [53.543077, -2.387045], [53.573472, -2.544984], [53.547044, -2.459674], [53.530183, -2.371237], [53.552176, -2.48056], [53.538897, -2.400889], [53.541408, -2.428377], [53.544926, -2.449389], [53.531148, -2.379091], [53.569291, -2.535266], [53.569202, -2.535114], [53.530527, -2.376219], [53.538982, -2.402247], [53.599519, -2.587177], [53.546536, -2.518075], [53.586885, -2.429894], [53.564966, -2.45081], [53.562571, -2.416965], [53.577256, -2.456982], [53.574914, -2.544247], [53.576904, -2.455014], [53.57641, -2.443078], [53.576811, -2.431604], [53.569548, -2.426849], [53.548597, -2.519459], [53.56735, -2.412633], [53.556096, -2.489058], [53.587513, -2.454524], [53.547997, -2.469042], [53.557703, -2.394877], [53.569966, -2.482423], [53.592099, -2.453969], [53.586578, -2.414784], [53.563638, -2.420297], [53.538563, -2.444342], [53.544294, -2.450137], [53.568145, -2.441935], [53.586235, -2.482306], [53.554737, -2.421115], [53.544116, -2.399127], [53.556548, -2.48861], [53.543794, -2.414517], [53.545684, -2.527875], [53.574736, -2.381142], [53.580508, -2.452787], [53.576203, -2.450325], [53.597669, -2.377117], [53.591723, -2.48116], [53.594294, -2.44402], [53.578598, -2.434794], [53.574028, -2.430669], [53.561436, -2.407292], [53.588197, -2.414649], [53.534675, -2.537545], [53.543395, -2.399573], [53.585198, -2.448608], [53.596047, -2.431649], [53.558732, -2.524565], [53.585645, -2.449368], [53.630277, -2.383608], [53.58081, -2.392827], [53.590222, -2.474344], [53.566245, -2.420323], [53.546816, -2.448806], [53.580754, -2.434967], [53.567523, -2.463671], [53.582603, -2.445559], [53.564472, -2.41336], [53.566969, -2.443734], [53.585484, -2.419456], [53.623178, -2.435403], [53.570919, -2.491041], [53.561198, -2.369848], [53.607819, -2.479529], [53.558968, -2.419194], [53.575634, -2.434008], [53.593822, -2.473327], [53.538299, -2.362707], [53.57185, -2.436537], [53.54941, -2.452154], [53.5575, -2.401668], [53.573819, -2.438822], [53.573337, -2.422961], [53.565546, -2.414579], [53.595419, -2.500391], [53.545605, -2.383596], [53.579774, -2.379677], [53.564686, -2.375616], [53.601923, -2.554417], [53.584085, -2.523368], [53.576416, -2.487782], [53.554661, -2.509872], [53.543531, -2.38554], [53.595691, -2.579569], [53.600896, -2.432756], [53.606236, -2.422534], [53.591555, -2.430848], [53.60997, -2.434209], [53.569118, -2.469578], [53.588754, -2.458918], [53.570584, -2.438487], [53.562086, -2.474784], [53.62309, -2.4351], [53.542192, -2.382811], [53.583815, -2.523516], [53.586618, -2.403304], [53.591812, -2.481312], [53.574604, -2.572182], [53.571723, -2.39531], [53.61297, -2.398416], [53.57734, -2.434479], [53.577124, -2.444445], [53.574733, -2.544396], [53.541304, -2.406646], [53.573728, -2.438972], [53.575059, -2.418749], [53.598842, -2.540173], [53.597108, -2.410959], [53.568778, -2.440733], [53.576202, -2.450476], [53.555913, -2.44392], [53.567295, -2.476051], [53.53551, -2.36374], [53.566092, -2.412621], [53.581555, -2.384828], [53.597445, -2.390866], [53.572482, -2.435788], [53.561203, -2.368489], [53.571471, -2.550243], [53.598379, -2.432881], [53.566699, -2.444033], [53.565316, -2.375319], [53.593679, -2.463807], [53.598187, -2.410818], [53.590959, -2.395187], [53.584998, -2.429572], [53.562216, -2.440967], [53.547287, -2.418022], [53.57018, -2.450412], [53.595507, -2.431643], [53.588743, -2.412539], [53.537207, -2.367225], [53.568433, -2.546127], [53.605034, -2.431892], [53.563277, -2.469211], [53.542051, -2.449208], [53.578508, -2.434793], [53.574119, -2.430519], [53.604491, -2.432944], [53.59491, -2.493283], [53.57641, -2.443078], [53.593492, -2.442048], [53.578418, -2.563927], [53.616337, -2.438205], [53.551087, -2.525678], [53.591188, -2.407427], [53.571075, -2.45163], [53.58276, -2.451452], [53.546631, -2.399603], [53.592897, -2.40699], [53.594629, -2.45037], [53.542967, -2.39308], [53.602338, -2.431864], [53.544899, -2.456633], [53.580324, -2.453994], [53.594968, -2.431638], [53.578761, -2.413953], [53.558848, -2.401983], [53.560904, -2.455296], [53.572531, -2.446662], [53.611403, -2.41004], [53.574868, -2.42207], [53.567627, -2.43604], [53.591182, -2.409088], [53.598524, -2.550746], [53.57849, -2.414554], [53.579512, -2.377258], [53.55021, -2.499555], [53.59194, -2.423751], [53.549885, -2.468912], [53.547397, -2.52684], [53.587316, -2.382312], [53.598676, -2.425178], [53.55303, -2.420796], [53.574914, -2.544247], [53.551044, -2.396928], [53.569741, -2.368715], [53.569664, -2.419451], [53.542858, -2.556512], [53.573657, -2.433988], [53.550394, -2.40311], [53.546822, -2.514306], [53.570827, -2.420821], [53.581556, -2.384526], [53.597429, -2.554207], [53.552136, -2.419428], [53.58324, -2.4433], [53.548693, -2.401132], [53.569196, -2.449194], [53.572923, -2.484571], [53.560574, -2.422682], [53.545561, -2.423136], [53.565224, -2.429372], [53.567159, -2.464724], [53.581985, -2.442532], [53.563076, -2.373186], [53.569739, -2.42368], [53.554305, -2.508963], [53.551301, -2.49655], [53.595979, -2.425453], [53.574771, -2.424183], [53.578922, -2.39296], [53.57849, -2.414403], [53.546536, -2.518075], [53.574092, -2.546955], [53.543793, -2.414819], [53.578184, -2.536586], [53.592491, -2.393993], [53.565797, -2.420017], [53.563968, -2.559356], [53.578506, -2.435246], [53.572531, -2.446662], [53.578627, -2.426638], [53.59385, -2.442354], [53.548584, -2.407017], [53.570253, -2.430631], [53.562086, -2.474784], [53.588474, -2.412386], [53.545167, -2.379971], [53.543393, -2.450882], [53.576103, -2.428727], [53.615619, -2.437895], [53.602361, -2.594168], [53.546474, -2.419222], [53.603284, -2.551564], [53.582813, -2.484079], [53.580921, -2.386484], [53.572531, -2.446662], [53.567249, -2.464725], [53.557543, -2.486961], [53.555789, -2.375084], [53.596805, -2.553141], [53.548638, -2.509951], [53.547217, -2.412437], [53.549374, -2.412307], [53.565675, -2.375625], [53.541992, -2.360325], [53.561519, -2.382231], [53.597806, -2.417161], [53.565077, -2.444922], [53.58447, -2.426395], [53.566901, -2.437845], [53.559007, -2.45754], [53.55664, -2.465515], [53.576567, -2.449121], [53.584656, -2.449206], [53.5617, -2.408955], [53.565542, -2.440699], [53.579687, -2.37877], [53.612098, -2.465822], [53.60034, -2.54669], [53.616171, -2.458611], [53.55972, -2.524879], [53.587475, -2.529302], [53.585287, -2.44876], [53.57212, -2.436238], [53.598676, -2.425178], [53.61336, -2.415954], [53.571275, -2.42143], [53.585467, -2.448913], [53.58874, -2.462695], [53.579775, -2.501414], [53.591756, -2.449584], [53.546387, -2.391753], [53.551301, -2.49655], [53.614096, -2.410973], [53.572808, -2.444852], [53.567257, -2.438905], [53.590061, -2.534018], [53.59398, -2.431477], [53.579421, -2.377408], [53.559805, -2.41105], [53.549885, -2.468912], [53.554924, -2.48995], [53.55828, -2.459645], [53.577494, -2.416508], [53.57716, -2.434477], [53.54567, -2.391143], [53.611314, -2.409888], [53.57995, -2.457766], [53.589576, -2.405749], [53.559937, -2.449397], [53.586578, -2.414935], [53.574822, -2.434906], [53.588634, -2.570408], [53.590959, -2.395187], [53.588756, -2.458616], [53.554271, -2.399826], [53.59945, -2.435008], [53.556186, -2.489059], [53.579775, -2.501414], [53.558618, -2.416624], [53.557422, -2.398346], [53.541306, -2.406193], [53.573089, -2.441835], [53.5952, -2.390391], [53.574768, -2.424787], [53.590835, -2.47843], [53.59416, -2.431479], [53.572332, -2.497249], [53.598199, -2.43288], [53.546455, -2.424504], [53.578882, -2.430719], [53.574578, -2.427655], [53.579377, -2.489024], [53.544506, -2.389925], [53.576921, -2.426017], [53.57681, -2.432057], [53.547367, -2.469186], [53.615176, -2.410832], [53.568249, -2.462018], [53.566608, -2.444334], [53.587613, -2.427333], [53.548986, -2.420454], [53.598534, -2.54848], [53.580712, -2.395242], [53.600036, -2.514045], [53.594143, -2.410779], [53.57499, -2.412708], [53.574118, -2.430821], [53.546579, -2.387982], [53.551638, -2.501987], [53.58004, -2.457767], [53.595292, -2.587722], [53.571621, -2.449823], [53.569327, -2.547196], [53.551044, -2.396928], [53.589804, -2.570272], [53.584574, -2.447242], [53.552096, -2.45505], [53.579428, -2.498389], [53.541452, -2.360471], [53.620201, -2.462434], [53.559871, -2.489252], [53.57527, -2.545007], [53.582644, -2.381666], [53.616396, -2.421728], [53.584448, -2.522769], [53.579837, -2.463655], [53.575043, -2.423431], [53.560308, -2.367123], [53.599638, -2.432894], [53.546819, -2.51491], [53.571805, -2.494223], [53.585807, -2.429581], [53.575936, -2.425101], [53.578639, -2.535384], [53.576802, -2.434322], [53.584835, -2.424888], [53.557231, -2.401515], [53.572031, -2.436086], [53.576008, -2.430085], [53.56324, -2.431164], [53.600999, -2.42913], [53.585215, -2.392565], [53.593896, -2.540563], [53.59458, -2.586202], [53.581103, -2.526957], [53.597018, -2.411109], [53.580043, -2.457012], [53.539497, -2.409344], [53.573362, -2.440781], [53.589447, -2.569663], [53.55673, -2.465365], [53.58141, -2.401593], [53.556187, -2.488908], [53.567434, -2.439662], [53.549885, -2.468912], [53.60025, -2.546688], [53.575464, -2.431439], [53.582276, -2.436795], [53.580402, -2.407323], [53.552352, -2.524184], [53.561332, -2.436881], [53.579718, -2.471206], [53.568865, -2.441489], [53.546894, -2.427526], [53.5812, -2.435878], [53.599457, -2.380306], [53.601654, -2.554111], [53.58071, -2.395847], [53.557718, -2.509607], [53.596422, -2.451749], [53.571621, -2.449672], [53.588008, -2.466011], [53.565126, -2.431636], [53.553301, -2.512724], [53.560823, -2.428573], [53.593704, -2.407753], [53.531446, -2.515628], [53.546535, -2.518377], [53.545767, -2.360357], [53.597811, -2.549528], [53.582366, -2.436645], [53.572603, -2.427031], [53.573657, -2.433837], [53.589576, -2.405749], [53.576373, -2.428579], [53.552777, -2.416114], [53.56161, -2.381779], [53.559411, -2.421161], [53.55894, -2.451651], [53.581688, -2.425159], [53.590647, -2.433558], [53.580497, -2.405964], [53.568299, -2.448731], [53.572904, -2.443192], [53.57444, -2.416025], [53.57221, -2.436238], [53.626944, -2.385846], [53.595979, -2.425453], [53.544202, -2.426141], [53.597284, -2.412018], [53.592275, -2.541297], [53.558247, -2.444549], [53.599804, -2.546078], [53.603096, -2.553375], [53.562177, -2.474483], [53.583291, -2.520035], [53.60903, -2.394146], [53.575912, -2.431746], [53.534757, -2.518988], [53.598851, -2.538057], [53.58126, -2.511703], [53.559909, -2.456795], [53.552312, -2.420638], [53.578596, -2.435096], [53.573606, -2.423114], [53.573271, -2.441233], [53.583144, -2.393604], [53.57422, -2.427198], [53.566154, -2.445387], [53.598041, -2.518101], [53.582143, -2.423653], [53.584289, -2.426846], [53.598099, -2.410364], [53.608143, -2.39036], [53.606881, -2.551308], [53.555795, -2.400897], [53.561306, -2.363961], [53.59245, -2.456239], [53.546219, -2.388281], [53.598566, -2.455247], [53.577042, -2.417258], [53.591317, -2.44686], [53.57807, -2.431617], [53.550933, -2.498658], [53.578508, -2.434793], [53.542195, -2.381755], [53.583928, -2.427145], [53.573949, -2.427799], [53.545692, -2.411366], [53.56526, -2.467723], [53.584819, -2.42942], [53.550509, -2.395867], [53.616397, -2.421577], [53.571177, -2.494064], [53.618978, -2.428557], [53.557541, -2.464921], [53.579246, -2.376047], [53.605125, -2.431741], [53.547933, -2.506622], [53.543035, -2.399871], [53.63626, -2.44673], [53.572351, -2.422045], [53.595228, -2.408825], [53.572121, -2.436087], [53.548806, -2.420754], [53.573818, -2.438973], [53.569862, -2.439234], [53.576326, -2.487781], [53.546561, -2.420128], [53.57849, -2.414554], [53.574233, -2.423574], [53.548871, -2.427697], [53.561266, -2.454545], [53.569506, -2.5475], [53.560401, -2.420869], [53.567249, -2.464725], [53.615324, -2.419752], [53.572905, -2.44289], [53.585338, -2.524743], [53.537253, -2.523696], [53.571598, -2.40603], [53.559722, -2.524426], [53.579572, -2.567114], [53.574913, -2.434605], [53.595574, -2.547232], [53.59838, -2.43273], [53.5865, -2.483668], [53.588651, -2.462543], [53.548027, -2.505869], [53.573706, -2.445164], [53.543952, -2.533437], [53.557322, -2.401365], [53.594485, -2.441001], [53.546718, -2.426468], [53.59368, -2.463656], [53.572808, -2.444852], [53.568236, -2.441482], [53.56707, -2.464723], [53.579435, -2.426948], [53.581582, -2.454158], [53.57789, -2.431464], [53.56175, -2.42058], [53.587883, -2.427185], [53.572038, -2.434274], [53.579864, -2.379677], [53.572783, -2.426881], [53.560053, -2.417393], [53.585605, -2.5252], [53.586351, -2.428378], [53.561813, -2.475687], [53.580373, -2.41563], [53.600799, -2.43472], [53.586111, -2.444841], [53.578852, -2.413802], [53.565616, -2.468633], [53.57402, -2.433086], [53.595856, -2.409134], [53.598068, -2.5521], [53.556821, -2.465215], [53.575012, -2.37903], [53.603418, -2.405731], [53.591628, -2.435683], [53.564677, -2.43148], [53.569803, -2.430929], [53.562436, -2.376351], [53.602204, -2.552003], [53.617099, -2.42627], [53.555885, -2.400747], [53.605585, -2.428723], [53.579849, -2.411396], [53.572301, -2.435937], [53.545759, -2.363073], [53.55475, -2.510024], [53.555867, -2.455996], [53.588746, -2.461184], [53.604167, -2.493542], [53.572997, -2.442438], [53.599123, -2.426089], [53.543796, -2.387202], [53.569561, -2.368864], [53.547311, -2.41108], [53.551283, -2.521907], [53.579485, -2.412751], [53.563069, -2.428746], [53.574001, -2.527321], [53.538688, -2.503494], [53.585909, -2.55738], [53.555016, -2.489498], [53.543692, -2.442887], [53.542809, -2.438652], [53.545463, -2.449999], [53.537483, -2.393482], [53.539037, -2.412358], [53.534435, -2.390889], [53.559015, -2.500565], [53.556798, -2.493293], [53.531863, -2.380153], [53.537031, -2.394383], [53.552707, -2.482528], [53.575267, -2.545611], [53.548101, -2.46527], [53.541161, -2.422036], [53.536495, -2.393322], [53.530528, -2.376068], [53.534266, -2.387719], [53.566892, -2.529045], [53.565208, -2.523739], [53.585908, -2.557682], [53.537666, -2.392578], [53.563086, -2.51556], [53.55645, -2.490421], [53.535784, -2.390901], [53.562822, -2.514349], [53.538979, -2.403153], [53.529822, -2.371838], [53.564766, -2.522073], [53.529292, -2.368816], [53.535783, -2.391203], [53.530708, -2.376069]],\n",
       "                {\n",
       "  &quot;minOpacity&quot;: 0.5,\n",
       "  &quot;maxZoom&quot;: 18,\n",
       "  &quot;radius&quot;: 25,\n",
       "  &quot;blur&quot;: 15,\n",
       "}\n",
       "            );\n",
       "        \n",
       "    \n",
       "            heat_map_e94f0dd44d801562a75a5a43685066db.addTo(map_e387960c57ef662e0fdfc64c7cef40ed);\n",
       "        \n",
       "    \n",
       "            tile_layer_f8f4c3e6ca725906a235268c0a0a8af0.addTo(map_e387960c57ef662e0fdfc64c7cef40ed);\n",
       "        \n",
       "    \n",
       "            heat_map_e94f0dd44d801562a75a5a43685066db.addTo(map_e387960c57ef662e0fdfc64c7cef40ed);\n",
       "        \n",
       "&lt;/script&gt;\n",
       "&lt;/html&gt;\" style=\"position:absolute;width:100%;height:100%;left:0;top:0;border:none !important;\" allowfullscreen webkitallowfullscreen mozallowfullscreen></iframe></div></div>"
      ],
      "text/plain": [
       "<folium.folium.Map at 0x1746430c2c0>"
      ]
     },
     "execution_count": 54,
     "metadata": {},
     "output_type": "execute_result"
    }
   ],
   "source": [
    "# bolton_df\n",
    "import folium\n",
    "from folium.plugins import HeatMap\n",
    "bolton_locations  = list(zip(bolton_df['Latitude'], bolton_df['Longitude']))\n",
    "bolton_map = folium.Map(location=[bolton_df['Latitude'].mean(), bolton_df['Longitude'].mean()], zoom_start=10)\n",
    "HeatMap(bolton_locations).add_to(bolton_map)\n",
    "bolton_map.save('bolton_heatmap.html')  \n",
    "bolton_map"
   ]
  },
  {
   "cell_type": "code",
   "execution_count": 51,
   "id": "9ed2f82c-b622-4961-b76f-9b0555fe2e3c",
   "metadata": {},
   "outputs": [],
   "source": [
    "conwy_df = df[df['District Area'] == 'Conwy']\n"
   ]
  },
  {
   "cell_type": "code",
   "execution_count": 52,
   "id": "ec50e840-113c-4347-ae29-1954b5b56887",
   "metadata": {},
   "outputs": [
    {
     "data": {
      "text/html": [
       "<div style=\"width:100%;\"><div style=\"position:relative;width:100%;height:0;padding-bottom:60%;\"><span style=\"color:#565656\">Make this Notebook Trusted to load map: File -> Trust Notebook</span><iframe srcdoc=\"&lt;!DOCTYPE html&gt;\n",
       "&lt;html&gt;\n",
       "&lt;head&gt;\n",
       "    \n",
       "    &lt;meta http-equiv=&quot;content-type&quot; content=&quot;text/html; charset=UTF-8&quot; /&gt;\n",
       "    &lt;script src=&quot;https://cdn.jsdelivr.net/npm/leaflet@1.9.3/dist/leaflet.js&quot;&gt;&lt;/script&gt;\n",
       "    &lt;script src=&quot;https://code.jquery.com/jquery-3.7.1.min.js&quot;&gt;&lt;/script&gt;\n",
       "    &lt;script src=&quot;https://cdn.jsdelivr.net/npm/bootstrap@5.2.2/dist/js/bootstrap.bundle.min.js&quot;&gt;&lt;/script&gt;\n",
       "    &lt;script src=&quot;https://cdnjs.cloudflare.com/ajax/libs/Leaflet.awesome-markers/2.0.2/leaflet.awesome-markers.js&quot;&gt;&lt;/script&gt;\n",
       "    &lt;link rel=&quot;stylesheet&quot; href=&quot;https://cdn.jsdelivr.net/npm/leaflet@1.9.3/dist/leaflet.css&quot;/&gt;\n",
       "    &lt;link rel=&quot;stylesheet&quot; href=&quot;https://cdn.jsdelivr.net/npm/bootstrap@5.2.2/dist/css/bootstrap.min.css&quot;/&gt;\n",
       "    &lt;link rel=&quot;stylesheet&quot; href=&quot;https://netdna.bootstrapcdn.com/bootstrap/3.0.0/css/bootstrap-glyphicons.css&quot;/&gt;\n",
       "    &lt;link rel=&quot;stylesheet&quot; href=&quot;https://cdn.jsdelivr.net/npm/@fortawesome/fontawesome-free@6.2.0/css/all.min.css&quot;/&gt;\n",
       "    &lt;link rel=&quot;stylesheet&quot; href=&quot;https://cdnjs.cloudflare.com/ajax/libs/Leaflet.awesome-markers/2.0.2/leaflet.awesome-markers.css&quot;/&gt;\n",
       "    &lt;link rel=&quot;stylesheet&quot; href=&quot;https://cdn.jsdelivr.net/gh/python-visualization/folium/folium/templates/leaflet.awesome.rotate.min.css&quot;/&gt;\n",
       "    \n",
       "            &lt;meta name=&quot;viewport&quot; content=&quot;width=device-width,\n",
       "                initial-scale=1.0, maximum-scale=1.0, user-scalable=no&quot; /&gt;\n",
       "            &lt;style&gt;\n",
       "                #map_136ceb65d619fcf0310379d5a2ead679 {\n",
       "                    position: relative;\n",
       "                    width: 100.0%;\n",
       "                    height: 100.0%;\n",
       "                    left: 0.0%;\n",
       "                    top: 0.0%;\n",
       "                }\n",
       "                .leaflet-container { font-size: 1rem; }\n",
       "            &lt;/style&gt;\n",
       "\n",
       "            &lt;style&gt;html, body {\n",
       "                width: 100%;\n",
       "                height: 100%;\n",
       "                margin: 0;\n",
       "                padding: 0;\n",
       "            }\n",
       "            &lt;/style&gt;\n",
       "\n",
       "            &lt;style&gt;#map {\n",
       "                position:absolute;\n",
       "                top:0;\n",
       "                bottom:0;\n",
       "                right:0;\n",
       "                left:0;\n",
       "                }\n",
       "            &lt;/style&gt;\n",
       "\n",
       "            &lt;script&gt;\n",
       "                L_NO_TOUCH = false;\n",
       "                L_DISABLE_3D = false;\n",
       "            &lt;/script&gt;\n",
       "\n",
       "        \n",
       "    &lt;script src=&quot;https://cdn.jsdelivr.net/gh/python-visualization/folium@main/folium/templates/leaflet_heat.min.js&quot;&gt;&lt;/script&gt;\n",
       "&lt;/head&gt;\n",
       "&lt;body&gt;\n",
       "    \n",
       "    \n",
       "            &lt;div class=&quot;folium-map&quot; id=&quot;map_136ceb65d619fcf0310379d5a2ead679&quot; &gt;&lt;/div&gt;\n",
       "        \n",
       "&lt;/body&gt;\n",
       "&lt;script&gt;\n",
       "    \n",
       "    \n",
       "            var map_136ceb65d619fcf0310379d5a2ead679 = L.map(\n",
       "                &quot;map_136ceb65d619fcf0310379d5a2ead679&quot;,\n",
       "                {\n",
       "                    center: [53.25726671280828, -3.7409045274463013],\n",
       "                    crs: L.CRS.EPSG3857,\n",
       "                    ...{\n",
       "  &quot;zoom&quot;: 10,\n",
       "  &quot;zoomControl&quot;: true,\n",
       "  &quot;preferCanvas&quot;: false,\n",
       "}\n",
       "\n",
       "                }\n",
       "            );\n",
       "\n",
       "            \n",
       "\n",
       "        \n",
       "    \n",
       "            var tile_layer_e06cdc43754ed5ab2ee058db571d3d34 = L.tileLayer(\n",
       "                &quot;https://tile.openstreetmap.org/{z}/{x}/{y}.png&quot;,\n",
       "                {\n",
       "  &quot;minZoom&quot;: 0,\n",
       "  &quot;maxZoom&quot;: 19,\n",
       "  &quot;maxNativeZoom&quot;: 19,\n",
       "  &quot;noWrap&quot;: false,\n",
       "  &quot;attribution&quot;: &quot;\\u0026copy; \\u003ca href=\\&quot;https://www.openstreetmap.org/copyright\\&quot;\\u003eOpenStreetMap\\u003c/a\\u003e contributors&quot;,\n",
       "  &quot;subdomains&quot;: &quot;abc&quot;,\n",
       "  &quot;detectRetina&quot;: false,\n",
       "  &quot;tms&quot;: false,\n",
       "  &quot;opacity&quot;: 1,\n",
       "}\n",
       "\n",
       "            );\n",
       "        \n",
       "    \n",
       "            tile_layer_e06cdc43754ed5ab2ee058db571d3d34.addTo(map_136ceb65d619fcf0310379d5a2ead679);\n",
       "        \n",
       "    \n",
       "            var heat_map_ff6e44a837e22a0a802ef67d6fc10296 = L.heatLayer(\n",
       "                [[53.308654, -3.811061], [53.319981, -3.81109], [53.30367, -3.807698], [53.305783, -3.786775], [53.299102, -3.836018], [53.32485, -3.83367], [53.311771, -3.812994], [53.284931, -3.569284], [53.324002, -3.83033], [53.320905, -3.815333], [53.319382, -3.814968], [53.327497, -3.83108], [53.323584, -3.786768], [53.323406, -3.828203], [53.321102, -3.826002], [53.318237, -3.813419], [53.316547, -3.818151], [53.28073, -3.79083], [53.321941, -3.829942], [53.330425, -3.833609], [53.289343, -3.797941], [53.321489, -3.824217], [53.317436, -3.818789], [53.323058, -3.827437], [53.319066, -3.812102], [53.314168, -3.826757], [53.323631, -3.825209], [53.323353, -3.831654], [53.323906, -3.830777], [53.323751, -3.829118], [53.303576, -3.807994], [53.320926, -3.819839], [53.302375, -3.821901], [53.323233, -3.827745], [53.322539, -3.820208], [53.325822, -3.834763], [53.3074, -3.810708], [53.320302, -3.842934], [53.31986, -3.819043], [53.322435, -3.803386], [53.319985, -3.828507], [53.322703, -3.832977], [53.316898, -3.836332], [53.319867, -3.836159], [53.317079, -3.818624], [53.320719, -3.815776], [53.322973, -3.785541], [53.316554, -3.841121], [53.315117, -3.823495], [53.320736, -3.826437], [53.31078, -3.813102], [53.320978, -3.810532], [53.326179, -3.834928], [53.227553, -3.817524], [53.283132, -3.816282], [53.288415, -3.829409], [53.282539, -3.837408], [53.274639, -3.836619], [53.247691, -3.739237], [53.177695, -3.832624], [53.288279, -3.855658], [53.280546, -3.826672], [53.280539, -3.827122], [53.321041, -3.818192], [53.25845, -3.795746], [53.27962, -3.792883], [53.283676, -3.804154], [53.289075, -3.815634], [53.286982, -3.823196], [53.296946, -3.835926], [53.295079, -3.816939], [53.279638, -3.797684], [53.280919, -3.808088], [53.280344, -3.792613], [53.281797, -3.809475], [53.279111, -3.790912], [53.280035, -3.80115], [53.285143, -3.814117], [53.289069, -3.79823], [53.292647, -3.823137], [53.289817, -3.802312], [53.279551, -3.79153], [53.275646, -3.86441], [53.284707, -3.813198], [53.280344, -3.792613], [53.287831, -3.814681], [53.281429, -3.810059], [53.283822, -3.80041], [53.246916, -3.797511], [53.284439, -3.807186], [53.280705, -3.810329], [53.285817, -3.811145], [53.284624, -3.812745], [53.256498, -3.794015], [53.282945, -3.810874], [53.289983, -3.803219], [53.281426, -3.792359], [53.281979, -3.809333], [53.260068, -3.972134], [53.266581, -3.942292], [53.261644, -3.969207], [53.280939, -3.899292], [53.277354, -3.904232], [53.276935, -3.907963], [53.287636, -3.885186], [53.25496, -3.976546], [53.164355, -3.811411], [53.220638, -3.822923], [53.119127, -3.793967], [53.139148, -3.795848], [53.133091, -3.803967], [53.196977, -3.824015], [53.152324, -3.768432], [53.152324, -3.768432], [53.131727, -3.810935], [53.197161, -3.823723], [53.200479, -3.824313], [53.163297, -3.725202], [53.169858, -3.827802], [53.25686, -3.835258], [53.155067, -3.759271], [53.196876, -3.824759], [53.113105, -3.781913], [53.132328, -3.800945], [53.095868, -3.792253], [53.092635, -3.803917], [53.095102, -3.82493], [53.063375, -3.770755], [53.00674, -3.551572], [53.115046, -3.922902], [53.023939, -3.563223], [53.038082, -3.547328], [53.068191, -3.855883], [53.093071, -3.804831], [53.045826, -3.710511], [53.065275, -3.864116], [53.070281, -3.795817], [53.075675, -3.795892], [53.035443, -3.597346], [53.06311, -3.870291], [53.039958, -3.628986], [53.069369, -3.837873], [53.08434, -3.991415], [53.061642, -3.872168], [52.989486, -3.466032], [53.067922, -3.861544], [53.056027, -3.55006], [53.043131, -3.916715], [53.047908, -3.728198], [53.096233, -3.885021], [53.063018, -3.870436], [52.990689, -3.470542], [53.090171, -3.800379], [53.099067, -3.876332], [53.063018, -3.870436], [53.102246, -3.845548], [53.01602, -3.556974], [53.093587, -3.806346], [53.066693, -3.777309], [53.024361, -3.551608], [53.119917, -3.944042], [53.101232, -3.841322], [53.068394, -3.783798], [53.053314, -3.904037], [53.119917, -3.944042], [53.093797, -3.822037], [53.059704, -3.757621], [53.119419, -3.947008], [53.291799, -3.666009], [53.291132, -3.725548], [53.296331, -3.73281], [53.307945, -3.756245], [53.289775, -3.719942], [53.292855, -3.705812], [53.296868, -3.732982], [53.299581, -3.744197], [53.317, -3.776134], [53.298663, -3.733205], [53.310055, -3.777647], [53.29696, -3.732836], [53.292194, -3.669926], [53.295494, -3.728575], [53.28919, -3.710617], [53.29331, -3.724135], [53.293245, -3.684671], [53.295341, -3.73292], [53.299391, -3.738787], [53.309276, -3.739038], [53.298378, -3.740396], [53.292331, -3.729647], [53.29557, -3.729478], [53.2927, -3.741366], [53.311178, -3.750374], [53.291491, -3.762472], [53.310134, -3.760238], [53.2909, -3.759897], [53.286814, -3.76873], [53.318245, -3.764926], [53.297498, -3.726705], [53.31423, -3.768963], [53.291516, -3.730065], [53.29877, -3.756619], [53.300423, -3.74198], [53.278546, -3.74409], [53.314228, -3.769113], [53.295147, -3.72766], [53.290007, -3.703748], [53.311012, -3.761625], [53.294687, -3.715938], [53.297889, -3.730772], [53.304698, -3.738552], [53.308266, -3.740498], [53.295654, -3.729932], [53.292125, -3.762198], [53.31423, -3.768963], [53.295608, -3.733081], [53.308641, -3.739463], [53.304245, -3.738834], [53.313998, -3.748087], [53.304317, -3.806525], [53.292633, -3.721257], [53.295302, -3.760078], [53.294221, -3.741878], [53.28584, -3.680629], [53.253771, -3.659584], [53.291297, -3.695247], [53.290537, -3.672712], [53.299677, -3.731445], [53.290523, -3.680063], [53.282697, -3.661155], [53.292559, -3.694997], [53.291558, -3.702159], [53.268741, -3.656265], [53.290029, -3.702248], [53.287154, -3.702134], [53.289992, -3.704797], [53.290022, -3.702698], [53.294579, -3.692076], [53.292838, -3.70071], [53.288941, -3.690203], [53.290675, -3.694772], [53.28995, -3.701495], [53.272577, -3.746546], [53.29282, -3.708211], [53.276727, -3.663773], [53.294195, -3.712617], [53.289566, -3.709431], [53.285993, -3.682585], [53.286948, -3.573108], [53.244058, -3.587271], [53.28659, -3.572945], [53.28408, -3.572403], [53.167164, -3.661925], [53.272893, -3.53405], [53.268862, -3.539903], [53.273011, -3.586843], [53.281978, -3.533625], [53.249066, -3.596], [53.291106, -3.631624], [53.274004, -3.545487], [53.297997, -3.566911], [53.289336, -3.576046], [53.285321, -3.5873], [53.283838, -3.570294], [53.287615, -3.637042], [53.290802, -3.647216], [53.284806, -3.58548], [53.272815, -3.533147], [53.178847, -3.596534], [53.255384, -3.567002], [53.163297, -3.725202], [53.291106, -3.578212], [53.283169, -3.566519], [53.279407, -3.632528], [53.275907, -3.544356], [53.283838, -3.570294], [53.285306, -3.519493], [53.300659, -3.80472], [53.288802, -3.609332], [53.294123, -3.581174], [53.282703, -3.594853], [53.282472, -3.544143], [53.291198, -3.644531], [53.277973, -3.632174], [53.158793, -3.521452], [53.273193, -3.5867], [53.270341, -3.543706], [53.28415, -3.573905], [53.286762, -3.546098], [53.282158, -3.533631], [53.283343, -3.566975], [53.282144, -3.548631], [53.27765, -3.589565], [53.29346, -3.5837], [53.254038, -3.58719], [53.284161, -3.579906], [53.215326, -3.59804], [53.288449, -3.628672], [53.263429, -3.590837], [53.1628, -3.728473], [53.287126, -3.580015], [53.284403, -3.582015], [53.276969, -3.58669], [53.197521, -3.823739], [53.273372, -3.538716], [53.118067, -3.780773], [53.285184, -3.570493], [53.284303, -3.582761], [53.296311, -3.728008], [53.281978, -3.533625], [53.305998, -3.518277], [53.311957, -3.516236], [53.297366, -3.567038], [53.31084, -3.519199], [53.300002, -3.551078], [53.30629, -3.530594], [53.307655, -3.529292], [53.319827, -3.490993], [53.30611, -3.530588], [53.31084, -3.519199], [53.306382, -3.530447], [53.312985, -3.513121], [53.30609, -3.51813], [53.17991, -3.604355], [52.997279, -3.525454], [53.303979, -3.834576], [53.31716, -3.819228], [53.324184, -3.830188], [53.302873, -3.824624], [53.328217, -3.860094], [53.252989, -3.835542], [53.288598, -3.852521], [53.28809, -3.827144], [53.259594, -3.838673], [53.286517, -3.853331], [53.294911, -3.816181], [53.280728, -3.790979], [53.277064, -3.789476], [53.293289, -3.822265], [53.284663, -3.810196], [53.291177, -3.825175], [53.229659, -3.820909], [53.278839, -3.79105], [53.294826, -3.833434], [53.277299, -3.90768], [53.275003, -3.910727], [53.276743, -3.908705], [53.260148, -3.972737], [53.139713, -3.800058], [53.142119, -3.801504], [53.156037, -3.808519], [53.271314, -3.746795], [53.063113, -3.870142], [53.09653, -3.600803], [53.057278, -3.875261], [53.057278, -3.875261], [53.300427, -3.74168], [53.3091, -3.757193], [53.314318, -3.769117], [53.299481, -3.744943], [53.290677, -3.707225], [53.31423, -3.768963], [53.294687, -3.715938], [53.298179, -3.735586], [53.290853, -3.763046], [53.309986, -3.745822], [53.302286, -3.743707], [53.293571, -3.724746], [53.291815, -3.721825], [53.299119, -3.751231], [53.279559, -3.796931], [53.31423, -3.768963], [53.288373, -3.692281], [53.289588, -3.695329], [53.288662, -3.579472], [53.23471, -3.607303], [53.227649, -3.604192], [53.28601, -3.582825], [53.28763, -3.582734], [53.290849, -3.643767], [53.289009, -3.620592], [53.301709, -3.516173], [53.308063, -3.5185], [53.314214, -3.835466], [53.190126, -3.825221], [53.281247, -3.792351], [53.322201, -3.824698], [53.289864, -3.701192], [53.324928, -3.828568], [53.285184, -3.570493], [53.282055, -3.534678], [53.284467, -3.583968], [53.095944, -3.886203], [53.320918, -3.808577], [53.197792, -3.823601], [53.301139, -3.742159], [53.285166, -3.585494], [53.320658, -3.813821], [53.241521, -3.797584], [53.318587, -3.766141], [53.26117, -3.745782], [53.31573, -3.806857], [53.327497, -3.83108], [53.285184, -3.570493], [53.198331, -3.823623], [53.144807, -3.802065], [53.324272, -3.830342], [53.295143, -3.72796], [53.308493, -3.755667], [53.168202, -3.83611], [53.285359, -3.811726], [53.25636, -3.984257], [53.283922, -3.817516], [53.293481, -3.724742], [53.089538, -3.800651], [53.268055, -3.796748], [53.282117, -3.714834], [53.102303, -3.921437], [53.278203, -3.791474], [53.280276, -3.791111], [53.289045, -3.852691], [53.26145, -3.970098], [53.322057, -3.816433], [53.309546, -3.739049], [53.292532, -3.696946], [53.167224, -3.605078], [53.312144, -3.515643], [53.315778, -3.773681], [53.323578, -3.82866], [53.260342, -3.971846], [53.292605, -3.723207], [53.293659, -3.809826], [53.289111, -3.765375], [53.308493, -3.755667], [53.157271, -3.52095], [53.293511, -3.741249], [53.292573, -3.513599], [53.293548, -3.70764], [53.322052, -3.810878], [53.295138, -3.722108], [53.305267, -3.809117], [53.214722, -3.648938], [53.24746, -3.621719], [53.282339, -3.547438], [53.31458, -3.835031], [53.309096, -3.739031], [53.138559, -3.799113], [53.25509, -3.780014], [53.296958, -3.732986], [53.289601, -3.662473], [53.312191, -3.832527], [53.320136, -3.788876], [53.295169, -3.816943], [53.082589, -3.546833], [53.102246, -3.845548], [53.290465, -3.645553], [53.285836, -3.680929], [53.321288, -3.819704], [53.27975, -3.802188], [53.285908, -3.713786], [53.32212, -3.806376], [53.300423, -3.74198], [53.293457, -3.81717], [53.298319, -3.73214], [53.316851, -3.839332], [53.219239, -3.614512], [53.285213, -3.785616], [53.27955, -3.79753], [53.272039, -3.893648], [53.259769, -3.79775], [53.259387, -3.975251], [53.282564, -3.564697], [53.290925, -3.64482], [53.043547, -3.64911], [53.282327, -3.833649], [53.285448, -3.841133], [53.280452, -3.809268], [52.990134, -3.570196], [53.287537, -3.64274], [53.278579, -3.560051], [53.125129, -3.795413], [53.292404, -3.767611], [53.284351, -3.807033], [53.316199, -3.817386], [53.323233, -3.827745], [53.197341, -3.823731], [53.272109, -3.796168], [53.284379, -3.583814], [53.289424, -3.82225], [53.325152, -3.831581], [53.260527, -3.971555], [53.319687, -3.836151], [53.293051, -3.704619], [53.278839, -3.79105], [53.321051, -3.817592], [53.214927, -3.647149], [53.025012, -3.542983], [53.091146, -3.801316], [53.225776, -3.79243], [53.149228, -3.824682], [53.278372, -3.81008], [53.289916, -3.652733], [53.273283, -3.586703], [53.287151, -3.702284], [53.268145, -3.796752], [53.246445, -3.996538], [53.279551, -3.79153], [53.282368, -3.632941], [53.300182, -3.835914], [53.264859, -3.846996], [53.289877, -3.706593], [53.307279, -3.752616], [53.279078, -3.903259], [53.280485, -3.899571], [53.289203, -3.765228], [53.23175, -3.871641], [53.289242, -3.880305], [53.251937, -3.596406], [53.278415, -3.830781], [53.32243, -3.803686], [53.068394, -3.783798], [53.230207, -3.81449], [53.291361, -3.645737], [53.311892, -3.514283], [53.135668, -3.794059], [53.300013, -3.543275], [53.197343, -3.823581], [53.299697, -3.553768], [53.3053, -3.81287], [53.100656, -3.861015], [53.323352, -3.796218], [53.325414, -3.832042], [53.284839, -3.56943], [53.048287, -3.689274], [53.102243, -3.845697], [53.197433, -3.823585], [53.293562, -3.582804], [53.292822, -3.708061], [53.31423, -3.768963], [53.251985, -3.690694], [53.323293, -3.823843], [53.1495, -3.824544], [53.311013, -3.519805], [53.101423, -3.787554], [53.283784, -3.802958], [53.31959, -3.842453], [53.279113, -3.790762], [53.289096, -3.69831], [53.312745, -3.747736], [53.313071, -3.513424], [53.28962, -3.64162], [53.322113, -3.806826], [53.053489, -3.55161], [53.150053, -3.529966], [53.312423, -3.514902], [53.136596, -3.798134], [53.293958, -3.765875], [52.986777, -3.495884], [53.305336, -3.520804], [53.266879, -3.588266], [53.246268, -3.99638], [53.262702, -3.965058], [53.289994, -3.704647], [53.311768, -3.740791], [53.306517, -3.743279], [53.324235, -3.832743], [53.283996, -3.571949], [53.310576, -3.742393], [53.307565, -3.529289], [53.278747, -3.791197], [53.281253, -3.821602], [53.293415, -3.678976], [53.318738, -3.768099], [53.279933, -3.790046], [53.281361, -3.832107], [53.140695, -3.800548], [53.322629, -3.826067], [53.126028, -3.783494], [53.279551, -3.79153], [53.301698, -3.734678], [53.310778, -3.813252], [53.253393, -3.978872], [53.315277, -3.771108], [53.294636, -3.725689], [53.296416, -3.570905], [53.323664, -3.828964], [53.323378, -3.824147], [53.286981, -3.875405], [53.041928, -3.642634], [53.281247, -3.792351], [53.291092, -3.645727], [53.145344, -3.802237], [53.285359, -3.811726], [53.26591, -3.747474], [53.321867, -3.834743], [53.284167, -3.579456], [53.289477, -3.709428], [53.256276, -3.581127], [53.306016, -3.530884], [53.291146, -3.588716], [53.317351, -3.776749], [53.055992, -3.747174], [53.312982, -3.513421], [53.067932, -3.814377], [53.280214, -3.697058], [53.28368, -3.803854], [53.282057, -3.534528], [53.29637, -3.760872], [53.284053, -3.526049], [53.290593, -3.675114], [53.124639, -3.973998], [53.287864, -3.806581], [53.317429, -3.819239], [53.299765, -3.731599], [53.090351, -3.794413], [53.284524, -3.80749], [53.292767, -3.724414], [53.287719, -3.582738], [53.289485, -3.605307], [53.286437, -3.57774], [53.289175, -3.699064], [53.100456, -3.833372], [53.025171, -3.544629], [53.321344, -3.827814], [53.295387, -3.742075], [53.311013, -3.519805], [53.292828, -3.793436], [53.303519, -3.745408], [53.316067, -3.802367], [53.266613, -3.940344], [53.289514, -3.822254], [53.280892, -3.792036], [53.300241, -3.742123], [53.049912, -3.738722], [53.302153, -3.523693], [53.285235, -3.813971], [53.267873, -3.79689], [53.234598, -3.797594], [53.245202, -3.797889], [53.285742, -3.804241], [53.247176, -3.995823], [53.045773, -3.707973], [53.090261, -3.794409], [53.300017, -3.738962], [53.290748, -3.721031], [53.28471, -3.690636], [53.096438, -3.600949], [53.282196, -3.537683], [53.129298, -3.799174], [53.271119, -3.923002], [53.311091, -3.520709], [53.287434, -3.695094], [53.295392, -3.723169], [53.28082, -3.790833], [53.308514, -3.518366], [53.319734, -3.827295], [53.284319, -3.581562], [53.205529, -3.793682], [53.181716, -3.816633], [53.289996, -3.666389], [53.328225, -3.836368], [53.323519, -3.79112], [53.293527, -3.80667], [53.286918, -3.785838], [53.271954, -3.893344], [53.303033, -3.814125], [53.284186, -3.714767], [53.284299, -3.583061], [53.296464, -3.723662], [53.268036, -3.924663], [53.318392, -3.803216], [53.28073, -3.79083], [53.249271, -3.646969], [53.164483, -3.826526], [53.306778, -3.810231], [53.294454, -3.725832], [53.284137, -3.574955], [53.293057, -3.586986], [53.282509, -3.809955], [53.293063, -3.586536], [53.322322, -3.804883], [53.284387, -3.583215], [53.284498, -3.803288], [53.25753, -3.742635], [53.310378, -3.520233], [53.279662, -3.802035], [53.310085, -3.739071], [53.288646, -3.717196], [53.323753, -3.828968], [53.280452, -3.809268], [53.179713, -3.835853], [53.295682, -3.727982], [53.284305, -3.582612], [53.294794, -3.727196], [53.317629, -3.77616], [53.288276, -3.692727], [53.290029, -3.702248], [53.031036, -3.493687], [53.282215, -3.781741], [53.292992, -3.806347], [53.281781, -3.792674], [53.279933, -3.790046], [53.287505, -3.578529], [53.31423, -3.768963], [53.275201, -3.543281], [53.286119, -3.736447], [53.107218, -3.784807], [53.322758, -3.829376], [53.313179, -3.748804], [53.006158, -3.547974], [53.242233, -3.990347], [53.288771, -3.739556], [53.294687, -3.728392], [53.293472, -3.5828], [53.293154, -3.678366], [53.299412, -3.737287], [53.308132, -3.773965], [53.30045, -3.836076], [53.102173, -3.797444], [53.289171, -3.797484], [53.297743, -3.740821], [53.30082, -3.543454], [53.297019, -3.807567], [53.291529, -3.819789], [53.314566, -3.824222], [53.0568, -3.753325], [53.290059, -3.70645], [53.281554, -3.652861], [53.28082, -3.790833], [53.110798, -3.91315], [53.273191, -3.58685], [53.306979, -3.748551], [53.280452, -3.809268], [53.290003, -3.626781], [53.282029, -3.550577], [53.322203, -3.824548], [53.260436, -3.544998], [53.295674, -3.807361], [53.306977, -3.748701], [53.291278, -3.677542], [53.102577, -3.904419], [53.308643, -3.739313], [53.294691, -3.72194], [53.25385, -3.978444], [53.28845, -3.575113], [53.307348, -3.518174], [53.100587, -3.859668], [53.138038, -3.797895], [53.28662, -3.644055], [53.290112, -3.74006], [53.289267, -3.698917], [53.314306, -3.83532], [53.284931, -3.569284], [53.295262, -3.732167], [53.269335, -3.777306], [53.294127, -3.580874], [53.10168, -3.858819], [53.320215, -3.84278], [53.28727, -3.88562], [53.31084, -3.519199], [53.317872, -3.819709], [53.313075, -3.513124], [53.290656, -3.721178], [53.094659, -3.824463], [53.290098, -3.65259], [53.048369, -3.733588], [53.284559, -3.583821], [53.192715, -3.826379], [53.27392, -3.586127], [53.317198, -3.810822], [53.306997, -3.831254], [53.111027, -3.782574], [53.291809, -3.722274], [53.161841, -3.732623], [53.287719, -3.582738], [53.30485, -3.830561], [53.294301, -3.760937], [53.214564, -3.772642], [53.32083, -3.808424], [53.013409, -3.840413], [53.322115, -3.806676], [53.321431, -3.827968], [53.291448, -3.658944], [53.161668, -3.478774], [53.022894, -3.56065], [53.224889, -3.52694], [53.293225, -3.723832], [53.296958, -3.732986], [53.280138, -3.829805], [53.048757, -3.681535], [53.288845, -3.690649], [53.298923, -3.81245], [53.288729, -3.71765], [53.285704, -3.572012], [53.247513, -3.617825], [53.294794, -3.727196], [53.044964, -3.914559], [53.288266, -3.582158], [53.305115, -3.746974], [53.290917, -3.651872], [53.307663, -3.528692], [53.294742, -3.815424], [53.324113, -3.83484], [53.144532, -3.820147], [53.280277, -3.901362], [53.306, -3.518126], [53.322376, -3.825005], [53.291559, -3.720914], [53.245737, -3.798211], [53.184758, -3.479868], [53.315289, -3.745888], [53.283212, -3.811035], [53.270236, -3.79519], [53.289286, -3.837097], [53.280818, -3.790983], [53.280818, -3.790983], [53.287521, -3.676194], [53.284101, -3.577654], [53.159363, -3.748378], [53.280728, -3.790979], [53.195968, -3.82532], [53.280818, -3.790983], [53.055302, -3.550481], [53.322392, -3.829811], [53.284894, -3.776902], [53.285928, -3.8098], [53.275731, -3.91016], [53.308703, -3.524676], [53.29346, -3.5837], [53.034493, -3.928264], [53.276106, -3.85798], [53.303509, -3.537098], [53.317029, -3.83949], [53.307961, -3.526451], [53.316409, -3.821298], [53.248333, -3.597021], [53.068662, -3.783958], [53.316642, -3.841275], [53.296697, -3.732375], [53.327161, -3.835421], [53.31084, -3.519199], [53.287819, -3.791726], [53.068501, -3.812461], [53.282055, -3.534678], [53.1911, -3.843674], [53.283009, -3.800676], [53.063597, -3.867924], [53.283341, -3.567125], [53.325138, -3.832481], [53.286323, -3.572785], [53.254872, -3.657978], [53.164053, -3.722689], [53.196797, -3.824007], [53.099838, -3.895784], [53.288537, -3.628826], [53.047131, -3.556603], [53.229983, -3.863923], [53.069809, -3.84431], [53.310655, -3.519643], [53.268327, -3.58757], [53.300541, -3.544194], [53.310655, -3.519643], [53.294564, -3.809414], [53.278929, -3.826603], [53.28073, -3.79083], [53.308489, -3.755967], [53.275639, -3.585291], [53.32329, -3.823993], [53.289895, -3.647781], [53.232745, -3.836623], [53.305299, -3.740528], [52.990451, -3.482453], [53.309635, -3.739053], [53.341285, -3.869526], [53.329596, -3.829068], [53.111027, -3.782574], [53.311584, -3.517274], [53.279512, -3.800078], [53.291654, -3.695411], [53.28239, -3.56424], [53.295867, -3.733842], [53.298551, -3.753159], [53.255777, -3.794134], [53.317737, -3.810845], [53.318915, -3.81615], [53.013967, -3.555856], [53.290459, -3.72237], [53.277157, -3.842427], [53.098071, -3.801157], [53.31292, -3.511167], [53.307742, -3.739426], [53.284299, -3.583061], [53.304451, -3.827242], [53.309531, -3.51615], [53.266779, -3.797894], [53.320898, -3.815784], [53.323666, -3.828814], [53.323672, -3.786922], [53.165972, -3.81148], [53.286265, -3.577133], [53.320954, -3.78831], [53.314265, -3.826311], [53.313531, -3.767583], [53.283682, -3.803704], [53.305444, -3.809274], [53.312888, -3.513718], [53.297657, -3.734364], [53.297916, -3.735125], [53.313942, -3.823895], [53.182156, -3.81725], [53.124859, -3.976997], [53.093677, -3.80635], [53.300538, -3.537441], [53.261434, -3.592112], [53.28603, -3.820755], [53.322627, -3.826217], [53.286554, -3.674656], [53.293637, -3.726399], [53.3199, -3.780608], [53.286389, -3.581338], [53.289511, -3.822404], [53.296958, -3.732986], [53.279553, -3.79138], [53.151207, -3.824617], [53.282872, -3.815671], [53.280701, -3.786778], [53.303581, -3.51744], [53.305267, -3.809117], [53.311948, -3.813152], [53.252027, -3.59641], [53.309546, -3.739049], [53.170816, -3.696179], [53.28502, -3.569287], [53.135322, -3.793147], [53.289772, -3.707639], [53.319731, -3.821589], [53.308899, -3.752532], [53.288706, -3.609779], [53.252025, -3.596559], [53.297021, -3.728636], [53.17048, -3.485809], [53.303831, -3.760879], [53.319549, -3.821732], [53.311045, -3.813414], [53.277931, -3.791612], [53.245317, -3.600656], [53.321983, -3.815379], [53.300291, -3.73252], [53.304276, -3.761198], [53.293552, -3.726096], [53.288654, -3.716596], [53.289511, -3.822404], [53.322004, -3.814029], [53.312983, -3.513271], [53.321431, -3.827968], [53.285235, -3.813971], [53.324014, -3.82958], [53.283673, -3.804304], [53.296868, -3.732982], [53.287657, -3.573884], [53.124854, -3.977296], [53.293137, -3.723678], [53.309714, -3.739807], [53.309186, -3.739035], [53.278712, -3.828994], [53.324187, -3.830038], [53.31409, -3.747941], [53.324113, -3.83484], [53.133462, -3.803235], [53.243511, -3.796769], [53.262798, -3.799526], [53.299677, -3.731445], [53.272891, -3.839244], [53.307746, -3.74528], [53.290499, -3.707068], [53.096142, -3.791965], [53.024451, -3.551611], [53.25442, -3.677448], [53.287697, -3.733061], [53.11783, -3.934234], [53.308493, -3.755667], [53.169383, -3.487268], [53.023849, -3.56322], [53.322378, -3.824855], [53.228095, -3.817397], [53.279023, -3.790758], [53.293225, -3.723832], [53.323578, -3.82866], [53.13689, -3.796502], [53.298544, -3.753609], [53.183673, -3.752061], [53.289419, -3.662616], [53.260055, -3.972883], [53.304764, -3.830258], [53.236464, -3.805015], [53.280728, -3.790979], [53.280744, -3.697679], [53.280539, -3.827122], [53.2736, -3.902866], [53.298319, -3.73214], [53.289477, -3.709428], [53.296261, -3.731457], [53.293257, -3.806658], [53.310563, -3.519789], [53.292953, -3.588033], [53.278047, -3.905913], [53.122606, -3.955522], [53.291278, -3.721653], [53.319547, -3.821882], [53.153618, -3.807968], [53.221552, -3.737729], [53.291761, -3.687913], [53.290832, -3.683676], [53.274411, -3.914], [53.311104, -3.519659], [53.248095, -3.98927], [53.292739, -3.707608], [53.281267, -3.791002], [53.293864, -3.741713], [53.279551, -3.79153], [53.053673, -3.551318], [53.291399, -3.762618], [53.290019, -3.671191], [53.326304, -3.832681], [53.138236, -3.796707], [53.31423, -3.768963], [53.137968, -3.796547], [53.317432, -3.819089], [53.31084, -3.519199], [53.289621, -3.686629], [53.284231, -3.581409], [53.286915, -3.845097], [53.3255, -3.832346], [53.310581, -3.760406], [53.06407, -3.866452], [53.286441, -3.769615], [53.319733, -3.821439], [53.252092, -3.79413], [53.013877, -3.555853], [53.279933, -3.790046], [53.292639, -3.720807], [53.032615, -3.586951], [53.281315, -3.829255], [53.301957, -3.735439], [53.323666, -3.828814], [53.320757, -3.813225], [53.139235, -3.837266], [53.281247, -3.792351], [53.307652, -3.78205], [53.311026, -3.518755], [53.312013, -3.742452], [53.255688, -3.794131], [53.047494, -3.556318], [53.221595, -3.606512], [53.28544, -3.812329], [53.093797, -3.822037], [53.299941, -3.548825], [53.322883, -3.791543], [53.251938, -3.974458], [53.301748, -3.541237], [53.320665, -3.813371], [53.276595, -3.906748], [53.099696, -3.859181], [53.299587, -3.731441], [53.281624, -3.832569], [53.288681, -3.852975], [53.252027, -3.59641], [53.252754, -3.979443], [53.283678, -3.804004], [53.247657, -3.640163], [53.045775, -3.707824], [53.293276, -3.726535], [53.28082, -3.790833], [53.292593, -3.673542], [53.229276, -3.816548], [53.117615, -3.780904], [53.280128, -3.789004], [53.098352, -3.788472], [53.252027, -3.59641], [53.293481, -3.724742], [53.322871, -3.822023], [53.279933, -3.790046], [53.321172, -3.815495], [53.212647, -3.85718], [53.283852, -3.582895], [53.293137, -3.723678], [53.293937, -3.581617], [53.107119, -3.582074], [53.214897, -3.642805], [53.069503, -3.829221], [53.310058, -3.740871], [53.317872, -3.819709], [53.280714, -3.791879], [53.31549, -3.82261], [53.261831, -3.968766], [53.125313, -3.783165], [53.300513, -3.741984], [52.99616, -3.52154], [53.32074, -3.80842], [53.271135, -3.746788], [53.284883, -3.572882], [53.279676, -3.801135], [53.268157, -3.922719], [53.290097, -3.703751], [53.288652, -3.716746], [53.271919, -3.525917], [53.318835, -3.833112], [53.249245, -3.596006], [53.29046, -3.684561], [53.323368, -3.795167], [53.252922, -3.589997], [53.092425, -3.794051], [53.305747, -3.813039], [53.321659, -3.824825], [53.320381, -3.826121], [53.287737, -3.773119], [53.307765, -3.756238], [53.289175, -3.699064], [53.267453, -3.921787], [53.196705, -3.824153], [53.289129, -3.578139], [53.290465, -3.645553], [53.312293, -3.831781], [53.192996, -3.685378], [53.312702, -3.514161], [53.177315, -3.596776], [53.249572, -3.536962], [53.284299, -3.583061], [53.278965, -3.847605], [53.289979, -3.705697], [53.303942, -3.783696], [53.137321, -3.797716], [53.306654, -3.758444], [53.296414, -3.571055], [53.28073, -3.79083], [53.267549, -3.776483], [53.321996, -3.808623], [53.283759, -3.804607], [52.975912, -3.834946], [53.28475, -3.81035], [53.309187, -3.757347], [53.167324, -3.811237], [53.252092, -3.79413], [53.163833, -3.506821], [53.261705, -3.794533], [53.322869, -3.822174], [53.294223, -3.580427], [53.271428, -3.550043], [53.209196, -3.684067], [53.288364, -3.57481], [53.316755, -3.822213], [53.321196, -3.81985], [53.296192, -3.760715], [53.281361, -3.832107], [53.285182, -3.570643], [53.255957, -3.794142], [53.260145, -3.972887], [53.289866, -3.707343], [53.317762, -3.82691], [53.065183, -3.864262], [53.215243, -3.695088], [53.313545, -3.748369], [52.97574, -3.84611], [53.294123, -3.581174], [53.321698, -3.822274], [53.305177, -3.809113], [53.268177, -3.92152], [53.092193, -3.80345], [53.314831, -3.836243], [53.139898, -3.793786], [53.280806, -3.827283], [53.170388, -3.485956], [53.297672, -3.727162], [53.25376, -3.97844], [53.295744, -3.729935], [53.306334, -3.809912], [53.311104, -3.519659], [53.31231, -3.813017], [53.279551, -3.79153], [53.124687, -3.794946], [53.315691, -3.773527], [53.288191, -3.692424], [53.280982, -3.78604], [53.323019, -3.829988], [53.310917, -3.749763], [53.068198, -3.855436], [53.252117, -3.596413], [53.094811, -3.808638], [53.067999, -3.856621], [53.289116, -3.722016], [53.284863, -3.838258], [53.317225, -3.773141], [53.273927, -3.740302], [53.309171, -3.523192], [53.054401, -3.550598], [53.333001, -3.870365], [53.168716, -3.704773], [53.300629, -3.836084], [53.202904, -3.847775], [53.296351, -3.73146], [53.125473, -3.983303], [53.259519, -3.67285], [53.299585, -3.731591], [53.282438, -3.814602], [53.28073, -3.79083], [53.102246, -3.845548], [52.990691, -3.470393], [53.285016, -3.569587], [53.278929, -3.826603], [53.043336, -3.708623], [53.288257, -3.71298], [53.284409, -3.809135], [53.260427, -3.97215], [53.281247, -3.792351], [53.295048, -3.722105], [53.290042, -3.720103], [53.29367, -3.588209], [53.251504, -3.978935], [53.276476, -3.792751], [53.289498, -3.695326], [53.288809, -3.712102], [53.284235, -3.581109], [53.283512, -3.803097], [53.271566, -3.778449], [53.28221, -3.794042], [53.278838, -3.698954], [53.254048, -3.586441], [53.289161, -3.68106], [53.290104, -3.65214], [53.288276, -3.692727], [53.285961, -3.716338], [53.323576, -3.82881], [53.306, -3.518126], [53.310951, -3.81371], [53.322286, -3.825002], [53.322456, -3.825609], [53.255067, -3.986296], [53.166972, -3.713531], [53.310136, -3.778251], [53.323548, -3.824755], [53.289984, -3.705397], [53.293225, -3.723832], [53.292203, -3.810965], [53.179173, -3.683789], [53.279616, -3.793183], [53.320665, -3.813371], [53.325242, -3.831585], [53.280566, -3.900175], [53.003054, -3.544733], [53.289334, -3.719324], [53.29092, -3.64512], [53.318169, -3.841341], [53.328552, -3.838484], [53.138474, -3.79881], [53.252207, -3.596416], [53.289608, -3.575906], [53.322334, -3.804133]],\n",
       "                {\n",
       "  &quot;minOpacity&quot;: 0.5,\n",
       "  &quot;maxZoom&quot;: 18,\n",
       "  &quot;radius&quot;: 25,\n",
       "  &quot;blur&quot;: 15,\n",
       "}\n",
       "            );\n",
       "        \n",
       "    \n",
       "            heat_map_ff6e44a837e22a0a802ef67d6fc10296.addTo(map_136ceb65d619fcf0310379d5a2ead679);\n",
       "        \n",
       "    \n",
       "            tile_layer_e06cdc43754ed5ab2ee058db571d3d34.addTo(map_136ceb65d619fcf0310379d5a2ead679);\n",
       "        \n",
       "    \n",
       "            heat_map_ff6e44a837e22a0a802ef67d6fc10296.addTo(map_136ceb65d619fcf0310379d5a2ead679);\n",
       "        \n",
       "&lt;/script&gt;\n",
       "&lt;/html&gt;\" style=\"position:absolute;width:100%;height:100%;left:0;top:0;border:none !important;\" allowfullscreen webkitallowfullscreen mozallowfullscreen></iframe></div></div>"
      ],
      "text/plain": [
       "<folium.folium.Map at 0x1746642d190>"
      ]
     },
     "execution_count": 52,
     "metadata": {},
     "output_type": "execute_result"
    }
   ],
   "source": [
    "# bolton_df\n",
    "import folium\n",
    "from folium.plugins import HeatMap\n",
    "conwy_locations  = list(zip(conwy_df['Latitude'], conwy_df['Longitude']))\n",
    "conwy_map = folium.Map(location=[conwy_df['Latitude'].mean(), conwy_df['Longitude'].mean()], zoom_start=10)\n",
    "HeatMap(conwy_locations).add_to(conwy_map)\n",
    "conwy_map.save('conwy_heatmap.html')  \n",
    "conwy_map"
   ]
  },
  {
   "cell_type": "code",
   "execution_count": 55,
   "id": "cb72d355-e3be-4985-8293-b43e74111442",
   "metadata": {},
   "outputs": [],
   "source": [
    "swindon_df = df[df['District Area'] == 'Swindon']"
   ]
  },
  {
   "cell_type": "code",
   "execution_count": 59,
   "id": "7cb477bf-7dd1-485a-ba35-9c610f3f2705",
   "metadata": {},
   "outputs": [
    {
     "data": {
      "text/html": [
       "<div style=\"width:100%;\"><div style=\"position:relative;width:100%;height:0;padding-bottom:60%;\"><span style=\"color:#565656\">Make this Notebook Trusted to load map: File -> Trust Notebook</span><iframe srcdoc=\"&lt;!DOCTYPE html&gt;\n",
       "&lt;html&gt;\n",
       "&lt;head&gt;\n",
       "    \n",
       "    &lt;meta http-equiv=&quot;content-type&quot; content=&quot;text/html; charset=UTF-8&quot; /&gt;\n",
       "    &lt;script src=&quot;https://cdn.jsdelivr.net/npm/leaflet@1.9.3/dist/leaflet.js&quot;&gt;&lt;/script&gt;\n",
       "    &lt;script src=&quot;https://code.jquery.com/jquery-3.7.1.min.js&quot;&gt;&lt;/script&gt;\n",
       "    &lt;script src=&quot;https://cdn.jsdelivr.net/npm/bootstrap@5.2.2/dist/js/bootstrap.bundle.min.js&quot;&gt;&lt;/script&gt;\n",
       "    &lt;script src=&quot;https://cdnjs.cloudflare.com/ajax/libs/Leaflet.awesome-markers/2.0.2/leaflet.awesome-markers.js&quot;&gt;&lt;/script&gt;\n",
       "    &lt;link rel=&quot;stylesheet&quot; href=&quot;https://cdn.jsdelivr.net/npm/leaflet@1.9.3/dist/leaflet.css&quot;/&gt;\n",
       "    &lt;link rel=&quot;stylesheet&quot; href=&quot;https://cdn.jsdelivr.net/npm/bootstrap@5.2.2/dist/css/bootstrap.min.css&quot;/&gt;\n",
       "    &lt;link rel=&quot;stylesheet&quot; href=&quot;https://netdna.bootstrapcdn.com/bootstrap/3.0.0/css/bootstrap-glyphicons.css&quot;/&gt;\n",
       "    &lt;link rel=&quot;stylesheet&quot; href=&quot;https://cdn.jsdelivr.net/npm/@fortawesome/fontawesome-free@6.2.0/css/all.min.css&quot;/&gt;\n",
       "    &lt;link rel=&quot;stylesheet&quot; href=&quot;https://cdnjs.cloudflare.com/ajax/libs/Leaflet.awesome-markers/2.0.2/leaflet.awesome-markers.css&quot;/&gt;\n",
       "    &lt;link rel=&quot;stylesheet&quot; href=&quot;https://cdn.jsdelivr.net/gh/python-visualization/folium/folium/templates/leaflet.awesome.rotate.min.css&quot;/&gt;\n",
       "    \n",
       "            &lt;meta name=&quot;viewport&quot; content=&quot;width=device-width,\n",
       "                initial-scale=1.0, maximum-scale=1.0, user-scalable=no&quot; /&gt;\n",
       "            &lt;style&gt;\n",
       "                #map_09255bfebd39aebf33b3e02ff1ec2249 {\n",
       "                    position: relative;\n",
       "                    width: 100.0%;\n",
       "                    height: 100.0%;\n",
       "                    left: 0.0%;\n",
       "                    top: 0.0%;\n",
       "                }\n",
       "                .leaflet-container { font-size: 1rem; }\n",
       "            &lt;/style&gt;\n",
       "\n",
       "            &lt;style&gt;html, body {\n",
       "                width: 100%;\n",
       "                height: 100%;\n",
       "                margin: 0;\n",
       "                padding: 0;\n",
       "            }\n",
       "            &lt;/style&gt;\n",
       "\n",
       "            &lt;style&gt;#map {\n",
       "                position:absolute;\n",
       "                top:0;\n",
       "                bottom:0;\n",
       "                right:0;\n",
       "                left:0;\n",
       "                }\n",
       "            &lt;/style&gt;\n",
       "\n",
       "            &lt;script&gt;\n",
       "                L_NO_TOUCH = false;\n",
       "                L_DISABLE_3D = false;\n",
       "            &lt;/script&gt;\n",
       "\n",
       "        \n",
       "    &lt;script src=&quot;https://cdn.jsdelivr.net/gh/python-visualization/folium@main/folium/templates/leaflet_heat.min.js&quot;&gt;&lt;/script&gt;\n",
       "&lt;/head&gt;\n",
       "&lt;body&gt;\n",
       "    \n",
       "    \n",
       "            &lt;div class=&quot;folium-map&quot; id=&quot;map_09255bfebd39aebf33b3e02ff1ec2249&quot; &gt;&lt;/div&gt;\n",
       "        \n",
       "&lt;/body&gt;\n",
       "&lt;script&gt;\n",
       "    \n",
       "    \n",
       "            var map_09255bfebd39aebf33b3e02ff1ec2249 = L.map(\n",
       "                &quot;map_09255bfebd39aebf33b3e02ff1ec2249&quot;,\n",
       "                {\n",
       "                    center: [51.5674879388412, -1.7722278234978541],\n",
       "                    crs: L.CRS.EPSG3857,\n",
       "                    ...{\n",
       "  &quot;zoom&quot;: 10,\n",
       "  &quot;zoomControl&quot;: true,\n",
       "  &quot;preferCanvas&quot;: false,\n",
       "}\n",
       "\n",
       "                }\n",
       "            );\n",
       "\n",
       "            \n",
       "\n",
       "        \n",
       "    \n",
       "            var tile_layer_9c8baaf0f83610a2a3e1e8f668d2853e = L.tileLayer(\n",
       "                &quot;https://tile.openstreetmap.org/{z}/{x}/{y}.png&quot;,\n",
       "                {\n",
       "  &quot;minZoom&quot;: 0,\n",
       "  &quot;maxZoom&quot;: 19,\n",
       "  &quot;maxNativeZoom&quot;: 19,\n",
       "  &quot;noWrap&quot;: false,\n",
       "  &quot;attribution&quot;: &quot;\\u0026copy; \\u003ca href=\\&quot;https://www.openstreetmap.org/copyright\\&quot;\\u003eOpenStreetMap\\u003c/a\\u003e contributors&quot;,\n",
       "  &quot;subdomains&quot;: &quot;abc&quot;,\n",
       "  &quot;detectRetina&quot;: false,\n",
       "  &quot;tms&quot;: false,\n",
       "  &quot;opacity&quot;: 1,\n",
       "}\n",
       "\n",
       "            );\n",
       "        \n",
       "    \n",
       "            tile_layer_9c8baaf0f83610a2a3e1e8f668d2853e.addTo(map_09255bfebd39aebf33b3e02ff1ec2249);\n",
       "        \n",
       "    \n",
       "            var heat_map_c379002a452ae46f5ea21e7bdaa85fe2 = L.heatLayer(\n",
       "                [[51.562527, -1.771889], [51.557389, -1.723737], [51.549221, -1.772244], [51.551772, -1.790404], [51.555651, -1.797599], [51.56264, -1.783863], [51.562453, -1.780257], [51.562734, -1.78617], [51.562453, -1.780257], [51.550619, -1.799496], [51.554121, -1.79674], [51.564793, -1.781111], [51.548511, -1.77744], [51.562978, -1.772464], [51.558582, -1.777535], [51.563362, -1.785302], [51.565333, -1.781542], [51.561123, -1.790073], [51.560746, -1.780554], [51.534139, -1.785151], [51.562978, -1.772609], [51.542495, -1.781795], [51.55832, -1.781864], [51.552216, -1.787085], [51.548691, -1.777583], [51.559739, -1.771471], [51.564973, -1.781111], [51.563187, -1.787755], [51.564793, -1.7814], [51.56874, -1.776187], [51.547871, -1.771674], [51.556417, -1.773939], [51.552372, -1.774536], [51.556549, -1.796729], [51.5639, -1.784578], [51.554582, -1.803373], [51.562109, -1.78877], [51.56883, -1.776186], [51.556866, -1.773793], [51.563948, -1.762938], [51.568379, -1.775467], [51.560009, -1.771325], [51.540699, -1.782957], [51.562758, -1.799587], [51.545905, -1.778174], [51.545194, -1.782503], [51.558525, -1.795422], [51.57017, -1.771996], [51.568675, -1.789605], [51.56874, -1.776187], [51.566357, -1.801014], [51.562617, -1.771456], [51.5639, -1.784578], [51.554575, -1.799046], [51.56874, -1.776331], [51.574942, -1.732289], [51.5639, -1.784722], [51.565517, -1.783849], [51.550631, -1.758103], [51.564622, -1.785729], [51.576925, -1.777445], [51.564793, -1.781256], [51.56784, -1.775903], [51.559739, -1.771326], [51.559027, -1.775369], [51.550481, -1.773248], [51.543885, -1.75713], [51.553754, -1.792559], [51.558241, -1.787634], [51.562715, -1.775784], [51.562806, -1.776504], [51.569011, -1.776907], [51.562706, -1.771167], [51.552732, -1.774823], [51.559739, -1.771326], [51.558151, -1.78749], [51.566525, -1.793944], [51.551291, -1.773676], [51.559876, -1.796714], [51.562437, -1.771601], [51.540699, -1.782957], [51.564194, -1.797994], [51.552669, -1.788958], [51.555616, -1.778271], [51.554858, -1.806978], [51.558514, -1.789364], [51.552372, -1.774681], [51.562694, -1.764964], [51.566774, -1.782689], [51.57017, -1.771851], [51.562715, -1.775784], [51.544162, -1.760301], [51.571884, -1.774728], [51.545841, -1.746448], [51.561807, -1.771316], [51.5682, -1.775901], [51.553633, -1.77554], [51.553726, -1.777414], [51.562437, -1.771457], [51.562437, -1.771457], [51.558213, -1.772632], [51.539622, -1.784116], [51.571785, -1.770112], [51.569393, -1.789025], [51.566724, -1.757008], [51.556818, -1.79644], [51.572159, -1.77718], [51.562618, -1.772033], [51.561627, -1.771317], [51.570898, -1.776465], [51.567976, -1.801151], [51.566357, -1.801014], [51.550619, -1.799496], [51.556435, -1.783171], [51.570667, -1.750783], [51.562629, -1.777804], [51.562614, -1.770158], [51.558226, -1.7797], [51.558613, -1.794412], [51.568103, -1.772294], [51.543622, -1.760159], [51.552737, -1.777419], [51.568066, -1.801439], [51.568741, -1.77662], [51.56949, -1.747038], [51.544432, -1.760588], [51.591125, -1.7742], [51.557758, -1.770038], [51.556073, -1.738025], [51.569041, -1.747473], [51.576741, -1.732711], [51.596619, -1.778793], [51.55837, -1.76138], [51.570989, -1.777042], [51.591125, -1.7742], [51.576923, -1.733432], [51.58794, -1.755307], [51.592, -1.761781], [51.554939, -1.754186], [51.56949, -1.747182], [51.57683, -1.731989], [51.543542, -1.765351], [51.55376, -1.749577], [51.562604, -1.764964], [51.553093, -1.732705], [51.575304, -1.733441], [51.562067, -1.76641], [51.562615, -1.770735], [51.585013, -1.77553], [51.557841, -1.766432], [51.559815, -1.764258], [51.540035, -1.723842], [51.567679, -1.741277], [51.591125, -1.7742], [51.567589, -1.741277], [51.563769, -1.762939], [51.570667, -1.750638], [51.562341, -1.768428], [51.573141, -1.731001], [51.570578, -1.75136], [51.583035, -1.775251], [51.572562, -1.754235], [51.570759, -1.751648], [51.566956, -1.739405], [51.557378, -1.759654], [51.548345, -1.702448], [51.571477, -1.751355], [51.525921, -1.725081], [51.576925, -1.734442], [51.528208, -1.786765], [51.57445, -1.753792], [51.540836, -1.720377], [51.560737, -1.732949], [51.575937, -1.73488], [51.56483, -1.754277], [51.589395, -1.763094], [51.524104, -1.682138], [51.573865, -1.733305], [51.574428, -1.743691], [51.569059, -1.755841], [51.559544, -1.763538], [51.524449, -1.796872], [51.568765, -1.744445], [51.526283, -1.725943], [51.58343, -1.748548], [51.525741, -1.724793], [51.546732, -1.742693], [51.591255, -1.74966], [51.537992, -1.832137], [51.545751, -1.746737], [51.604627, -1.782219], [51.62404, -1.734311], [51.624131, -1.7346], [51.570528, -1.728563], [51.570041, -1.752373], [51.569309, -1.746462], [51.574449, -1.753504], [51.592593, -1.744744], [51.582718, -1.752016], [51.523481, -1.719618], [51.573418, -1.777318], [51.57647, -1.732135], [51.546648, -1.791005], [51.565191, -1.754996], [51.57776, -1.745982], [51.615291, -1.722375], [51.592836, -1.775347], [51.528797, -1.724487], [51.60616, -1.784234], [51.562245, -1.765399], [51.569682, -1.752808], [51.570669, -1.751648], [51.55828, -1.761092], [51.585193, -1.775384], [51.541844, -1.728301], [51.531446, -1.787615], [51.585627, -1.767299], [51.585771, -1.750123], [51.545388, -1.744864], [51.609221, -1.786674], [51.564985, -1.742735], [51.624043, -1.735322], [51.587209, -1.749682], [51.575666, -1.73416], [51.537491, -1.678151], [51.605247, -1.830878], [51.577313, -1.747283], [51.571478, -1.7515], [51.589903, -1.748223], [51.564379, -1.753702], [51.524449, -1.797016], [51.571478, -1.7515], [51.541829, -1.721812], [51.604335, -1.728217], [51.527628, -1.72435], [51.489934, -1.716367], [51.548875, -1.736047], [51.640697, -1.706179], [51.573025, -1.760582], [51.572829, -1.752791], [51.6223, -1.810881], [51.591249, -1.746917], [51.576923, -1.733432], [51.550852, -1.698393], [51.62404, -1.734022], [51.598432, -1.741968], [51.561976, -1.765689], [51.678902, -1.70275], [51.574765, -1.733588], [51.603275, -1.78006], [51.679711, -1.702455], [51.598311, -1.770411], [51.641521, -1.71181], [51.566775, -1.738973], [51.637213, -1.71516], [51.598431, -1.741824], [51.547294, -1.753362], [51.605529, -1.78337], [51.688775, -1.695741], [51.571209, -1.751934], [51.584551, -1.690809], [51.567048, -1.740559], [51.557658, -1.723735], [51.603996, -1.73746], [51.559264, -1.758779], [51.530197, -1.79281], [51.566775, -1.738973], [51.537874, -1.722702], [51.570597, -1.76045], [51.61968, -1.755425], [51.519668, -1.788246], [51.570354, -1.73145], [51.637541, -1.702298], [51.583035, -1.775251], [51.591552, -1.76265], [51.562955, -1.760779], [51.553108, -1.701551], [51.604335, -1.728217], [51.603095, -1.78035], [51.593044, -1.745319], [51.567766, -1.739833], [51.594867, -1.756858], [51.527008, -1.69192], [51.570668, -1.751504], [51.515741, -1.681619], [51.569445, -1.726982], [51.613087, -1.786512], [51.505608, -1.822314], [51.57808, -1.728518], [51.598237, -1.778785], [51.567677, -1.740267], [51.584782, -1.750272], [51.539532, -1.784261], [51.585282, -1.774951], [51.554589, -1.759092], [51.615357, -1.799066], [51.614996, -1.798057], [51.553254, -1.724483], [51.55385, -1.749576], [51.585636, -1.729628], [51.576741, -1.732567], [51.578005, -1.734868], [51.614581, -1.768018], [51.577013, -1.733431], [51.589669, -1.765547], [51.584653, -1.775387], [51.56949, -1.747038], [51.562386, -1.746644], [51.537738, -1.843384], [51.555525, -1.734422], [51.518783, -1.749625], [51.563947, -1.762361], [51.527988, -1.724636], [51.545796, -1.690206], [51.666771, -1.705432], [51.592862, -1.744454], [51.548249, -1.737637], [51.554503, -1.720149], [51.552976, -1.720735], [51.490474, -1.716508], [51.561617, -1.766124], [51.584204, -1.775245], [51.516207, -1.723842], [51.594121, -1.744447], [51.611748, -1.792006], [51.617174, -1.760639], [51.527628, -1.72435], [51.560885, -1.719244], [51.543708, -1.717908], [51.658498, -1.705196], [51.60489, -1.735145], [51.620741, -1.746608], [51.518097, -1.765626], [51.523942, -1.72466], [51.521363, -1.780887], [51.538997, -1.843813], [51.526703, -1.713544], [51.6094, -1.786096], [51.514858, -1.723418], [51.528184, -1.694795], [51.528324, -1.802044], [51.613955, -1.769754], [51.53189, -1.840809], [51.618693, -1.80454], [51.578082, -1.729384], [51.584468, -1.693552], [51.611449, -1.775832], [51.518186, -1.765626], [51.624307, -1.733009], [51.578529, -1.728227], [51.553109, -1.701695], [51.507318, -1.823461], [51.527628, -1.72435], [51.611749, -1.79215], [51.525831, -1.724793], [51.609585, -1.788983], [51.516794, -1.789844], [51.551415, -1.70762], [51.606971, -1.78553], [51.584835, -1.776541], [51.582644, -1.808736], [51.58714, -1.75993], [51.583337, -1.792713], [51.574317, -1.777314], [51.594185, -1.829043], [51.573292, -1.807765], [51.571518, -1.771267], [51.600758, -1.780794], [51.584114, -1.775245], [51.579454, -1.783639], [51.580249, -1.775986], [51.589686, -1.774207], [51.583934, -1.775246], [51.567674, -1.783117], [51.577248, -1.808037], [51.571878, -1.77141], [51.582359, -1.799068], [51.587351, -1.775229], [51.594462, -1.77967], [51.588518, -1.827332], [51.590594, -1.778822], [51.599359, -1.802746], [51.570937, -1.797675], [51.578957, -1.807886], [51.574046, -1.83085], [51.550956, -1.843483], [51.578849, -1.797351], [51.554779, -1.813901], [51.584148, -1.793864], [51.546461, -1.844076], [51.593922, -1.779095], [51.571877, -1.770833], [51.573641, -1.801559], [51.551639, -1.818674], [51.562044, -1.802908], [51.580069, -1.775987], [51.606393, -1.815712], [51.578286, -1.784366], [51.569932, -1.788878], [51.572719, -1.788432], [51.564505, -1.823816], [51.558016, -1.814177], [51.575922, -1.770379], [51.59939, -1.822237], [51.593214, -1.78545], [51.573641, -1.801559], [51.558585, -1.83336], [51.568215, -1.784125], [51.572966, -1.829988], [51.556598, -1.827309], [51.551753, -1.834538], [51.592362, -1.812737], [51.569745, -1.784983], [51.567494, -1.78283], [51.588582, -1.810876], [51.581968, -1.781895], [51.568603, -1.79985], [51.589328, -1.827906], [51.599538, -1.802601], [51.586615, -1.817669], [51.584474, -1.775388], [51.568487, -1.784989], [51.558674, -1.833215], [51.570928, -1.792625], [51.60309, -1.831175], [51.596367, -1.788756], [51.555686, -1.818946], [51.575927, -1.772977], [51.555498, -1.814043], [51.599635, -1.806644], [51.579444, -1.832706], [51.585013, -1.77553], [51.583339, -1.793867], [51.546899, -1.83571], [51.594869, -1.806375], [51.581339, -1.782186], [51.599538, -1.802313], [51.579047, -1.808318], [51.588132, -1.81059], [51.583416, -1.786939], [51.568396, -1.784557], [51.580159, -1.775986], [51.58402, -1.825906], [51.56624, -1.842565], [51.568216, -1.784413], [51.57876, -1.798073], [51.567584, -1.782974], [51.568125, -1.783981], [51.595185, -1.781687], [51.570674, -1.801861], [51.568215, -1.783981], [51.577967, -1.80789], [51.584383, -1.775244], [51.599804, -1.80029], [51.57149, -1.805609], [51.570674, -1.801716], [51.567674, -1.783117], [51.554618, -1.826306], [51.551482, -1.833818], [51.568427, -1.802303], [51.57993, -1.798645], [51.58377, -1.783618], [51.600759, -1.780939], [51.599817, -1.807798], [51.567584, -1.783118], [51.568965, -1.801291], [51.560465, -1.828015], [51.575925, -1.772111], [51.553253, -1.815494], [51.551764, -1.842759], [51.588939, -1.809287], [51.568965, -1.801291], [51.560109, -1.830469], [51.567674, -1.783117], [51.559679, -1.844463], [51.598627, -1.795675], [51.561749, -1.788339], [51.56273, -1.784151], [51.563272, -1.785302], [51.554198, -1.789528], [51.558594, -1.783738], [51.563263, -1.780397], [51.560854, -1.790795], [51.562431, -1.768572], [51.560656, -1.780698], [51.561123, -1.790217], [51.562826, -1.787468], [51.562095, -1.780836], [51.559139, -1.786909], [51.561825, -1.780693], [51.560656, -1.780698], [51.560102, -1.772911], [51.565062, -1.780677], [51.56165, -1.783435], [51.563451, -1.785013], [51.566694, -1.788316], [51.554803, -1.776111], [51.558685, -1.784314], [51.5639, -1.784578], [51.563713, -1.780684], [51.560656, -1.780698], [51.560746, -1.780698], [51.571246, -1.821914], [51.564234, -1.822952], [51.54647, -1.85143], [51.554864, -1.810584], [51.547089, -1.843064], [51.565007, -1.800443], [51.563667, -1.805642], [51.571474, -1.796518], [51.555088, -1.840729], [51.569933, -1.789167], [51.572786, -1.829989], [51.563541, -1.841565], [51.555047, -1.813035], [51.578455, -1.832854], [51.566486, -1.825828], [51.56435, -1.841418], [51.55489, -1.827892], [51.568515, -1.801004], [51.566396, -1.825829], [51.555714, -1.838274], [51.56405, -1.820211], [51.54647, -1.85143], [51.558764, -1.83307], [51.54727, -1.843929], [51.553881, -1.81477], [51.563958, -1.818625], [51.540027, -1.810501], [51.541052, -1.833712], [51.520187, -1.66386], [51.540191, -1.800839], [51.527007, -1.727957], [51.528925, -1.741208], [51.526648, -1.692066], [51.53976, -1.812232], [51.525625, -1.714127], [51.542408, -1.839475], [51.525806, -1.714414], [51.526358, -1.719745], [51.526298, -1.695528], [51.518735, -1.659403], [51.514535, -1.637818], [51.52993, -1.748554], [51.535563, -1.77707], [51.540118, -1.811222], [51.54037, -1.80055], [51.538729, -1.787436], [51.529655, -1.746249], [51.525616, -1.675929], [51.540094, -1.796658], [51.527362, -1.725793], [51.533483, -1.771314], [51.540959, -1.831982], [51.527454, -1.726945], [51.5655, -1.774471], [51.544573, -1.742417], [51.563948, -1.762938], [51.558213, -1.772488], [51.552469, -1.77843], [51.565372, -1.803326], [51.564038, -1.762937], [51.568289, -1.775468], [51.567943, -1.782972], [51.565596, -1.777789], [51.572316, -1.765636], [51.571871, -1.767947], [51.550973, -1.796466], [51.554356, -1.777411], [51.552107, -1.777134], [51.558482, -1.772342], [51.554536, -1.77741], [51.542405, -1.781796], [51.558226, -1.7797], [51.563632, -1.785589], [51.555072, -1.775677], [51.56874, -1.776187], [51.564084, -1.786741], [51.569009, -1.775753], [51.563948, -1.762938], [51.569933, -1.789455], [51.572069, -1.777181], [51.571877, -1.770833], [51.567852, -1.782251], [51.558963, -1.788929], [51.544588, -1.749195], [51.561123, -1.790361], [51.560762, -1.789498], [51.549949, -1.777], [51.555044, -1.810727], [51.567852, -1.782395], [51.550631, -1.758248], [51.562528, -1.772034], [51.56874, -1.776043], [51.556414, -1.772497], [51.545172, -1.770823], [51.556637, -1.795575], [51.571697, -1.770834], [51.550931, -1.773534], [51.559126, -1.779985], [51.567415, -1.789178], [51.555041, -1.809285], [51.55907, -1.798738], [51.558524, -1.794845], [51.567946, -1.784126], [51.565862, -1.776057], [51.556597, -1.773794], [51.559634, -1.763682], [51.552472, -1.779584], [51.561717, -1.771172], [51.559148, -1.792102], [51.580159, -1.775986], [51.562715, -1.775784], [51.575745, -1.771968], [51.561573, -1.790648], [51.565097, -1.800442], [51.565875, -1.782837], [51.569189, -1.775752], [51.54294, -1.779342], [51.560589, -1.793393], [51.567357, -1.807935], [51.562715, -1.775784], [51.555776, -1.767884], [51.548241, -1.777441], [51.568215, -1.784125], [51.571877, -1.771266], [51.563249, -1.77304], [51.558138, -1.780566], [51.56372, -1.784579], [51.56524, -1.779667], [51.564917, -1.800299], [51.5639, -1.784578], [51.565876, -1.783126], [51.552971, -1.759101], [51.554622, -1.775823], [51.568374, -1.773014], [51.559306, -1.780128], [51.568343, -1.805911], [51.55543, -1.775098], [51.568156, -1.801439], [51.564883, -1.781255], [51.551927, -1.777135], [51.553059, -1.806553], [51.563977, -1.777797], [51.551202, -1.773677], [51.56874, -1.776475], [51.571696, -1.770545], [51.577278, -1.77398], [51.569279, -1.77604], [51.562532, -1.774486], [51.551562, -1.773963], [51.572159, -1.77718], [51.556956, -1.773648], [51.562888, -1.77232], [51.565684, -1.776923], [51.571697, -1.770834], [51.561123, -1.790361], [51.541561, -1.763919], [51.561525, -1.815749], [51.571877, -1.771266], [51.567853, -1.782972], [51.557046, -1.773648], [51.563209, -1.800306], [51.564059, -1.773613], [51.554844, -1.7989], [51.550485, -1.775123], [51.563948, -1.762938], [51.568215, -1.784125], [51.56892, -1.77633], [51.571005, -1.785555], [51.577015, -1.777445], [51.552102, -1.774249], [51.553365, -1.776551], [51.60301, -1.738621], [51.526646, -1.691201], [51.574629, -1.753358], [51.557648, -1.760086], [51.520725, -1.776278], [51.51935, -1.65421], [51.624042, -1.735178], [51.579301, -1.75189], [51.624043, -1.735322], [51.562066, -1.765977], [51.57647, -1.732135], [51.556614, -1.739032], [51.584872, -1.750128], [51.582029, -1.766885], [51.596794, -1.776626], [51.497038, -1.756659], [51.592553, -1.768563], [51.543793, -1.715888], [51.562067, -1.766121], [51.56515, -1.736097], [51.527718, -1.724349], [51.582885, -1.707273], [51.528392, -1.672017], [51.573347, -1.742976], [51.577013, -1.733575], [51.616995, -1.720342], [51.581997, -1.751009], [51.525772, -1.838236], [51.553479, -1.744242], [51.616903, -1.684234], [51.584923, -1.77553], [51.537439, -1.822911], [51.608863, -1.787687], [51.518097, -1.765626], [51.545376, -1.70189], [51.556896, -1.744367], [51.556658, -1.759514], [51.619679, -1.754703], [51.587968, -1.76902], [51.607402, -1.732387], [51.579211, -1.752035], [51.59822, -1.769978], [51.653468, -1.707253], [51.547294, -1.753506], [51.568247, -1.754403], [51.565829, -1.759321], [51.527783, -1.801326], [51.51515, -1.829771], [51.577114, -1.738481], [51.575575, -1.734017], [51.505608, -1.82217], [51.576027, -1.73488], [51.61968, -1.755281], [51.585103, -1.775529], [51.624043, -1.735322], [51.612523, -1.773372], [51.557421, -1.737729], [51.592683, -1.744599], [51.546821, -1.742404], [51.581997, -1.751009], [51.527628, -1.72435], [51.556297, -1.758939], [51.563887, -1.734518], [51.560766, -1.746076], [51.5864, -1.749831], [51.573823, -1.755239], [51.527628, -1.72435], [51.53464, -1.723731], [51.560766, -1.746076], [51.573556, -1.75625], [51.521873, -1.724384], [51.609311, -1.786674], [51.561727, -1.733232], [51.627349, -1.726202], [51.582796, -1.707563], [51.576561, -1.732279], [51.562218, -1.752127], [51.569127, -1.745741], [51.577098, -1.731266], [51.598251, -1.741392], [51.537995, -1.834012], [51.565191, -1.755141], [51.624043, -1.735467], [51.569001, -1.729582], [51.541574, -1.728447], [51.572848, -1.761881], [51.645962, -1.76858], [51.60525, -1.734998], [51.582811, -1.753603], [51.546635, -1.668136], [51.546683, -1.72135], [51.57647, -1.732135], [51.624132, -1.735177], [51.598431, -1.741824], [51.581417, -1.775836], [51.533528, -1.710041], [51.595647, -1.742995], [51.559891, -1.757622], [51.576516, -1.75306], [51.543619, -1.718485], [51.589814, -1.748657], [51.556032, -1.761248], [51.528528, -1.724777], [51.63136, -1.711729], [51.626231, -1.710173], [51.520388, -1.788387], [51.5726, -1.730571], [51.518637, -1.724548], [51.603907, -1.781357], [51.689224, -1.695449], [51.585373, -1.775383], [51.514566, -1.714341], [51.575581, -1.736325], [51.562671, -1.753856], [51.527628, -1.72435], [51.574361, -1.754226], [51.53243, -1.785015], [51.52754, -1.725215], [51.514066, -1.731205], [51.574072, -1.745569], [51.561796, -1.76569], [51.596588, -1.763345], [51.592, -1.761781], [51.604988, -1.782651], [51.571296, -1.750491], [51.616903, -1.684378], [51.556298, -1.759372], [51.535386, -1.665046], [51.583035, -1.775251], [51.604801, -1.73529], [51.541664, -1.728446], [51.505801, -1.734279], [51.631442, -1.70855], [51.583035, -1.775251], [51.549148, -1.737344], [51.568403, -1.743581], [51.511708, -1.813501], [51.57103, -1.752368], [51.588211, -1.755739], [51.566544, -1.757153], [51.549982, -1.749021], [51.51852, -1.752797], [51.631001, -1.712021], [51.548339, -1.737492], [51.570669, -1.751648], [51.570535, -1.731593], [51.616813, -1.684235], [51.565962, -1.737247], [51.559966, -1.750408], [51.512968, -1.722853], [51.588466, -1.748953], [51.553862, -1.75549], [51.560968, -1.756317], [51.527628, -1.72435], [51.554499, -1.759093], [51.609044, -1.78783], [51.620028, -1.749646], [51.554589, -1.758804], [51.576923, -1.733432], [51.527718, -1.724349], [51.50586, -1.720879], [51.598147, -1.778641], [51.576561, -1.732279], [51.58208, -1.748122], [51.547294, -1.753506], [51.597772, -1.728401], [51.585283, -1.77524], [51.597674, -1.76666], [51.624043, -1.735467], [51.513832, -1.6433], [51.50993, -1.773737], [51.548644, -1.679371], [51.526103, -1.7258], [51.543033, -1.699887], [51.566261, -1.750807], [51.589564, -1.757752], [51.563118, -1.752555], [51.585505, -1.751568], [51.60661, -1.784665], [51.618161, -1.719179], [51.576923, -1.733432], [51.60652, -1.784665], [51.563887, -1.734518], [51.574784, -1.741813], [51.563217, -1.716921], [51.630436, -1.701622], [51.573984, -1.746436], [51.564208, -1.717925], [51.537357, -1.827958], [51.565472, -1.760333], [51.527771, -1.794263], [51.567678, -1.7407], [51.563887, -1.734229], [51.545751, -1.746448], [51.551855, -1.741799], [51.577013, -1.733431], [51.577555, -1.734582], [51.573729, -1.753363], [51.563522, -1.731779], [51.522413, -1.724381], [51.598037, -1.768391], [51.570666, -1.750494], [51.523091, -1.791689], [51.574181, -1.754515], [51.568875, -1.753967], [51.600945, -1.784547], [51.590407, -1.828191], [51.564774, -1.823527], [51.568695, -1.801148], [51.583224, -1.780013], [51.600008, -1.814872], [51.566357, -1.801014], [51.58391, -1.812628], [51.600951, -1.787868], [51.605337, -1.830589], [51.555051, -1.815198], [51.567854, -1.783261], [51.568125, -1.784125], [51.598585, -1.825273], [51.579901, -1.837755], [51.584654, -1.775531], [51.579991, -1.838188], [51.577842, -1.787254], [51.571851, -1.806617], [51.554723, -1.836691], [51.584743, -1.775387], [51.584294, -1.775389], [51.584125, -1.781451], [51.585137, -1.793715], [51.604534, -1.835502], [51.575169, -1.801408], [51.550953, -1.841176], [51.600742, -1.824542], [51.562621, -1.82642], [51.546999, -1.843208], [51.600696, -1.796099], [51.59939, -1.822382], [51.58373, -1.812629], [51.54673, -1.844075], [51.566396, -1.82554], [51.546534, -1.832106], [51.558584, -1.832927], [51.567944, -1.78326], [51.566954, -1.838379], [51.598806, -1.794808], [51.584988, -1.81219], [51.58751, -1.815067], [51.545932, -1.85273], [51.57049, -1.799264], [51.600578, -1.780506], [51.577945, -1.794613], [51.549333, -1.840316], [51.554956, -1.811881], [51.599538, -1.802313], [51.554954, -1.810872], [51.5503, -1.824592], [51.554955, -1.811449], [51.570102, -1.839377], [51.54727, -1.844073], [51.595468, -1.788904], [51.546998, -1.842632], [51.570916, -1.842838], [51.561075, -1.81503], [51.556147, -1.826589], [51.570944, -1.801715], [51.584293, -1.775244], [51.567583, -1.782541], [51.573077, -1.844706], [51.56929, -1.836928], [51.591501, -1.783004], [51.599546, -1.806933], [51.588101, -1.792258], [51.555046, -1.812458], [51.599448, -1.802457], [51.556679, -1.821539], [51.598417, -1.778784], [51.569571, -1.788158], [51.599817, -1.807942], [51.566396, -1.82554], [51.552454, -1.822132], [51.552662, -1.841747], [51.585479, -1.784332], [51.564684, -1.823527], [51.599268, -1.802314], [51.582503, -1.779439], [51.600578, -1.780651], [51.555144, -1.817073], [51.600668, -1.78065], [51.603097, -1.781072], [51.600759, -1.780939], [51.561704, -1.815027], [51.566606, -1.847469], [51.58482, -1.819552], [51.577459, -1.774557], [51.600008, -1.814872], [51.600758, -1.780794], [51.559455, -1.814315], [51.581867, -1.775689], [51.570186, -1.835193], [51.560205, -1.83494], [51.573641, -1.801559], [51.574155, -1.786838], [51.568215, -1.784125], [51.598126, -1.819066], [51.588597, -1.820547], [51.582554, -1.808448], [51.583414, -1.785785], [51.54538, -1.84307], [51.547002, -1.845372], [51.569115, -1.784409], [51.566936, -1.826115], [51.56435, -1.841129], [51.584808, -1.812335], [51.565061, -1.835356], [51.548715, -1.848683], [51.561255, -1.815029], [51.546902, -1.837729], [51.552219, -1.84694], [51.579131, -1.80471], [51.576604, -1.798949], [51.558952, -1.783303], [51.564703, -1.781112], [51.562723, -1.780256], [51.560674, -1.790796], [51.560566, -1.780699], [51.560476, -1.780699], [51.56255, -1.783575], [51.561839, -1.788339], [51.562275, -1.780835], [51.560656, -1.780843], [51.562459, -1.783287], [51.562453, -1.780257], [51.562367, -1.782133], [51.558588, -1.780997], [51.560406, -1.791519], [51.561573, -1.790648], [51.560746, -1.780698], [51.561829, -1.782712], [51.558047, -1.780134], [51.558503, -1.78345], [51.525767, -1.698703], [51.526529, -1.680967], [51.525344, -1.709516], [51.534299, -1.774482], [51.525768, -1.699424], [51.539676, -1.815549], [51.539778, -1.823335], [51.525435, -1.675642], [51.527922, -1.734727], [51.526098, -1.723926], [51.53959, -1.818145], [51.529929, -1.748122], [51.538367, -1.785996], [51.518917, -1.660123], [51.540381, -1.806751], [51.526636, -1.723202], [51.53982, -1.794497], [51.568842, -1.782679], [51.56883, -1.776186], [51.562705, -1.77059], [51.556141, -1.770479], [51.54839, -1.761577], [51.554674, -1.804526], [51.569279, -1.77604], [51.561857, -1.798725], [51.577279, -1.774557], [51.567939, -1.780663], [51.554483, -1.798037], [51.560866, -1.797576], [51.55303, -1.789966], [51.559739, -1.771326], [51.551711, -1.758675], [51.555616, -1.778271], [51.558604, -1.789363], [51.563066, -1.77131], [51.562706, -1.771312], [51.568289, -1.775612], [51.558315, -1.778979], [51.549237, -1.780609], [51.554579, -1.801931], [51.56919, -1.776329], [51.561756, -1.792522], [51.550721, -1.758103], [51.56507, -1.784861], [51.571873, -1.768957], [51.564883, -1.781255], [51.545079, -1.769237], [51.570667, -1.750638], [51.575654, -1.771535], [51.573333, -1.779916], [51.562635, -1.780977], [51.575655, -1.771824], [51.562437, -1.771601], [51.556974, -1.78288], [51.545995, -1.778317], [51.568289, -1.775323], [51.554677, -1.806546], [51.558255, -1.795423], [51.548068, -1.780615], [51.567672, -1.782107], [51.561267, -1.771174], [51.56883, -1.776186], [51.563726, -1.787753], [51.562431, -1.768572], [51.566445, -1.799715], [51.567939, -1.780663], [51.553092, -1.77511], [51.562532, -1.774342], [51.556998, -1.796439], [51.554844, -1.798756], [51.568215, -1.784125], [51.564782, -1.775196], [51.577008, -1.773982], [51.564258, -1.783566], [51.569343, -1.76291], [51.556298, -1.759372], [51.557829, -1.760517], [51.562453, -1.780257], [51.567673, -1.782396], [51.56524, -1.779667], [51.543374, -1.770976], [51.565603, -1.781685], [51.558493, -1.778257], [51.567852, -1.782395], [51.562706, -1.771167], [51.565829, -1.759321], [51.562351, -1.773621], [51.557439, -1.791388], [51.556866, -1.773649], [51.561935, -1.791945], [51.563363, -1.786023], [51.552306, -1.787517], [51.561123, -1.790506], [51.568517, -1.802447], [51.552578, -1.788526], [51.559206, -1.774503], [51.554559, -1.790392], [51.569369, -1.776039], [51.558598, -1.785901], [51.553147, -1.805831], [51.559231, -1.788062], [51.560943, -1.78993], [51.562715, -1.775784], [51.560406, -1.791519], [51.564247, -1.77794], [51.556777, -1.773793], [51.562543, -1.780112], [51.568289, -1.775468], [51.556255, -1.783172], [51.554298, -1.795008], [51.562349, -1.772467], [51.560296, -1.780267], [51.561347, -1.765981], [51.56883, -1.776186], [51.559868, -1.792387], [51.558241, -1.787634], [51.565513, -1.781685], [51.555044, -1.81116], [51.556478, -1.759515], [51.552216, -1.787374], [51.539353, -1.784406], [51.559739, -1.771326], [51.558229, -1.780999], [51.562065, -1.765544], [51.562431, -1.768572], [51.555044, -1.81116], [51.565418, -1.778656], [51.560746, -1.780698], [51.571784, -1.769679], [51.55915, -1.7934], [51.563066, -1.77131], [51.562612, -1.769004], [51.56694, -1.775474], [51.56255, -1.783575], [51.592, -1.761781], [51.589993, -1.748079], [51.590441, -1.747499], [51.676031, -1.705083], [51.576923, -1.733576], [51.573025, -1.760726], [51.577013, -1.73372], [51.527538, -1.724206], [51.585283, -1.775384], [51.518906, -1.724546], [51.568542, -1.725545], [51.572759, -1.762459], [51.585685, -1.751855], [51.58395, -1.701638], [51.576923, -1.733432], [51.590286, -1.759048], [51.608777, -1.789564], [51.592806, -1.760334], [51.578529, -1.728083], [51.582885, -1.707273], [51.580484, -1.718401], [51.594778, -1.757147], [51.554082, -1.732411], [51.554588, -1.758659], [51.570552, -1.73924], [51.608503, -1.787111], [51.56949, -1.747182], [51.584024, -1.775246], [51.572404, -1.76477], [51.611117, -1.790998], [51.610899, -1.728322], [51.589994, -1.748367], [51.68734, -1.697053], [51.576923, -1.733432], [51.570756, -1.750494], [51.576923, -1.733576], [51.522353, -1.83623], [51.528118, -1.786909], [51.526861, -1.78778], [51.556276, -1.748986], [51.567679, -1.741277], [51.553578, -1.748568], [51.603996, -1.737316], [51.585013, -1.77553], [51.536116, -1.784709], [51.55837, -1.761236], [51.566351, -1.750806], [51.527628, -1.724205], [51.591755, -1.774486], [51.526186, -1.723061], [51.584925, -1.776107], [51.573729, -1.753363], [51.608596, -1.788843], [51.570669, -1.751648], [51.529497, -1.804202], [51.589759, -1.765257], [51.568579, -1.741704], [51.525831, -1.724937], [51.579736, -1.745105], [51.591339, -1.746916], [51.624042, -1.735178], [51.617892, -1.71947], [51.535128, -1.785002], [51.514432, -1.733941], [51.56949, -1.747182], [51.576923, -1.733432], [51.582972, -1.744509], [51.538328, -1.816131], [51.631642, -1.71664], [51.570502, -1.757854], [51.623563, -1.813476], [51.56583, -1.75961], [51.570668, -1.751504], [51.623563, -1.813042], [51.592772, -1.74431], [51.574517, -1.743114], [51.555215, -1.757069], [51.522413, -1.724381], [51.518783, -1.749625], [51.554923, -1.74683], [51.554589, -1.759092], [51.589544, -1.74837], [51.592745, -1.775058], [51.508559, -1.721583], [51.570535, -1.731593], [51.524539, -1.797016], [51.607242, -1.785817], [51.490474, -1.716508], [51.5517, -1.753482], [51.537828, -1.843384], [51.526193, -1.7258], [51.548601, -1.777584], [51.522233, -1.724382], [51.565314, -1.729027], [51.51515, -1.829915], [51.624043, -1.735467], [51.565101, -1.755141], [51.57647, -1.732135], [51.631719, -1.711583], [51.623953, -1.735467], [51.6048, -1.735001], [51.551291, -1.773676], [51.552566, -1.782035], [51.51515, -1.829915], [51.514768, -1.723418], [51.557695, -1.739602], [51.571478, -1.7515], [51.552307, -1.704585], [51.514408, -1.723277], [51.568584, -1.743869], [51.573984, -1.746147], [51.57647, -1.732135], [51.540307, -1.724561], [51.544003, -1.770973], [51.563122, -1.754575], [51.514318, -1.723277], [51.559901, -1.762526], [51.575327, -1.743686], [51.565315, -1.729604], [51.545886, -1.690206], [51.598671, -1.770842], [51.617522, -1.803101], [51.522376, -1.794143], [51.554589, -1.758804], [51.562067, -1.76641], [51.527538, -1.724206], [51.552975, -1.720446], [51.544589, -1.749627], [51.563045, -1.760779], [51.554892, -1.732839], [51.583592, -1.740176], [51.62735, -1.819817], [51.598521, -1.741823], [51.51383, -1.642723], [51.531442, -1.785308], [51.518082, -1.75842], [51.559156, -1.711032], [51.558638, -1.719546], [51.562523, -1.76987], [51.55837, -1.761236], [51.515847, -1.7237], [51.575052, -1.74109], [51.538, -1.837472], [51.57776, -1.745837], [51.548788, -1.737201], [51.538238, -1.816276], [51.566724, -1.757152], [51.587431, -1.770466], [51.50984, -1.773594], [51.539598, -1.771427], [51.527858, -1.792532], [51.582032, -1.768472], [51.575139, -1.739936], [51.568606, -1.754112], [51.551807, -1.720742], [51.505518, -1.822315], [51.582176, -1.711319], [51.561547, -1.733233], [51.618424, -1.804975], [51.531134, -1.724184], [51.547852, -1.721199], [51.549949, -1.777], [51.547941, -1.761723], [51.562522, -1.769004], [51.549859, -1.776856], [51.548121, -1.721197], [51.593441, -1.812733], [51.60139, -1.781802], [51.568125, -1.783692], [51.590033, -1.818665], [51.560465, -1.828015], [51.555234, -1.817506], [51.585907, -1.825321], [51.579358, -1.780464], [51.584475, -1.775965], [51.582419, -1.78247], [51.554813, -1.836835], [51.559122, -1.832204], [51.58867, -1.809577], [51.557851, -1.823842], [51.569115, -1.784409], [51.559212, -1.832059], [51.571933, -1.801567], [51.551665, -1.835981], [51.574405, -1.776592], [51.552921, -1.834101], [51.576245, -1.799239], [51.599545, -1.806644], [51.598944, -1.824838], [51.546292, -1.85244], [51.601209, -1.781514], [51.599358, -1.802313], [51.597158, -1.778935], [51.573856, -1.771256], [51.577545, -1.772824], [51.58391, -1.813061], [51.584748, -1.777985], [51.546731, -1.844363], [51.593435, -1.80898], [51.564775, -1.823815], [51.571005, -1.785555], [51.569753, -1.789312], [51.600787, -1.796387], [51.608416, -1.7887], [51.582373, -1.807727], [51.580393, -1.806292], [51.590361, -1.798888], [51.585014, -1.775818], [51.571878, -1.77141], [51.560329, -1.798876], [51.595623, -1.828893], [51.556795, -1.839569], [51.57867, -1.798074], [51.55487, -1.814766], [51.54736, -1.844072], [51.568518, -1.802591], [51.598252, -1.78687], [51.568215, -1.783981], [51.579358, -1.78032], [51.555319, -1.814332], [51.614282, -1.801093], [51.599358, -1.802169], [51.619059, -1.80815], [51.604539, -1.782942], [51.561947, -1.798725], [51.606391, -1.814124], [51.600858, -1.78628], [51.599538, -1.802313], [51.581444, -1.745095], [51.596655, -1.752229], [51.624132, -1.735177], [51.573537, -1.747592], [51.592, -1.761781], [51.598327, -1.778785], [51.599725, -1.806643], [51.568215, -1.784125], [51.614686, -1.696092], [51.617522, -1.803245], [51.584098, -1.8184], [51.578632, -1.77686], [51.583428, -1.793867], [51.624131, -1.734744], [51.600008, -1.815016], [51.588121, -1.755595], [51.585907, -1.825321], [51.576923, -1.733432], [51.631091, -1.71202], [51.572582, -1.763903], [51.619769, -1.754992], [51.567761, -1.781819], [51.608776, -1.789276], [51.569099, -1.775752], [51.591361, -1.805668], [51.588338, -1.827333], [51.600008, -1.815016], [51.572428, -1.777179], [51.593467, -1.776354], [51.596979, -1.778935], [51.608347, -1.800686], [51.592205, -1.774772], [51.569279, -1.776184], [51.573179, -1.748316], [51.629203, -1.711888], [51.583035, -1.775251], [51.599448, -1.802313], [51.575835, -1.772111], [51.599454, -1.805922], [51.600787, -1.796387], [51.577189, -1.774414], [51.662736, -1.748977], [51.57585, -1.736324], [51.58323, -1.739456], [51.605169, -1.783083], [51.606132, -1.821489], [51.572138, -1.766358], [51.57072, -1.777043], [51.587432, -1.77061], [51.638635, -1.708504], [51.577459, -1.774557], [51.597778, -1.826719], [51.598169, -1.745146], [51.56235, -1.773333], [51.562453, -1.780257], [51.560568, -1.781564], [51.557429, -1.785907], [51.558503, -1.783305], [51.571877, -1.770977], [51.572494, -1.764769], [51.566131, -1.828715], [51.572966, -1.829988], [51.567855, -1.783838], [51.56435, -1.841273], [51.571011, -1.78844], [51.563444, -1.836371], [51.574053, -1.835179], [51.555418, -1.820101], [51.592835, -1.775202], [51.562218, -1.799445], [51.564194, -1.797994], [51.578866, -1.807453], [51.571094, -1.784977], [51.546998, -1.842776], [51.557014, -1.805815], [51.567145, -1.789035], [51.568215, -1.783981], [51.570838, -1.792337], [51.572698, -1.777177], [51.569933, -1.789167], [51.564865, -1.823671], [51.564557, -1.8003], [51.566686, -1.840111], [51.561977, -1.81719], [51.56375, -1.801314], [51.572437, -1.781796], [51.546902, -1.837873], [51.540288, -1.804732], [51.530398, -1.757346], [51.539674, -1.814251], [51.529566, -1.74625], [51.534389, -1.774481], [51.526822, -1.72594], [51.541686, -1.837026], [51.539685, -1.821749], [51.515918, -1.649192], [51.529654, -1.745384], [51.529745, -1.746249], [51.514904, -1.64113], [51.527734, -1.731412], [51.530394, -1.755472], [51.51426, -1.636091], [51.540777, -1.830541], [51.560764, -1.790796], [51.560286, -1.775363], [51.563726, -1.787753], [51.568289, -1.775468], [51.563363, -1.786023], [51.556998, -1.796294], [51.566732, -1.760903], [51.554665, -1.79919], [51.556866, -1.773649], [51.562473, -1.790932], [51.561123, -1.790073], [51.558776, -1.785035], [51.561574, -1.790792], [51.566324, -1.782402], [51.558866, -1.785467], [51.559217, -1.780561], [51.561573, -1.790648], [51.566041, -1.77519], [51.564973, -1.781255], [51.563981, -1.779528], [51.562289, -1.788625], [51.565159, -1.784572], [51.55805, -1.781576], [51.558685, -1.784603], [51.555044, -1.81116], [51.562289, -1.788336], [51.558229, -1.780999], [51.555047, -1.812746], [51.559739, -1.771471], [51.562993, -1.780399], [51.554575, -1.799046], [51.564622, -1.785729], [51.562797, -1.772032], [51.560672, -1.789498], [51.558776, -1.785035], [51.564159, -1.778662], [51.554672, -1.803228], [51.561663, -1.790792], [51.562527, -1.771889], [51.562888, -1.772176], [51.554671, -1.802651], [51.562715, -1.775928], [51.559219, -1.781571], [51.555706, -1.778414], [51.560746, -1.780698], [51.560656, -1.780698], [51.554671, -1.80294], [51.561195, -1.780696], [51.562361, -1.778671], [51.568289, -1.775468], [51.564704, -1.781833], [51.56748, -1.77576], [51.561302, -1.789639], [51.561457, -1.776078], [51.555706, -1.778414], [51.562629, -1.777948], [51.562706, -1.771167], [51.540161, -1.783969], [51.549841, -1.767626], [51.546297, -1.796054], [51.56492, -1.754421], [51.522383, -1.751046], [51.556298, -1.759372], [51.550395, -1.775267], [51.556568, -1.75937], [51.548691, -1.777583], [51.566544, -1.757153], [51.551111, -1.773533], [51.547781, -1.771963], [51.562061, -1.76338], [51.550574, -1.77469], [51.543632, -1.765062], [51.519895, -1.724396], [51.551561, -1.773819], [51.511398, -1.789437], [51.565101, -1.755141], [51.575575, -1.734017], [51.543204, -1.733052], [51.541755, -1.728879], [51.543445, -1.761747], [51.55837, -1.761236], [51.539442, -1.784261], [51.595762, -1.754976], [51.528702, -1.722469], [51.5407, -1.783534], [51.545796, -1.690206], [51.514498, -1.764636], [51.562156, -1.765832], [51.527853, -1.789361], [51.554352, -1.732554], [51.522272, -1.78636], [51.507318, -1.823461], [51.545748, -1.74515], [51.555016, -1.747983], [51.518097, -1.765626], [51.554858, -1.758802], [51.567764, -1.783406], [51.513146, -1.81263], [51.530633, -1.785456], [51.543823, -1.770829], [51.535718, -1.723147], [51.553816, -1.777125], [51.55434, -1.727506], [51.575666, -1.73416], [51.510542, -1.814946], [51.554987, -1.734858], [51.530001, -1.668545], [51.572694, -1.732013], [51.520636, -1.776711], [51.566351, -1.750806], [51.5601, -1.77219], [51.555015, -1.747551], [51.565455, -1.75211], [51.561268, -1.771319], [51.553245, -1.720445], [51.519356, -1.7244], [51.562525, -1.770591], [51.552362, -1.727517], [51.526432, -1.799746], [51.559814, -1.763825], [51.522738, -1.795438], [51.557025, -1.763118], [51.55871, -1.751569], [51.563298, -1.752698], [51.521369, -1.784202], [51.543245, -1.712575], [51.524302, -1.688623], [51.561331, -1.757902], [51.498302, -1.71862], [51.541574, -1.728447], [51.552197, -1.776989], [51.544678, -1.749194], [51.569279, -1.77604], [51.564127, -1.762216], [51.545211, -1.746451], [51.549752, -1.657874], [51.538709, -1.776767], [51.554956, -1.762696], [51.521697, -1.76777], [51.531631, -1.706449], [51.552107, -1.777134], [51.540072, -1.784258], [51.561977, -1.766266], [51.543913, -1.770829], [51.527899, -1.724925], [51.526261, -1.716718], [51.549428, -1.844065], [51.598169, -1.745146], [51.582898, -1.79921], [51.573591, -1.731431], [51.623563, -1.813331], [51.575484, -1.733296], [51.61968, -1.755425], [51.601748, -1.781078], [51.576471, -1.73228], [51.601224, -1.789599], [51.594476, -1.787321], [51.633026, -1.694814], [51.583769, -1.783474], [51.569344, -1.763054], [51.596299, -1.801027], [51.57647, -1.732135], [51.601928, -1.781077], [51.593911, -1.826157], [51.600873, -1.79451], [51.580395, -1.718546], [51.610111, -1.781616], [51.581944, -1.727341], [51.561425, -1.719529], [51.600008, -1.814872], [51.574539, -1.753503], [51.603996, -1.737316], [51.583639, -1.811907], [51.586437, -1.768017], [51.584782, -1.750128], [51.583168, -1.799353], [51.629746, -1.713618], [51.609222, -1.786819], [51.600008, -1.81516], [51.602453, -1.826413], [51.546323, -1.721352], [51.590117, -1.764678], [51.614581, -1.767874], [51.573283, -1.754809], [51.617522, -1.803245], [51.59487, -1.807097], [51.593172, -1.763652], [51.577528, -1.76431], [51.570535, -1.731737], [51.584001, -1.813349], [51.587384, -1.79356], [51.597083, -1.74212], [51.571296, -1.750491], [51.57656, -1.732135], [51.578259, -1.728084], [51.588608, -1.827332], [51.602901, -1.825112], [51.568066, -1.801583], [51.585728, -1.825466], [51.631091, -1.71202], [51.582398, -1.771357], [51.582808, -1.79921], [51.598208, -1.813868], [51.569369, -1.776184], [51.573984, -1.746291], [51.57862, -1.728515], [51.580127, -1.71927], [51.627578, -1.675058], [51.630814, -1.709132], [51.630458, -1.710724], [51.578006, -1.735157], [51.575841, -1.732283], [51.63898, -1.702433], [51.592, -1.761781], [51.621211, -1.716272], [51.597958, -1.826863], [51.568123, -1.738821], [51.574449, -1.753504], [51.569732, -1.734628], [51.585003, -1.770189], [51.58748, -1.797169], [51.604144, -1.81471], [51.571386, -1.75049], [51.611306, -1.79634], [51.571477, -1.751355], [51.527448, -1.724207], [51.61968, -1.755425], [51.582944, -1.775107], [51.606745, -1.810512], [51.603458, -1.782081], [51.573905, -1.751198], [51.58391, -1.812628], [51.567194, -1.725842], [51.608864, -1.787976], [51.599727, -1.807943], [51.623563, -1.813331], [51.596406, -1.762047], [51.583769, -1.783474], [51.594519, -1.812007], [51.634054, -1.710123], [51.577013, -1.733575], [51.599538, -1.802313], [51.530146, -1.724334], [51.575575, -1.734017], [51.600008, -1.814872], [51.576923, -1.733576], [51.576923, -1.733432], [51.571877, -1.770977], [51.582945, -1.775251], [51.584732, -1.769325], [51.568494, -1.743869], [51.599358, -1.802169], [51.584199, -1.825761], [51.563005, -1.742169], [51.565902, -1.751242], [51.591903, -1.807109], [51.600765, -1.784404], [51.574809, -1.753646], [51.575575, -1.734017], [51.560145, -1.796713], [51.574359, -1.753504], [51.583168, -1.799353], [51.587119, -1.795871], [51.600008, -1.814727], [51.54102, -1.721962], [51.582945, -1.775251], [51.603264, -1.82742], [51.574427, -1.743259], [51.58324, -1.789105], [51.530056, -1.724335], [51.582945, -1.775251], [51.568199, -1.775468], [51.593015, -1.775346], [51.552983, -1.815495], [51.57149, -1.805609], [51.584923, -1.77553], [51.581327, -1.775836], [51.558985, -1.801623], [51.568698, -1.803023], [51.581432, -1.783918], [51.571259, -1.77704], [51.572695, -1.775446], [51.563447, -1.838247], [51.588707, -1.77912], [51.555795, -1.831783], [51.577248, -1.808037], [51.582675, -1.775397], [51.630193, -1.712459], [51.547434, -1.832968], [51.54682, -1.843642], [51.568125, -1.784125], [51.580698, -1.775984], [51.546909, -1.843353], [51.554576, -1.799623], [51.556678, -1.820962], [51.552839, -1.839871], [51.608415, -1.788555], [51.568215, -1.784125], [51.569663, -1.788879], [51.54656, -1.85143], [51.58475, -1.778995], [51.579215, -1.801391], [51.585013, -1.77553], [51.576788, -1.801834], [51.585013, -1.77553], [51.569098, -1.775608], [51.571329, -1.766651], [51.564378, -1.800301], [51.549868, -1.836853], [51.556678, -1.821106], [51.581507, -1.775835], [51.574784, -1.786835], [51.561016, -1.835947], [51.580069, -1.775987], [51.578756, -1.795476], [51.596079, -1.778507], [51.571619, -1.777038], [51.561343, -1.814019], [51.568289, -1.775468], [51.569753, -1.789023], [51.572946, -1.765921], [51.572394, -1.808491], [51.581327, -1.775836], [51.567584, -1.782974], [51.580982, -1.783343], [51.568937, -1.78542], [51.58744, -1.775229], [51.567672, -1.782252], [51.592745, -1.775203], [51.571627, -1.781511], [51.571338, -1.771268], [51.568035, -1.783693], [51.570925, -1.790894], [51.5691, -1.776618], [51.574317, -1.831138], [51.556237, -1.826877], [51.582945, -1.775251], [51.586272, -1.775379], [51.576464, -1.77182], [51.589885, -1.784455], [51.575836, -1.772256], [51.583328, -1.787806], [51.573345, -1.786409], [51.560647, -1.829313], [51.568035, -1.783837], [51.5834, -1.77828], [51.565282, -1.803471], [51.562441, -1.826565], [51.547091, -1.844506], [51.567178, -1.808224], [51.571786, -1.7704], [51.547089, -1.84292], [51.562243, -1.814448], [51.571608, -1.771267], [51.569009, -1.775753], [51.569753, -1.789312], [51.557087, -1.856877], [51.552722, -1.821266], [51.572404, -1.764914], [51.567851, -1.78153], [51.553552, -1.835109], [51.571608, -1.771267], [51.546735, -1.847536], [51.578632, -1.77686], [51.599918, -1.815161], [51.555051, -1.815343], [51.569932, -1.788734], [51.567852, -1.782107], [51.5546, -1.814623], [51.564923, -1.803905], [51.517104, -1.655092], [51.525533, -1.713263], [51.526188, -1.723926], [51.539685, -1.821749], [51.539762, -1.813242], [51.529936, -1.751149], [51.540325, -1.828668], [51.526909, -1.688605], [51.526188, -1.723638], [51.520277, -1.664004], [51.526089, -1.71989], [51.525438, -1.710957], [51.529929, -1.748122], [51.516191, -1.650343], [51.522176, -1.667593], [51.515001, -1.643291]],\n",
       "                {\n",
       "  &quot;minOpacity&quot;: 0.5,\n",
       "  &quot;maxZoom&quot;: 18,\n",
       "  &quot;radius&quot;: 25,\n",
       "  &quot;blur&quot;: 15,\n",
       "}\n",
       "            );\n",
       "        \n",
       "    \n",
       "            heat_map_c379002a452ae46f5ea21e7bdaa85fe2.addTo(map_09255bfebd39aebf33b3e02ff1ec2249);\n",
       "        \n",
       "    \n",
       "            tile_layer_9c8baaf0f83610a2a3e1e8f668d2853e.addTo(map_09255bfebd39aebf33b3e02ff1ec2249);\n",
       "        \n",
       "    \n",
       "            heat_map_c379002a452ae46f5ea21e7bdaa85fe2.addTo(map_09255bfebd39aebf33b3e02ff1ec2249);\n",
       "        \n",
       "&lt;/script&gt;\n",
       "&lt;/html&gt;\" style=\"position:absolute;width:100%;height:100%;left:0;top:0;border:none !important;\" allowfullscreen webkitallowfullscreen mozallowfullscreen></iframe></div></div>"
      ],
      "text/plain": [
       "<folium.folium.Map at 0x1746430de50>"
      ]
     },
     "execution_count": 59,
     "metadata": {},
     "output_type": "execute_result"
    }
   ],
   "source": [
    "# bolton_df\n",
    "import folium\n",
    "from folium.plugins import HeatMap\n",
    "swindon_locations  = list(zip(swindon_df['Latitude'], swindon_df['Longitude']))\n",
    "swindon_map = folium.Map(location=[swindon_df['Latitude'].mean(), swindon_df['Longitude'].mean()], zoom_start=10)\n",
    "HeatMap(swindon_locations).add_to(swindon_map)\n",
    "swindon_map.save('swindow_heatmap.html')  \n",
    "swindon_map"
   ]
  },
  {
   "cell_type": "code",
   "execution_count": 57,
   "id": "c481047a-32ec-4c96-a839-c657d2ec9f23",
   "metadata": {},
   "outputs": [],
   "source": [
    "kennet_df = df[df['District Area'] == 'Kennet']"
   ]
  },
  {
   "cell_type": "code",
   "execution_count": 60,
   "id": "165d4867-4fd6-41ef-81d5-9a3a3223b4f3",
   "metadata": {},
   "outputs": [
    {
     "data": {
      "text/html": [
       "<div style=\"width:100%;\"><div style=\"position:relative;width:100%;height:0;padding-bottom:60%;\"><span style=\"color:#565656\">Make this Notebook Trusted to load map: File -> Trust Notebook</span><iframe srcdoc=\"&lt;!DOCTYPE html&gt;\n",
       "&lt;html&gt;\n",
       "&lt;head&gt;\n",
       "    \n",
       "    &lt;meta http-equiv=&quot;content-type&quot; content=&quot;text/html; charset=UTF-8&quot; /&gt;\n",
       "    &lt;script src=&quot;https://cdn.jsdelivr.net/npm/leaflet@1.9.3/dist/leaflet.js&quot;&gt;&lt;/script&gt;\n",
       "    &lt;script src=&quot;https://code.jquery.com/jquery-3.7.1.min.js&quot;&gt;&lt;/script&gt;\n",
       "    &lt;script src=&quot;https://cdn.jsdelivr.net/npm/bootstrap@5.2.2/dist/js/bootstrap.bundle.min.js&quot;&gt;&lt;/script&gt;\n",
       "    &lt;script src=&quot;https://cdnjs.cloudflare.com/ajax/libs/Leaflet.awesome-markers/2.0.2/leaflet.awesome-markers.js&quot;&gt;&lt;/script&gt;\n",
       "    &lt;link rel=&quot;stylesheet&quot; href=&quot;https://cdn.jsdelivr.net/npm/leaflet@1.9.3/dist/leaflet.css&quot;/&gt;\n",
       "    &lt;link rel=&quot;stylesheet&quot; href=&quot;https://cdn.jsdelivr.net/npm/bootstrap@5.2.2/dist/css/bootstrap.min.css&quot;/&gt;\n",
       "    &lt;link rel=&quot;stylesheet&quot; href=&quot;https://netdna.bootstrapcdn.com/bootstrap/3.0.0/css/bootstrap-glyphicons.css&quot;/&gt;\n",
       "    &lt;link rel=&quot;stylesheet&quot; href=&quot;https://cdn.jsdelivr.net/npm/@fortawesome/fontawesome-free@6.2.0/css/all.min.css&quot;/&gt;\n",
       "    &lt;link rel=&quot;stylesheet&quot; href=&quot;https://cdnjs.cloudflare.com/ajax/libs/Leaflet.awesome-markers/2.0.2/leaflet.awesome-markers.css&quot;/&gt;\n",
       "    &lt;link rel=&quot;stylesheet&quot; href=&quot;https://cdn.jsdelivr.net/gh/python-visualization/folium/folium/templates/leaflet.awesome.rotate.min.css&quot;/&gt;\n",
       "    \n",
       "            &lt;meta name=&quot;viewport&quot; content=&quot;width=device-width,\n",
       "                initial-scale=1.0, maximum-scale=1.0, user-scalable=no&quot; /&gt;\n",
       "            &lt;style&gt;\n",
       "                #map_1831f9bf652fb05f96ca7d70ae3c765d {\n",
       "                    position: relative;\n",
       "                    width: 100.0%;\n",
       "                    height: 100.0%;\n",
       "                    left: 0.0%;\n",
       "                    top: 0.0%;\n",
       "                }\n",
       "                .leaflet-container { font-size: 1rem; }\n",
       "            &lt;/style&gt;\n",
       "\n",
       "            &lt;style&gt;html, body {\n",
       "                width: 100%;\n",
       "                height: 100%;\n",
       "                margin: 0;\n",
       "                padding: 0;\n",
       "            }\n",
       "            &lt;/style&gt;\n",
       "\n",
       "            &lt;style&gt;#map {\n",
       "                position:absolute;\n",
       "                top:0;\n",
       "                bottom:0;\n",
       "                right:0;\n",
       "                left:0;\n",
       "                }\n",
       "            &lt;/style&gt;\n",
       "\n",
       "            &lt;script&gt;\n",
       "                L_NO_TOUCH = false;\n",
       "                L_DISABLE_3D = false;\n",
       "            &lt;/script&gt;\n",
       "\n",
       "        \n",
       "    &lt;script src=&quot;https://cdn.jsdelivr.net/gh/python-visualization/folium@main/folium/templates/leaflet_heat.min.js&quot;&gt;&lt;/script&gt;\n",
       "&lt;/head&gt;\n",
       "&lt;body&gt;\n",
       "    \n",
       "    \n",
       "            &lt;div class=&quot;folium-map&quot; id=&quot;map_1831f9bf652fb05f96ca7d70ae3c765d&quot; &gt;&lt;/div&gt;\n",
       "        \n",
       "&lt;/body&gt;\n",
       "&lt;script&gt;\n",
       "    \n",
       "    \n",
       "            var map_1831f9bf652fb05f96ca7d70ae3c765d = L.map(\n",
       "                &quot;map_1831f9bf652fb05f96ca7d70ae3c765d&quot;,\n",
       "                {\n",
       "                    center: [51.36217926014319, -1.8193628162291169],\n",
       "                    crs: L.CRS.EPSG3857,\n",
       "                    ...{\n",
       "  &quot;zoom&quot;: 10,\n",
       "  &quot;zoomControl&quot;: true,\n",
       "  &quot;preferCanvas&quot;: false,\n",
       "}\n",
       "\n",
       "                }\n",
       "            );\n",
       "\n",
       "            \n",
       "\n",
       "        \n",
       "    \n",
       "            var tile_layer_2feb5b95ccbc602defde306d39dfafec = L.tileLayer(\n",
       "                &quot;https://tile.openstreetmap.org/{z}/{x}/{y}.png&quot;,\n",
       "                {\n",
       "  &quot;minZoom&quot;: 0,\n",
       "  &quot;maxZoom&quot;: 19,\n",
       "  &quot;maxNativeZoom&quot;: 19,\n",
       "  &quot;noWrap&quot;: false,\n",
       "  &quot;attribution&quot;: &quot;\\u0026copy; \\u003ca href=\\&quot;https://www.openstreetmap.org/copyright\\&quot;\\u003eOpenStreetMap\\u003c/a\\u003e contributors&quot;,\n",
       "  &quot;subdomains&quot;: &quot;abc&quot;,\n",
       "  &quot;detectRetina&quot;: false,\n",
       "  &quot;tms&quot;: false,\n",
       "  &quot;opacity&quot;: 1,\n",
       "}\n",
       "\n",
       "            );\n",
       "        \n",
       "    \n",
       "            tile_layer_2feb5b95ccbc602defde306d39dfafec.addTo(map_1831f9bf652fb05f96ca7d70ae3c765d);\n",
       "        \n",
       "    \n",
       "            var heat_map_84b8349c466390ca66483ba82c7892ae = L.heatLayer(\n",
       "                [[51.239845, -1.789963], [51.369527, -1.679043], [51.487055, -1.715665], [51.379724, -1.692191], [51.343745, -1.599252], [51.418418, -1.786125], [51.50184, -1.828092], [51.405468, -1.740899], [51.400439, -1.705421], [51.483786, -1.841985], [51.484056, -1.84184], [51.502826, -1.825927], [51.398997, -1.703993], [51.421083, -1.727436], [51.390341, -1.694994], [51.242414, -1.658869], [51.264522, -1.654693], [51.370769, -1.79037], [51.345419, -1.794649], [51.349642, -1.708331], [51.349641, -1.708044], [51.34524, -1.794794], [51.240927, -1.79139], [51.368219, -1.773287], [51.367498, -1.901712], [51.282566, -1.998821], [51.369289, -1.893233], [51.291197, -1.98534], [51.257387, -1.988217], [51.365505, -1.885772], [51.267009, -1.990938], [51.348923, -1.972399], [51.342272, -1.996666], [51.398732, -2.045967], [51.282379, -2.039542], [51.395037, -1.9373], [51.274043, -1.806293], [51.283478, -1.802238], [51.306943, -1.862391], [51.312177, -1.811154], [51.276019, -1.804994], [51.311749, -1.902836], [51.285545, -1.801943], [51.317676, -1.894214], [51.350541, -1.852208], [51.246839, -1.779472], [51.310388, -1.889209], [51.371812, -1.771545], [51.337636, -1.767839], [51.348621, -1.775394], [51.352626, -1.802228], [51.329744, -1.778788], [51.33985, -1.79812], [51.291616, -1.777393], [51.307488, -1.867554], [51.360522, -1.85232], [51.323654, -1.791733], [51.342225, -1.769539], [51.348111, -1.791335], [51.462446, -1.601956], [51.449621, -1.585518], [51.423299, -1.863911], [51.41561, -1.732501], [51.484673, -1.634886], [51.472873, -1.818842], [51.420642, -1.73089], [51.443301, -1.731045], [51.420463, -1.731466], [51.40727, -1.787184], [51.447327, -1.762967], [51.368485, -1.508104], [51.449186, -1.855776], [51.486245, -1.715382], [51.419437, -1.715797], [51.370879, -1.680039], [51.426524, -1.853258], [51.425228, -1.731007], [51.490015, -1.861696], [51.3402, -1.67408], [51.418849, -1.733345], [51.419925, -1.732189], [51.471833, -1.84649], [51.419354, -1.873846], [51.342528, -1.67033], [51.353846, -1.608211], [51.437013, -1.555708], [51.417244, -1.739251], [51.409371, -1.717872], [51.419535, -1.874996], [51.494391, -1.837771], [51.414017, -1.847115], [51.344044, -1.607864], [51.414238, -1.813178], [51.424845, -1.721229], [51.419291, -1.730035], [51.419298, -1.733055], [51.409991, -1.61909], [51.413917, -1.701739], [51.419298, -1.732911], [51.421, -1.730313], [51.416035, -1.572448], [51.50464, -1.608648], [51.431831, -1.854967], [51.410183, -1.719018], [51.430645, -1.536638], [51.429445, -1.658629], [51.432913, -1.749951], [51.30581, -1.659691], [51.299427, -1.530071], [51.241261, -1.664608], [51.240973, -1.658307], [51.282291, -1.673773], [51.253527, -1.617662], [51.31924, -1.670784], [51.288977, -1.653649], [51.227191, -1.681466], [51.248996, -1.635036], [51.238473, -1.664199], [51.238472, -1.664055], [51.273318, -1.649179], [51.266886, -1.663705], [51.316803, -1.667501], [51.293665, -1.628085], [51.261157, -1.641963], [51.290256, -1.630694], [51.254763, -1.610917], [51.255789, -1.622085], [51.384074, -1.950104], [51.398732, -2.045967], [51.348656, -1.992645], [51.385243, -1.950534], [51.274292, -1.988499], [51.296413, -1.996956], [51.330387, -1.939971], [51.359624, -1.974977], [51.351971, -2.054536], [51.282379, -2.039542], [51.296593, -2.008287], [51.334692, -2.079492], [51.362499, -1.966932], [51.35027, -2.035149], [51.352792, -1.985751], [51.347397, -1.992502], [51.314192, -1.922775], [51.389922, -2.040784], [51.322578, -2.02092], [51.353602, -1.998388], [51.340923, -1.997958], [51.352702, -1.992788], [51.257837, -1.98836], [51.369517, -1.992642], [51.393422, -2.056454], [51.324738, -2.009009], [51.276091, -1.991653], [51.383444, -1.950823], [51.350088, -2.040892], [51.349819, -2.038164], [51.381111, -2.036465], [51.283092, -2.055888], [51.352163, -1.98848], [51.35549, -2.009734], [51.375625, -1.959596], [51.349353, -2.072195], [51.352882, -1.985751], [51.345239, -1.993507], [51.347038, -1.992932], [51.358238, -2.09648], [51.383521, -2.074548], [51.367798, -1.948111], [51.353511, -1.985033], [51.282925, -1.999395], [51.368135, -1.911479], [51.350434, -2.069324], [51.369872, -1.964485], [51.36367, -1.972964], [51.35206, -2.05468], [51.352613, -1.99566], [51.402598, -2.047552], [51.286159, -2.02879], [51.35206, -2.054823], [51.361241, -2.028694], [51.325007, -2.008866], [51.351623, -2.015046], [51.350004, -1.984891], [51.509248, -1.615381], [51.498445, -1.585219], [51.498535, -1.585219], [51.497272, -1.584078], [51.498265, -1.585077], [51.49601, -1.583081], [51.507692, -1.607181], [51.50696, -1.603297], [51.506133, -1.598117], [51.503593, -1.591656], [51.505952, -1.597687], [51.341161, -1.77701], [51.345517, -1.752149], [51.307034, -1.863395], [51.340765, -1.758779], [51.30097, -1.83329], [51.348111, -1.791191], [51.348728, -1.70245], [51.351249, -1.786151], [51.287538, -1.810682], [51.301698, -1.839169], [51.360249, -1.849592], [51.358697, -1.77793], [51.319817, -1.876702], [51.239133, -1.793977], [51.323564, -1.79202], [51.319267, -1.803233], [51.245232, -1.785354], [51.330998, -1.776054], [51.287448, -1.810539], [51.337993, -1.766689], [51.364558, -1.844119], [51.338069, -1.759654], [51.348111, -1.791335], [51.342766, -1.770398], [51.340708, -1.775576], [51.331624, -1.774472], [51.418507, -1.785837], [51.349899, -1.584982], [51.478693, -1.620678], [51.451333, -1.58651], [51.484888, -1.617746], [51.422354, -1.73275], [51.429452, -1.55348], [51.419369, -1.724714], [51.3785, -1.538458], [51.500011, -1.595866], [51.432823, -1.749807], [51.4199, -1.721115], [51.424468, -1.713752], [51.3785, -1.538601], [51.472873, -1.818986], [51.345535, -1.653079], [51.413345, -1.817352], [51.418418, -1.786125], [51.440432, -1.580566], [51.367546, -1.677764], [51.487561, -1.840388], [51.40965, -1.812191], [51.422582, -1.865639], [51.51145, -1.628908], [51.338134, -1.674812], [51.3196, -1.671069], [51.473498, -1.815816], [51.418726, -1.875429], [51.373939, -1.681167], [51.344447, -1.650072], [51.434079, -1.85496], [51.503279, -1.605058], [51.500102, -1.596153], [51.343834, -1.599108], [51.417346, -1.745002], [51.426524, -1.853258], [51.420631, -1.726432], [51.420722, -1.726575], [51.419476, -1.732479], [51.373038, -1.680455], [51.389759, -1.75306], [51.484146, -1.84184], [51.4199, -1.721115], [51.413435, -1.817064], [51.426703, -1.853113], [51.378361, -1.598519], [51.3785, -1.538601], [51.395801, -1.811241], [51.505547, -1.61109], [51.414099, -1.840931], [51.446967, -1.763112], [51.381546, -1.609843], [51.472873, -1.81913], [51.421619, -1.890235], [51.401019, -1.762775], [51.425587, -1.730861], [51.385367, -1.596158], [51.487943, -1.616857], [51.411571, -1.833463], [51.39125, -1.635343], [51.257312, -1.620497], [51.219236, -1.666486], [51.285197, -1.65253], [51.239004, -1.631677], [51.239005, -1.631821], [51.239435, -1.655024], [51.293801, -1.540025], [51.236472, -1.656335], [51.238474, -1.664772], [51.248392, -1.643208], [51.300144, -1.659302], [51.297112, -1.701493], [51.27425, -1.660497], [51.241252, -1.631659], [51.244428, -1.671462], [51.239866, -1.620067], [51.234785, -1.663939], [51.254048, -1.612069], [51.257861, -1.623215], [51.234785, -1.663939], [51.237124, -1.664352], [51.23451, -1.662222], [51.231201, -1.668405], [51.244518, -1.671461], [51.285107, -1.652531], [51.369517, -1.992498], [51.354501, -2.004707], [51.350179, -2.03601], [51.356171, -2.094465], [51.283735, -2.000398], [51.354411, -2.005138], [51.36295, -2.029413], [51.363243, -1.872133], [51.347847, -1.998101], [51.354501, -2.008584], [51.370231, -1.964197], [51.369242, -2.037031], [51.367498, -1.901712], [51.35027, -2.034861], [51.389922, -2.040784], [51.335249, -1.952741], [51.367448, -1.980863], [51.314037, -2.009438], [51.356081, -2.094465], [51.297852, -2.007426], [51.357557, -1.981441], [51.301808, -2.009005], [51.389922, -2.040784], [51.349016, -1.992932], [51.25433, -1.986212], [51.350714, -2.05037], [51.373919, -2.032437], [51.371674, -1.981148], [51.350355, -2.047067], [51.3545, -1.984171], [51.361242, -1.975407], [51.352432, -1.987331], [51.352972, -1.985751], [51.350544, -1.994081], [51.351262, -1.980582], [51.354321, -2.00126], [51.398732, -2.045967], [51.35206, -2.05511], [51.354501, -2.004707], [51.390012, -2.040784], [51.342138, -2.101902], [51.385512, -1.948378], [51.351978, -2.035006], [51.350451, -2.029836], [51.301358, -2.009148], [51.402598, -2.047552], [51.352793, -1.996378], [51.389922, -2.040784], [51.363243, -1.872133], [51.355992, -2.094321], [51.367498, -1.901856], [51.281561, -2.060761], [51.318058, -1.921907], [51.344391, -2.095303], [51.383624, -1.950248], [51.350541, -2.029261], [51.407969, -1.910971], [51.289667, -1.975159], [51.315086, -1.914882], [51.354591, -2.004563], [51.353602, -1.998245], [51.351803, -1.986613], [51.323748, -2.014176], [51.297942, -2.007426], [51.323838, -2.009153], [51.348566, -1.991065], [51.39325, -1.961592], [51.350095, -1.990634], [51.511704, -1.624151], [51.503866, -1.592518], [51.501061, -1.587645], [51.507051, -1.603585], [51.51052, -1.619405], [51.499436, -1.585787], [51.246391, -1.780191], [51.297623, -1.819389], [51.237064, -1.793413], [51.308844, -1.873719], [51.354476, -1.78111], [51.381073, -1.822797], [51.236253, -1.792987], [51.323742, -1.791015], [51.320428, -1.798636], [51.353846, -1.780395], [51.358781, -2.091886], [51.462891, -1.657228], [51.500762, -1.829104], [51.470316, -1.71001], [51.420284, -1.731755], [51.409732, -1.718445], [51.420274, -1.769434], [51.419988, -1.720683], [51.421083, -1.727436], [51.426954, -1.535381], [51.283742, -1.71262], [51.270063, -1.674289], [51.237034, -1.664352], [51.22728, -1.681036], [51.31482, -1.666081], [51.23797, -1.646297], [51.352506, -2.063583], [51.359782, -2.07494], [51.286701, -2.017319], [51.343148, -1.926459], [51.333087, -1.944992], [51.35441, -1.984315], [51.282101, -2.058468], [51.3545, -1.984315], [51.337409, -1.959342], [51.350361, -2.031559], [51.297402, -2.00757], [51.35027, -2.035292], [51.513712, -1.633645]],\n",
       "                {\n",
       "  &quot;minOpacity&quot;: 0.5,\n",
       "  &quot;maxZoom&quot;: 18,\n",
       "  &quot;radius&quot;: 25,\n",
       "  &quot;blur&quot;: 15,\n",
       "}\n",
       "            );\n",
       "        \n",
       "    \n",
       "            heat_map_84b8349c466390ca66483ba82c7892ae.addTo(map_1831f9bf652fb05f96ca7d70ae3c765d);\n",
       "        \n",
       "    \n",
       "            tile_layer_2feb5b95ccbc602defde306d39dfafec.addTo(map_1831f9bf652fb05f96ca7d70ae3c765d);\n",
       "        \n",
       "    \n",
       "            heat_map_84b8349c466390ca66483ba82c7892ae.addTo(map_1831f9bf652fb05f96ca7d70ae3c765d);\n",
       "        \n",
       "&lt;/script&gt;\n",
       "&lt;/html&gt;\" style=\"position:absolute;width:100%;height:100%;left:0;top:0;border:none !important;\" allowfullscreen webkitallowfullscreen mozallowfullscreen></iframe></div></div>"
      ],
      "text/plain": [
       "<folium.folium.Map at 0x17466deb8f0>"
      ]
     },
     "execution_count": 60,
     "metadata": {},
     "output_type": "execute_result"
    }
   ],
   "source": [
    "# bolton_df\n",
    "import folium\n",
    "from folium.plugins import HeatMap\n",
    "kennet_locations  = list(zip(kennet_df['Latitude'], kennet_df['Longitude']))\n",
    "kennet_map = folium.Map(location=[kennet_df['Latitude'].mean(), kennet_df['Longitude'].mean()], zoom_start=10)\n",
    "HeatMap(kennet_locations).add_to(kennet_map)\n",
    "kennet_map.save('kennet_heatmap.html')  \n",
    "kennet_map"
   ]
  },
  {
   "cell_type": "code",
   "execution_count": 61,
   "id": "88c2634a-b329-465c-ba1b-757093415103",
   "metadata": {},
   "outputs": [],
   "source": [
    "poole_df = df[df['District Area'] == 'Poole']"
   ]
  },
  {
   "cell_type": "code",
   "execution_count": 62,
   "id": "e72e5693-7bf9-43cd-a53b-2c4ea04ecafc",
   "metadata": {},
   "outputs": [
    {
     "data": {
      "text/html": [
       "<div style=\"width:100%;\"><div style=\"position:relative;width:100%;height:0;padding-bottom:60%;\"><span style=\"color:#565656\">Make this Notebook Trusted to load map: File -> Trust Notebook</span><iframe srcdoc=\"&lt;!DOCTYPE html&gt;\n",
       "&lt;html&gt;\n",
       "&lt;head&gt;\n",
       "    \n",
       "    &lt;meta http-equiv=&quot;content-type&quot; content=&quot;text/html; charset=UTF-8&quot; /&gt;\n",
       "    &lt;script src=&quot;https://cdn.jsdelivr.net/npm/leaflet@1.9.3/dist/leaflet.js&quot;&gt;&lt;/script&gt;\n",
       "    &lt;script src=&quot;https://code.jquery.com/jquery-3.7.1.min.js&quot;&gt;&lt;/script&gt;\n",
       "    &lt;script src=&quot;https://cdn.jsdelivr.net/npm/bootstrap@5.2.2/dist/js/bootstrap.bundle.min.js&quot;&gt;&lt;/script&gt;\n",
       "    &lt;script src=&quot;https://cdnjs.cloudflare.com/ajax/libs/Leaflet.awesome-markers/2.0.2/leaflet.awesome-markers.js&quot;&gt;&lt;/script&gt;\n",
       "    &lt;link rel=&quot;stylesheet&quot; href=&quot;https://cdn.jsdelivr.net/npm/leaflet@1.9.3/dist/leaflet.css&quot;/&gt;\n",
       "    &lt;link rel=&quot;stylesheet&quot; href=&quot;https://cdn.jsdelivr.net/npm/bootstrap@5.2.2/dist/css/bootstrap.min.css&quot;/&gt;\n",
       "    &lt;link rel=&quot;stylesheet&quot; href=&quot;https://netdna.bootstrapcdn.com/bootstrap/3.0.0/css/bootstrap-glyphicons.css&quot;/&gt;\n",
       "    &lt;link rel=&quot;stylesheet&quot; href=&quot;https://cdn.jsdelivr.net/npm/@fortawesome/fontawesome-free@6.2.0/css/all.min.css&quot;/&gt;\n",
       "    &lt;link rel=&quot;stylesheet&quot; href=&quot;https://cdnjs.cloudflare.com/ajax/libs/Leaflet.awesome-markers/2.0.2/leaflet.awesome-markers.css&quot;/&gt;\n",
       "    &lt;link rel=&quot;stylesheet&quot; href=&quot;https://cdn.jsdelivr.net/gh/python-visualization/folium/folium/templates/leaflet.awesome.rotate.min.css&quot;/&gt;\n",
       "    \n",
       "            &lt;meta name=&quot;viewport&quot; content=&quot;width=device-width,\n",
       "                initial-scale=1.0, maximum-scale=1.0, user-scalable=no&quot; /&gt;\n",
       "            &lt;style&gt;\n",
       "                #map_a14ccc85fac4ff97785c650911601f6f {\n",
       "                    position: relative;\n",
       "                    width: 100.0%;\n",
       "                    height: 100.0%;\n",
       "                    left: 0.0%;\n",
       "                    top: 0.0%;\n",
       "                }\n",
       "                .leaflet-container { font-size: 1rem; }\n",
       "            &lt;/style&gt;\n",
       "\n",
       "            &lt;style&gt;html, body {\n",
       "                width: 100%;\n",
       "                height: 100%;\n",
       "                margin: 0;\n",
       "                padding: 0;\n",
       "            }\n",
       "            &lt;/style&gt;\n",
       "\n",
       "            &lt;style&gt;#map {\n",
       "                position:absolute;\n",
       "                top:0;\n",
       "                bottom:0;\n",
       "                right:0;\n",
       "                left:0;\n",
       "                }\n",
       "            &lt;/style&gt;\n",
       "\n",
       "            &lt;script&gt;\n",
       "                L_NO_TOUCH = false;\n",
       "                L_DISABLE_3D = false;\n",
       "            &lt;/script&gt;\n",
       "\n",
       "        \n",
       "    &lt;script src=&quot;https://cdn.jsdelivr.net/gh/python-visualization/folium@main/folium/templates/leaflet_heat.min.js&quot;&gt;&lt;/script&gt;\n",
       "&lt;/head&gt;\n",
       "&lt;body&gt;\n",
       "    \n",
       "    \n",
       "            &lt;div class=&quot;folium-map&quot; id=&quot;map_a14ccc85fac4ff97785c650911601f6f&quot; &gt;&lt;/div&gt;\n",
       "        \n",
       "&lt;/body&gt;\n",
       "&lt;script&gt;\n",
       "    \n",
       "    \n",
       "            var map_a14ccc85fac4ff97785c650911601f6f = L.map(\n",
       "                &quot;map_a14ccc85fac4ff97785c650911601f6f&quot;,\n",
       "                {\n",
       "                    center: [50.73505327453416, -1.9591806062111798],\n",
       "                    crs: L.CRS.EPSG3857,\n",
       "                    ...{\n",
       "  &quot;zoom&quot;: 10,\n",
       "  &quot;zoomControl&quot;: true,\n",
       "  &quot;preferCanvas&quot;: false,\n",
       "}\n",
       "\n",
       "                }\n",
       "            );\n",
       "\n",
       "            \n",
       "\n",
       "        \n",
       "    \n",
       "            var tile_layer_6c7218079f7c43fdc0e80c2e810b8461 = L.tileLayer(\n",
       "                &quot;https://tile.openstreetmap.org/{z}/{x}/{y}.png&quot;,\n",
       "                {\n",
       "  &quot;minZoom&quot;: 0,\n",
       "  &quot;maxZoom&quot;: 19,\n",
       "  &quot;maxNativeZoom&quot;: 19,\n",
       "  &quot;noWrap&quot;: false,\n",
       "  &quot;attribution&quot;: &quot;\\u0026copy; \\u003ca href=\\&quot;https://www.openstreetmap.org/copyright\\&quot;\\u003eOpenStreetMap\\u003c/a\\u003e contributors&quot;,\n",
       "  &quot;subdomains&quot;: &quot;abc&quot;,\n",
       "  &quot;detectRetina&quot;: false,\n",
       "  &quot;tms&quot;: false,\n",
       "  &quot;opacity&quot;: 1,\n",
       "}\n",
       "\n",
       "            );\n",
       "        \n",
       "    \n",
       "            tile_layer_6c7218079f7c43fdc0e80c2e810b8461.addTo(map_a14ccc85fac4ff97785c650911601f6f);\n",
       "        \n",
       "    \n",
       "            var heat_map_1094d7148d29e611d634dda2d334cbd8 = L.heatLayer(\n",
       "                [[50.731291, -1.903333], [50.768807, -1.926229], [50.767191, -1.93006], [50.72284, -1.906326], [50.753254, -1.933341], [50.767101, -1.930202], [50.724728, -1.906322], [50.770968, -1.929912], [50.747398, -1.916057], [50.772229, -1.933314], [50.772229, -1.933314], [50.769886, -1.924951], [50.728055, -1.905465], [50.747217, -1.915207], [50.724369, -1.906889], [50.767642, -1.931903], [50.788073, -1.975568], [50.788163, -1.975284], [50.789603, -1.988051], [50.719369, -1.980703], [50.705493, -1.918681], [50.722221, -1.921344], [50.728626, -1.95973], [50.710467, -1.989771], [50.74885, -1.937883], [50.715052, -1.979005], [50.7262, -1.964832], [50.751812, -1.927815], [50.719189, -1.979286], [50.727438, -1.922893], [50.712895, -1.999827], [50.741133, -2.004504], [50.722945, -1.927434], [50.723663, -1.925308], [50.72314, -1.959309], [50.72959, -1.913822], [50.735917, -1.990616], [50.736005, -1.977012], [50.713795, -2.002518], [50.719548, -1.980136], [50.715503, -1.988353], [50.738603, -1.947534], [50.74229, -1.947529], [50.727889, -1.924876], [50.727189, -1.964406], [50.753532, -1.949218], [50.736187, -1.994442], [50.73241, -1.991467], [50.727695, -1.905041], [50.732768, -1.978147], [50.745975, -1.942706], [50.738163, -1.977719], [50.727994, -1.952221], [50.753532, -1.948367], [50.724854, -1.977442], [50.723382, -1.909725], [50.74012, -1.926416], [50.740233, -1.987497], [50.728069, -1.924592], [50.747591, -1.938027], [50.737524, -1.948668], [50.742377, -1.941577], [50.726446, -1.918786], [50.73923, -1.941156], [50.762625, -1.990894], [50.749851, -1.967224], [50.740116, -1.919188], [50.739866, -1.957311], [50.780422, -1.952735], [50.734197, -1.947538], [50.753892, -1.949501], [50.73996, -1.971058], [50.724854, -1.977442], [50.741203, -1.931941], [50.713255, -2.000818], [50.75696, -2.000677], [50.728162, -1.929693], [50.711546, -1.994586], [50.741223, -2.004504], [50.737536, -1.996851], [50.723483, -1.924742], [50.772787, -2.009187], [50.723685, -1.978151], [50.709286, -1.94615], [50.761277, -1.995857], [50.723051, -1.962851], [50.741564, -1.934775], [50.733937, -1.978997], [50.730872, -1.952926], [50.74256, -1.947246], [50.722595, -1.946276], [50.719368, -1.979145], [50.739513, -1.980836], [50.71811, -1.984811], [50.715503, -1.988495], [50.743381, -1.99515], [50.723483, -1.925167], [50.728071, -1.92771], [50.748048, -1.952201], [50.7298, -1.976306], [50.729246, -1.938901], [50.717931, -2.013567], [50.747308, -1.915774], [50.72305, -1.959876], [50.724568, -1.934232], [50.73996, -1.970916], [50.732045, -1.966245], [50.728435, -1.93451], [50.730872, -1.953352], [50.717272, -1.916677], [50.732403, -1.961285], [50.71838, -1.984528], [50.723596, -2.014277], [50.725121, -1.966958], [50.710095, -1.946716], [50.764962, -1.978841], [50.722676, -1.929418], [50.754441, -1.985083], [50.747958, -1.952342], [50.725822, -1.926296], [50.736187, -1.994867], [50.73321, -1.953633], [50.724944, -1.977442], [50.782767, -1.973726], [50.725542, -1.911279], [50.732498, -1.977864], [50.741564, -1.934775], [50.738884, -2.009747], [50.73232, -1.9909], [50.741203, -1.931799], [50.73267, -1.952358], [50.74247, -1.94838], [50.735008, -1.951647], [50.7262, -1.965116], [50.783577, -1.979258], [50.718739, -1.97957], [50.760018, -1.994723], [50.75687, -1.99132], [50.72934, -1.945702], [50.74401, -1.98537], [50.71856, -1.983111], [50.720086, -1.972345], [50.727529, -1.92346], [50.792302, -1.996421], [50.718705, -1.909025], [50.738143, -1.927977], [50.753892, -1.949501], [50.714154, -1.989912], [50.750208, -1.957301], [50.716043, -2.005918], [50.728071, -1.92856], [50.723057, -1.990193], [50.751654, -2.002804], [50.740116, -1.919188], [50.746168, -1.984944], [50.731494, -1.938048], [50.699474, -1.929028], [50.735737, -1.994867], [50.717296, -1.964556], [50.72611, -1.964974], [50.730325, -1.938475], [50.746887, -1.984519], [50.71865, -1.98297], [50.714152, -1.977589], [50.717301, -1.985945], [50.732766, -1.970495], [50.75516, -1.981822], [50.725995, -1.91652], [50.734107, -1.947539], [50.735735, -1.97602], [50.72791, -1.973757], [50.722155, -1.973335], [50.728537, -1.963697], [50.72952, -1.947119], [50.734994, -1.925148], [50.746225, -1.910673], [50.744369, -1.985228], [50.727883, -1.916092], [50.726266, -1.91822], [50.713525, -1.991612], [50.691924, -1.934561], [50.741752, -1.95079], [50.724555, -1.914964], [50.753613, -1.932207], [50.724732, -1.911139], [50.751104, -1.949929], [50.740394, -1.932651], [50.724485, -1.950099], [50.733923, -1.940312], [50.744364, -1.962976], [50.738255, -1.987639], [50.72979, -1.948252], [50.745179, -1.985228], [50.753716, -1.958716], [50.73897, -1.965673], [50.759748, -1.994297], [50.736277, -1.998551], [50.738874, -1.949234], [50.778449, -1.96763], [50.724126, -1.950666], [50.726289, -1.964832], [50.734451, -1.920898], [50.730505, -1.938474], [50.723382, -1.909725], [50.724942, -2.029862], [50.716491, -1.984104], [50.711187, -1.994728], [50.715759, -1.943168], [50.725814, -1.915529], [50.728253, -1.930968], [50.728272, -2.018954], [50.720449, -2.011018], [50.715503, -1.988495], [50.782404, -1.963372], [50.776562, -1.978126], [50.74265, -1.947529], [50.750918, -1.936605], [50.736428, -1.918627], [50.715053, -1.987787], [50.713703, -2.018948], [50.740574, -1.932792], [50.729774, -1.919347], [50.723319, -1.957751], [50.717566, -1.96498], [50.726361, -1.925162], [50.740047, -1.959295], [50.724842, -1.942449], [50.715053, -1.986937], [50.743247, -1.898773], [50.740132, -1.948666], [50.767392, -1.999401], [50.726473, -1.98155], [50.733923, -1.940312], [50.750031, -1.966941], [50.732404, -1.961568], [50.743818, -1.945685], [50.728434, -1.933801], [50.73319, -1.916791], [50.74383, -1.985654], [50.736338, -1.918627], [50.691205, -1.935836], [50.724565, -1.929698], [50.719099, -1.98212], [50.725301, -1.9671], [50.738884, -1.98693], [50.726023, -1.977158], [50.718829, -1.979995], [50.73232, -1.990758], [50.750738, -1.93618], [50.728616, -1.937627], [50.724736, -1.916381], [50.724735, -1.915389], [50.740124, -1.932935], [50.715413, -1.988637], [50.725649, -1.937914], [50.735917, -1.994442], [50.737356, -2.001952], [50.747067, -1.984519], [50.715232, -1.981413], [50.728797, -1.939327], [50.734551, -1.937194], [50.711993, -1.975041], [50.732314, -1.961427], [50.742377, -1.941577], [50.751188, -1.936746], [50.714244, -1.989629], [50.717031, -1.98467], [50.737266, -2.003511], [50.748237, -2.006063], [50.725211, -1.966958], [50.736007, -1.994725], [50.735737, -1.994725], [50.702719, -1.941909], [50.724654, -1.928707], [50.743707, -1.910961], [50.747598, -1.953051], [50.725644, -1.928988], [50.724761, -1.966108], [50.711636, -1.994445], [50.753532, -1.948793], [50.742709, -1.900617], [50.710737, -1.993028], [50.721256, -1.975319], [50.723483, -1.925025], [50.786994, -1.980108], [50.753256, -1.93731], [50.725815, -1.916379], [50.717659, -1.976312], [50.759748, -1.994155], [50.739867, -1.95972], [50.724732, -1.911139], [50.731227, -1.943999], [50.753532, -1.948651], [50.745441, -1.954471], [50.77539, -1.963803], [50.723483, -1.925167], [50.738344, -1.986789], [50.753802, -1.949785], [50.72943, -1.94641], [50.724226, -2.013002], [50.708206, -1.945726], [50.726922, -1.976874], [50.749756, -1.950781], [50.761545, -1.979835], [50.740304, -1.932509], [50.717481, -1.985803], [50.713974, -1.986088], [50.786994, -1.978831], [50.751999, -1.939722], [50.753704, -1.932915], [50.716666, -1.960448], [50.753981, -1.947233], [50.750918, -1.936463], [50.728716, -1.95973], [50.713343, -1.979714], [50.752266, -1.934477], [50.728957, -1.908297], [50.7182, -1.98467], [50.720899, -2.011018], [50.738604, -1.949518], [50.764242, -1.978699], [50.722068, -2.011727], [50.726742, -1.976875], [50.714602, -1.977589], [50.736159, -1.918911], [50.715413, -2.01215], [50.766403, -2.000677], [50.727168, -1.922185], [50.750204, -1.947946], [50.694889, -1.930309], [50.716024, -1.933819], [50.73214, -1.991467], [50.750208, -1.957443], [50.744901, -1.954472], [50.724569, -1.937065], [50.751204, -1.983241], [50.727282, -2.01952], [50.733751, -1.956466], [50.719432, -1.919648], [50.734717, -1.914946], [50.747962, -1.964816], [50.698308, -1.933136], [50.777552, -1.977984], [50.717299, -1.976313], [50.714874, -2.005917], [50.737356, -2.002944], [50.739507, -1.95972], [50.763975, -2.000961], [50.726085, -1.917087], [50.74392, -1.988063], [50.743728, -1.945685], [50.746065, -1.942564], [50.746436, -1.975306], [50.740591, -1.977151], [50.721611, -1.959736], [50.711366, -1.995153], [50.695699, -1.931865], [50.720266, -1.971778], [50.739874, -1.998268], [50.746526, -1.975306], [50.720984, -1.967669], [50.729151, -1.929691], [50.721784, -1.941602], [50.712625, -1.98538], [50.740214, -1.932368], [50.721076, -1.975744], [50.750468, -1.936889], [50.722951, -1.938768], [50.724944, -1.977442], [50.717391, -1.984245], [50.72663, -1.92502], [50.739238, -1.962555], [50.727168, -1.922185], [50.728888, -1.942019], [50.74912, -1.93845], [50.739962, -1.978569], [50.763435, -2.002521], [50.734287, -1.947538], [50.736069, -1.919195], [50.756689, -1.981396], [50.735917, -1.9943], [50.734088, -1.915656], [50.732857, -1.976305], [50.727098, -1.963273], [50.746224, -1.910248], [50.738611, -1.969783], [50.727178, -1.93947], [50.749486, -1.951774], [50.740394, -1.932651], [50.74401, -1.985228], [50.753892, -1.949359], [50.725544, -1.914821], [50.711158, -1.91768], [50.731211, -1.917078], [50.745505, -1.910958], [50.743649, -1.980126], [50.723047, -1.950951], [50.738794, -2.011022], [50.726898, -1.921194], [50.750125, -1.983242], [50.732024, -1.922461], [50.723501, -1.962992], [50.743905, -1.939307], [50.753806, -1.959141], [50.71748, -1.977304], [50.753892, -1.951061], [50.723775, -1.978151], [50.735188, -1.951505], [50.736788, -1.918202], [50.758309, -1.99288], [50.735825, -1.97772], [50.715143, -1.986654], [50.752808, -1.939863], [50.719818, -1.976453], [50.743021, -2.008189], [50.724562, -1.925165], [50.716043, -2.007192], [50.740754, -1.933217], [50.768543, -1.93573], [50.743157, -1.898915], [50.743607, -1.898772], [50.730241, -1.950377], [50.719548, -1.979853], [50.725211, -1.966958], [50.719099, -1.979286], [50.712086, -1.993595], [50.729321, -1.914106], [50.717272, -1.916536], [50.734198, -1.951364], [50.743549, -1.946111], [50.719189, -1.980561], [50.753442, -1.948226], [50.715052, -1.979005], [50.721341, -1.957611], [50.713335, -1.951103], [50.735557, -1.994584], [50.753449, -1.967647], [50.738974, -2.010172], [50.730491, -1.916229], [50.761906, -1.996566], [50.719099, -1.979286], [50.711905, -1.985238], [50.71865, -1.984386], [50.724306, -1.950383], [50.748583, -1.942845], [50.736816, -2.001527], [50.738524, -1.987781], [50.722152, -1.962569], [50.726266, -1.917936], [50.744364, -1.962976], [50.728797, -1.940318], [50.760827, -1.995431], [50.747877, -1.992314], [50.732314, -1.961427], [50.728071, -1.928276], [50.739404, -1.930668], [50.720087, -1.973336], [50.77926, -1.974579], [50.724941, -1.966392], [50.7492, -1.921724], [50.698308, -1.932994], [50.725274, -1.913688], [50.733937, -1.979138], [50.724479, -1.936924], [50.735827, -1.997418], [50.732857, -1.976588], [50.720808, -1.984811], [50.723034, -1.926584], [50.713771, -1.92589], [50.713884, -1.986229], [50.72611, -1.964974], [50.751295, -2.004788], [50.734465, -1.943712], [50.726831, -1.970782], [50.714154, -1.98977], [50.738881, -1.971483], [50.777642, -1.977984], [50.768831, -2.003372], [50.729435, -1.958029], [50.728252, -1.930401], [50.728523, -1.932384], [50.733294, -1.940596], [50.780072, -1.994153], [50.734013, -1.940454], [50.727178, -1.93947], [50.724476, -1.932107], [50.761096, -2.011028], [50.720538, -1.979994], [50.719728, -1.976878], [50.745619, -1.95036], [50.724854, -1.977442], [50.749224, -1.974029], [50.739397, -1.920181], [50.772499, -1.933881], [50.740323, -1.987497], [50.729437, -1.965538], [50.786994, -1.976987], [50.718551, -1.952514], [50.777541, -1.946213], [50.735377, -1.987073], [50.74005, -1.970916], [50.723048, -1.953784], [50.744364, -1.962976], [50.732048, -1.977722], [50.750844, -1.983525], [50.727823, -1.985233], [50.728979, -1.943294], [50.74678, -1.933776], [50.733751, -1.957741], [50.732678, -1.978714], [50.712883, -1.946996], [50.728161, -1.928276], [50.717896, -1.909452], [50.733396, -1.972337], [50.728979, -1.942869], [50.711995, -1.985663], [50.732409, -1.990616], [50.731959, -1.983815], [50.752283, -1.986927], [50.738073, -1.977436], [50.723324, -1.973618], [50.715233, -1.985662], [50.736187, -1.994583], [50.738773, -1.929252], [50.732588, -1.978005], [50.743818, -1.945827], [50.750124, -1.982533], [50.728183, -1.991751], [50.720358, -1.984386], [50.721521, -1.959027], [50.720357, -1.976878], [50.755881, -1.99047], [50.745057, -1.911951], [50.753433, -1.931498], [50.714873, -1.989062], [50.735817, -1.950796], [50.723231, -1.961151], [50.738435, -1.991749], [50.753985, -1.958432], [50.725841, -1.968091], [50.722142, -1.938344], [50.780789, -1.978266], [50.721346, -1.975036], [50.722865, -1.946701], [50.683836, -1.947453], [50.745345, -1.941998], [50.727178, -1.939329], [50.707937, -1.945443], [50.71286, -1.909745], [50.705401, -1.915707], [50.720261, -1.95492], [50.735737, -1.994725], [50.71811, -1.984811], [50.747308, -1.915774], [50.750738, -1.93618], [50.738858, -1.921316], [50.721256, -1.975319], [50.728888, -1.941452], [50.725305, -1.991185], [50.757949, -2.007482], [50.736097, -1.99515], [50.724732, -1.911139], [50.753532, -1.949218], [50.727178, -1.93947], [50.745983, -1.962266], [50.753262, -1.949077], [50.73015, -1.947826], [50.713884, -1.98453], [50.721335, -1.943586], [50.7324, -1.951791], [50.723327, -1.99076], [50.727078, -1.921477], [50.748777, -2.008048], [50.736275, -1.981688], [50.751002, -1.925973], [50.740773, -2.003653], [50.753166, -1.936885], [50.74419, -1.98537], [50.748312, -1.939585], [50.719189, -1.979286], [50.723776, -1.991468], [50.734198, -1.951648], [50.74912, -1.93845], [50.747849, -1.918466], [50.712715, -1.991895], [50.736187, -1.994867], [50.74938, -1.92229], [50.72332, -1.960584], [50.72943, -1.946694], [50.751182, -1.926398], [50.725995, -1.916662], [50.750214, -1.9831], [50.736187, -1.994583], [50.712534, -1.97844], [50.744056, -1.898488], [50.736187, -1.998551], [50.724854, -1.976875], [50.724479, -1.937632], [50.750468, -1.936889], [50.725746, -1.954632], [50.722336, -1.979285], [50.718078, -1.912568], [50.737265, -1.984238], [50.73231, -1.9525], [50.725483, -2.023628], [50.715592, -1.985945], [50.751636, -1.935186], [50.750394, -1.983242], [50.7441, -1.98622], [50.722245, -1.973193], [50.751284, -1.949787], [50.74929, -1.921865], [50.711277, -1.99487], [50.738413, -1.928402], [50.724935, -1.949107], [50.738524, -1.987923], [50.742168, -1.899201], [50.753164, -1.933341], [50.77953, -1.977983], [50.736187, -1.993733], [50.721244, -1.941178], [50.745526, -1.943415], [50.723053, -1.969793], [50.738768, -1.921316], [50.746856, -1.913365], [50.734286, -1.947397], [50.723471, -1.909016], [50.745326, -1.9111], [50.737712, -1.970775], [50.749042, -1.965949], [50.724764, -2.020369], [50.728798, -1.940744], [50.734207, -1.97928], [50.752532, -1.929515], [50.72466, -1.939474], [50.712771, -1.909745], [50.738163, -1.974743], [50.735442, -1.923305], [50.74947, -1.922432], [50.746589, -1.917192], [50.72611, -1.964974], [50.751654, -2.002945], [50.739603, -1.987214], [50.758309, -1.99288], [50.728253, -1.930968], [50.730151, -1.949952], [50.705225, -1.921514], [50.727178, -1.93947], [50.758218, -1.982388], [50.745703, -1.938596], [50.712895, -1.99232], [50.720266, -1.972486], [50.731315, -1.939607], [50.717659, -1.976454], [50.746225, -1.910815], [50.739061, -1.9712], [50.724477, -1.93324], [50.723317, -1.951659], [50.719458, -1.979711], [50.730341, -1.986508], [50.732678, -1.978005], [50.714784, -2.005634], [50.762176, -2.006065], [50.722602, -1.96356], [50.745526, -1.943274], [50.728627, -1.963697], [50.727178, -1.939329], [50.726922, -1.976874], [50.75498, -1.981964], [50.750574, -1.983383], [50.727078, -1.921902], [50.733396, -1.972337], [50.738956, -1.934637], [50.779252, -1.950183], [50.749765, -1.983525], [50.751452, -1.927107], [50.750385, -1.951206], [50.726109, -1.962282], [50.731665, -1.922745], [50.717836, -1.965263], [50.72611, -1.964832], [50.752633, -1.949502], [50.727552, -2.018104], [50.737983, -1.976869], [50.751472, -1.974311], [50.737532, -1.970917], [50.762895, -1.997274], [50.717651, -1.951382], [50.728888, -1.941452], [50.751914, -1.950212], [50.739602, -1.980128], [50.723392, -1.924317], [50.735917, -1.994867], [50.721522, -1.960586], [50.777271, -1.945788], [50.747578, -1.917332], [50.725125, -2.015694], [50.753892, -1.949501], [50.722062, -1.962427], [50.751452, -1.926965], [50.718469, -1.978295], [50.722066, -1.979427], [50.732134, -1.961569], [50.71892, -1.984103], [50.725286, -1.932956], [50.712805, -1.99232], [50.772607, -2.008761], [50.719099, -1.979286], [50.722333, -1.967102], [50.743009, -1.946678], [50.786813, -1.972731], [50.750282, -1.926116], [50.716042, -1.987645], [50.724728, -1.906322], [50.78744, -1.964219], [50.737525, -1.949944], [50.723687, -1.991752], [50.732768, -1.978147], [50.746798, -2.001811], [50.725293, -1.946415], [50.743099, -1.946678], [50.742302, -1.996284], [50.725655, -1.95109], [50.779705, -1.958551], [50.743548, -1.945969], [50.732294, -1.922035], [50.720448, -1.984527], [50.714874, -2.005776], [50.773579, -1.936007], [50.719907, -1.975745], [50.74499, -1.953338], [50.742201, -1.949372], [50.739059, -1.965106], [50.72383, -1.907032], [50.740234, -1.999118], [50.71793, -1.985095], [50.732678, -1.978005], [50.732857, -1.976305], [50.741918, -1.925421], [50.745795, -1.943132], [50.750745, -1.951064], [50.738701, -1.969216], [50.738701, -1.968649], [50.738701, -1.968933], [50.747778, -1.952343], [50.738956, -1.934637], [50.717121, -1.984812], [50.732384, -1.922035], [50.727006, -1.955197], [50.781061, -2.008337], [50.789424, -1.987626], [50.735827, -1.995009], [50.791223, -2.004225], [50.736097, -1.993733], [50.790953, -2.005218], [50.790499, -1.968756], [50.725364, -1.914254], [50.717806, -1.909452], [50.74265, -1.947529], [50.752266, -1.934618], [50.761547, -1.996566], [50.74247, -1.948521], [50.753801, -1.948225], [50.750821, -1.925548], [50.739064, -1.988206], [50.727994, -1.954205], [50.747242, -1.963399], [50.746225, -1.910531], [50.740945, -1.957593], [50.722061, -1.959735], [50.735188, -1.951363], [50.725825, -1.93083], [50.737866, -1.917066], [50.741031, -1.948239], [50.727103, -1.9841], [50.716672, -2.007759], [50.728526, -1.936352], [50.717362, -1.916536], [50.739672, -1.928684], [50.740495, -1.955184], [50.732134, -1.961569], [50.738326, -1.933646], [50.710827, -1.99317], [50.747868, -1.952768], [50.747868, -1.952909], [50.723382, -1.909725], [50.745505, -1.910958], [50.724104, -1.912982], [50.736633, -1.971343], [50.719459, -1.980561], [50.712266, -1.997702], [50.754073, -1.953612], [50.728253, -1.930968], [50.753532, -1.948509], [50.7441, -1.985086], [50.750917, -1.935754], [50.733209, -1.952216], [50.747778, -1.952484], [50.732136, -1.969362], [50.742841, -2.007905], [50.725121, -1.9671], [50.736716, -1.95037], [50.736275, -1.981546], [50.746135, -1.910673], [50.733013, -1.921751], [50.717031, -1.98807], [50.747428, -2.002662], [50.761187, -1.995715], [50.723048, -1.953501], [50.764604, -1.998976], [50.734199, -1.953065], [50.71793, -1.984811], [50.749574, -1.946954], [50.741363, -1.904305], [50.723138, -1.953926], [50.715862, -1.98807], [50.717571, -1.98467], [50.758938, -1.993447], [50.741132, -1.98693], [50.747415, -1.945965], [50.722696, -1.979143], [50.736007, -1.995292], [50.739487, -1.920181], [50.715052, -1.979005], [50.719818, -1.979853], [50.722234, -1.943018], [50.741821, -1.915075], [50.734901, -1.92033], [50.735008, -1.951505], [50.744364, -1.962976], [50.764243, -1.979125], [50.747307, -1.915632], [50.739064, -1.985655], [50.710095, -1.946857], [50.730786, -1.966812], [50.733837, -1.947681], [50.72305, -1.959451], [50.728797, -1.940035], [50.724571, -1.940182], [50.72916, -1.945277], [50.705136, -1.922505], [50.730852, -1.918212], [50.739404, -1.930668], [50.742212, -1.996425], [50.746618, -1.99274], [50.746694, -1.941713], [50.739153, -1.984379], [50.73223, -1.9909], [50.717839, -1.975179], [50.742359, -1.912098], [50.739857, -1.936336], [50.727178, -1.93947], [50.732384, -1.922035], [50.729979, -1.976023], [50.724575, -1.950099], [50.762086, -1.994864], [50.74329, -1.985795], [50.716942, -1.988353], [50.736996, -1.991749], [50.71883, -2.009884], [50.727193, -1.98495], [50.767371, -1.930485], [50.753982, -1.949218], [50.775479, -1.961817], [50.734298, -1.990474], [50.730159, -1.976306], [50.725121, -1.966816], [50.749585, -1.983809], [50.739418, -1.960854], [50.732923, -1.921751], [50.739511, -1.971058], [50.722778, -1.953926], [50.719522, -1.919648], [50.734632, -1.921464], [50.728434, -1.93366], [50.720625, -1.969228], [50.739063, -1.983246], [50.728174, -1.954063], [50.730499, -1.928273], [50.725301, -1.9671], [50.743517, -1.898631], [50.72952, -1.946694], [50.725995, -1.916804], [50.747337, -2.010457], [50.786994, -1.978973], [50.715922, -1.915688], [50.751654, -2.002804], [50.741641, -1.913941], [50.727349, -1.923602], [50.762985, -1.9882], [50.747307, -1.915632], [50.725122, -1.971208], [50.717571, -2.013567], [50.711366, -1.994728], [50.726176, -1.917795], [50.724212, -1.942449], [50.721256, -1.975319], [50.733751, -1.957741], [50.736967, -1.917918], [50.706118, -1.91259], [50.717656, -1.965264], [50.762086, -1.995006], [50.686265, -1.948724], [50.728525, -1.936068], [50.736906, -2.001952], [50.735008, -1.951505], [50.721347, -1.979852], [50.73897, -1.965956], [50.716942, -1.988353], [50.750301, -1.966515], [50.723573, -1.925166], [50.734451, -1.92104], [50.713254, -1.983255], [50.739328, -1.961988], [50.747398, -1.91634], [50.747217, -1.915207], [50.728812, -1.986508], [50.731594, -1.962561], [50.765593, -2.004648], [50.728888, -1.942019], [50.713074, -1.981697], [50.729069, -1.944852], [50.738779, -1.938463], [50.722931, -1.907742], [50.724216, -1.950666], [50.736716, -1.95037], [50.719189, -1.979286], [50.7324, -1.9525], [50.740394, -1.932651], [50.746438, -1.983527], [50.750738, -1.936463], [50.729253, -1.95307], [50.750751, -1.968074], [50.736636, -2.000677], [50.705313, -1.918115], [50.750034, -1.98225], [50.781061, -2.001671], [50.711636, -2.005775], [50.762715, -1.990185], [50.744369, -1.985228], [50.735377, -1.987215], [50.73232, -1.991467], [50.727171, -1.927428], [50.716933, -1.953649], [50.737532, -1.970776], [50.730059, -1.94641], [50.723409, -1.956334], [50.723291, -1.908875], [50.736187, -1.994583], [50.728272, -1.985658], [50.732857, -1.978289], [50.726922, -1.976874], [50.737432, -1.94215], [50.728797, -1.940318], [50.736007, -1.997134], [50.722068, -2.011727], [50.734198, -1.951506], [50.723409, -1.956617], [50.726557, -1.958315], [50.733127, -1.97843], [50.708656, -1.945867], [50.755161, -1.985225], [50.752283, -1.986927], [50.749944, -1.978989], [50.729069, -1.944427], [50.723587, -1.951517], [50.72854, -1.972623], [50.720952, -1.907746], [50.754428, -1.942838], [50.736338, -1.918627], [50.762266, -1.993304], [50.7441, -1.985086], [50.71883, -2.009743], [50.714602, -2.020507], [50.71748, -1.977446], [50.723501, -1.962142], [50.743009, -1.946678], [50.732857, -1.976305], [50.713786, -1.95521], [50.727889, -1.924168], [50.751187, -1.936179], [50.731324, -1.959302], [50.7492, -1.921865], [50.715233, -1.990337], [50.735647, -1.994442], [50.714334, -1.991045], [50.736277, -1.994725], [50.724126, -1.950666], [50.728055, -1.905607], [50.72925, -1.945702], [50.733908, -1.915939], [50.737983, -1.975168], [50.734198, -1.949947], [50.742438, -1.898917], [50.752633, -1.949644], [50.721706, -1.975319], [50.718919, -1.983961], [50.736546, -1.992458], [50.718739, -1.979853], [50.764065, -2.000536], [50.705688, -1.944171], [50.739511, -1.971341], [50.724315, -2.014844], [50.740111, -1.912102], [50.716672, -2.007618], [50.726898, -1.921052], [50.747488, -1.916624], [50.728616, -1.93706], [50.760917, -1.995431], [50.722514, -1.96866], [50.716132, -2.009034], [50.741564, -1.934775], [50.734385, -1.971911], [50.737712, -1.970917], [50.717031, -1.984528], [50.737446, -1.996851], [50.724569, -1.936924], [50.736007, -1.995009], [50.736253, -1.925146], [50.747307, -1.915632], [50.721249, -1.953078], [50.716672, -2.007759], [50.727164, -1.916093], [50.725193, -1.927147], [50.727618, -1.923318], [50.734927, -1.990758], [50.687701, -1.941362], [50.717929, -1.976312], [50.727193, -1.98495], [50.735008, -1.951505], [50.75588, -1.98168], [50.739507, -1.959579], [50.731956, -1.967662], [50.720797, -1.947128], [50.742111, -1.949656], [50.725025, -1.948965], [50.738067, -1.956746], [50.698128, -1.932995], [50.725642, -1.92658], [50.725204, -1.947974], [50.719368, -1.979286], [50.741931, -1.947672], [50.723302, -1.92375], [50.689138, -1.939519], [50.719099, -1.979286], [50.724932, -1.942732], [50.739404, -1.930526], [50.745795, -1.943273], [50.748671, -1.939159], [50.735731, -1.961707], [50.705225, -1.920947], [50.715412, -1.982404], [50.747759, -1.918466], [50.715413, -1.988637], [50.735188, -1.951363], [50.720785, -1.925454], [50.722062, -1.962285], [50.715473, -1.915547], [50.722514, -1.968943], [50.750121, -1.966799], [50.718739, -1.98297], [50.789332, -1.977269], [50.726743, -2.017395], [50.747868, -1.952909], [50.724944, -1.977017], [50.786268, -1.95585], [50.738964, -1.949234], [50.705238, -1.943889], [50.759568, -1.994014], [50.738513, -1.947817], [50.703799, -1.943607], [50.724654, -1.928848], [50.745269, -1.984944], [50.751818, -1.938872], [50.732673, -1.960718], [50.73151, -1.9909], [50.732384, -1.922177], [50.72284, -1.906467], [50.718019, -1.976312], [50.737169, -1.959297], [50.705314, -1.920381], [50.732129, -1.948249], [50.721526, -1.974611], [50.72302, -1.906609], [50.738686, -1.934212], [50.747697, -1.984518], [50.723381, -1.908875], [50.734816, -1.928549], [50.741583, -1.99926], [50.722426, -1.979285], [50.7405, -1.97049], [50.73339, -1.955191], [50.722065, -1.973335], [50.725995, -1.91652], [50.742539, -1.911955], [50.724932, -1.94259], [50.714784, -2.005776], [50.723472, -1.910008], [50.787354, -1.977128], [50.702809, -1.942051], [50.716577, -1.963281], [50.786364, -1.976703], [50.777731, -1.975998], [50.744279, -1.98452], [50.739153, -1.981829], [50.731329, -2.022073], [50.737446, -1.996709], [50.725211, -1.966958], [50.746043, -1.908972], [50.738154, -1.94966], [50.739404, -1.930526], [50.740484, -1.932792], [50.736529, -1.936199], [50.726266, -1.917936], [50.735977, -1.916644], [50.722232, -1.938344], [50.750211, -1.967366], [50.744784, -1.908124], [50.777191, -1.972737], [50.744279, -1.985228], [50.737983, -1.975877], [50.746424, -1.942139], [50.725547, -1.919213], [50.73996, -1.970916], [50.752086, -1.93476], [50.786814, -1.97954], [50.713974, -1.986371], [50.723411, -1.962993], [50.727822, -2.019379], [50.722778, -1.953926], [50.731665, -1.922603], [50.725995, -1.91652], [50.733216, -1.974321], [50.739511, -1.971058], [50.706576, -1.925193], [50.735107, -1.990758], [50.732136, -1.969079], [50.735647, -1.994725], [50.738435, -1.991749], [50.720629, -2.01116], [50.732403, -1.961285], [50.730221, -1.915663], [50.743348, -1.911812], [50.738521, -1.969358], [50.733127, -1.974746], [50.714154, -1.98977], [50.745705, -1.943132], [50.733109, -1.930961], [50.741751, -1.947955], [50.727994, -1.954346], [50.71874, -1.984386], [50.738416, -1.933646], [50.72457, -1.938907], [50.732947, -1.976305], [50.749764, -1.978564], [50.735187, -1.951222], [50.721971, -1.959735], [50.740762, -1.94824], [50.721694, -1.941886], [50.72952, -1.94726], [50.734286, -1.947397], [50.786813, -1.973157], [50.723677, -1.951375], [50.739687, -1.960004], [50.72457, -1.939049], [50.736986, -1.950228], [50.738953, -1.929677], [50.761636, -1.996566], [50.73205, -1.9909], [50.74328, -1.947812], [50.723919, -1.90689], [50.735641, -1.960999], [50.753357, -1.963678], [50.759298, -2.006916], [50.751187, -1.936321], [50.71721, -1.976313], [50.719432, -1.919648], [50.757768, -1.980971], [50.692193, -1.933711], [50.728714, -1.953637], [50.739134, -1.930102], [50.757212, -1.935746], [50.7441, -1.995433], [50.729794, -1.957462], [50.717092, -1.915969], [50.724036, -1.950808], [50.743998, -1.945543], [50.73879, -1.967374], [50.723382, -1.909583], [50.726898, -1.921052], [50.750117, -1.955033], [50.719278, -1.979428], [50.711623, -1.943315], [50.73392, -1.934219], [50.739413, -1.947816], [50.710737, -1.99317], [50.761906, -1.995857], [50.705315, -1.921089], [50.749315, -1.983667], [50.786274, -1.974717], [50.760377, -1.994722], [50.738075, -2.007196], [50.791403, -2.003373], [50.736726, -2.001811], [50.71901, -1.984669], [50.716402, -2.007617], [50.751452, -1.927107], [50.74265, -1.947671], [50.751653, -1.982958], [50.721438, -1.985519], [50.751201, -1.969491], [50.741398, -1.967088], [50.702258, -1.922793], [50.725912, -1.926013], [50.75075, -1.965664], [50.746694, -1.941713], [50.726556, -1.954773], [50.742661, -2.007338], [50.730872, -1.952926], [50.732224, -1.961569], [50.712535, -1.98538], [50.723318, -1.955059], [50.723593, -1.970501], [50.786814, -1.976845], [50.72457, -1.937915], [50.74265, -1.947246], [50.750394, -1.978564], [50.753892, -1.949359], [50.727078, -1.922044], [50.715052, -1.979005], [50.734928, -1.990899], [50.736896, -1.95037], [50.733013, -1.921751], [50.741305, -1.956176], [50.743741, -1.994866], [50.720984, -1.967669], [50.719099, -1.982828], [50.749674, -1.978848], [50.743076, -1.908836], [50.72314, -1.960018], [50.777187, -1.959262], [50.759838, -1.994439], [50.736883, -1.926279], [50.764334, -1.999827], [50.759658, -1.994297], [50.737626, -1.996142], [50.729974, -1.956611], [50.727349, -1.923319], [50.753892, -1.949359], [50.724099, -1.907032], [50.720809, -2.011018], [50.727178, -1.939329], [50.717121, -1.984104], [50.742752, -1.998976], [50.714513, -1.983821], [50.710377, -1.990479], [50.745686, -1.912375], [50.728797, -1.939752], [50.725211, -1.966958], [50.735977, -1.916502], [50.745795, -1.942848], [50.718471, -2.006485], [50.758848, -1.990753], [50.714064, -2.003509], [50.752352, -1.92909], [50.732768, -1.978147], [50.762715, -1.99061], [50.728797, -1.93961], [50.761816, -1.996707], [50.754262, -1.993873], [50.721335, -1.943586], [50.737983, -1.976444], [50.723048, -1.953784], [50.737237, -1.917634], [50.737356, -2.002944], [50.739961, -1.972616], [50.751104, -1.949929], [50.751654, -2.003087], [50.720448, -1.984527], [50.739328, -1.961705], [50.725483, -2.023487], [50.740304, -1.932651], [50.725211, -1.966958], [50.739874, -1.998268], [50.753532, -1.948651], [50.753621, -1.948367], [50.771706, -1.978412], [50.71892, -1.984103], [50.753985, -1.958149], [50.720323, -1.908172], [50.722062, -1.962427], [50.750738, -1.936463], [50.726266, -1.91822], [50.736187, -1.994442], [50.727178, -1.93947], [50.724131, -1.964834], [50.728528, -1.940461], [50.716042, -1.987645], [50.738884, -1.988206], [50.738075, -2.007621], [50.738704, -2.010739], [50.78987, -1.970743], [50.787084, -1.978405], [50.7331, -1.917074], [50.740762, -1.948381], [50.729048, -1.910847], [50.749945, -1.983525], [50.732129, -1.949241], [50.723503, -1.970501], [50.751002, -1.925973], [50.747967, -2.00904], [50.739404, -1.930526], [50.724036, -1.950808], [50.775034, -1.978127], [50.72943, -1.946694], [50.696598, -1.931722], [50.714784, -2.005634], [50.741564, -1.934775], [50.743728, -1.945685], [50.740413, -1.996567], [50.740021, -1.912952], [50.725006, -1.916947], [50.740054, -1.996425], [50.72089, -1.95322], [50.718739, -1.97957], [50.753268, -1.963961], [50.739486, -1.919331], [50.724645, -1.915248], [50.71883, -1.984386], [50.725547, -1.919071], [50.750034, -1.978564], [50.746529, -2.000961], [50.725559, -1.939189], [50.780971, -1.999401], [50.725301, -1.966816], [50.719458, -1.980136], [50.712615, -1.949829], [50.755609, -1.977853], [50.74083, -1.912526], [50.744986, -1.944125], [50.732857, -1.978147], [50.730785, -1.96327], [50.719549, -1.981411], [50.732499, -1.986649], [50.769796, -1.925234], [50.739503, -1.948808], [50.741384, -1.93435], [50.728091, -1.976449], [50.717571, -1.984953], [50.74347, -1.985654], [50.751555, -1.953898], [50.727258, -1.922327], [50.752458, -1.963395], [50.748677, -1.952342], [50.758309, -1.99288], [50.738073, -1.977719], [50.712085, -1.988354], [50.739513, -1.98693], [50.736187, -1.994583], [50.764692, -1.978983], [50.735018, -1.994159], [50.73241, -1.991467], [50.719368, -1.979003], [50.715683, -1.988353], [50.727625, -1.934369], [50.747603, -1.965383], [50.717481, -1.98552], [50.728616, -1.936777], [50.719189, -1.979286], [50.725634, -1.914962], [50.724565, -1.929698], [50.71865, -1.984386], [50.739404, -1.930668], [50.751277, -1.935754], [50.774029, -1.936715], [50.724101, -1.908448], [50.726266, -1.917936], [50.737266, -2.002236], [50.724567, -1.933807], [50.717929, -1.977162], [50.753273, -1.9977], [50.746225, -1.910673], [50.724946, -1.992601], [50.732933, -1.938755], [50.713974, -1.990195], [50.772229, -1.933314], [50.7241, -1.908165], [50.706566, -1.909899], [50.722052, -1.938344], [50.728071, -1.927284], [50.739153, -1.98197], [50.707937, -1.945443], [50.767191, -1.93006], [50.762446, -1.992595], [50.750019, -1.938024], [50.748581, -1.939301], [50.719458, -1.979145], [50.762176, -1.99458], [50.753273, -1.991746], [50.713884, -1.984388], [50.721249, -1.953078], [50.726266, -1.91822], [50.715502, -1.982121], [50.722418, -1.952227], [50.73223, -1.990758], [50.728707, -1.939043], [50.720359, -2.010876], [50.725364, -1.914113], [50.721522, -1.960302], [50.738794, -2.011022], [50.759748, -1.996282], [50.728889, -1.943435], [50.751188, -1.936604], [50.726741, -1.970357], [50.722155, -1.973335], [50.748772, -1.965382], [50.739503, -1.94895], [50.713875, -1.953085], [50.722601, -1.959593], [50.787084, -1.978405], [50.779982, -1.995004], [50.739064, -1.988206], [50.731494, -1.93819], [50.736187, -1.994583], [50.734016, -1.944846], [50.715758, -1.94161], [50.741931, -1.947813], [50.724486, -1.950383], [50.753892, -1.949501], [50.720351, -1.955062], [50.777911, -1.977842], [50.72386, -1.960442], [50.760108, -1.99614], [50.753532, -1.949218], [50.772787, -2.009187], [50.717481, -1.984812], [50.72392, -1.907032], [50.711816, -1.996428], [50.736097, -1.994867], [50.723136, -1.949251], [50.734197, -1.947538], [50.723143, -2.031136], [50.721797, -1.981127], [50.723409, -1.955909], [50.790773, -1.990747], [50.725211, -1.966816], [50.753712, -1.94936], [50.696688, -1.931722], [50.717272, -1.916536], [50.744267, -1.944976], [50.780965, -1.963231], [50.728797, -1.940177], [50.71793, -1.985095], [50.753703, -1.932206], [50.736097, -1.995009], [50.708386, -1.945868], [50.729149, -1.926433], [50.741982, -1.89169], [50.723048, -1.953784], [50.723593, -1.970501], [50.695699, -1.931724], [50.707386, -1.925617], [50.752995, -1.956165], [50.722425, -1.97291], [50.722957, -1.950668], [50.751812, -1.927956], [50.734025, -1.972053], [50.723649, -1.906182], [50.713795, -2.002518], [50.75687, -1.991462], [50.726458, -1.93763], [50.734812, -1.921889], [50.74383, -1.988063], [50.746529, -2.000961], [50.708722, -1.907487], [50.750461, -1.924698], [50.789061, -1.972872], [50.740856, -1.95816], [50.752543, -1.949786], [50.718975, -1.908883], [50.739041, -1.925425], [50.746225, -1.910673], [50.713245, -1.950961], [50.716822, -1.916253], [50.735008, -1.951505], [50.734902, -1.922031], [50.728451, -2.019096], [50.73544, -1.919763], [50.71377, -1.923624], [50.740585, -1.957168], [50.734927, -1.990758], [50.717031, -1.984528], [50.745893, -1.962833], [50.729435, -1.958029], [50.729971, -1.949102], [50.726717, -1.920203], [50.731845, -1.923595], [50.741583, -1.997417], [50.728002, -2.018529], [50.73205, -1.9909], [50.728252, -1.929976], [50.71594, -1.944159], [50.723231, -1.960868], [50.718919, -1.980137], [50.745795, -1.942706], [50.727617, -1.921051], [50.718919, -1.979995], [50.717391, -1.984245], [50.741982, -1.891831], [50.686262, -1.94193], [50.7297, -1.94811], [50.753892, -1.949359], [50.748055, -1.977998], [50.708202, -1.936379], [50.719907, -1.975603], [50.751654, -2.002945], [50.727799, -1.924735], [50.737237, -1.917634], [50.686804, -1.947874], [50.752283, -1.986785], [50.726289, -1.964832], [50.727095, -1.954914], [50.743966, -1.898347], [50.77872, -1.973303], [50.722606, -1.978152], [50.724645, -1.915389], [50.713524, -1.986938], [50.72311, -1.906892], [50.714332, -2.02249], [50.753895, -1.958432], [50.725211, -1.966958], [50.749765, -1.983951], [50.746065, -1.942706], [50.714154, -1.990053], [50.716672, -2.007618], [50.776821, -1.944654], [50.723051, -1.962568], [50.713344, -1.985238], [50.724009, -1.907032], [50.727173, -1.930261], [50.727095, -1.954914], [50.721616, -1.974469], [50.719522, -1.919648], [50.724375, -1.914115], [50.72798, -1.92686], [50.749854, -1.978281], [50.726356, -1.918928], [50.721617, -1.97971], [50.725034, -1.977442], [50.751295, -2.004788], [50.745983, -1.962691], [50.749764, -1.978848], [50.728055, -1.905607], [50.71775, -1.984528], [50.753891, -1.948084], [50.728525, -1.93536], [50.736986, -1.950228], [50.745795, -1.942848], [50.753801, -1.948225], [50.711456, -1.995295], [50.722499, -1.933243], [50.725905, -1.91652], [50.735016, -1.98013], [50.734837, -1.986932], [50.725301, -1.9671], [50.742808, -1.911955], [50.740768, -1.96553], [50.730692, -1.953635], [50.780341, -2.00706], [50.739597, -1.959295], [50.727349, -1.923319], [50.777007, -1.959263], [50.785285, -1.977981], [50.724479, -1.936074], [50.7387, -1.966807], [50.727088, -1.938195], [50.780969, -1.978408], [50.717272, -1.915969], [50.744719, -1.949369], [50.738884, -2.01329], [50.71721, -1.980279], [50.738236, -1.933362], [50.714963, -1.98722], [50.720891, -1.956478], [50.722045, -1.926585], [50.720267, -1.977019], [50.71793, -2.014984], [50.716762, -2.007759], [50.728267, -1.960722], [50.748687, -1.992456], [50.727193, -1.984809], [50.728889, -1.942727], [50.743009, -1.946678], [50.723317, -1.951801], [50.777821, -1.977984], [50.752623, -1.929656], [50.748584, -1.945963], [50.726368, -1.93848], [50.728979, -1.943294], [50.734192, -1.937194], [50.722517, -2.012718], [50.786723, -1.97188], [50.741567, -1.940019], [50.732294, -1.922035], [50.738345, -2.009038], [50.735917, -1.996426], [50.738521, -1.970917], [50.735827, -1.997701], [50.738974, -2.011164], [50.738435, -2.009747]],\n",
       "                {\n",
       "  &quot;minOpacity&quot;: 0.5,\n",
       "  &quot;maxZoom&quot;: 18,\n",
       "  &quot;radius&quot;: 25,\n",
       "  &quot;blur&quot;: 15,\n",
       "}\n",
       "            );\n",
       "        \n",
       "    \n",
       "            heat_map_1094d7148d29e611d634dda2d334cbd8.addTo(map_a14ccc85fac4ff97785c650911601f6f);\n",
       "        \n",
       "    \n",
       "            tile_layer_6c7218079f7c43fdc0e80c2e810b8461.addTo(map_a14ccc85fac4ff97785c650911601f6f);\n",
       "        \n",
       "    \n",
       "            heat_map_1094d7148d29e611d634dda2d334cbd8.addTo(map_a14ccc85fac4ff97785c650911601f6f);\n",
       "        \n",
       "&lt;/script&gt;\n",
       "&lt;/html&gt;\" style=\"position:absolute;width:100%;height:100%;left:0;top:0;border:none !important;\" allowfullscreen webkitallowfullscreen mozallowfullscreen></iframe></div></div>"
      ],
      "text/plain": [
       "<folium.folium.Map at 0x1746436acc0>"
      ]
     },
     "execution_count": 62,
     "metadata": {},
     "output_type": "execute_result"
    }
   ],
   "source": [
    "# bolton_df\n",
    "import folium\n",
    "from folium.plugins import HeatMap\n",
    "poole_locations  = list(zip(poole_df['Latitude'], poole_df['Longitude']))\n",
    "poole_map = folium.Map(location=[poole_df['Latitude'].mean(), poole_df['Longitude'].mean()], zoom_start=10)\n",
    "HeatMap(poole_locations).add_to(poole_map)\n",
    "poole_map.save('poole_heatmap.html')  \n",
    "poole_map"
   ]
  },
  {
   "cell_type": "code",
   "execution_count": 72,
   "id": "c94097bc-d17b-4117-9c11-7fa465cd9355",
   "metadata": {},
   "outputs": [],
   "source": [
    "cardiff_df = df[df['District Area'] == 'Cardiff']"
   ]
  },
  {
   "cell_type": "code",
   "execution_count": 73,
   "id": "216c5a37-1dbd-4c09-a4e0-c0c76adf6eaf",
   "metadata": {},
   "outputs": [
    {
     "data": {
      "text/html": [
       "<div style=\"width:100%;\"><div style=\"position:relative;width:100%;height:0;padding-bottom:60%;\"><span style=\"color:#565656\">Make this Notebook Trusted to load map: File -> Trust Notebook</span><iframe srcdoc=\"&lt;!DOCTYPE html&gt;\n",
       "&lt;html&gt;\n",
       "&lt;head&gt;\n",
       "    \n",
       "    &lt;meta http-equiv=&quot;content-type&quot; content=&quot;text/html; charset=UTF-8&quot; /&gt;\n",
       "    &lt;script src=&quot;https://cdn.jsdelivr.net/npm/leaflet@1.9.3/dist/leaflet.js&quot;&gt;&lt;/script&gt;\n",
       "    &lt;script src=&quot;https://code.jquery.com/jquery-3.7.1.min.js&quot;&gt;&lt;/script&gt;\n",
       "    &lt;script src=&quot;https://cdn.jsdelivr.net/npm/bootstrap@5.2.2/dist/js/bootstrap.bundle.min.js&quot;&gt;&lt;/script&gt;\n",
       "    &lt;script src=&quot;https://cdnjs.cloudflare.com/ajax/libs/Leaflet.awesome-markers/2.0.2/leaflet.awesome-markers.js&quot;&gt;&lt;/script&gt;\n",
       "    &lt;link rel=&quot;stylesheet&quot; href=&quot;https://cdn.jsdelivr.net/npm/leaflet@1.9.3/dist/leaflet.css&quot;/&gt;\n",
       "    &lt;link rel=&quot;stylesheet&quot; href=&quot;https://cdn.jsdelivr.net/npm/bootstrap@5.2.2/dist/css/bootstrap.min.css&quot;/&gt;\n",
       "    &lt;link rel=&quot;stylesheet&quot; href=&quot;https://netdna.bootstrapcdn.com/bootstrap/3.0.0/css/bootstrap-glyphicons.css&quot;/&gt;\n",
       "    &lt;link rel=&quot;stylesheet&quot; href=&quot;https://cdn.jsdelivr.net/npm/@fortawesome/fontawesome-free@6.2.0/css/all.min.css&quot;/&gt;\n",
       "    &lt;link rel=&quot;stylesheet&quot; href=&quot;https://cdnjs.cloudflare.com/ajax/libs/Leaflet.awesome-markers/2.0.2/leaflet.awesome-markers.css&quot;/&gt;\n",
       "    &lt;link rel=&quot;stylesheet&quot; href=&quot;https://cdn.jsdelivr.net/gh/python-visualization/folium/folium/templates/leaflet.awesome.rotate.min.css&quot;/&gt;\n",
       "    \n",
       "            &lt;meta name=&quot;viewport&quot; content=&quot;width=device-width,\n",
       "                initial-scale=1.0, maximum-scale=1.0, user-scalable=no&quot; /&gt;\n",
       "            &lt;style&gt;\n",
       "                #map_00cbd6b23e14d4f114fc237e5d7a15e1 {\n",
       "                    position: relative;\n",
       "                    width: 100.0%;\n",
       "                    height: 100.0%;\n",
       "                    left: 0.0%;\n",
       "                    top: 0.0%;\n",
       "                }\n",
       "                .leaflet-container { font-size: 1rem; }\n",
       "            &lt;/style&gt;\n",
       "\n",
       "            &lt;style&gt;html, body {\n",
       "                width: 100%;\n",
       "                height: 100%;\n",
       "                margin: 0;\n",
       "                padding: 0;\n",
       "            }\n",
       "            &lt;/style&gt;\n",
       "\n",
       "            &lt;style&gt;#map {\n",
       "                position:absolute;\n",
       "                top:0;\n",
       "                bottom:0;\n",
       "                right:0;\n",
       "                left:0;\n",
       "                }\n",
       "            &lt;/style&gt;\n",
       "\n",
       "            &lt;script&gt;\n",
       "                L_NO_TOUCH = false;\n",
       "                L_DISABLE_3D = false;\n",
       "            &lt;/script&gt;\n",
       "\n",
       "        \n",
       "    &lt;script src=&quot;https://cdn.jsdelivr.net/gh/python-visualization/folium@main/folium/templates/leaflet_heat.min.js&quot;&gt;&lt;/script&gt;\n",
       "&lt;/head&gt;\n",
       "&lt;body&gt;\n",
       "    \n",
       "    \n",
       "            &lt;div class=&quot;folium-map&quot; id=&quot;map_00cbd6b23e14d4f114fc237e5d7a15e1&quot; &gt;&lt;/div&gt;\n",
       "        \n",
       "&lt;/body&gt;\n",
       "&lt;script&gt;\n",
       "    \n",
       "    \n",
       "            var map_00cbd6b23e14d4f114fc237e5d7a15e1 = L.map(\n",
       "                &quot;map_00cbd6b23e14d4f114fc237e5d7a15e1&quot;,\n",
       "                {\n",
       "                    center: [51.497020883419694, -3.1869423249856075],\n",
       "                    crs: L.CRS.EPSG3857,\n",
       "                    ...{\n",
       "  &quot;zoom&quot;: 10,\n",
       "  &quot;zoomControl&quot;: true,\n",
       "  &quot;preferCanvas&quot;: false,\n",
       "}\n",
       "\n",
       "                }\n",
       "            );\n",
       "\n",
       "            \n",
       "\n",
       "        \n",
       "    \n",
       "            var tile_layer_1678f57ac41df8921c7277a34ae691e8 = L.tileLayer(\n",
       "                &quot;https://tile.openstreetmap.org/{z}/{x}/{y}.png&quot;,\n",
       "                {\n",
       "  &quot;minZoom&quot;: 0,\n",
       "  &quot;maxZoom&quot;: 19,\n",
       "  &quot;maxNativeZoom&quot;: 19,\n",
       "  &quot;noWrap&quot;: false,\n",
       "  &quot;attribution&quot;: &quot;\\u0026copy; \\u003ca href=\\&quot;https://www.openstreetmap.org/copyright\\&quot;\\u003eOpenStreetMap\\u003c/a\\u003e contributors&quot;,\n",
       "  &quot;subdomains&quot;: &quot;abc&quot;,\n",
       "  &quot;detectRetina&quot;: false,\n",
       "  &quot;tms&quot;: false,\n",
       "  &quot;opacity&quot;: 1,\n",
       "}\n",
       "\n",
       "            );\n",
       "        \n",
       "    \n",
       "            tile_layer_1678f57ac41df8921c7277a34ae691e8.addTo(map_00cbd6b23e14d4f114fc237e5d7a15e1);\n",
       "        \n",
       "    \n",
       "            var heat_map_b07a10abad30bc4279ee2f9ab4ac2ff0 = L.heatLayer(\n",
       "                [[51.464609, -3.165862], [51.482405, -3.211104], [51.525651, -3.111777], [51.493828, -3.175394], [51.473916, -3.265596], [51.46407, -3.165848], [51.470879, -3.246938], [51.478125, -3.17211], [51.463523, -3.184548], [51.473203, -3.178752], [51.547536, -3.208362], [51.485323, -3.162645], [51.521758, -3.178996], [51.491294, -3.149833], [51.487513, -3.159388], [51.496156, -3.185394], [51.527036, -3.136174], [51.46586, -3.270556], [51.514022, -3.124321], [51.473998, -3.206706], [51.489929, -3.169676], [51.531893, -3.098233], [51.483003, -3.169931], [51.527033, -3.136462], [51.512751, -3.125586], [51.49776, -3.141496], [51.503367, -3.128957], [51.530525, -3.252748], [51.52449, -3.101371], [51.517489, -3.218376], [51.460832, -3.165909], [51.528778, -3.247943], [51.506085, -3.308706], [51.483649, -3.168219], [51.506718, -3.145034], [51.504337, -3.121489], [51.5284, -3.206702], [51.494689, -3.17023], [51.538698, -3.193276], [51.481848, -3.177534], [51.492971, -3.189057], [51.527759, -3.216488], [51.524743, -3.112764], [51.456943, -3.177181], [51.465058, -3.269813], [51.462073, -3.185662], [51.501526, -3.142599], [51.47527, -3.248354], [51.501374, -3.139713], [51.504116, -3.198424], [51.507417, -3.147069], [51.52728, -3.236513], [51.526803, -3.094507], [51.50705, -3.11997], [51.506719, -3.14489], [51.496431, -3.245619], [51.478286, -3.137554], [51.508272, -3.133113], [51.478549, -3.201354], [51.491015, -3.150834], [51.484851, -3.164938], [51.488133, -3.178416], [51.537103, -3.25985], [51.525211, -3.202005], [51.485955, -3.162373], [51.492687, -3.172628], [51.478222, -3.241378], [51.467883, -3.189124], [51.480119, -3.179506], [51.494037, -3.190381], [51.4894, -3.168654], [51.482835, -3.150485], [51.501526, -3.142599], [51.481817, -3.153483], [51.508677, -3.302007], [51.48164, -3.143974], [51.514833, -3.114685], [51.493936, -3.164593], [51.538638, -3.190391], [51.536433, -3.221189], [51.529141, -3.104078], [51.51366, -3.197233], [51.482495, -3.211107], [51.464243, -3.193348], [51.469979, -3.186299], [51.517957, -3.107699], [51.513092, -3.173296], [51.520392, -3.153593], [51.485197, -3.175316], [51.499213, -3.194262], [51.487745, -3.199003], [51.499819, -3.114462], [51.518266, -3.122407], [51.476377, -3.185025], [51.50803, -3.303574], [51.502585, -3.189883], [51.531163, -3.099369], [51.489935, -3.178031], [51.480881, -3.166277], [51.498411, -3.19352], [51.489304, -3.289356], [51.474835, -3.177354], [51.476945, -3.191088], [51.482311, -3.130453], [51.527367, -3.110954], [51.4894, -3.168654], [51.484408, -3.225992], [51.48088, -3.166421], [51.469047, -3.207151], [51.504581, -3.133598], [51.487331, -3.159672], [51.49384, -3.174242], [51.465536, -3.198853], [51.523694, -3.146901], [51.512831, -3.207876], [51.500315, -3.118941], [51.530313, -3.141301], [51.485865, -3.162371], [51.524184, -3.257043], [51.542117, -3.129483], [51.483194, -3.168784], [51.541493, -3.128891], [51.468343, -3.265442], [51.481537, -3.17263], [51.51625, -3.144985], [51.493246, -3.249133], [51.548119, -3.14117], [51.482552, -3.214277], [51.501157, -3.240849], [51.495064, -3.177731], [51.522701, -3.138084], [51.496484, -3.223435], [51.478634, -3.201788], [51.523275, -3.266387], [51.527132, -3.144825], [51.470303, -3.189907], [51.518218, -3.276624], [51.539068, -3.269421], [51.469798, -3.159515], [51.535492, -3.145035], [51.502192, -3.138869], [51.522319, -3.14038], [51.499137, -3.166022], [51.494185, -3.175691], [51.519373, -3.201275], [51.502003, -3.176181], [51.4813, -3.256295], [51.513176, -3.209326], [51.475507, -3.173195], [51.478913, -3.200932], [51.519597, -3.142907], [51.494974, -3.213022], [51.521198, -3.233466], [51.495943, -3.17977], [51.52529, -3.203016], [51.476619, -3.187767], [51.488542, -3.18246], [51.531115, -3.230995], [51.518682, -3.153694], [51.469885, -3.186729], [51.494283, -3.156823], [51.504662, -3.241088], [51.48146, -3.189189], [51.488358, -3.173957], [51.495735, -3.191434], [51.502633, -3.176197], [51.465292, -3.187473], [51.516249, -3.181304], [51.495332, -3.238962], [51.547499, -3.176632], [51.512848, -3.206291], [51.529454, -3.127872], [51.472168, -3.244094], [51.49269, -3.135752], [51.494213, -3.181886], [51.468285, -3.157893], [51.513613, -3.219282], [51.524923, -3.238323], [51.506641, -3.134369], [51.514941, -3.177235], [51.524178, -3.323063], [51.503936, -3.198419], [51.498592, -3.157508], [51.477057, -3.180003], [51.483995, -3.178598], [51.467662, -3.253473], [51.478235, -3.187953], [51.531671, -3.229424], [51.488778, -3.254916], [51.509442, -3.205193], [51.494319, -3.144003], [51.518257, -3.142009], [51.507191, -3.151818], [51.484402, -3.173856], [51.491585, -3.183835], [51.54589, -3.193464], [51.492803, -3.231547], [51.500651, -3.158425], [51.483795, -3.180609], [51.488969, -3.202348], [51.504003, -3.155916], [51.518692, -3.188718], [51.479952, -3.239265], [51.531165, -3.10874], [51.525243, -3.181104], [51.484817, -3.15932], [51.483798, -3.180321], [51.478493, -3.171256], [51.529051, -3.104076], [51.530198, -3.2327], [51.5042, -3.199003], [51.514761, -3.288489], [51.479123, -3.189129], [51.480946, -3.186728], [51.484304, -3.174717], [51.524667, -3.237019], [51.539372, -3.20656], [51.478311, -3.171539], [51.483177, -3.152365], [51.510451, -3.279722], [51.522321, -3.140236], [51.498721, -3.233147], [51.467687, -3.181777], [51.515717, -3.283328], [51.476459, -3.185747], [51.479311, -3.257249], [51.497485, -3.142066], [51.464602, -3.166581], [51.506714, -3.225438], [51.524109, -3.230229], [51.525785, -3.250312], [51.518457, -3.092721], [51.507924, -3.305012], [51.502929, -3.191333], [51.468425, -3.18885], [51.524694, -3.259796], [51.540242, -3.128139], [51.485383, -3.165671], [51.522535, -3.26824], [51.483168, -3.171376], [51.478414, -3.161174], [51.483947, -3.156273], [51.498676, -3.193959], [51.474422, -3.217805], [51.543849, -3.199612], [51.509409, -3.259662], [51.528462, -3.191855], [51.481216, -3.19552], [51.471166, -3.210951], [51.463379, -3.180946], [51.476734, -3.167323], [51.485084, -3.177618], [51.518191, -3.228628], [51.480195, -3.207446], [51.509478, -3.119886], [51.477115, -3.165173], [51.488764, -3.204791], [51.502487, -3.190601], [51.483708, -3.180319], [51.495405, -3.14331], [51.499537, -3.206516], [51.4821, -3.179269], [51.483623, -3.152665], [51.528241, -3.24764], [51.519389, -3.117823], [51.52306, -3.100471], [51.493982, -3.213284], [51.487073, -3.158513], [51.493148, -3.189349], [51.500652, -3.139984], [51.482008, -3.24897], [51.506046, -3.176573], [51.477458, -3.25403], [51.503265, -3.175925], [51.485683, -3.162654], [51.47265, -3.18896], [51.47357, -3.186968], [51.491891, -3.171311], [51.482867, -3.174536], [51.504846, -3.197435], [51.483709, -3.180175], [51.481195, -3.257732], [51.479327, -3.186686], [51.48778, -3.141391], [51.488288, -3.207371], [51.466675, -3.270002], [51.464452, -3.242444], [51.48088, -3.166421], [51.546807, -3.173874], [51.509008, -3.131402], [51.529859, -3.09458], [51.493774, -3.144566], [51.483709, -3.180175], [51.454661, -3.180577], [51.467898, -3.205249], [51.502224, -3.172152], [51.479396, -3.249331], [51.512069, -3.176728], [51.502057, -3.143477], [51.517774, -3.208151], [51.481612, -3.243919], [51.528042, -3.241003], [51.504934, -3.197581], [51.493451, -3.168182], [51.495101, -3.13754], [51.485519, -3.20557], [51.4741, -3.187846], [51.509906, -3.203764], [51.468424, -3.274514], [51.513088, -3.20918], [51.504113, -3.198712], [51.477178, -3.203478], [51.525669, -3.252759], [51.48522, -3.208443], [51.504394, -3.143535], [51.486794, -3.15937], [51.483134, -3.129033], [51.470222, -3.241017], [51.501827, -3.219832], [51.469714, -3.18586], [51.482709, -3.216441], [51.48379, -3.172112], [51.481817, -3.162556], [51.485455, -3.211761], [51.478513, -3.196025], [51.521849, -3.256834], [51.510923, -3.192262], [51.487241, -3.159669], [51.51217, -3.120528], [51.526586, -3.216889], [51.465666, -3.271846], [51.54977, -3.209719], [51.478403, -3.171253], [51.485387, -3.174313], [51.488984, -3.269182], [51.525106, -3.112341], [51.481459, -3.189333], [51.508054, -3.309483], [51.530423, -3.211081], [51.4785, -3.179608], [51.541613, -3.116348], [51.480336, -3.211194], [51.470558, -3.276733], [51.510541, -3.279724], [51.49382, -3.254335], [51.483372, -3.221931], [51.533724, -3.204825], [51.502276, -3.1759], [51.525595, -3.234305], [51.478731, -3.201071], [51.506057, -3.184354], [51.468543, -3.168122], [51.481135, -3.194653], [51.534579, -3.217823], [51.458077, -3.198369], [51.493355, -3.168756], [51.468151, -3.162353], [51.526757, -3.108921], [51.465524, -3.164301], [51.509023, -3.219592], [51.492489, -3.156345], [51.506823, -3.13423], [51.483799, -3.224103], [51.526728, -3.246157], [51.487969, -3.212116], [51.531159, -3.109317], [51.541327, -3.118072], [51.476689, -3.180857], [51.505712, -3.173971], [51.485263, -3.150546], [51.479907, -3.17374], [51.519792, -3.141326], [51.483372, -3.221931], [51.539499, -3.167342], [51.483777, -3.191266], [51.542027, -3.193075], [51.530327, -3.102232], [51.497816, -3.163251], [51.483651, -3.168075], [51.466645, -3.195859], [51.481092, -3.181115], [51.525478, -3.253763], [51.494314, -3.171805], [51.480974, -3.192777], [51.508341, -3.144498], [51.484205, -3.175579], [51.486276, -3.16627], [51.484848, -3.165226], [51.484921, -3.148665], [51.473365, -3.171556], [51.489463, -3.241251], [51.480519, -3.245185], [51.481615, -3.243631], [51.477591, -3.198305], [51.475396, -3.157209], [51.525732, -3.093616], [51.520325, -3.104441], [51.465745, -3.160132], [51.523982, -3.098043], [51.520699, -3.121891], [51.541522, -3.125863], [51.471947, -3.169504], [51.505511, -3.228719], [51.504511, -3.246847], [51.484137, -3.226129], [51.51889, -3.178057], [51.535507, -3.206313], [51.473651, -3.178907], [51.531023, -3.231136], [51.514429, -3.147245], [51.524775, -3.109306], [51.496908, -3.1821], [51.512296, -3.126151], [51.479338, -3.212031], [51.514742, -3.114827], [51.519182, -3.1207], [51.506791, -3.146765], [51.513722, -3.217411], [51.521832, -3.14426], [51.542431, -3.13425], [51.46806, -3.162494], [51.484146, -3.163479], [51.475754, -3.138931], [51.51684, -3.111707], [51.50877, -3.128082], [51.472286, -3.189383], [51.465471, -3.160557], [51.523838, -3.230366], [51.481449, -3.172484], [51.509676, -3.199867], [51.505457, -3.19918], [51.516784, -3.126983], [51.528522, -3.131309], [51.480881, -3.166277], [51.46454, -3.17277], [51.486961, -3.169744], [51.479849, -3.179499], [51.509318, -3.259804], [51.484195, -3.176587], [51.480769, -3.204005], [51.536651, -3.276707], [51.505186, -3.242543], [51.466774, -3.269141], [51.530574, -3.231124], [51.481919, -3.197122], [51.475302, -3.262178], [51.501916, -3.130218], [51.476542, -3.18647], [51.5176, -3.107402], [51.47404, -3.25408], [51.48299, -3.171227], [51.516026, -3.130999], [51.537531, -3.129514], [51.526956, -3.241694], [51.484494, -3.200358], [51.483359, -3.152082], [51.484205, -3.175579], [51.45328, -3.183707], [51.497666, -3.141926], [51.492255, -3.18875], [51.516306, -3.175684], [51.519894, -3.3202], [51.468545, -3.158907], [51.481334, -3.201571], [51.4837, -3.172109], [51.502703, -3.150985], [51.498542, -3.232998], [51.487934, -3.125407], [51.493539, -3.140959], [51.491176, -3.170861], [51.516377, -3.238668], [51.512936, -3.143605], [51.50446, -3.089361], [51.493539, -3.140959], [51.506168, -3.309285], [51.504483, -3.197713], [51.482729, -3.179285], [51.541037, -3.129601], [51.480964, -3.184856], [51.48731, -3.197551], [51.504558, -3.199156], [51.525465, -3.093322], [51.509493, -3.208941], [51.508341, -3.135276], [51.531527, -3.098945], [51.481348, -3.243335], [51.488483, -3.205936], [51.484942, -3.164796], [51.463809, -3.164978], [51.474453, -3.188575], [51.496707, -3.148097], [51.492426, -3.171757], [51.512531, -3.219541], [51.48079, -3.166418], [51.481148, -3.236705], [51.507998, -3.133539], [51.525746, -3.237048], [51.51098, -3.297029], [51.483344, -3.171812], [51.488287, -3.207515], [51.543965, -3.188222], [51.458799, -3.1981], [51.478331, -3.160451], [51.47824, -3.160593], [51.523083, -3.145012], [51.478914, -3.200788], [51.493684, -3.144563], [51.453567, -3.181988], [51.483739, -3.168222], [51.510568, -3.128126], [51.491962, -3.234549], [51.490193, -3.290245], [51.495012, -3.235208], [51.525218, -3.165679], [51.494974, -3.177728], [51.481023, -3.151879], [51.527118, -3.217624], [51.527544, -3.237097], [51.466266, -3.206502], [51.528892, -3.130165], [51.505629, -3.309269], [51.505273, -3.127131], [51.525469, -3.254627], [51.481013, -3.152887], [51.498533, -3.20793], [51.465085, -3.267367], [51.48834, -3.228402], [51.495943, -3.17977], [51.502364, -3.176046], [51.52005, -3.178952], [51.493734, -3.175824], [51.527981, -3.246768], [51.50432, -3.15117], [51.485188, -3.17618], [51.47652, -3.179701], [51.492246, -3.171752], [51.475332, -3.163687], [51.46548, -3.264067], [51.483109, -3.221204], [51.532625, -3.180286], [51.525884, -3.125045], [51.475217, -3.175204], [51.534013, -3.185368], [51.539277, -3.20699], [51.483184, -3.178721], [51.540168, -3.13578], [51.489699, -3.269634], [51.488153, -3.185331], [51.489815, -3.241981], [51.481466, -3.179685], [51.476945, -3.191088], [51.519614, -3.103559], [51.479736, -3.154727], [51.511205, -3.199907], [51.488432, -3.228116], [51.476709, -3.18777], [51.483828, -3.168368], [51.497667, -3.141782], [51.505195, -3.198452], [51.48646, -3.183846], [51.452548, -3.184984], [51.501867, -3.125894], [51.492301, -3.138767], [51.477586, -3.172097], [51.477026, -3.174098], [51.486776, -3.26552], [51.51701, -3.11272], [51.484383, -3.166798], [51.492705, -3.188762], [51.480964, -3.193785], [51.506521, -3.146758], [51.516251, -3.18116], [51.476336, -3.153057], [51.468822, -3.185117], [51.485656, -3.285797], [51.468157, -3.266012], [51.529176, -3.12873], [51.472738, -3.171252], [51.472587, -3.186367], [51.504025, -3.198566], [51.497418, -3.245789], [51.474544, -3.188434], [51.502091, -3.158317], [51.47281, -3.199763], [51.48678, -3.142518], [51.502734, -3.138595], [51.48144, -3.243194], [51.487236, -3.141809], [51.486993, -3.148285], [51.509578, -3.118879], [51.478926, -3.172995], [51.507662, -3.254859], [51.468148, -3.162641], [51.524283, -3.123276], [51.499175, -3.180286], [51.504998, -3.309395], [51.500969, -3.275134], [51.506431, -3.146756], [51.483816, -3.205093], [51.503018, -3.191479], [51.502664, -3.190894], [51.496785, -3.25456], [51.481098, -3.180539], [51.519282, -3.201417], [51.491369, -3.169569], [51.463699, -3.193766], [51.538183, -3.259735], [51.53106, -3.119838], [51.488242, -3.229119], [51.475685, -3.173344], [51.468464, -3.167112], [51.498933, -3.141093], [51.511656, -3.199775], [51.523929, -3.230224], [51.506973, -3.164781], [51.482331, -3.165161], [51.486326, -3.170304], [51.483006, -3.169643], [51.487706, -3.167171], [51.481845, -3.204321], [51.498482, -3.141226], [51.481188, -3.180542], [51.450671, -3.192707], [51.527883, -3.132302], [51.539076, -3.2687], [51.500824, -3.140852], [51.498475, -3.169319], [51.478125, -3.17211], [51.496172, -3.210173], [51.483799, -3.224103], [51.54488, -3.18666], [51.473377, -3.257229], [51.49241, -3.243204], [51.481299, -3.169455], [51.473147, -3.253479], [51.480478, -3.249072], [51.529007, -3.089514], [51.506269, -3.097905], [51.497073, -3.22734], [51.476196, -3.202732], [51.479661, -3.180358], [51.519538, -3.193928], [51.471644, -3.190662], [51.483344, -3.153666], [51.494983, -3.212158], [51.493415, -3.189644], [51.485329, -3.206573], [51.481245, -3.201425], [51.54514, -3.133019], [51.492515, -3.215982], [51.524107, -3.230373], [51.486796, -3.159226], [51.49782, -3.180827], [51.503819, -3.183432], [51.518894, -3.230233], [51.503317, -3.105903], [51.485865, -3.162371], [51.479221, -3.161338], [51.485367, -3.228898], [51.521514, -3.176395], [51.503308, -3.171604], [51.478308, -3.241669], [51.524842, -3.139867], [51.479819, -3.173594], [51.480363, -3.182104], [51.479828, -3.181659], [51.526584, -3.136451], [51.537209, -3.125613], [51.501805, -3.132376], [51.485524, -3.205138], [51.476461, -3.185603], [51.479428, -3.16768], [51.48236, -3.153065], [51.506446, -3.308572], [51.505918, -3.134784], [51.481186, -3.180686], [51.518682, -3.153694], [51.53357, -3.193575], [51.518682, -3.153694], [51.510083, -3.204057], [51.47828, -3.209987], [51.478823, -3.200929], [51.517638, -3.177304], [51.499647, -3.297284], [51.495405, -3.14331], [51.475683, -3.268525], [51.523802, -3.154255], [51.462166, -3.185377], [51.520426, -3.112803], [51.466364, -3.170225], [51.498505, -3.184302], [51.538741, -3.206687], [51.483935, -3.175572], [51.515945, -3.175819], [51.476921, -3.166608], [51.527999, -3.236533], [51.53946, -3.206706], [51.498144, -3.157353], [51.48331, -3.175124], [51.52314, -3.202239], [51.530574, -3.205174], [51.521961, -3.212009], [51.473983, -3.267757], [51.476488, -3.17394], [51.531347, -3.108456], [51.538182, -3.25988], [51.498593, -3.184449], [51.491015, -3.150834], [51.519372, -3.201419], [51.502038, -3.15457], [51.495943, -3.17977], [51.46943, -3.187293], [51.513547, -3.251129], [51.48362, -3.232596], [51.502343, -3.305573], [51.524647, -3.103825], [51.467422, -3.181338], [51.484237, -3.163338], [51.481189, -3.180398], [51.549818, -3.085252], [51.475597, -3.173197], [51.501468, -3.139284], [51.481366, -3.198404], [51.525234, -3.242945], [51.519781, -3.178801], [51.509918, -3.130272], [51.494346, -3.212861], [51.50001, -3.186647], [51.519269, -3.120991], [51.491016, -3.15069], [51.485724, -3.158479], [51.482553, -3.214133], [51.506492, -3.312464], [51.481462, -3.189045], [51.490383, -3.151107], [51.517948, -3.164341], [51.481551, -3.189048], [51.48088, -3.166421], [51.46989, -3.186297], [51.494815, -3.166632], [51.48854, -3.226391], [51.486185, -3.166412], [51.525647, -3.203314], [51.49046, -3.240558], [51.527224, -3.241846], [51.475521, -3.171756], [51.447786, -3.184573], [51.507417, -3.165369], [51.465259, -3.14558], [51.513544, -3.182098], [51.468343, -3.265442], [51.481683, -3.167017], [51.493828, -3.175394], [51.469604, -3.17002], [51.51996, -3.178949], [51.525281, -3.229972], [51.502399, -3.190455], [51.520446, -3.120155], [51.521424, -3.254516], [51.482148, -3.165445], [51.524751, -3.140009], [51.476373, -3.203025], [51.490729, -3.240566], [51.526956, -3.241694], [51.47793, -3.20033], [51.525203, -3.202726], [51.488483, -3.205936], [51.474069, -3.155016], [51.507146, -3.147206], [51.479228, -3.196476], [51.496182, -3.164794], [51.491291, -3.186276], [51.469883, -3.16902], [51.496148, -3.159175], [51.479652, -3.181222], [51.48815, -3.158684], [51.488909, -3.126871], [51.467507, -3.190698], [51.495173, -3.295284], [51.511105, -3.119061], [51.505889, -3.147031], [51.503933, -3.198708], [51.480881, -3.166277], [51.483027, -3.220482], [51.516389, -3.237515], [51.481754, -3.204463], [51.517426, -3.097165], [51.487513, -3.159388], [51.525385, -3.202586], [51.545721, -3.156396], [51.516735, -3.221671], [51.512656, -3.15383], [51.537678, -3.213869], [51.505636, -3.199329], [51.482798, -3.233726], [51.506525, -3.146326], [51.500739, -3.140274], [51.494511, -3.231593], [51.496611, -3.18483], [51.507705, -3.145203], [51.503638, -3.12882], [51.481056, -3.236991], [51.474774, -3.174472], [51.46681, -3.179595], [51.490009, -3.170687], [51.502175, -3.220994], [51.509587, -3.199865], [51.494771, -3.206534], [51.492427, -3.215835], [51.504225, -3.196554], [51.518222, -3.208307], [51.52827, -3.193004], [51.526094, -3.102995], [51.497816, -3.163251], [51.52992, -3.126154], [51.525874, -3.135424], [51.483333, -3.190678], [51.527394, -3.242715], [51.478808, -3.1668], [51.482309, -3.130597], [51.498681, -3.157655], [51.518579, -3.208605], [51.51209, -3.218665], [51.490016, -3.169967], [51.481564, -3.196681], [51.476686, -3.181145], [51.486042, -3.144372], [51.473905, -3.2499], [51.531523, -3.099378], [51.523353, -3.117055], [51.522071, -3.119474], [51.478747, -3.172846], [51.546998, -3.181667], [51.509189, -3.203601], [51.492617, -3.134021], [51.484214, -3.174715], [51.471055, -3.186615], [51.477602, -3.188369], [51.484175, -3.151382], [51.489055, -3.158131], [51.492919, -3.158373], [51.486125, -3.216532], [51.473291, -3.178898], [51.497306, -3.141917], [51.484938, -3.165228], [51.481372, -3.189043], [51.469363, -3.184988], [51.518952, -3.116515], [51.477532, -3.177423], [51.528718, -3.166345], [51.496047, -3.22227], [51.468337, -3.188704], [51.547528, -3.277012], [51.493951, -3.163153], [51.481801, -3.173213], [51.498502, -3.157506], [51.522519, -3.138367], [51.469371, -3.210615], [51.528185, -3.235961], [51.520968, -3.140635], [51.493644, -3.175822], [51.506719, -3.14489], [51.484025, -3.175574], [51.501254, -3.205697], [51.462793, -3.194462], [51.500072, -3.144147], [51.527544, -3.237097], [51.538171, -3.260889], [51.497087, -3.182249], [51.510171, -3.132007], [51.521058, -3.140637], [51.469797, -3.186582], [51.49316, -3.170335], [51.520392, -3.153593], [51.512035, -3.171107], [51.478499, -3.188536], [51.521329, -3.1405], [51.496998, -3.182103], [51.493861, -3.163151], [51.497903, -3.163542], [51.467419, -3.208116], [51.495763, -3.179766], [51.479773, -3.23926], [51.507953, -3.165671], [51.518682, -3.153694], [51.466867, -3.268856], [51.496294, -3.162636], [51.489655, -3.290086], [51.517254, -3.298937], [51.526704, -3.133282], [51.488537, -3.173962], [51.506308, -3.312891], [51.531356, -3.107591], [51.507778, -3.200826], [51.482896, -3.283271], [51.498364, -3.12552], [51.526062, -3.134564], [51.503529, -3.19423], [51.485316, -3.207869], [51.49605, -3.178044], [51.491984, -3.171025], [51.523847, -3.229501], [51.493465, -3.157667], [51.48368, -3.174125], [51.512439, -3.16665], [51.509387, -3.120028], [51.506861, -3.148784], [51.493058, -3.189347], [51.482865, -3.17468], [51.479407, -3.160767], [51.492426, -3.215979], [51.465227, -3.185024], [51.483946, -3.156417], [51.491083, -3.152997], [51.502273, -3.176188], [51.495584, -3.143315], [51.533733, -3.255431], [51.470274, -3.261464], [51.521208, -3.323265], [51.525553, -3.093468], [51.494536, -3.176565], [51.490994, -3.152995], [51.528881, -3.131318], [51.480028, -3.179648], [51.494249, -3.160279], [51.51393, -3.124462], [51.523754, -3.229787], [51.494301, -3.190964], [51.48039, -3.282192], [51.506618, -3.14604], [51.482179, -3.153204], [51.514181, -3.190185], [51.476548, -3.176966], [51.526375, -3.237065], [51.508051, -3.21798], [51.482404, -3.139384], [51.518405, -3.181504], [51.505353, -3.309838], [51.453854, -3.189192], [51.495509, -3.160167], [51.494973, -3.177872], [51.474293, -3.177628], [51.488728, -3.127011], [51.497305, -3.142061], [51.493774, -3.16286], [51.509488, -3.155911], [51.483297, -3.17642], [51.502724, -3.176055], [51.478476, -3.172983], [51.483252, -3.171954], [51.501682, -3.16335], [51.512861, -3.196204], [51.524453, -3.257194], [51.495385, -3.163621], [51.533869, -3.126972], [51.504025, -3.198566], [51.490195, -3.290101], [51.481894, -3.172927], [51.519372, -3.201419], [51.483328, -3.191254], [51.479773, -3.23926], [51.499125, -3.185183], [51.50081, -3.213897], [51.494391, -3.182035], [51.512795, -3.220125], [51.505782, -3.211292], [51.501159, -3.188549], [51.478302, -3.172403], [51.476919, -3.202463], [51.482913, -3.169929], [51.482255, -3.20822], [51.480447, -3.182683], [51.472972, -3.269745], [51.519718, -3.121002], [51.484835, -3.228164], [51.506709, -3.145898], [51.505693, -3.193711], [51.478511, -3.187385], [51.468419, -3.162503], [51.480354, -3.191897], [51.500098, -3.238947], [51.464594, -3.167445], [51.504211, -3.24122], [51.485955, -3.162373], [51.508036, -3.166393], [51.509815, -3.203905], [51.513539, -3.200257], [51.503932, -3.207641], [51.542518, -3.13454], [51.46307, -3.166974], [51.483889, -3.180179], [51.47631, -3.173792], [51.493623, -3.141537], [51.49093, -3.221413], [51.520649, -3.117709], [51.512298, -3.207285], [51.494, -3.228842], [51.474979, -3.180957], [51.479882, -3.167259], [51.491533, -3.171158], [51.493376, -3.21975], [51.52664, -3.303961], [51.492692, -3.216275], [51.542026, -3.129625], [51.498033, -3.177519], [51.497744, -3.206036], [51.481383, -3.187891], [51.495437, -3.211738], [51.470232, -3.196816], [51.495437, -3.211738], [51.488198, -3.207369], [51.471351, -3.184031], [51.492429, -3.215691], [51.528418, -3.247933], [51.462073, -3.185662], [51.483187, -3.178433], [51.494771, -3.206534], [51.529686, -3.186409], [51.474972, -3.172749], [51.473114, -3.178605], [51.509473, -3.193377], [51.5141, -3.15329], [51.484849, -3.165082], [51.533555, -3.255282], [51.492425, -3.171901], [51.520396, -3.232723], [51.506624, -3.190565], [51.468459, -3.158473], [51.516926, -3.185501], [51.547626, -3.208365], [51.528668, -3.189266], [51.474161, -3.15473], [51.529874, -3.203281], [51.463287, -3.181231], [51.483189, -3.178289], [51.541359, -3.124129], [51.475017, -3.26361], [51.477854, -3.172247], [51.468893, -3.264449], [51.518497, -3.181362], [51.479951, -3.196063], [51.502014, -3.119991], [51.533231, -3.127821], [51.496389, -3.143767], [51.478508, -3.160744], [51.527538, -3.237674], [51.512861, -3.196204], [51.509007, -3.131546], [51.507691, -3.146644], [51.500778, -3.208278], [51.481183, -3.180973], [51.496212, -3.188709], [51.495285, -3.164627], [51.477782, -3.179446], [51.483882, -3.17197], [51.483303, -3.175844], [51.469698, -3.169591], [51.484308, -3.174285], [51.51843, -3.18799], [51.466407, -3.269851], [51.484137, -3.226129], [51.482119, -3.168324], [51.508829, -3.203591], [51.46899, -3.159351], [51.483709, -3.180175], [51.492217, -3.147408], [51.504372, -3.136618], [51.4689, -3.159348], [51.4851, -3.176034], [51.504466, -3.126823], [51.492509, -3.216558], [51.485295, -3.165525], [51.46749, -3.165503], [51.482378, -3.16041], [51.491542, -3.179225], [51.519611, -3.103847], [51.507497, -3.184247], [51.531481, -3.204333], [51.479754, -3.189001], [51.477179, -3.19455], [51.479683, -3.239258], [51.477682, -3.180451], [51.479702, -3.167255], [51.490414, -3.157013], [51.5029, -3.203003], [51.462263, -3.18466], [51.494038, -3.163443], [51.535589, -3.144317], [51.512295, -3.207574], [51.493782, -3.134482], [51.502293, -3.192037], [51.519373, -3.201275], [51.508689, -3.208487], [51.488525, -3.184188], [51.483284, -3.177715], [51.464695, -3.166296], [51.452258, -3.186991], [51.499378, -3.195707], [51.496188, -3.145923], [51.516439, -3.171364], [51.514419, -3.148254], [51.513575, -3.151835], [51.518679, -3.181078], [51.481767, -3.203167], [51.531268, -3.107301], [51.537702, -3.193971], [51.497399, -3.230518], [51.495555, -3.243434], [51.489952, -3.246018], [51.48249, -3.211539], [51.506618, -3.14604], [51.534964, -3.258061], [51.516964, -3.216921], [51.472086, -3.182466], [51.496886, -3.166397], [51.499107, -3.204632], [51.541914, -3.13193], [51.497645, -3.153306], [51.522255, -3.29389], [51.494661, -3.173111], [51.496389, -3.143767], [51.485648, -3.16611], [51.481056, -3.184714], [51.505506, -3.176559], [51.489277, -3.180895], [51.483741, -3.168078], [51.490987, -3.215941], [51.4676, -3.267581], [51.481115, -3.151737], [51.496669, -3.179069], [51.53096, -3.184856], [51.524254, -3.242053], [51.526696, -3.124777], [51.476714, -3.256313], [51.498682, -3.184595], [51.483206, -3.176561], [51.518592, -3.153691], [51.50732, -3.183955], [51.483522, -3.162887], [51.491542, -3.179225], [51.484592, -3.172852], [51.476281, -3.185599], [51.526956, -3.241694], [51.48146, -3.189189], [51.454207, -3.180997], [51.524884, -3.10729], [51.468483, -3.183093], [51.495754, -3.144327], [51.529541, -3.164925], [51.48924, -3.202211], [51.503907, -3.183578], [51.490998, -3.170712], [51.486585, -3.266523], [51.484177, -3.247877], [51.521123, -3.179556], [51.520317, -3.196976], [51.470338, -3.186453], [51.48039, -3.282192], [51.484852, -3.164794], [51.514072, -3.156171], [51.508181, -3.133255], [51.512087, -3.218953], [51.46733, -3.20797], [51.47693, -3.192528], [51.505673, -3.186794], [51.509008, -3.131402], [51.485867, -3.143936], [51.476946, -3.190944], [51.49606, -3.159029], [51.509873, -3.299592], [51.464514, -3.166435], [51.474053, -3.16567], [51.486692, -3.160664], [51.490745, -3.221985], [51.500248, -3.224688], [51.468616, -3.142496], [51.510173, -3.204059], [51.54328, -3.139462], [51.489975, -3.137557], [51.484942, -3.164796], [51.491134, -3.219114], [51.527717, -3.185493], [51.52, -3.20158], [51.52495, -3.209926], [51.485517, -3.16121], [51.491514, -3.15488], [51.504648, -3.199159], [51.538039, -3.178407], [51.477985, -3.186075], [51.474234, -3.201241], [51.495736, -3.173426], [51.49784, -3.142507], [51.502724, -3.176055], [51.48039, -3.282192], [51.506346, -3.309434], [51.516024, -3.185766], [51.51849, -3.108288], [51.489842, -3.169386], [51.513066, -3.219988], [51.492779, -3.172486], [51.477179, -3.19455], [51.529282, -3.259634], [51.518602, -3.188715], [51.526502, -3.181137], [51.471637, -3.182455], [51.475012, -3.264042], [51.534671, -3.099309], [51.470252, -3.186018], [51.464504, -3.167443], [51.507417, -3.147069], [51.492329, -3.181406], [51.491001, -3.152275], [51.495154, -3.177733], [51.500723, -3.1603], [51.480896, -3.182694], [51.507844, -3.304145], [51.48717, -3.166869], [51.477612, -3.178433], [51.51794, -3.183077], [51.493986, -3.272346], [51.523196, -3.095574], [51.49311, -3.219311], [51.479382, -3.207712], [51.483097, -3.151355], [51.520247, -3.093629], [51.52257, -3.123666], [51.470943, -3.197699], [51.489649, -3.24068], [51.488783, -3.158268], [51.53112, -3.204467], [51.491026, -3.212197], [51.498911, -3.179703], [51.503432, -3.203737], [51.506259, -3.226002], [51.488863, -3.168353], [51.481058, -3.166569], [51.509189, -3.203601], [51.501208, -3.165787], [51.497578, -3.14178], [51.485082, -3.177762], [51.489644, -3.241112], [51.494469, -3.147032], [51.503669, -3.307628], [51.538983, -3.090041], [51.475512, -3.172619], [51.519256, -3.20401], [51.47061, -3.186172], [51.481726, -3.162698], [51.499482, -3.140098], [51.489967, -3.269785], [51.525292, -3.202872], [51.479123, -3.1802], [51.519856, -3.11596], [51.492426, -3.135169], [51.493828, -3.175394], [51.504483, -3.197713], [51.476442, -3.1329], [51.481118, -3.187452], [51.519798, -3.112644], [51.518191, -3.219981], [51.497625, -3.164399], [51.484767, -3.164359], [51.481056, -3.184714], [51.47376, -3.177038], [51.49231, -3.147122], [51.461813, -3.184648], [51.523597, -3.14762], [51.504557, -3.1993], [51.494334, -3.222657], [51.482798, -3.233726], [51.480269, -3.182534], [51.470517, -3.186457], [51.512132, -3.152231], [51.497489, -3.141633], [51.501677, -3.208301], [51.453002, -3.184564], [51.501935, -3.22675], [51.532532, -3.189511], [51.507375, -3.151391], [51.47321, -3.239082], [51.481362, -3.154048], [51.476712, -3.178554], [51.481554, -3.170902], [51.477096, -3.185044], [51.490632, -3.241283], [51.487051, -3.169747], [51.525647, -3.203314], [51.478125, -3.17211], [51.49582, -3.165073], [51.51939, -3.163945], [51.494771, -3.206534], [51.526005, -3.194674], [51.499366, -3.16113], [51.523377, -3.169957], [51.526956, -3.241694], [51.525414, -3.108312], [51.476468, -3.175956], [51.474853, -3.175626], [51.493343, -3.133319], [51.526927, -3.090762], [51.51678, -3.217349], [51.477024, -3.156242], [51.462725, -3.174451], [51.498114, -3.23947], [51.525174, -3.095621], [51.537103, -3.25985], [51.520088, -3.110489], [51.494126, -3.172665], [51.501802, -3.204847], [51.538268, -3.19139], [51.512386, -3.126154], [51.495792, -3.140439], [51.480132, -3.23927], [51.54088, -3.164061], [51.48117, -3.243186], [51.462357, -3.18423], [51.507282, -3.151677], [51.502582, -3.233683], [51.525571, -3.253477], [51.49067, -3.220542], [51.545353, -3.166338], [51.506693, -3.310596], [51.489316, -3.168076], [51.48088, -3.166421], [51.524226, -3.100788], [51.480132, -3.23927], [51.506524, -3.251946], [51.49582, -3.165073], [51.497816, -3.163251], [51.519716, -3.12129], [51.475991, -3.178679], [51.481705, -3.243633], [51.479654, -3.181078], [51.47395, -3.254077], [51.476139, -3.163852], [51.537444, -3.201606], [51.528025, -3.098429], [51.503346, -3.121752], [51.471313, -3.24839], [51.519079, -3.112626], [51.520317, -3.196976], [51.49111, -3.150261], [51.480558, -3.171597], [51.463542, -3.173752], [51.48351, -3.173113], [51.509189, -3.203601], [51.519073, -3.141308], [51.5043, -3.241222], [51.506693, -3.310596], [51.480963, -3.237276], [51.482798, -3.233726], [51.497735, -3.224188], [51.483879, -3.216328], [51.49692, -3.172016], [51.500343, -3.206825], [51.48568, -3.162942], [51.502727, -3.175767], [51.501802, -3.204847], [51.479915, -3.181949], [51.515212, -3.229701], [51.515017, -3.114257], [51.476011, -3.185592], [51.486592, -3.206174], [51.5307, -3.1008], [51.515389, -3.229994], [51.483077, -3.171517], [51.458288, -3.186428], [51.512105, -3.199787], [51.462317, -3.170266], [51.537537, -3.147393], [51.483123, -3.175839], [51.513423, -3.228788], [51.496475, -3.249942], [51.500114, -3.228862], [51.521384, -3.106629], [51.483853, -3.269759], [51.470784, -3.168899], [51.540399, -3.13045], [51.492169, -3.214676], [51.481728, -3.18934], [51.488467, -3.144721], [51.529292, -3.153818], [51.555844, -3.17829], [51.520451, -3.110209], [51.509281, -3.131121], [51.467536, -3.18782], [51.525177, -3.239772], [51.509224, -3.173485], [51.509189, -3.203601], [51.529051, -3.104076], [51.488573, -3.205939], [51.499621, -3.207095], [51.492783, -3.172054], [51.522362, -3.190399], [51.527361, -3.23738], [51.487354, -3.236585], [51.496997, -3.182247], [51.484907, -3.229894], [51.505198, -3.198164], [51.48039, -3.282192], [51.471945, -3.169648], [51.514905, -3.107048], [51.507879, -3.19982], [51.474071, -3.267904], [51.4837, -3.172109], [51.480026, -3.179792], [51.482913, -3.169929], [51.492345, -3.188752], [51.522968, -3.0911], [51.481773, -3.202591], [51.528166, -3.130868], [51.516056, -3.182596], [51.51331, -3.169554], [51.492683, -3.217139], [51.483333, -3.190678], [51.502904, -3.17606], [51.487173, -3.184441], [51.484148, -3.172265], [51.464157, -3.166138], [51.496045, -3.142174], [51.53279, -3.199465], [51.534985, -3.094559], [51.471172, -3.210375], [51.494771, -3.206534], [51.481098, -3.180539], [51.494536, -3.176565], [51.470068, -3.186446], [51.481568, -3.178535], [51.513266, -3.209329], [51.475889, -3.152758], [51.507784, -3.146358], [51.488103, -3.154362], [51.505076, -3.147442], [51.517343, -3.115467], [51.500107, -3.140546], [51.492825, -3.176809], [51.483296, -3.176563], [51.484319, -3.208563], [51.494771, -3.206534], [51.510346, -3.178125], [51.482897, -3.171513], [51.483467, -3.168503], [51.491013, -3.222136], [51.503631, -3.227948], [51.504664, -3.197574], [51.517305, -3.109989], [51.528417, -3.213767], [51.487987, -3.156952], [51.479769, -3.151415], [51.468723, -3.159056], [51.524254, -3.242053], [51.52907, -3.102058], [51.463819, -3.276257], [51.481698, -3.174506], [51.481385, -3.205317], [51.523474, -3.213491], [51.507079, -3.144899], [51.494485, -3.190537], [51.476666, -3.235432], [51.484408, -3.225992], [51.485075, -3.169552], [51.515806, -3.224529], [51.503609, -3.195241], [51.480876, -3.18471], [51.477762, -3.199173], [51.499819, -3.114462], [51.447786, -3.184573], [51.494309, -3.181313], [51.495853, -3.179768], [51.510493, -3.145129], [51.522232, -3.194287], [51.524775, -3.109306], [51.50749, -3.1488], [51.468017, -3.157742], [51.482798, -3.233726], [51.495279, -3.165203], [51.532716, -3.180144], [51.504315, -3.123793], [51.492526, -3.188613], [51.487239, -3.195677], [51.504786, -3.185618], [51.48039, -3.282192], [51.509663, -3.209954], [51.474979, -3.180957], [51.481268, -3.181552], [51.527357, -3.185483], [51.503117, -3.172751], [51.447786, -3.184573], [51.511867, -3.133346], [51.530408, -3.186139], [51.517213, -3.183779], [51.483308, -3.175412], [51.505706, -3.192414], [51.500555, -3.140702], [51.518771, -3.15384], [51.506168, -3.309285], [51.510572, -3.200179], [51.481056, -3.184714], [51.478549, -3.201354], [51.5042, -3.199003], [51.494977, -3.17744], [51.506618, -3.14604], [51.483435, -3.17167], [51.525386, -3.202442], [51.49419, -3.166184], [51.488103, -3.154362], [51.506795, -3.146333], [51.479941, -3.19707], [51.514049, -3.203152], [51.477321, -3.215722], [51.529019, -3.19014], [51.52843, -3.131451], [51.480619, -3.183407], [51.541419, -3.127303], [51.526357, -3.094064], [51.51794, -3.183077], [51.466479, -3.271437], [51.483539, -3.223088], [51.505393, -3.248456], [51.493246, -3.249133], [51.52562, -3.09592], [51.519113, -3.109024], [51.493862, -3.163007], [51.504398, -3.197279], [51.55763, -3.214833], [51.514222, -3.112796], [51.497108, -3.143785], [51.464847, -3.178104], [51.513066, -3.219988], [51.486221, -3.144521], [51.485097, -3.228891], [51.482639, -3.179283], [51.547498, -3.203313], [51.519868, -3.179091], [51.479736, -3.154727], [51.452258, -3.186991], [51.470697, -3.186462], [51.464399, -3.168879], [51.510641, -3.343134], [51.529768, -3.132637], [51.496535, -3.227182], [51.499614, -3.207815], [51.496389, -3.143767], [51.490749, -3.150396], [51.502634, -3.176053], [51.50403, -3.180267], [51.528386, -3.300551], [51.474112, -3.177767], [51.48353, -3.18017], [51.477829, -3.201335], [51.539909, -3.206718], [51.475751, -3.202288], [51.489009, -3.171813], [51.539454, -3.307932], [51.517919, -3.202822], [51.482787, -3.217595], [51.498842, -3.141235], [51.482632, -3.197717], [51.479386, -3.180927], [51.467422, -3.181338], [51.495014, -3.235064], [51.480932, -3.188024], [51.479736, -3.154727], [51.479608, -3.167684], [51.487378, -3.127122], [51.486696, -3.239304], [51.524748, -3.102674], [51.514056, -3.193641], [51.498192, -3.206192], [51.49797, -3.183856], [51.483285, -3.221641], [51.492704, -3.1709], [51.480115, -3.179938], [51.479951, -3.196063], [51.514978, -3.155474], [51.535719, -3.220593], [51.48039, -3.282192], [51.526956, -3.241694], [51.508335, -3.190321], [51.49797, -3.183856], [51.506693, -3.310596], [51.483621, -3.232452], [51.480619, -3.20112], [51.525765, -3.252185], [51.527154, -3.133293], [51.516427, -3.172517], [51.513774, -3.17706], [51.467589, -3.182638], [51.498277, -3.12523], [51.482798, -3.233726], [51.499586, -3.23634], [51.481697, -3.235856], [51.482945, -3.17569], [51.501802, -3.204847], [51.47767, -3.208099], [51.481697, -3.235856], [51.496573, -3.223581], [51.50855, -3.305318], [51.481056, -3.236991], [51.529821, -3.163923], [51.482082, -3.207495], [51.481181, -3.181261], [51.481056, -3.184714], [51.478596, -3.16089], [51.49309, -3.159242], [51.483976, -3.17154], [51.477118, -3.2605], [51.496389, -3.143767], [51.494771, -3.206534], [51.453464, -3.18328], [51.488191, -3.199303], [51.479845, -3.188859], [51.470876, -3.141257], [51.510287, -3.119906], [51.48388, -3.172114], [51.53205, -3.100688], [51.484839, -3.175163], [51.482898, -3.171369], [51.48062, -3.192192], [51.504467, -3.199298], [51.483182, -3.142572], [51.477978, -3.177867], [51.480976, -3.192633], [51.533141, -3.127819], [51.486334, -3.205015], [51.478854, -3.257956], [51.49782, -3.180827], [51.49261, -3.171329], [51.505456, -3.199324], [51.493798, -3.132754], [51.517013, -3.1218], [51.505956, -3.176571], [51.482987, -3.171515], [51.528562, -3.089071], [51.502702, -3.160206], [51.508532, -3.214967], [51.46943, -3.187293], [51.522781, -3.202229], [51.480363, -3.182104], [51.519073, -3.141308], [51.483976, -3.17154], [51.529176, -3.12873], [51.485083, -3.168688], [51.481865, -3.237013], [51.484137, -3.226129], [51.482798, -3.233726], [51.494675, -3.233038], [51.494771, -3.206534], [51.47897, -3.168532], [51.517343, -3.115467], [51.476438, -3.187907], [51.480132, -3.23927], [51.505961, -3.228732], [51.483333, -3.190678], [51.478214, -3.172257], [51.476631, -3.168616], [51.477145, -3.180149], [51.505581, -3.195869], [51.509098, -3.131404], [51.480883, -3.18399], [51.478914, -3.200788], [51.469394, -3.181965], [51.531523, -3.099378], [51.472088, -3.182322], [51.484931, -3.210307], [51.464402, -3.195368], [51.504483, -3.197713], [51.483709, -3.180175], [51.483333, -3.190678], [51.473404, -3.237792], [51.494771, -3.206534], [51.504263, -3.119902], [51.487998, -3.173948], [51.480805, -3.182836], [51.480792, -3.16613], [51.509134, -3.200141], [51.477331, -3.179578], [51.470597, -3.213815], [51.52574, -3.237625], [51.465697, -3.165026], [51.48817, -3.210105], [51.481695, -3.236], [51.515429, -3.251757], [51.488641, -3.225385], [51.495907, -3.165363], [51.482862, -3.219037], [51.467864, -3.182069], [51.475991, -3.187607], [51.502235, -3.206443], [51.481385, -3.205317], [51.530007, -3.126444], [51.488103, -3.154362], [51.52931, -3.187985], [51.508553, -3.131967], [51.478855, -3.197762], [51.495703, -3.263174], [51.468815, -3.158914], [51.49797, -3.183856], [51.527092, -3.10201], [51.499222, -3.175533], [51.465256, -3.164151], [51.483947, -3.156273], [51.473465, -3.170551], [51.469632, -3.185138], [51.469371, -3.210615], [51.469349, -3.186427], [51.517919, -3.202822], [51.469632, -3.185138], [51.480888, -3.183558], [51.483558, -3.168361], [51.474979, -3.180957], [51.489277, -3.180895], [51.492585, -3.243641], [51.48039, -3.282192], [51.49317, -3.169327], [51.531161, -3.109172], [51.486184, -3.166556], [51.486796, -3.159226], [51.484117, -3.175432], [51.476977, -3.187921], [51.495375, -3.191424], [51.503913, -3.155914], [51.480966, -3.184712], [51.48168, -3.167305], [51.492239, -3.181403], [51.483308, -3.175412], [51.501593, -3.190146], [51.492187, -3.177657], [51.480363, -3.182104], [51.526092, -3.103139], [51.516067, -3.25091], [51.494771, -3.206534], [51.504791, -3.121068], [51.481891, -3.173215], [51.473377, -3.257229], [51.491773, -3.137601], [51.491016, -3.15069], [51.472402, -3.186794], [51.496389, -3.143767], [51.483976, -3.17154], [51.481282, -3.180112], [51.518522, -3.151672], [51.484231, -3.225699], [51.527717, -3.185493], [51.517919, -3.202822], [51.522864, -3.11171], [51.504715, -3.147577], [51.469371, -3.210615], [51.494413, -3.170943], [51.482896, -3.1983], [51.519073, -3.141308], [51.496389, -3.143767], [51.515906, -3.214875], [51.536607, -3.141314], [51.478474, -3.251465], [51.479095, -3.200648], [51.498839, -3.204481], [51.513063, -3.220276], [51.507614, -3.145345], [51.470234, -3.256855], [51.481186, -3.180686], [51.493828, -3.175394], [51.506706, -3.309444], [51.514833, -3.114685], [51.474163, -3.154586], [51.507789, -3.145781], [51.455003, -3.182313], [51.509189, -3.203601], [51.479124, -3.188985], [51.496389, -3.143767], [51.503317, -3.143364], [51.532933, -3.102439], [51.479497, -3.160769], [51.534755, -3.128292], [51.529747, -3.232832], [51.490928, -3.150544], [51.542005, -3.131788], [51.50672, -3.144746], [51.485835, -3.183398], [51.477737, -3.17498], [51.49074, -3.142185], [51.48386, -3.17413], [51.496386, -3.180358], [51.486326, -3.170304], [51.470272, -3.210495], [51.468723, -3.159056], [51.481629, -3.199131], [51.482627, -3.215719], [51.496807, -3.165242], [51.524524, -3.153985], [51.478513, -3.16924], [51.517343, -3.115467], [51.509903, -3.204052], [51.493861, -3.163151], [51.542606, -3.134687], [51.494771, -3.206534], [51.488641, -3.225385], [51.476535, -3.247812], [51.472353, -3.182761], [51.496389, -3.143767], [51.485128, -3.164225], [51.507066, -3.146196], [51.515784, -3.200604], [51.518252, -3.151665], [51.477444, -3.177277], [51.463819, -3.276257], [51.504483, -3.197713], [51.485328, -3.206717], [51.519211, -3.117674], [51.525504, -3.199706], [51.474979, -3.180957], [51.504756, -3.197432], [51.496672, -3.142477], [51.496389, -3.143767], [51.496389, -3.143767], [51.477829, -3.201335], [51.524103, -3.123272], [51.490055, -3.157004], [51.523482, -3.168374], [51.504483, -3.197713], [51.5254, -3.201145], [51.482285, -3.169769], [51.496187, -3.164362], [51.494771, -3.206534], [51.489822, -3.180332], [51.48651, -3.160803], [51.523913, -3.26554], [51.541321, -3.191759], [51.483004, -3.169787], [51.506693, -3.310596], [51.517906, -3.263932], [51.504467, -3.199298], [51.493896, -3.272343], [51.510743, -3.201048], [51.493329, -3.134759], [51.530146, -3.111887], [51.494301, -3.190964], [51.517618, -3.298515], [51.494424, -3.222659], [51.501249, -3.188552], [51.540767, -3.129594], [51.509189, -3.203601], [51.479882, -3.167259], [51.532619, -3.09753], [51.464157, -3.166138], [51.477557, -3.201616], [51.527071, -3.1232], [51.543206, -3.13773], [51.483887, -3.22425], [51.508246, -3.216545], [51.51607, -3.225112], [51.496389, -3.143767], [51.519494, -3.11624], [51.517919, -3.202822], [51.530287, -3.125442], [51.536632, -3.120119], [51.50399, -3.227958], [51.490623, -3.181217], [51.464473, -3.197241], [51.475459, -3.238999], [51.48678, -3.24838], [51.482798, -3.233726], [51.472106, -3.189378], [51.482207, -3.212827], [51.517343, -3.115467], [51.509189, -3.203601], [51.475093, -3.18744], [51.47061, -3.186172], [51.463429, -3.193759], [51.462684, -3.169555], [51.494027, -3.182458], [51.453399, -3.189755], [51.497735, -3.224188], [51.48617, -3.176926], [51.493828, -3.175394], [51.489223, -3.186223], [51.499038, -3.17596], [51.473382, -3.187683], [51.480507, -3.194493], [51.473382, -3.187683], [51.488253, -3.228111], [51.474911, -3.20529], [51.508824, -3.13183], [51.528644, -3.235109], [51.458793, -3.198676], [51.498273, -3.125662], [51.516335, -3.225552], [51.532215, -3.111793], [51.51138, -3.173684], [51.510451, -3.279722], [51.494736, -3.244276], [51.483612, -3.171963], [51.484118, -3.175288], [51.504569, -3.198148], [51.528058, -3.247923], [51.502111, -3.244189], [51.512883, -3.220271], [51.480182, -3.182244], [51.492559, -3.14007], [51.49039, -3.168536], [51.46755, -3.204088], [51.528182, -3.219094], [51.464451, -3.172768], [51.470761, -3.249527], [51.47693, -3.192528], [51.481081, -3.182267], [51.465918, -3.142573], [51.488525, -3.184188], [51.454343, -3.185318], [51.461523, -3.195581], [51.5267, -3.24039], [51.47682, -3.167757], [51.484502, -3.154703], [51.482486, -3.211971], [51.524524, -3.153985], [51.453698, -3.186885], [51.540024, -3.132027], [51.508411, -3.200554], [51.517517, -3.215639], [51.527036, -3.136174], [51.509271, -3.204323], [51.525388, -3.25376], [51.489223, -3.186223], [51.502361, -3.220422], [51.494301, -3.190964], [51.491079, -3.153429], [51.499566, -3.140677], [51.504557, -3.1993], [51.509572, -3.119456], [51.469872, -3.256989], [51.490667, -3.22083], [51.531867, -3.192953], [51.504263, -3.119902], [51.506192, -3.315193], [51.489529, -3.18263], [51.468332, -3.189136], [51.505807, -3.217632], [51.499478, -3.203489], [51.50346, -3.192211], [51.474979, -3.180957], [51.492416, -3.181696], [51.486428, -3.230655], [51.489952, -3.246018], [51.496389, -3.143767], [51.509189, -3.203601], [51.481056, -3.184714], [51.527797, -3.131868], [51.476438, -3.187907], [51.495458, -3.147057], [51.525276, -3.150689], [51.535727, -3.130046], [51.496807, -3.165242], [51.536671, -3.3315], [51.489277, -3.180895], [51.531336, -3.18328], [51.493828, -3.175394], [51.523017, -3.14256], [51.519356, -3.121281], [51.504483, -3.197713], [51.494623, -3.176855], [51.499566, -3.140677], [51.470906, -3.183588], [51.499478, -3.203489], [51.527092, -3.10201], [51.491708, -3.135007], [51.486813, -3.166572], [51.525504, -3.199706], [51.469363, -3.184988], [51.474979, -3.180957], [51.472085, -3.18261], [51.497766, -3.14092], [51.507614, -3.145345], [51.506903, -3.241725], [51.53218, -3.096366], [51.488642, -3.172524], [51.48062, -3.165406], [51.48039, -3.282192], [51.488984, -3.174261], [51.511771, -3.223412], [51.488811, -3.251892], [51.485049, -3.181073], [51.504483, -3.197713], [51.49002, -3.151386], [51.527003, -3.237227], [51.526576, -3.200455], [51.474979, -3.180957], [51.542606, -3.134687], [51.50695, -3.311757], [51.512015, -3.11793], [51.468482, -3.183237], [51.488865, -3.168209], [51.492425, -3.171901], [51.502612, -3.187146], [51.520931, -3.23317], [51.502746, -3.226628], [51.477796, -3.256055], [51.536496, -3.20634], [51.465918, -3.142573], [51.517343, -3.115467], [51.515301, -3.12219], [51.480132, -3.23927], [51.480363, -3.182104], [51.484917, -3.228886], [51.506693, -3.310596], [51.505114, -3.197586], [51.496537, -3.192175], [51.470695, -3.141396], [51.481372, -3.189043], [51.47726, -3.150488], [51.463445, -3.1654], [51.483976, -3.17154], [51.484137, -3.226129], [51.510723, -3.203065], [51.512514, -3.221126], [51.481606, -3.235998], [51.487528, -3.184882], [51.49368, -3.144995], [51.493261, -3.169185], [51.526956, -3.241694], [51.519073, -3.141308], [51.507879, -3.19982], [51.487528, -3.184882], [51.481189, -3.180398], [51.516935, -3.148461], [51.496389, -3.143767], [51.496389, -3.143767], [51.482311, -3.130453], [51.475364, -3.205014], [51.463819, -3.276257], [51.517275, -3.141263], [51.474208, -3.177194], [51.558012, -3.344673], [51.485358, -3.149972], [51.466583, -3.270144], [51.519276, -3.201993], [51.474682, -3.174758], [51.500365, -3.187088], [51.481534, -3.190775], [51.484756, -3.201085], [51.497816, -3.163251], [51.508407, -3.310069], [51.486498, -3.206604], [51.498984, -3.23373], [51.480267, -3.182678], [51.476192, -3.203164], [51.494301, -3.190964], [51.528064, -3.132163], [51.522071, -3.119474], [51.467945, -3.191861], [51.492604, -3.171905], [51.558012, -3.344673], [51.5267, -3.24039], [51.506719, -3.14489], [51.453908, -3.183868], [51.483836, -3.211862], [51.483798, -3.180321], [51.484085, -3.1786], [51.48321, -3.176129], [51.484973, -3.2322], [51.493828, -3.175394], [51.483428, -3.163317], [51.463743, -3.171598], [51.48582, -3.157905], [51.529686, -3.186409], [51.481112, -3.152025], [51.516004, -3.178847], [51.481385, -3.205317], [51.50964, -3.13113], [51.517517, -3.215639], [51.516864, -3.109113], [51.499566, -3.140677], [51.477933, -3.200042], [51.48039, -3.282192], [51.528328, -3.24793], [51.529004, -3.089802], [51.483333, -3.190678], [51.507416, -3.147213], [51.48094, -3.187304], [51.482247, -3.234863], [51.494771, -3.206534], [51.499566, -3.140677], [51.452705, -3.187291], [51.493916, -3.157534], [51.49269, -3.17234], [51.497399, -3.230518], [51.496295, -3.1805], [51.52861, -3.131455], [51.478158, -3.255777], [51.504263, -3.119902], [51.483364, -3.25664], [51.483954, -3.127902], [51.528252, -3.246631], [51.469371, -3.210615], [51.498192, -3.206192], [51.480363, -3.182104], [51.529166, -3.129739], [51.482422, -3.16502], [51.481377, -3.143247], [51.499181, -3.249151], [51.47236, -3.173114], [51.486184, -3.166556], [51.550115, -3.12997], [51.515419, -3.285914], [51.479127, -3.179768], [51.476039, -3.173929], [51.516574, -3.111268], [51.525886, -3.2408], [51.49939, -3.194554], [51.522564, -3.179305], [51.493828, -3.175394], [51.527092, -3.10201], [51.495039, -3.162172], [51.487963, -3.1594], [51.481866, -3.236869], [51.496535, -3.227182], [51.499318, -3.236189], [51.480363, -3.182104], [51.523694, -3.146901], [51.480658, -3.152446], [51.519799, -3.122013], [51.465227, -3.167029], [51.51668, -3.200916], [51.515224, -3.343413], [51.494773, -3.266029], [51.505767, -3.195297], [51.496389, -3.143767], [51.525647, -3.203314], [51.52147, -3.233185], [51.506693, -3.310596], [51.53041, -3.203584], [51.48582, -3.157905], [51.488641, -3.225385], [51.481353, -3.242903], [51.488627, -3.173964], [51.477911, -3.245258], [51.481178, -3.154475], [51.52799, -3.237398], [51.493261, -3.169185], [51.490517, -3.173869], [51.475286, -3.263618], [51.503055, -3.178945], [51.507284, -3.306002], [51.468723, -3.159056], [51.509189, -3.203601], [51.512514, -3.221126], [51.485865, -3.162371], [51.482916, -3.17857], [51.464254, -3.269359], [51.486221, -3.144521], [51.494771, -3.206534], [51.468815, -3.158914], [51.527979, -3.238406], [51.503175, -3.175923], [51.494378, -3.1744], [51.481056, -3.184714], [51.483369, -3.13264], [51.490672, -3.149097], [51.465577, -3.271699], [51.50138, -3.139137], [51.486665, -3.233686], [51.483787, -3.154253], [51.509495, -3.127523], [51.484835, -3.19331], [51.498941, -3.15867], [51.480805, -3.182836], [51.551009, -3.17629], [51.481056, -3.184714], [51.493828, -3.175394], [51.489223, -3.186223], [51.544251, -3.264085], [51.541492, -3.261413], [51.524571, -3.229088], [51.471102, -3.259759], [51.479991, -3.20096], [51.511452, -3.157402], [51.492977, -3.13403], [51.466118, -3.27157], [51.51111, -3.200337], [51.467933, -3.193013], [51.500923, -3.121261], [51.480132, -3.23927], [51.520317, -3.196976], [51.481115, -3.151737], [51.496976, -3.342876], [51.516877, -3.216631], [51.493174, -3.168895], [51.516105, -3.113274], [51.506693, -3.310596], [51.50002, -3.212004], [51.48094, -3.187304], [51.509189, -3.203601], [51.526956, -3.241694], [51.531739, -3.187904], [51.47693, -3.192528], [51.512779, -3.177611], [51.483242, -3.172962], [51.498919, -3.123949], [51.502702, -3.160206], [51.496807, -3.165242], [51.486123, -3.190463], [51.474514, -3.217663], [51.537036, -3.249322], [51.482346, -3.208079], [51.492472, -3.245799], [51.460022, -3.210368], [51.50048, -3.202219], [51.491897, -3.214957], [51.478549, -3.201354], [51.504483, -3.197713], [51.50721, -3.22963], [51.483454, -3.222654], [51.522719, -3.172823], [51.474231, -3.26978], [51.47061, -3.186172], [51.496535, -3.227182], [51.499121, -3.296116], [51.46755, -3.204088], [51.492783, -3.172054], [51.50238, -3.174462], [51.500667, -3.119814], [51.480845, -3.142514], [51.479307, -3.179773], [51.48039, -3.282192], [51.497504, -3.185429], [51.504333, -3.093392], [51.531166, -3.099081], [51.481178, -3.154475], [51.455967, -3.184785], [51.470804, -3.211229], [51.473465, -3.170551], [51.533816, -3.141677], [51.486326, -3.170304], [51.483054, -3.173821], [51.483652, -3.167931], [51.483618, -3.180316], [51.478654, -3.25147], [51.470881, -3.168181], [51.504483, -3.197713], [51.478513, -3.16924], [51.480825, -3.153746], [51.534016, -3.220115], [51.484931, -3.210307], [51.498592, -3.184593], [51.478549, -3.201354], [51.491514, -3.15488], [51.488642, -3.172524], [51.505011, -3.135626], [51.518865, -3.189443], [51.496389, -3.143767], [51.48519, -3.176036], [51.517343, -3.115467], [51.506773, -3.311463], [51.503371, -3.165266], [51.479189, -3.191434], [51.522136, -3.212446], [51.540773, -3.129017], [51.533383, -3.203085], [51.503724, -3.227663], [51.516904, -3.151631], [51.522071, -3.119474], [51.483618, -3.180316], [51.51987, -3.178947], [51.514162, -3.226935], [51.526986, -3.094079], [51.464549, -3.171906], [51.480132, -3.23927], [51.487144, -3.160387], [51.484721, -3.159893], [51.524852, -3.129488], [51.513719, -3.182535], [51.480132, -3.23927], [51.489223, -3.186223], [51.525647, -3.203314], [51.506791, -3.146765], [51.475788, -3.250384], [51.464514, -3.166435], [51.461975, -3.272175], [51.494771, -3.206534], [51.506773, -3.311463], [51.504633, -3.155932], [51.46755, -3.204088], [51.519799, -3.122013], [51.492783, -3.172054], [51.461354, -3.185644], [51.542348, -3.133527], [51.513325, -3.112486], [51.550729, -3.221283], [51.506693, -3.310596], [51.477834, -3.183191], [51.48039, -3.282192], [51.500749, -3.303366], [51.491887, -3.135155], [51.477331, -3.179578], [51.504263, -3.119902], [51.515825, -3.104909], [51.494771, -3.206534], [51.483976, -3.17154], [51.540763, -3.130026], [51.469632, -3.185138], [51.482945, -3.17569], [51.50256, -3.218554], [51.558855, -3.268962], [51.473608, -3.156156], [51.512107, -3.199643], [51.477695, -3.188083], [51.51533, -3.252619], [51.531739, -3.187904], [51.529176, -3.12873], [51.508269, -3.133401], [51.496309, -3.179059], [51.493924, -3.192683], [51.482945, -3.17569], [51.469732, -3.184133], [51.524583, -3.244945], [51.496389, -3.143767], [51.467507, -3.19948], [51.496535, -3.227182], [51.481911, -3.171199], [51.473751, -3.186829], [51.496484, -3.223435], [51.462395, -3.180488], [51.519073, -3.141308], [51.504483, -3.197713], [51.507191, -3.306288], [51.465697, -3.165026], [51.52147, -3.233185], [51.541551, -3.122836], [51.483392, -3.157844], [51.490771, -3.15731], [51.484491, -3.164928], [51.492764, -3.146701], [51.517343, -3.115467], [51.519073, -3.141308], [51.483618, -3.180316], [51.482115, -3.168756], [51.482213, -3.220892], [51.474231, -3.26978], [51.49797, -3.183856], [51.48232, -3.253443], [51.49443, -3.21344], [51.463129, -3.169999], [51.539243, -3.261495], [51.471855, -3.169646], [51.486007, -3.175193], [51.529768, -3.132637], [51.494123, -3.181884], [51.466286, -3.177997], [51.498856, -3.193964], [51.517148, -3.181327], [51.483333, -3.190678], [51.471363, -3.18288], [51.480718, -3.173617], [51.470597, -3.213815], [51.500106, -3.194861], [51.533829, -3.220831], [51.489522, -3.18335], [51.502503, -3.152997], [51.50922, -3.182851], [51.494771, -3.206534], [51.493916, -3.157534], [51.518137, -3.19908], [51.499475, -3.186201], [51.48039, -3.282192], [51.478928, -3.251046], [51.55202, -3.090208], [51.480363, -3.182104], [51.480132, -3.23927], [51.494771, -3.206534], [51.487183, -3.183433], [51.4814, -3.23844], [51.52048, -3.153739], [51.499222, -3.175533], [51.51111, -3.200337], [51.496574, -3.257435], [51.458288, -3.186428], [51.474008, -3.205698], [51.519073, -3.141308], [51.511725, -3.219231], [51.479773, -3.23926], [51.477261, -3.255608], [51.477331, -3.179578], [51.492032, -3.13876], [51.491814, -3.151863], [51.482047, -3.210951], [51.507611, -3.154855], [51.518626, -3.150233], [51.465918, -3.142573], [51.499366, -3.16113], [51.473114, -3.178605], [51.497976, -3.146976], [51.484853, -3.200367], [51.550729, -3.221283], [51.51996, -3.178949], [51.481186, -3.180686], [51.550275, -3.264108], [51.483296, -3.176563], [51.482916, -3.17857], [51.469371, -3.210615], [51.52688, -3.133719], [51.522864, -3.139817], [51.490828, -3.222563], [51.49797, -3.183856], [51.515017, -3.114257], [51.494771, -3.206534], [51.511301, -3.117336], [51.505285, -3.198455], [51.474514, -3.217663], [51.49797, -3.183856], [51.475349, -3.249364], [51.473312, -3.263275], [51.484413, -3.126905], [51.476756, -3.165163], [51.482411, -3.210528], [51.510539, -3.279868], [51.476799, -3.187772], [51.510663, -3.182456], [51.542096, -3.131646], [51.499135, -3.175243], [51.461975, -3.272175], [51.483799, -3.224103], [51.494371, -3.166045], [51.461982, -3.185804], [51.516967, -3.216633], [51.506905, -3.144318], [51.481514, -3.201576], [51.452868, -3.188878], [51.468723, -3.159056], [51.493025, -3.218876], [51.542348, -3.133527], [51.506693, -3.310596], [51.523913, -3.26554], [51.475563, -3.246202], [51.502175, -3.220994], [51.487762, -3.179559], [51.469632, -3.185138], [51.529741, -3.18987], [51.481056, -3.184714], [51.491701, -3.172314], [51.510757, -3.276416], [51.467409, -3.146353], [51.483799, -3.180177], [51.54443, -3.177707], [51.509724, -3.204047], [51.527092, -3.10201], [51.458311, -3.20183], [51.497331, -3.228499], [51.517343, -3.115467], [51.499399, -3.219911], [51.486184, -3.166556], [51.489232, -3.203075], [51.466645, -3.195859], [51.48106, -3.245056], [51.484212, -3.269769], [51.506693, -3.310596], [51.480183, -3.191028], [51.484741, -3.157878], [51.495192, -3.164913], [51.492408, -3.217708], [51.469371, -3.210615], [51.542348, -3.133527], [51.469371, -3.210615], [51.537777, -3.195415], [51.501028, -3.165782], [51.468902, -3.177201], [51.533926, -3.220113], [51.494771, -3.206534], [51.510157, -3.298303], [51.501374, -3.139713], [51.456579, -3.186528], [51.506693, -3.310596], [51.516163, -3.224827], [51.491141, -3.147093], [51.499041, -3.184605], [51.527093, -3.237229], [51.494301, -3.190964], [51.501802, -3.204847], [51.524524, -3.153985], [51.473028, -3.264563], [51.481848, -3.204033], [51.483333, -3.190678], [51.469084, -3.28821], [51.501039, -3.226438], [51.528273, -3.236108], [51.484137, -3.226129], [51.51111, -3.200337], [51.494771, -3.206534], [51.498192, -3.206192], [51.477439, -3.195565], [51.511951, -3.124558], [51.485919, -3.183976], [51.500106, -3.194861], [51.502361, -3.220422], [51.542348, -3.133527], [51.499623, -3.206951], [51.553156, -3.221348], [51.48039, -3.282192], [51.531336, -3.18328], [51.470739, -3.260037], [51.515883, -3.145696], [51.540327, -3.261092], [51.506693, -3.310596], [51.483333, -3.190678], [51.504025, -3.198566], [51.511802, -3.21174], [51.479774, -3.239116], [51.48039, -3.282192], [51.479066, -3.185815], [51.493343, -3.133319], [51.471531, -3.184036], [51.52688, -3.133719], [51.486184, -3.166556], [51.493828, -3.175394], [51.494307, -3.225249], [51.524748, -3.102674], [51.476823, -3.167469], [51.535596, -3.33118], [51.480363, -3.182104], [51.518019, -3.227903], [51.537777, -3.195415], [51.470231, -3.19696], [51.496389, -3.143767], [51.490207, -3.15067], [51.486184, -3.166556], [51.475007, -3.239275], [51.496389, -3.143767], [51.480036, -3.196641], [51.537777, -3.195415], [51.517754, -3.174713], [51.478513, -3.16924], [51.484917, -3.228886], [51.507252, -3.308883], [51.513176, -3.209326], [51.49797, -3.183856], [51.496356, -3.156299], [51.507614, -3.145345], [51.483976, -3.17154], [51.500282, -3.131762], [51.5267, -3.24039], [51.48955, -3.241542], [51.496535, -3.227182], [51.530146, -3.111887], [51.553156, -3.221348], [51.520227, -3.152003], [51.499032, -3.176536], [51.525417, -3.234156], [51.535809, -3.254768], [51.502306, -3.117693], [51.479882, -3.167259], [51.519073, -3.141308], [51.491437, -3.153582], [51.521889, -3.091074], [51.484917, -3.228886], [51.507068, -3.173285], [51.529686, -3.186409], [51.470597, -3.213815], [51.486184, -3.166556], [51.510449, -3.176831], [51.529686, -3.186409], [51.481838, -3.196256], [51.469632, -3.185138], [51.480281, -3.17231], [51.49582, -3.165073], [51.509189, -3.203601], [51.53218, -3.096366], [51.480805, -3.182836], [51.491001, -3.152275], [51.512994, -3.183093], [51.502702, -3.160206], [51.558496, -3.268952], [51.493345, -3.133175], [51.495538, -3.245018], [51.486184, -3.166556], [51.501806, -3.132232], [51.48146, -3.189189], [51.526956, -3.241694], [51.488151, -3.167614], [51.5267, -3.24039], [51.525374, -3.093464], [51.525647, -3.203314], [51.47856, -3.200202], [51.481056, -3.184714], [51.47061, -3.186172], [51.458288, -3.186428], [51.498589, -3.219889], [51.528099, -3.227021], [51.51111, -3.200337], [51.47061, -3.186172], [51.479726, -3.209305], [51.533908, -3.103905], [51.509676, -3.199867], [51.483333, -3.190678], [51.497743, -3.170597], [51.530512, -3.202433], [51.483626, -3.223378], [51.477, -3.176689], [51.453503, -3.188319], [51.509189, -3.203601], [51.494771, -3.206534], [51.537794, -3.139469], [51.520279, -3.20937], [51.48039, -3.282192], [51.514056, -3.193641], [51.519211, -3.117674], [51.519073, -3.141308], [51.493595, -3.162712], [51.517919, -3.202822], [51.483296, -3.176563], [51.464855, -3.186166], [51.492047, -3.155614], [51.524872, -3.325245], [51.47061, -3.186172], [51.529733, -3.088811], [51.47061, -3.186172], [51.469979, -3.186299], [51.547074, -3.277432], [51.497238, -3.167126], [51.52838, -3.09887], [51.53218, -3.096366], [51.553156, -3.221348], [51.492426, -3.171757], [51.500374, -3.140841], [51.482876, -3.164599], [51.49436, -3.211565], [51.486492, -3.162675], [51.483333, -3.190678], [51.483296, -3.176563], [51.481739, -3.179404], [51.486428, -3.230655], [51.481468, -3.179541], [51.498192, -3.206192], [51.491437, -3.153582], [51.532283, -3.187486], [51.520317, -3.196976], [51.513066, -3.219988], [51.507378, -3.151103], [51.483796, -3.180465], [51.48925, -3.183631], [51.480899, -3.173478], [51.535045, -3.190009], [51.528612, -3.131311], [51.477695, -3.188083], [51.507258, -3.144904], [51.517919, -3.202822], [51.526956, -3.241694], [51.476631, -3.168616], [51.487319, -3.142532], [51.464157, -3.166138], [51.514229, -3.194366], [51.528166, -3.130868], [51.489223, -3.186223], [51.494385, -3.191542], [51.480296, -3.188727], [51.547542, -3.207785], [51.50319, -3.227072], [51.509828, -3.13027], [51.527798, -3.247051], [51.517343, -3.115467], [51.516189, -3.151181], [51.463819, -3.276257], [51.474173, -3.189576], [51.486326, -3.170304], [51.453962, -3.205026], [51.506693, -3.310596], [51.494771, -3.206534], [51.507303, -3.176749], [51.47546, -3.264199], [51.555549, -3.144529], [51.533908, -3.103905], [51.480132, -3.23927], [51.530765, -3.204026], [51.476535, -3.247812], [51.483333, -3.190678], [51.481825, -3.170765], [51.525647, -3.203314], [51.496389, -3.143767], [51.504613, -3.22005], [51.496574, -3.257435], [51.47061, -3.186172], [51.537103, -3.25985], [51.507068, -3.173285], [51.480899, -3.173478], [51.525604, -3.250451], [51.526956, -3.241694], [51.501802, -3.204847], [51.477695, -3.188083], [51.506968, -3.147058], [51.481825, -3.170765], [51.501638, -3.176748], [51.463819, -3.276257], [51.483709, -3.180175], [51.527092, -3.10201], [51.467946, -3.191717], [51.487378, -3.127122], [51.485864, -3.162515], [51.470517, -3.186457], [51.477003, -3.176402], [51.474841, -3.185705], [51.508552, -3.132111], [51.512441, -3.219539], [51.483469, -3.168215], [51.465112, -3.160548], [51.508582, -3.14753], [51.497857, -3.16815], [51.537833, -3.3001], [51.485077, -3.169264], [51.46799, -3.142193], [51.474514, -3.217663], [51.465918, -3.142573], [51.48896, -3.158561], [51.496389, -3.143767], [51.487506, -3.230684], [51.474231, -3.26978], [51.482993, -3.170939], [51.478822, -3.235634], [51.514266, -3.251149], [51.483098, -3.169357], [51.495316, -3.143164], [51.519073, -3.141308], [51.482682, -3.201607], [51.479236, -3.238958], [51.492736, -3.158656], [51.515162, -3.251462], [51.495073, -3.167791], [51.477695, -3.188083], [51.499323, -3.227112], [51.528957, -3.085188], [51.467933, -3.193013], [51.469371, -3.210615], [51.468777, -3.258543], [51.477802, -3.17743], [51.513357, -3.209187], [51.533739, -3.220829], [51.502727, -3.175767], [51.510495, -3.135762], [51.531993, -3.198291], [51.468723, -3.159056], [51.488053, -3.159402], [51.480963, -3.237276], [51.506693, -3.310596], [51.486155, -3.160362], [51.499366, -3.16113], [51.483709, -3.180175], [51.490053, -3.157148], [51.509601, -3.250157], [51.478549, -3.201354], [51.502702, -3.160206], [51.481918, -3.161407], [51.503055, -3.178945], [51.510906, -3.211428], [51.522051, -3.212012], [51.504508, -3.221488], [51.504468, -3.199154], [51.528273, -3.236108], [51.49797, -3.183856], [51.486221, -3.144521], [51.464769, -3.167881], [51.523059, -3.100615], [51.496389, -3.143767], [51.510856, -3.14485], [51.499041, -3.184605], [51.518196, -3.219548], [51.507185, -3.188418], [51.52913, -3.18798], [51.483185, -3.169648], [51.474067, -3.15516], [51.497416, -3.185283], [51.479215, -3.206556], [51.471324, -3.221754], [51.4857, -3.17], [51.483296, -3.176563], [51.477522, -3.178431], [51.536607, -3.141314], [51.480296, -3.188727], [51.504557, -3.1993], [51.496807, -3.165242], [51.540687, -3.128583], [51.471505, -3.186627], [51.467946, -3.191717], [51.526956, -3.241694], [51.522158, -3.138503], [51.515017, -3.114257], [51.488344, -3.22797], [51.486249, -3.195795], [51.486228, -3.162092], [51.478387, -3.163909], [51.469632, -3.185138], [51.488625, -3.269172], [51.476591, -3.172647], [51.553156, -3.221348], [51.497578, -3.14178], [51.553156, -3.221348], [51.523913, -3.26554], [51.466946, -3.244671], [51.495192, -3.164913], [51.514056, -3.193641], [51.493924, -3.192683], [51.471957, -3.2127], [51.516965, -3.190546], [51.506256, -3.309431], [51.516266, -3.257545], [51.479358, -3.156589], [51.507558, -3.305578], [51.503055, -3.178945], [51.534755, -3.128292], [51.473107, -3.188252], [51.476438, -3.187907], [51.504405, -3.205348], [51.469371, -3.210615], [51.464609, -3.165862], [51.469632, -3.185138], [51.489223, -3.186223], [51.524829, -3.204157], [51.467974, -3.266295], [51.524524, -3.153985], [51.513066, -3.219988], [51.489277, -3.180895], [51.499366, -3.16113], [51.529741, -3.18987], [51.487502, -3.231116], [51.471531, -3.184036], [51.528273, -3.236108], [51.495907, -3.165363], [51.500974, -3.206698], [51.484832, -3.228452], [51.48039, -3.282192], [51.476918, -3.270719], [51.470006, -3.261312], [51.464381, -3.17075], [51.464157, -3.166138], [51.46745, -3.264841], [51.482633, -3.215143], [51.473132, -3.26327], [51.483333, -3.190678], [51.528273, -3.236108], [51.475127, -3.219263], [51.506353, -3.154679], [51.49316, -3.170335], [51.508633, -3.132978], [51.483748, -3.158285], [51.509608, -3.134443], [51.491437, -3.153582], [51.513356, -3.209331], [51.489277, -3.180895], [51.468337, -3.188704], [51.511951, -3.124558], [51.519073, -3.141308], [51.517167, -3.231916], [51.471351, -3.219163], [51.484137, -3.226129], [51.482443, -3.216146], [51.488103, -3.154362], [51.51951, -3.178938], [51.496356, -3.156299], [51.489223, -3.186223], [51.478513, -3.16924], [51.47189, -3.219177], [51.506916, -3.188411], [51.501789, -3.161623], [51.481089, -3.181403], [51.534016, -3.220115], [51.499543, -3.161422], [51.480825, -3.153746], [51.480363, -3.182104], [51.530512, -3.202433], [51.49582, -3.165073], [51.493146, -3.144406], [51.479904, -3.209454], [51.475136, -3.2184], [51.483882, -3.17197], [51.49582, -3.165073], [51.467609, -3.180623], [51.530832, -3.298891], [51.455967, -3.184785], [51.493343, -3.133319], [51.483287, -3.168498], [51.487907, -3.17409], [51.550729, -3.221283], [51.519211, -3.117674], [51.550729, -3.221283], [51.453399, -3.189755], [51.473912, -3.206272], [51.526465, -3.101707], [51.474979, -3.180957], [51.472854, -3.238785], [51.486115, -3.200113], [51.503456, -3.192644], [51.527355, -3.102737], [51.486904, -3.16643], [51.5267, -3.24039], [51.492693, -3.172052], [51.487502, -3.231116], [51.501263, -3.141872], [51.488336, -3.185047], [51.541585, -3.128749], [51.483709, -3.180175], [51.532065, -3.251637], [51.476039, -3.173929], [51.465697, -3.165026], [51.484137, -3.226129], [51.486428, -3.230655], [51.491194, -3.178063], [51.493916, -3.157534], [51.493791, -3.133474], [51.494334, -3.222657], [51.519073, -3.141308], [51.503631, -3.227948], [51.509523, -3.206059], [51.512107, -3.199643], [51.452705, -3.187291], [51.489223, -3.186223], [51.481112, -3.152025], [51.531523, -3.099378], [51.542606, -3.134687], [51.504483, -3.197713], [51.496389, -3.143767], [51.528451, -3.129289], [51.468723, -3.159056], [51.469307, -3.172748], [51.447786, -3.184573], [51.490284, -3.170118], [51.506693, -3.310596], [51.499366, -3.16113], [51.535632, -3.13062], [51.499366, -3.16113], [51.485097, -3.228891], [51.527717, -3.185493], [51.483164, -3.233159], [51.476877, -3.188926], [51.540984, -3.162621], [51.483811, -3.222951], [51.48582, -3.157905], [51.471354, -3.218875], [51.535618, -3.094142], [51.520181, -3.110203], [51.463972, -3.193485], [51.506693, -3.310596], [51.499566, -3.140677], [51.519446, -3.121283], [51.481866, -3.202305], [51.481056, -3.184715], [51.471898, -3.183325], [51.496453, -3.164657], [51.50612, -3.132483], [51.478627, -3.202508], [51.483568, -3.167353], [51.486886, -3.159228], [51.464651, -3.170757], [51.482763, -3.219899], [51.465697, -3.165026], [51.514234, -3.139602], [51.483333, -3.190678], [51.473795, -3.260121], [51.54212, -3.129195], [51.475573, -3.166573], [51.497035, -3.142054], [51.525047, -3.127908], [51.472854, -3.238785], [51.471531, -3.184036], [51.529949, -3.094582], [51.483976, -3.17154], [51.480132, -3.23927], [51.484076, -3.223391], [51.519073, -3.141308], [51.526956, -3.241694], [51.467779, -3.199343], [51.484507, -3.154271], [51.480041, -3.160351], [51.498192, -3.206192], [51.464698, -3.166008], [51.490287, -3.196621], [51.505956, -3.185504], [51.475127, -3.219263], [51.47061, -3.186172], [51.481056, -3.184715], [51.509955, -3.144971], [51.468723, -3.159056], [51.505996, -3.145304], [51.518267, -3.229928], [51.478654, -3.25147], [51.505943, -3.186801], [51.496389, -3.143767], [51.544671, -3.207133], [51.499566, -3.140677], [51.478513, -3.16924], [51.511404, -3.215476], [51.507043, -3.311471], [51.496599, -3.255131], [51.526956, -3.241694], [51.476456, -3.159108], [51.454483, -3.198131], [51.506413, -3.228456], [51.477214, -3.164311], [51.508948, -3.156042], [51.525647, -3.203314], [51.468176, -3.186828], [51.529176, -3.12873], [51.482582, -3.202612], [51.498589, -3.219889], [51.469609, -3.169445], [51.477338, -3.178858], [51.503912, -3.183146], [51.511766, -3.206551], [51.487907, -3.17409], [51.502361, -3.220422], [51.506693, -3.310596], [51.469632, -3.185138], [51.473202, -3.196606], [51.515008, -3.31487], [51.506693, -3.310596], [51.480722, -3.182114], [51.484767, -3.164359], [51.524711, -3.106565], [51.489223, -3.186223], [51.488103, -3.154362], [51.538453, -3.127085], [51.471396, -3.206061], [51.483333, -3.190678], [51.497184, -3.181531], [51.469632, -3.185138], [51.492416, -3.181696], [51.530375, -3.299599], [51.516304, -3.175828], [51.484137, -3.226129], [51.526956, -3.241694], [51.486184, -3.166556], [51.488421, -3.158547], [51.505007, -3.136058], [51.517919, -3.202822], [51.469371, -3.210615], [51.501199, -3.139277], [51.531618, -3.098803], [51.542946, -3.136714], [51.487419, -3.159818], [51.481825, -3.170765], [51.509189, -3.203601], [51.506858, -3.311898], [51.469524, -3.16901], [51.52883, -3.11791], [51.51156, -3.209139], [51.470637, -3.261186], [51.475332, -3.163687], [51.481385, -3.205317], [51.49322, -3.145992], [51.531703, -3.099382], [51.494771, -3.206534], [51.524254, -3.242053], [51.553156, -3.221348], [51.493828, -3.175394], [51.483576, -3.175563], [51.493862, -3.233448], [51.469632, -3.185138], [51.479132, -3.161336], [51.520205, -3.199135], [51.495308, -3.144028], [51.491433, -3.154014], [51.519073, -3.141308], [51.48387, -3.217192], [51.550792, -3.215227], [51.469632, -3.185138], [51.524682, -3.244083], [51.480363, -3.182104], [51.534386, -3.219116], [51.509771, -3.199437], [51.519284, -3.201272], [51.465672, -3.176542], [51.547173, -3.259984], [51.526956, -3.241694], [51.49797, -3.183856], [51.503953, -3.24006], [51.491433, -3.154014], [51.477829, -3.201335], [51.481825, -3.170765], [51.530294, -3.143319], [51.531739, -3.187904], [51.473371, -3.266157], [51.494334, -3.222657], [51.504613, -3.22005], [51.529949, -3.094582], [51.473132, -3.26327], [51.527979, -3.238406], [51.496389, -3.143767], [51.501334, -3.206708], [51.482798, -3.233726], [51.489258, -3.182767], [51.508386, -3.1213], [51.472854, -3.238785], [51.485985, -3.159349], [51.455967, -3.184785], [51.520716, -3.157204], [51.494785, -3.187519], [51.502306, -3.117693], [51.525011, -3.112915], [51.473608, -3.156156], [51.480363, -3.182104], [51.508443, -3.3069], [51.48528, -3.228608], [51.472994, -3.199336], [51.499041, -3.184605], [51.495907, -3.165363], [51.525886, -3.2408], [51.490441, -3.181357], [51.517343, -3.115467], [51.482119, -3.168324], [51.522416, -3.211445], [51.512514, -3.221126], [51.465391, -3.27227], [51.481056, -3.184715], [51.486184, -3.166556], [51.478952, -3.179332], [51.47846, -3.201208], [51.498061, -3.147554], [51.478777, -3.205392], [51.516252, -3.181016], [51.490412, -3.157301], [51.474374, -3.187421], [51.499272, -3.179568], [51.510157, -3.298303], [51.494771, -3.206534], [51.526956, -3.241694], [51.487024, -3.163409], [51.498061, -3.147554], [51.486184, -3.166556], [51.527858, -3.134897], [51.524037, -3.14864], [51.481057, -3.236847], [51.49797, -3.183856], [51.49577, -3.179046], [51.497704, -3.209925], [51.496389, -3.143767], [51.498589, -3.219889], [51.480241, -3.211623], [51.499808, -3.161861], [51.474514, -3.217663], [51.499566, -3.140677], [51.492006, -3.15979], [51.4759, -3.178821], [51.464549, -3.171906], [51.467933, -3.193013], [51.541321, -3.191759], [51.553594, -3.160491], [51.484931, -3.210307], [51.478847, -3.171841], [51.527885, -3.247342], [51.489317, -3.158858], [51.490269, -3.180632], [51.473477, -3.178327], [51.466732, -3.187367], [51.486014, -3.201118], [51.522495, -3.140817], [51.519073, -3.141308], [51.473114, -3.178605], [51.488057, -3.15897], [51.510347, -3.132444], [51.466432, -3.163461], [51.483618, -3.180316], [51.481056, -3.184715], [51.511032, -3.300489], [51.502838, -3.243488], [51.477406, -3.153948], [51.483428, -3.163317], [51.528273, -3.236108], [51.469371, -3.210615], [51.478914, -3.200788], [51.483187, -3.169504], [51.515596, -3.10058], [51.49678, -3.254992], [51.519603, -3.19638], [51.508856, -3.165262], [51.476551, -3.176678], [51.486184, -3.166556], [51.506091, -3.14473], [51.469371, -3.210615], [51.510906, -3.211428], [51.467268, -3.187669], [51.509189, -3.203601], [51.503631, -3.227948], [51.46611, -3.177705], [51.491419, -3.155454], [51.519073, -3.141308], [51.506951, -3.311612], [51.488082, -3.252737], [51.517754, -3.174713], [51.519799, -3.122013], [51.502702, -3.160206], [51.529741, -3.18987], [51.472854, -3.238785], [51.482008, -3.179411], [51.474914, -3.187435], [51.537036, -3.249322], [51.525896, -3.248296], [51.515017, -3.114257], [51.517937, -3.201093], [51.484917, -3.228886], [51.455967, -3.184785], [51.476182, -3.177532], [51.488873, -3.15827], [51.491433, -3.154014], [51.507879, -3.19982], [51.508152, -3.145502], [51.520837, -3.144812], [51.473608, -3.156156], [51.497399, -3.230518], [51.529741, -3.18987], [51.487183, -3.183433], [51.472854, -3.238785], [51.489649, -3.24068], [51.528263, -3.219961], [51.465234, -3.184305], [51.519282, -3.201417], [51.523694, -3.146901], [51.469371, -3.210615], [51.488089, -3.200452], [51.524254, -3.242053], [51.516342, -3.181018], [51.525871, -3.242241], [51.480392, -3.282048], [51.487907, -3.17409], [51.474819, -3.187865], [51.529566, -3.258344], [51.518025, -3.183512], [51.481056, -3.184715], [51.493537, -3.168616], [51.524524, -3.153985], [51.503987, -3.148424], [51.482797, -3.23387], [51.516116, -3.176688], [51.480156, -3.166834], [51.494307, -3.225249], [51.484917, -3.228886], [51.470597, -3.213815], [51.515017, -3.114257], [51.47061, -3.186172], [51.462338, -3.186101], [51.470651, -3.191068], [51.489258, -3.182767], [51.475004, -3.187438], [51.494334, -3.222657], [51.490148, -3.156718], [51.478549, -3.201354], [51.513066, -3.219988], [51.464514, -3.166435], [51.472854, -3.238785], [51.505278, -3.13592], [51.473608, -3.156156], [51.527717, -3.185493], [51.510906, -3.211428], [51.506693, -3.310596], [51.481385, -3.205317], [51.501342, -3.205843], [51.528273, -3.236108], [51.449023, -3.186763], [51.500923, -3.121261], [51.484679, -3.173143], [51.498843, -3.141091], [51.488446, -3.174103], [51.542348, -3.133527], [51.486428, -3.230655], [51.501638, -3.176748], [51.519073, -3.141308], [51.467208, -3.166792], [51.49797, -3.183856], [51.489223, -3.186223], [51.47865, -3.173564], [51.4808, -3.192196], [51.479307, -3.188701], [51.525295, -3.202584], [51.527901, -3.130429], [51.49582, -3.165073], [51.517343, -3.115467], [51.486334, -3.205015], [51.478549, -3.201354], [51.524902, -3.170284], [51.486123, -3.190463], [51.49298, -3.170331], [51.465705, -3.173232], [51.478549, -3.201354], [51.486184, -3.166556], [51.487378, -3.127122], [51.481385, -3.196532], [51.486326, -3.170304], [51.492166, -3.170742], [51.523913, -3.26554], [51.48817, -3.210105], [51.490984, -3.181083], [51.488155, -3.185187], [51.472854, -3.238785], [51.483976, -3.17154], [51.477586, -3.172097], [51.486184, -3.166556], [51.512071, -3.2031], [51.473608, -3.156156], [51.528273, -3.236108], [51.507068, -3.173285], [51.483168, -3.171376], [51.486184, -3.166556], [51.501749, -3.218677], [51.468723, -3.159056], [51.506693, -3.310596], [51.50256, -3.218554], [51.51636, -3.105354], [51.501638, -3.176748], [51.487319, -3.142532], [51.464157, -3.166138], [51.455967, -3.184785], [51.528273, -3.236108], [51.526952, -3.144821], [51.482798, -3.233726], [51.523913, -3.26554], [51.471531, -3.184036], [51.482582, -3.202612], [51.478218, -3.171825], [51.4892, -3.240668], [51.549551, -3.213464], [51.469371, -3.210615], [51.488965, -3.20278], [51.512875, -3.131354], [51.468337, -3.188704], [51.497364, -3.154452], [51.483242, -3.172962], [51.528957, -3.085188], [51.528273, -3.236108], [51.543158, -3.20565], [51.514795, -3.200578], [51.48039, -3.282192], [51.482745, -3.212986], [51.494316, -3.162586], [51.48177, -3.202879], [51.515885, -3.22554], [51.49582, -3.165073], [51.497416, -3.185283], [51.464983, -3.164432], [51.466946, -3.244671], [51.483976, -3.17154], [51.47061, -3.186172], [51.501002, -3.238539], [51.483709, -3.180175], [51.533908, -3.103905], [51.482679, -3.219321], [51.501802, -3.204847], [51.542006, -3.131643], [51.483333, -3.190678], [51.462395, -3.180488], [51.531161, -3.109172], [51.481807, -3.199279], [51.484137, -3.226129], [51.489952, -3.246018], [51.509991, -3.212989], [51.503055, -3.178945], [51.541321, -3.191759], [51.469632, -3.185138], [51.49797, -3.183856], [51.477695, -3.188083], [51.45267, -3.190744], [51.479882, -3.167259], [51.469371, -3.210615], [51.48033, -3.1942], [51.480041, -3.160351], [51.468337, -3.188704], [51.495355, -3.148351], [51.480738, -3.162529], [51.482974, -3.234162], [51.481559, -3.188328], [51.486326, -3.170304], [51.534755, -3.128292], [51.532904, -3.152179], [51.5267, -3.24039], [51.491297, -3.21206], [51.485881, -3.17879], [51.508417, -3.136719], [51.501039, -3.226438], [51.487446, -3.148008], [51.476579, -3.235142], [51.488154, -3.167326], [51.49322, -3.145992], [51.528273, -3.236108], [51.481169, -3.200127], [51.480132, -3.23927], [51.507731, -3.133244], [51.506905, -3.144318], [51.509189, -3.203601], [51.487141, -3.142383], [51.484507, -3.154271], [51.473608, -3.156156], [51.479882, -3.167259], [51.50964, -3.13113], [51.497819, -3.180971], [51.4808, -3.192196], [51.488144, -3.168334], [51.484137, -3.226129], [51.517919, -3.202822], [51.517343, -3.115467], [51.504483, -3.197713], [51.477084, -3.255315], [51.488962, -3.203068], [51.526956, -3.241694], [51.463475, -3.180372], [51.485089, -3.159039], [51.509134, -3.200141], [51.489258, -3.182767], [51.486155, -3.160362], [51.484137, -3.226129], [51.480363, -3.182104], [51.472854, -3.238785], [51.528957, -3.085188], [51.484437, -3.152253], [51.469632, -3.185138], [51.504203, -3.198715], [51.481385, -3.205317], [51.47061, -3.186172], [51.517754, -3.174713], [51.541321, -3.191759], [51.480363, -3.182104], [51.512182, -3.218523], [51.496389, -3.143767], [51.487502, -3.231116], [51.502727, -3.175767], [51.483333, -3.190678], [51.465918, -3.142573], [51.49038, -3.151395], [51.472102, -3.180883], [51.502727, -3.175767], [51.480132, -3.23927], [51.530375, -3.116218], [51.478513, -3.16924], [51.47061, -3.186172], [51.478513, -3.16924], [51.507614, -3.145345], [51.503308, -3.171604], [51.529176, -3.12873], [51.481112, -3.152025], [51.496873, -3.246351], [51.527592, -3.291014], [51.515088, -3.144235], [51.49316, -3.170335], [51.506693, -3.310596], [51.480363, -3.182104], [51.494301, -3.190964], [51.527092, -3.10201], [51.519341, -3.141459], [51.48094, -3.187304], [51.473831, -3.187839], [51.524031, -3.102369], [51.47693, -3.192528], [51.495702, -3.212177], [51.477586, -3.172097], [51.48039, -3.282192], [51.497416, -3.185283], [51.484507, -3.154271], [51.541554, -3.177633], [51.510839, -3.182749], [51.505657, -3.133913], [51.470609, -3.186316], [51.499181, -3.249151], [51.488301, -3.223504], [51.492416, -3.181696], [51.507068, -3.173285], [51.490638, -3.240707], [51.513066, -3.219988], [51.473608, -3.156156], [51.489277, -3.180895], [51.485916, -3.219407], [51.483778, -3.234616], [51.50538, -3.096875], [51.487241, -3.177673], [51.5267, -3.133715], [51.496364, -3.19145], [51.480128, -3.239702], [51.506405, -3.176582], [51.479952, -3.239265], [51.4759, -3.178821], [51.522864, -3.139817], [51.512875, -3.131354], [51.537777, -3.195415], [51.486706, -3.177227]],\n",
       "                {\n",
       "  &quot;minOpacity&quot;: 0.5,\n",
       "  &quot;maxZoom&quot;: 18,\n",
       "  &quot;radius&quot;: 25,\n",
       "  &quot;blur&quot;: 15,\n",
       "}\n",
       "            );\n",
       "        \n",
       "    \n",
       "            heat_map_b07a10abad30bc4279ee2f9ab4ac2ff0.addTo(map_00cbd6b23e14d4f114fc237e5d7a15e1);\n",
       "        \n",
       "    \n",
       "            tile_layer_1678f57ac41df8921c7277a34ae691e8.addTo(map_00cbd6b23e14d4f114fc237e5d7a15e1);\n",
       "        \n",
       "    \n",
       "            heat_map_b07a10abad30bc4279ee2f9ab4ac2ff0.addTo(map_00cbd6b23e14d4f114fc237e5d7a15e1);\n",
       "        \n",
       "&lt;/script&gt;\n",
       "&lt;/html&gt;\" style=\"position:absolute;width:100%;height:100%;left:0;top:0;border:none !important;\" allowfullscreen webkitallowfullscreen mozallowfullscreen></iframe></div></div>"
      ],
      "text/plain": [
       "<folium.folium.Map at 0x17466479ee0>"
      ]
     },
     "execution_count": 73,
     "metadata": {},
     "output_type": "execute_result"
    }
   ],
   "source": [
    "# bolton_df\n",
    "import folium\n",
    "from folium.plugins import HeatMap\n",
    "cardiff_locations  = list(zip(cardiff_df['Latitude'], cardiff_df['Longitude']))\n",
    "cardiff_map = folium.Map(location=[cardiff_df['Latitude'].mean(), cardiff_df['Longitude'].mean()], zoom_start=10)\n",
    "HeatMap(cardiff_locations).add_to(cardiff_map)\n",
    "cardiff_map.save('cardiff_heatmap.html')  \n",
    "cardiff_map"
   ]
  },
  {
   "cell_type": "markdown",
   "id": "ad01d383-db5b-4c30-aae3-3a6e4dccce24",
   "metadata": {},
   "source": [
    "<h1> Seaborn is built on TOP of MATPLOTLIB\n",
    "</h1>"
   ]
  },
  {
   "cell_type": "code",
   "execution_count": null,
   "id": "afaf3688-c9b0-49a0-827b-566b68a806c0",
   "metadata": {},
   "outputs": [],
   "source": [
    "import seaborn as sns"
   ]
  },
  {
   "cell_type": "code",
   "execution_count": null,
   "id": "819320a8-23fa-4151-98b9-7a6ab9e61269",
   "metadata": {},
   "outputs": [],
   "source": [
    "pip install seaborn"
   ]
  },
  {
   "cell_type": "code",
   "execution_count": null,
   "id": "e3935c5e-a1b9-46a8-82c3-b7f061c8162f",
   "metadata": {},
   "outputs": [],
   "source": [
    "visual = sns.barplot(x='Road_Type', y ='Accident_Severity',data=df)\n",
    "plt.show()"
   ]
  },
  {
   "cell_type": "code",
   "execution_count": null,
   "id": "f19904c4-5050-4235-88ed-b239ceb6eefb",
   "metadata": {},
   "outputs": [],
   "source": []
  }
 ],
 "metadata": {
  "kernelspec": {
   "display_name": "Python 3 (ipykernel)",
   "language": "python",
   "name": "python3"
  },
  "language_info": {
   "codemirror_mode": {
    "name": "ipython",
    "version": 3
   },
   "file_extension": ".py",
   "mimetype": "text/x-python",
   "name": "python",
   "nbconvert_exporter": "python",
   "pygments_lexer": "ipython3",
   "version": "3.12.4"
  }
 },
 "nbformat": 4,
 "nbformat_minor": 5
}
