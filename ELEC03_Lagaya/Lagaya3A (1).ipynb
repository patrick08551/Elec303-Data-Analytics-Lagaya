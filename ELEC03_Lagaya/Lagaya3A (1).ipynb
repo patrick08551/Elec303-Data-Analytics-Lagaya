{
 "cells": [
  {
   "cell_type": "code",
   "execution_count": 1,
   "id": "f1843633-9927-4957-b0b8-fb2082ffa7bb",
   "metadata": {},
   "outputs": [],
   "source": [
    "import numpy as np\n",
    "import pandas as pd"
   ]
  },
  {
   "cell_type": "code",
   "execution_count": 2,
   "id": "4ab2832b-21e3-4bff-bb6b-c002fc4d3041",
   "metadata": {},
   "outputs": [],
   "source": [
    "df = pd.read_csv(\"roadaccidents\\\\uk_road_accident.csv\")"
   ]
  },
  {
   "cell_type": "code",
   "execution_count": 3,
   "id": "1288ddd6-7534-4f00-a70d-4a8d5fd776a0",
   "metadata": {
    "scrolled": true
   },
   "outputs": [
    {
     "data": {
      "text/html": [
       "<div>\n",
       "<style scoped>\n",
       "    .dataframe tbody tr th:only-of-type {\n",
       "        vertical-align: middle;\n",
       "    }\n",
       "\n",
       "    .dataframe tbody tr th {\n",
       "        vertical-align: top;\n",
       "    }\n",
       "\n",
       "    .dataframe thead th {\n",
       "        text-align: right;\n",
       "    }\n",
       "</style>\n",
       "<table border=\"1\" class=\"dataframe\">\n",
       "  <thead>\n",
       "    <tr style=\"text-align: right;\">\n",
       "      <th></th>\n",
       "      <th>Latitude</th>\n",
       "      <th>Longitude</th>\n",
       "      <th>Number_of_Casualties</th>\n",
       "      <th>Number_of_Vehicles</th>\n",
       "    </tr>\n",
       "  </thead>\n",
       "  <tbody>\n",
       "    <tr>\n",
       "      <th>count</th>\n",
       "      <td>660654.000000</td>\n",
       "      <td>660653.000000</td>\n",
       "      <td>660679.000000</td>\n",
       "      <td>660679.000000</td>\n",
       "    </tr>\n",
       "    <tr>\n",
       "      <th>mean</th>\n",
       "      <td>52.553866</td>\n",
       "      <td>-1.431210</td>\n",
       "      <td>1.357040</td>\n",
       "      <td>1.831255</td>\n",
       "    </tr>\n",
       "    <tr>\n",
       "      <th>std</th>\n",
       "      <td>1.406922</td>\n",
       "      <td>1.383330</td>\n",
       "      <td>0.824847</td>\n",
       "      <td>0.715269</td>\n",
       "    </tr>\n",
       "    <tr>\n",
       "      <th>min</th>\n",
       "      <td>49.914430</td>\n",
       "      <td>-7.516225</td>\n",
       "      <td>1.000000</td>\n",
       "      <td>1.000000</td>\n",
       "    </tr>\n",
       "    <tr>\n",
       "      <th>25%</th>\n",
       "      <td>51.490690</td>\n",
       "      <td>-2.332291</td>\n",
       "      <td>1.000000</td>\n",
       "      <td>1.000000</td>\n",
       "    </tr>\n",
       "    <tr>\n",
       "      <th>50%</th>\n",
       "      <td>52.315641</td>\n",
       "      <td>-1.411667</td>\n",
       "      <td>1.000000</td>\n",
       "      <td>2.000000</td>\n",
       "    </tr>\n",
       "    <tr>\n",
       "      <th>75%</th>\n",
       "      <td>53.453452</td>\n",
       "      <td>-0.232869</td>\n",
       "      <td>1.000000</td>\n",
       "      <td>2.000000</td>\n",
       "    </tr>\n",
       "    <tr>\n",
       "      <th>max</th>\n",
       "      <td>60.757544</td>\n",
       "      <td>1.762010</td>\n",
       "      <td>68.000000</td>\n",
       "      <td>32.000000</td>\n",
       "    </tr>\n",
       "  </tbody>\n",
       "</table>\n",
       "</div>"
      ],
      "text/plain": [
       "            Latitude      Longitude  Number_of_Casualties  Number_of_Vehicles\n",
       "count  660654.000000  660653.000000         660679.000000       660679.000000\n",
       "mean       52.553866      -1.431210              1.357040            1.831255\n",
       "std         1.406922       1.383330              0.824847            0.715269\n",
       "min        49.914430      -7.516225              1.000000            1.000000\n",
       "25%        51.490690      -2.332291              1.000000            1.000000\n",
       "50%        52.315641      -1.411667              1.000000            2.000000\n",
       "75%        53.453452      -0.232869              1.000000            2.000000\n",
       "max        60.757544       1.762010             68.000000           32.000000"
      ]
     },
     "execution_count": 3,
     "metadata": {},
     "output_type": "execute_result"
    }
   ],
   "source": [
    "df.describe()"
   ]
  },
  {
   "cell_type": "code",
   "execution_count": 4,
   "id": "fc618fe4-7755-4789-afaa-eefe70d54097",
   "metadata": {},
   "outputs": [
    {
     "data": {
      "text/html": [
       "<div>\n",
       "<style scoped>\n",
       "    .dataframe tbody tr th:only-of-type {\n",
       "        vertical-align: middle;\n",
       "    }\n",
       "\n",
       "    .dataframe tbody tr th {\n",
       "        vertical-align: top;\n",
       "    }\n",
       "\n",
       "    .dataframe thead th {\n",
       "        text-align: right;\n",
       "    }\n",
       "</style>\n",
       "<table border=\"1\" class=\"dataframe\">\n",
       "  <thead>\n",
       "    <tr style=\"text-align: right;\">\n",
       "      <th></th>\n",
       "      <th>Index</th>\n",
       "      <th>Accident_Severity</th>\n",
       "      <th>Accident Date</th>\n",
       "      <th>Latitude</th>\n",
       "      <th>Light_Conditions</th>\n",
       "      <th>District Area</th>\n",
       "      <th>Longitude</th>\n",
       "      <th>Number_of_Casualties</th>\n",
       "      <th>Number_of_Vehicles</th>\n",
       "      <th>Road_Surface_Conditions</th>\n",
       "      <th>Road_Type</th>\n",
       "      <th>Urban_or_Rural_Area</th>\n",
       "      <th>Weather_Conditions</th>\n",
       "      <th>Vehicle_Type</th>\n",
       "    </tr>\n",
       "  </thead>\n",
       "  <tbody>\n",
       "    <tr>\n",
       "      <th>0</th>\n",
       "      <td>False</td>\n",
       "      <td>False</td>\n",
       "      <td>False</td>\n",
       "      <td>False</td>\n",
       "      <td>False</td>\n",
       "      <td>False</td>\n",
       "      <td>False</td>\n",
       "      <td>False</td>\n",
       "      <td>False</td>\n",
       "      <td>False</td>\n",
       "      <td>False</td>\n",
       "      <td>False</td>\n",
       "      <td>False</td>\n",
       "      <td>False</td>\n",
       "    </tr>\n",
       "    <tr>\n",
       "      <th>1</th>\n",
       "      <td>False</td>\n",
       "      <td>False</td>\n",
       "      <td>False</td>\n",
       "      <td>False</td>\n",
       "      <td>False</td>\n",
       "      <td>False</td>\n",
       "      <td>False</td>\n",
       "      <td>False</td>\n",
       "      <td>False</td>\n",
       "      <td>False</td>\n",
       "      <td>False</td>\n",
       "      <td>False</td>\n",
       "      <td>False</td>\n",
       "      <td>False</td>\n",
       "    </tr>\n",
       "    <tr>\n",
       "      <th>2</th>\n",
       "      <td>False</td>\n",
       "      <td>False</td>\n",
       "      <td>False</td>\n",
       "      <td>False</td>\n",
       "      <td>False</td>\n",
       "      <td>False</td>\n",
       "      <td>False</td>\n",
       "      <td>False</td>\n",
       "      <td>False</td>\n",
       "      <td>False</td>\n",
       "      <td>True</td>\n",
       "      <td>False</td>\n",
       "      <td>True</td>\n",
       "      <td>False</td>\n",
       "    </tr>\n",
       "    <tr>\n",
       "      <th>3</th>\n",
       "      <td>False</td>\n",
       "      <td>False</td>\n",
       "      <td>False</td>\n",
       "      <td>False</td>\n",
       "      <td>False</td>\n",
       "      <td>False</td>\n",
       "      <td>False</td>\n",
       "      <td>False</td>\n",
       "      <td>False</td>\n",
       "      <td>False</td>\n",
       "      <td>False</td>\n",
       "      <td>False</td>\n",
       "      <td>False</td>\n",
       "      <td>False</td>\n",
       "    </tr>\n",
       "    <tr>\n",
       "      <th>4</th>\n",
       "      <td>False</td>\n",
       "      <td>False</td>\n",
       "      <td>False</td>\n",
       "      <td>False</td>\n",
       "      <td>False</td>\n",
       "      <td>False</td>\n",
       "      <td>False</td>\n",
       "      <td>False</td>\n",
       "      <td>False</td>\n",
       "      <td>False</td>\n",
       "      <td>True</td>\n",
       "      <td>False</td>\n",
       "      <td>True</td>\n",
       "      <td>False</td>\n",
       "    </tr>\n",
       "    <tr>\n",
       "      <th>...</th>\n",
       "      <td>...</td>\n",
       "      <td>...</td>\n",
       "      <td>...</td>\n",
       "      <td>...</td>\n",
       "      <td>...</td>\n",
       "      <td>...</td>\n",
       "      <td>...</td>\n",
       "      <td>...</td>\n",
       "      <td>...</td>\n",
       "      <td>...</td>\n",
       "      <td>...</td>\n",
       "      <td>...</td>\n",
       "      <td>...</td>\n",
       "      <td>...</td>\n",
       "    </tr>\n",
       "    <tr>\n",
       "      <th>660674</th>\n",
       "      <td>False</td>\n",
       "      <td>False</td>\n",
       "      <td>False</td>\n",
       "      <td>False</td>\n",
       "      <td>False</td>\n",
       "      <td>False</td>\n",
       "      <td>False</td>\n",
       "      <td>False</td>\n",
       "      <td>False</td>\n",
       "      <td>False</td>\n",
       "      <td>False</td>\n",
       "      <td>False</td>\n",
       "      <td>False</td>\n",
       "      <td>False</td>\n",
       "    </tr>\n",
       "    <tr>\n",
       "      <th>660675</th>\n",
       "      <td>False</td>\n",
       "      <td>False</td>\n",
       "      <td>False</td>\n",
       "      <td>False</td>\n",
       "      <td>False</td>\n",
       "      <td>False</td>\n",
       "      <td>False</td>\n",
       "      <td>False</td>\n",
       "      <td>False</td>\n",
       "      <td>False</td>\n",
       "      <td>False</td>\n",
       "      <td>False</td>\n",
       "      <td>False</td>\n",
       "      <td>False</td>\n",
       "    </tr>\n",
       "    <tr>\n",
       "      <th>660676</th>\n",
       "      <td>False</td>\n",
       "      <td>False</td>\n",
       "      <td>False</td>\n",
       "      <td>False</td>\n",
       "      <td>False</td>\n",
       "      <td>False</td>\n",
       "      <td>False</td>\n",
       "      <td>False</td>\n",
       "      <td>False</td>\n",
       "      <td>False</td>\n",
       "      <td>False</td>\n",
       "      <td>False</td>\n",
       "      <td>False</td>\n",
       "      <td>False</td>\n",
       "    </tr>\n",
       "    <tr>\n",
       "      <th>660677</th>\n",
       "      <td>False</td>\n",
       "      <td>False</td>\n",
       "      <td>False</td>\n",
       "      <td>False</td>\n",
       "      <td>False</td>\n",
       "      <td>False</td>\n",
       "      <td>False</td>\n",
       "      <td>False</td>\n",
       "      <td>False</td>\n",
       "      <td>False</td>\n",
       "      <td>False</td>\n",
       "      <td>False</td>\n",
       "      <td>False</td>\n",
       "      <td>False</td>\n",
       "    </tr>\n",
       "    <tr>\n",
       "      <th>660678</th>\n",
       "      <td>False</td>\n",
       "      <td>False</td>\n",
       "      <td>False</td>\n",
       "      <td>False</td>\n",
       "      <td>False</td>\n",
       "      <td>False</td>\n",
       "      <td>False</td>\n",
       "      <td>False</td>\n",
       "      <td>False</td>\n",
       "      <td>False</td>\n",
       "      <td>False</td>\n",
       "      <td>False</td>\n",
       "      <td>False</td>\n",
       "      <td>False</td>\n",
       "    </tr>\n",
       "  </tbody>\n",
       "</table>\n",
       "<p>660679 rows × 14 columns</p>\n",
       "</div>"
      ],
      "text/plain": [
       "        Index  Accident_Severity  Accident Date  Latitude  Light_Conditions  \\\n",
       "0       False              False          False     False             False   \n",
       "1       False              False          False     False             False   \n",
       "2       False              False          False     False             False   \n",
       "3       False              False          False     False             False   \n",
       "4       False              False          False     False             False   \n",
       "...       ...                ...            ...       ...               ...   \n",
       "660674  False              False          False     False             False   \n",
       "660675  False              False          False     False             False   \n",
       "660676  False              False          False     False             False   \n",
       "660677  False              False          False     False             False   \n",
       "660678  False              False          False     False             False   \n",
       "\n",
       "        District Area  Longitude  Number_of_Casualties  Number_of_Vehicles  \\\n",
       "0               False      False                 False               False   \n",
       "1               False      False                 False               False   \n",
       "2               False      False                 False               False   \n",
       "3               False      False                 False               False   \n",
       "4               False      False                 False               False   \n",
       "...               ...        ...                   ...                 ...   \n",
       "660674          False      False                 False               False   \n",
       "660675          False      False                 False               False   \n",
       "660676          False      False                 False               False   \n",
       "660677          False      False                 False               False   \n",
       "660678          False      False                 False               False   \n",
       "\n",
       "        Road_Surface_Conditions  Road_Type  Urban_or_Rural_Area  \\\n",
       "0                         False      False                False   \n",
       "1                         False      False                False   \n",
       "2                         False       True                False   \n",
       "3                         False      False                False   \n",
       "4                         False       True                False   \n",
       "...                         ...        ...                  ...   \n",
       "660674                    False      False                False   \n",
       "660675                    False      False                False   \n",
       "660676                    False      False                False   \n",
       "660677                    False      False                False   \n",
       "660678                    False      False                False   \n",
       "\n",
       "        Weather_Conditions  Vehicle_Type  \n",
       "0                    False         False  \n",
       "1                    False         False  \n",
       "2                     True         False  \n",
       "3                    False         False  \n",
       "4                     True         False  \n",
       "...                    ...           ...  \n",
       "660674               False         False  \n",
       "660675               False         False  \n",
       "660676               False         False  \n",
       "660677               False         False  \n",
       "660678               False         False  \n",
       "\n",
       "[660679 rows x 14 columns]"
      ]
     },
     "execution_count": 4,
     "metadata": {},
     "output_type": "execute_result"
    }
   ],
   "source": [
    "df.isnull()"
   ]
  },
  {
   "cell_type": "code",
   "execution_count": 5,
   "id": "d5043d9e-d68b-44ee-bf43-37a39b529668",
   "metadata": {},
   "outputs": [
    {
     "data": {
      "text/plain": [
       "Index                          0\n",
       "Accident_Severity              0\n",
       "Accident Date                  0\n",
       "Latitude                      25\n",
       "Light_Conditions               0\n",
       "District Area                  0\n",
       "Longitude                     26\n",
       "Number_of_Casualties           0\n",
       "Number_of_Vehicles             0\n",
       "Road_Surface_Conditions      726\n",
       "Road_Type                   4520\n",
       "Urban_or_Rural_Area           15\n",
       "Weather_Conditions         14128\n",
       "Vehicle_Type                   0\n",
       "dtype: int64"
      ]
     },
     "execution_count": 5,
     "metadata": {},
     "output_type": "execute_result"
    }
   ],
   "source": [
    "df.isnull().sum()"
   ]
  },
  {
   "cell_type": "markdown",
   "id": "95becf97-c0ec-486a-8fd6-fe7dfdd68399",
   "metadata": {},
   "source": [
    "<h1>1. How many accidents are recorded in the data set?</h1>"
   ]
  },
  {
   "cell_type": "code",
   "execution_count": 6,
   "id": "1f0074ee-7e62-4209-bbd5-12c0af7b1aed",
   "metadata": {},
   "outputs": [
    {
     "data": {
      "text/plain": [
       "Accident_Severity    660679\n",
       "dtype: int64"
      ]
     },
     "execution_count": 6,
     "metadata": {},
     "output_type": "execute_result"
    }
   ],
   "source": [
    "df[['Accident_Severity']].count()"
   ]
  },
  {
   "cell_type": "code",
   "execution_count": 7,
   "id": "c0ed9683-7278-440e-b27b-8e1998f97d92",
   "metadata": {},
   "outputs": [
    {
     "data": {
      "text/plain": [
       "660679"
      ]
     },
     "execution_count": 7,
     "metadata": {},
     "output_type": "execute_result"
    }
   ],
   "source": [
    "len(df)"
   ]
  },
  {
   "cell_type": "markdown",
   "id": "775db76c-d329-4420-bb45-062c2a1a20aa",
   "metadata": {},
   "source": [
    "<p>This shows the total number of accidents that happened in the dataset that been given</p>"
   ]
  },
  {
   "cell_type": "markdown",
   "id": "b8cacd10-ce45-452e-ab45-a9054353410e",
   "metadata": {},
   "source": [
    "<h1>2. What is the severity of the accidents in the data set?</h1>"
   ]
  },
  {
   "cell_type": "code",
   "execution_count": 8,
   "id": "63440ccb-b141-4086-a1e2-aaca7f220e24",
   "metadata": {},
   "outputs": [
    {
     "data": {
      "text/plain": [
       "Accident_Severity\n",
       "Slight     563801\n",
       "Serious     88217\n",
       "Fatal        8661\n",
       "Name: count, dtype: int64"
      ]
     },
     "execution_count": 8,
     "metadata": {},
     "output_type": "execute_result"
    }
   ],
   "source": [
    "df['Accident_Severity'].value_counts()"
   ]
  },
  {
   "cell_type": "markdown",
   "id": "fc9fde76-d44c-4acb-8885-5481c4b23108",
   "metadata": {},
   "source": [
    "<p>Most of the accidents are slightly severe, but still there is too many serious and fatal accidents that been given</p>"
   ]
  },
  {
   "cell_type": "markdown",
   "id": "90138179-0e1c-4a87-b76c-539cc35c6887",
   "metadata": {},
   "source": [
    "<h1>3. On which  district area have the highest numbers of road accidents? </h1>"
   ]
  },
  {
   "cell_type": "code",
   "execution_count": 9,
   "id": "24e22cc9-a50c-40f7-be3e-32701bfe3a1a",
   "metadata": {},
   "outputs": [
    {
     "data": {
      "text/plain": [
       "District Area\n",
       "Birmingham            13491\n",
       "Leeds                  8898\n",
       "Manchester             6720\n",
       "Bradford               6212\n",
       "Sheffield              5710\n",
       "                      ...  \n",
       "Berwick-upon-Tweed      153\n",
       "Teesdale                142\n",
       "Shetland Islands        133\n",
       "Orkney Islands          117\n",
       "Clackmannanshire         91\n",
       "Name: count, Length: 422, dtype: int64"
      ]
     },
     "execution_count": 9,
     "metadata": {},
     "output_type": "execute_result"
    }
   ],
   "source": [
    "df['District Area'].value_counts()"
   ]
  },
  {
   "cell_type": "markdown",
   "id": "b7598e24-77e5-464a-8fbb-42d8ff72c75e",
   "metadata": {},
   "source": [
    "<p>This shows that there's a lot of district that is prone for road accidents, but the highest one is Birmigham</p>"
   ]
  },
  {
   "cell_type": "markdown",
   "id": "2c5550f9-79af-4635-911f-31ef3b22085d",
   "metadata": {},
   "source": [
    "<h1>4. What is the average number of vehicles per accident?</h1>"
   ]
  },
  {
   "cell_type": "code",
   "execution_count": 10,
   "id": "ca20c506-12c4-4aba-8004-1d6cc61f4376",
   "metadata": {},
   "outputs": [
    {
     "data": {
      "text/plain": [
       "1.8312554205597575"
      ]
     },
     "execution_count": 10,
     "metadata": {},
     "output_type": "execute_result"
    }
   ],
   "source": [
    "df['Number_of_Vehicles'].mean()"
   ]
  },
  {
   "cell_type": "markdown",
   "id": "9f75493d-2e39-4ef1-b8fe-35df43a4eaf7",
   "metadata": {},
   "source": [
    "<p>This sums up that maybe around 2 vehicles are there per accidents</p>"
   ]
  },
  {
   "cell_type": "markdown",
   "id": "ccdfc84c-117c-48c8-9bf4-8337e1ddac05",
   "metadata": {},
   "source": [
    "<h1>5. What are the typical numbers of casualties in an accidents?</h1>"
   ]
  },
  {
   "cell_type": "code",
   "execution_count": 11,
   "id": "9960646e-dcfc-44e9-9552-b4f0cfe09a67",
   "metadata": {},
   "outputs": [
    {
     "data": {
      "text/plain": [
       "1.357040257068864"
      ]
     },
     "execution_count": 11,
     "metadata": {},
     "output_type": "execute_result"
    }
   ],
   "source": [
    "df['Number_of_Casualties'].mean()"
   ]
  },
  {
   "cell_type": "code",
   "execution_count": 12,
   "id": "48e78b00-a019-4b59-8e8d-afc19185bae2",
   "metadata": {},
   "outputs": [
    {
     "data": {
      "text/plain": [
       "count    660679.000000\n",
       "mean          1.357040\n",
       "std           0.824847\n",
       "min           1.000000\n",
       "25%           1.000000\n",
       "50%           1.000000\n",
       "75%           1.000000\n",
       "max          68.000000\n",
       "Name: Number_of_Casualties, dtype: float64"
      ]
     },
     "execution_count": 12,
     "metadata": {},
     "output_type": "execute_result"
    }
   ],
   "source": [
    "df['Number_of_Casualties'].describe()"
   ]
  },
  {
   "cell_type": "markdown",
   "id": "85ae0c39-2ab9-462c-b339-8d727249b156",
   "metadata": {},
   "source": [
    "<p>Most accidents involve 1 casualty only</p>"
   ]
  },
  {
   "cell_type": "markdown",
   "id": "a90a2e69-4f58-42de-8acd-6f875f011c3c",
   "metadata": {},
   "source": [
    "<h1>6. How many vehicles are usually involve in accidents?</h1>"
   ]
  },
  {
   "cell_type": "code",
   "execution_count": 13,
   "id": "b1b26a77-7e58-4a71-ad1b-4abd6ee15f22",
   "metadata": {},
   "outputs": [
    {
     "data": {
      "text/plain": [
       "count    660679.000000\n",
       "mean          1.831255\n",
       "std           0.715269\n",
       "min           1.000000\n",
       "25%           1.000000\n",
       "50%           2.000000\n",
       "75%           2.000000\n",
       "max          32.000000\n",
       "Name: Number_of_Vehicles, dtype: float64"
      ]
     },
     "execution_count": 13,
     "metadata": {},
     "output_type": "execute_result"
    }
   ],
   "source": [
    "df['Number_of_Vehicles'].describe()"
   ]
  },
  {
   "cell_type": "markdown",
   "id": "64e40aa8-dd48-4a50-a5e8-e1f0b3793798",
   "metadata": {},
   "source": [
    "<p>Usually 2 vehicles are involve around</p>"
   ]
  },
  {
   "cell_type": "markdown",
   "id": "4daf75ff-e7c6-4bbd-bc89-f31c94a2406c",
   "metadata": {},
   "source": [
    "<h1>7. Do accidents happen more in daylight or in darkness?</h1>"
   ]
  },
  {
   "cell_type": "code",
   "execution_count": 14,
   "id": "0c11685c-1865-4e9e-9096-4380331261a4",
   "metadata": {},
   "outputs": [
    {
     "data": {
      "text/plain": [
       "Light_Conditions\n",
       "Daylight                       484880\n",
       "Darkness - lights lit          129335\n",
       "Darkness - no lighting          37437\n",
       "Darkness - lighting unknown      6484\n",
       "Darkness - lights unlit          2543\n",
       "Name: count, dtype: int64"
      ]
     },
     "execution_count": 14,
     "metadata": {},
     "output_type": "execute_result"
    }
   ],
   "source": [
    "df['Light_Conditions'].value_counts()"
   ]
  },
  {
   "cell_type": "markdown",
   "id": "b96a0635-e1d0-4b16-8bfa-6295fc63bfb0",
   "metadata": {},
   "source": [
    "<p>This shows that more accidents happen in daylight, tho dark unlit conditions show heightened severity</p>"
   ]
  },
  {
   "cell_type": "markdown",
   "id": "d455a518-e5e6-42ab-b20f-b9a338a992a5",
   "metadata": {},
   "source": [
    "<h1>8. Which surface type correspond with more frequent accidents?</h1>"
   ]
  },
  {
   "cell_type": "code",
   "execution_count": 15,
   "id": "66bb2933-d18f-4510-bfed-25f97b4e5131",
   "metadata": {},
   "outputs": [
    {
     "data": {
      "text/plain": [
       "Road_Surface_Conditions\n",
       "Dry                     447821\n",
       "Wet or damp             186708\n",
       "Frost or ice             18517\n",
       "Snow                      5890\n",
       "Flood over 3cm. deep      1017\n",
       "Name: count, dtype: int64"
      ]
     },
     "execution_count": 15,
     "metadata": {},
     "output_type": "execute_result"
    }
   ],
   "source": [
    "df['Road_Surface_Conditions'].value_counts()"
   ]
  },
  {
   "cell_type": "markdown",
   "id": "5215fff4-5f6c-45ab-bff7-fca292940526",
   "metadata": {},
   "source": [
    "<p>This simply shows that dry surface dominate more accidents than other type of surface</p>"
   ]
  },
  {
   "cell_type": "markdown",
   "id": "841aebe1-5187-4f21-a834-120161125ad5",
   "metadata": {},
   "source": [
    "<h1>9. Does  accident happened more on urban or rural area?</h1>"
   ]
  },
  {
   "cell_type": "code",
   "execution_count": 16,
   "id": "b04f82b3-c699-495d-b14f-b68e1b308916",
   "metadata": {},
   "outputs": [
    {
     "data": {
      "text/plain": [
       "count     660664\n",
       "unique         3\n",
       "top        Urban\n",
       "freq      421663\n",
       "Name: Urban_or_Rural_Area, dtype: object"
      ]
     },
     "execution_count": 16,
     "metadata": {},
     "output_type": "execute_result"
    }
   ],
   "source": [
    "df['Urban_or_Rural_Area'].describe()"
   ]
  },
  {
   "cell_type": "code",
   "execution_count": 17,
   "id": "3d397b8e-8a64-4b67-b55b-87d08cb57b38",
   "metadata": {},
   "outputs": [
    {
     "data": {
      "text/plain": [
       "Urban_or_Rural_Area\n",
       "Urban          421663\n",
       "Rural          238990\n",
       "Unallocated        11\n",
       "Name: count, dtype: int64"
      ]
     },
     "execution_count": 17,
     "metadata": {},
     "output_type": "execute_result"
    }
   ],
   "source": [
    "df['Urban_or_Rural_Area'].value_counts()"
   ]
  },
  {
   "cell_type": "markdown",
   "id": "e2bb45d4-e927-405f-88f1-d7060cd3f657",
   "metadata": {},
   "source": [
    "<p>It simply shows that the Urban are prone to more accidents, likely due to higher density of vehicles and people around</p>"
   ]
  },
  {
   "cell_type": "markdown",
   "id": "f5ad74d2-8dd9-49aa-aa5b-98367fc92c2a",
   "metadata": {},
   "source": [
    "<h1>10. Which weather is more likely prone to accidents?</h1>"
   ]
  },
  {
   "cell_type": "code",
   "execution_count": 18,
   "id": "81dd376d-9538-46a8-82a0-d6114a78ec1a",
   "metadata": {},
   "outputs": [
    {
     "data": {
      "text/plain": [
       "Weather_Conditions\n",
       "Fine no high winds       520885\n",
       "Raining no high winds     79696\n",
       "Other                     17150\n",
       "Raining + high winds       9615\n",
       "Fine + high winds          8554\n",
       "Snowing no high winds      6238\n",
       "Fog or mist                3528\n",
       "Snowing + high winds        885\n",
       "Name: count, dtype: int64"
      ]
     },
     "execution_count": 18,
     "metadata": {},
     "output_type": "execute_result"
    }
   ],
   "source": [
    "df['Weather_Conditions'].value_counts()"
   ]
  },
  {
   "cell_type": "markdown",
   "id": "b40c3585-26ef-4b96-acfa-f629b3847960",
   "metadata": {},
   "source": [
    "<p>Surprisingly Clear weather are more prone to accidents</p>"
   ]
  },
  {
   "cell_type": "markdown",
   "id": "cd432e30-147f-4dea-9e7b-694c634f45a9",
   "metadata": {},
   "source": [
    "<h1>11. How many accidents happened in snowing with no high winds?</h1>"
   ]
  },
  {
   "cell_type": "code",
   "execution_count": 19,
   "id": "2b32871e-816f-47cf-8eb3-719daffdf846",
   "metadata": {},
   "outputs": [
    {
     "data": {
      "text/plain": [
       "Weather_Conditions\n",
       "Fine no high winds       520885\n",
       "Raining no high winds     79696\n",
       "Other                     17150\n",
       "Raining + high winds       9615\n",
       "Fine + high winds          8554\n",
       "Snowing no high winds      6238\n",
       "Fog or mist                3528\n",
       "Snowing + high winds        885\n",
       "Name: count, dtype: int64"
      ]
     },
     "execution_count": 19,
     "metadata": {},
     "output_type": "execute_result"
    }
   ],
   "source": [
    "df['Weather_Conditions'].value_counts()"
   ]
  },
  {
   "cell_type": "markdown",
   "id": "42c45694-ce87-465c-82ee-23af2c814243",
   "metadata": {},
   "source": [
    "<p>This shows that accidents happened in snowing with no high winds are 6238 which is low than the other weathers</p>"
   ]
  },
  {
   "cell_type": "markdown",
   "id": "b9462410-e0d7-468d-b1d4-309c8d6a6cc8",
   "metadata": {},
   "source": [
    "<h1>12. Which light settings correspond with the most severe outcomes?</h1>"
   ]
  },
  {
   "cell_type": "code",
   "execution_count": 20,
   "id": "b3c9b796-85bb-4ddd-968f-90eeb9ef9514",
   "metadata": {},
   "outputs": [
    {
     "data": {
      "text/html": [
       "<div>\n",
       "<style scoped>\n",
       "    .dataframe tbody tr th:only-of-type {\n",
       "        vertical-align: middle;\n",
       "    }\n",
       "\n",
       "    .dataframe tbody tr th {\n",
       "        vertical-align: top;\n",
       "    }\n",
       "\n",
       "    .dataframe thead th {\n",
       "        text-align: right;\n",
       "    }\n",
       "</style>\n",
       "<table border=\"1\" class=\"dataframe\">\n",
       "  <thead>\n",
       "    <tr style=\"text-align: right;\">\n",
       "      <th>Accident_Severity</th>\n",
       "      <th>Fatal</th>\n",
       "      <th>Serious</th>\n",
       "      <th>Slight</th>\n",
       "    </tr>\n",
       "    <tr>\n",
       "      <th>Light_Conditions</th>\n",
       "      <th></th>\n",
       "      <th></th>\n",
       "      <th></th>\n",
       "    </tr>\n",
       "  </thead>\n",
       "  <tbody>\n",
       "    <tr>\n",
       "      <th>Darkness - lighting unknown</th>\n",
       "      <td>68</td>\n",
       "      <td>794</td>\n",
       "      <td>5622</td>\n",
       "    </tr>\n",
       "    <tr>\n",
       "      <th>Darkness - lights lit</th>\n",
       "      <td>1860</td>\n",
       "      <td>19130</td>\n",
       "      <td>108345</td>\n",
       "    </tr>\n",
       "    <tr>\n",
       "      <th>Darkness - lights unlit</th>\n",
       "      <td>45</td>\n",
       "      <td>360</td>\n",
       "      <td>2138</td>\n",
       "    </tr>\n",
       "    <tr>\n",
       "      <th>Darkness - no lighting</th>\n",
       "      <td>1612</td>\n",
       "      <td>7174</td>\n",
       "      <td>28651</td>\n",
       "    </tr>\n",
       "    <tr>\n",
       "      <th>Daylight</th>\n",
       "      <td>5076</td>\n",
       "      <td>60759</td>\n",
       "      <td>419045</td>\n",
       "    </tr>\n",
       "  </tbody>\n",
       "</table>\n",
       "</div>"
      ],
      "text/plain": [
       "Accident_Severity            Fatal  Serious  Slight\n",
       "Light_Conditions                                   \n",
       "Darkness - lighting unknown     68      794    5622\n",
       "Darkness - lights lit         1860    19130  108345\n",
       "Darkness - lights unlit         45      360    2138\n",
       "Darkness - no lighting        1612     7174   28651\n",
       "Daylight                      5076    60759  419045"
      ]
     },
     "execution_count": 20,
     "metadata": {},
     "output_type": "execute_result"
    }
   ],
   "source": [
    "pd.crosstab( df['Light_Conditions'], df['Accident_Severity'])"
   ]
  },
  {
   "cell_type": "markdown",
   "id": "e43fbb57-023a-42f7-a780-b154add31cdc",
   "metadata": {},
   "source": [
    "<p>Dark roads without lighting shows severe and fatal accident counts</p>"
   ]
  },
  {
   "cell_type": "markdown",
   "id": "b4efbbc0-cdc0-48f9-a637-292b1e9bbd48",
   "metadata": {},
   "source": [
    "<h1>13. Which latitudes recorded the most accidents?</h1>"
   ]
  },
  {
   "cell_type": "code",
   "execution_count": 21,
   "id": "a764c573-e65a-43e1-9696-73eb461c5c20",
   "metadata": {},
   "outputs": [
    {
     "data": {
      "text/plain": [
       "Latitude\n",
       "52.458798    50\n",
       "52.949719    45\n",
       "53.083165    33\n",
       "52.967634    31\n",
       "52.938860    29\n",
       "             ..\n",
       "53.657705     1\n",
       "53.628677     1\n",
       "53.643256     1\n",
       "53.629944     1\n",
       "57.575210     1\n",
       "Name: count, Length: 511618, dtype: int64"
      ]
     },
     "execution_count": 21,
     "metadata": {},
     "output_type": "execute_result"
    }
   ],
   "source": [
    "df['Latitude'].value_counts()"
   ]
  },
  {
   "cell_type": "code",
   "execution_count": 22,
   "id": "be42db8e-827f-43cd-9c6a-94b76d36d110",
   "metadata": {},
   "outputs": [
    {
     "data": {
      "text/plain": [
       "660654"
      ]
     },
     "execution_count": 22,
     "metadata": {},
     "output_type": "execute_result"
    }
   ],
   "source": [
    "df['Latitude'].count()"
   ]
  },
  {
   "cell_type": "markdown",
   "id": "7fb2b791-0f4f-4f99-b4fa-54b4770d14f2",
   "metadata": {},
   "source": [
    "<h1>14. Which longitudes recorded the most accidents?</h1>"
   ]
  },
  {
   "cell_type": "code",
   "execution_count": 23,
   "id": "ee740c3e-01a4-4593-89b1-eef8931bf595",
   "metadata": {},
   "outputs": [
    {
     "data": {
      "text/plain": [
       "Longitude\n",
       "-0.977611    45\n",
       "-1.871043    36\n",
       "-0.816789    33\n",
       "-1.190861    31\n",
       "-1.216694    29\n",
       "             ..\n",
       "-1.450265     1\n",
       "-1.364935     1\n",
       "-2.038659     1\n",
       "-1.533710     1\n",
       "-3.895673     1\n",
       "Name: count, Length: 529766, dtype: int64"
      ]
     },
     "execution_count": 23,
     "metadata": {},
     "output_type": "execute_result"
    }
   ],
   "source": [
    "df['Longitude'].value_counts()"
   ]
  },
  {
   "cell_type": "code",
   "execution_count": 24,
   "id": "d8776556-f59c-4ea4-ad74-9d2c074bc5e9",
   "metadata": {},
   "outputs": [
    {
     "data": {
      "text/plain": [
       "660653"
      ]
     },
     "execution_count": 24,
     "metadata": {},
     "output_type": "execute_result"
    }
   ],
   "source": [
    "df['Longitude'].count()"
   ]
  },
  {
   "cell_type": "markdown",
   "id": "982b08e1-df4e-45a7-b8a0-a9dd78157769",
   "metadata": {},
   "source": [
    "<h1>15. Where do the latitude and longitude values fall within the data sets?</h1>"
   ]
  },
  {
   "cell_type": "code",
   "execution_count": 25,
   "id": "5a1cf9cf-e03d-4083-b0bb-bd6d9d9b0f6c",
   "metadata": {},
   "outputs": [
    {
     "data": {
      "text/html": [
       "<div>\n",
       "<style scoped>\n",
       "    .dataframe tbody tr th:only-of-type {\n",
       "        vertical-align: middle;\n",
       "    }\n",
       "\n",
       "    .dataframe tbody tr th {\n",
       "        vertical-align: top;\n",
       "    }\n",
       "\n",
       "    .dataframe thead th {\n",
       "        text-align: right;\n",
       "    }\n",
       "</style>\n",
       "<table border=\"1\" class=\"dataframe\">\n",
       "  <thead>\n",
       "    <tr style=\"text-align: right;\">\n",
       "      <th></th>\n",
       "      <th>Latitude</th>\n",
       "      <th>Longitude</th>\n",
       "    </tr>\n",
       "  </thead>\n",
       "  <tbody>\n",
       "    <tr>\n",
       "      <th>count</th>\n",
       "      <td>660654.000000</td>\n",
       "      <td>660653.000000</td>\n",
       "    </tr>\n",
       "    <tr>\n",
       "      <th>mean</th>\n",
       "      <td>52.553866</td>\n",
       "      <td>-1.431210</td>\n",
       "    </tr>\n",
       "    <tr>\n",
       "      <th>std</th>\n",
       "      <td>1.406922</td>\n",
       "      <td>1.383330</td>\n",
       "    </tr>\n",
       "    <tr>\n",
       "      <th>min</th>\n",
       "      <td>49.914430</td>\n",
       "      <td>-7.516225</td>\n",
       "    </tr>\n",
       "    <tr>\n",
       "      <th>25%</th>\n",
       "      <td>51.490690</td>\n",
       "      <td>-2.332291</td>\n",
       "    </tr>\n",
       "    <tr>\n",
       "      <th>50%</th>\n",
       "      <td>52.315641</td>\n",
       "      <td>-1.411667</td>\n",
       "    </tr>\n",
       "    <tr>\n",
       "      <th>75%</th>\n",
       "      <td>53.453452</td>\n",
       "      <td>-0.232869</td>\n",
       "    </tr>\n",
       "    <tr>\n",
       "      <th>max</th>\n",
       "      <td>60.757544</td>\n",
       "      <td>1.762010</td>\n",
       "    </tr>\n",
       "  </tbody>\n",
       "</table>\n",
       "</div>"
      ],
      "text/plain": [
       "            Latitude      Longitude\n",
       "count  660654.000000  660653.000000\n",
       "mean       52.553866      -1.431210\n",
       "std         1.406922       1.383330\n",
       "min        49.914430      -7.516225\n",
       "25%        51.490690      -2.332291\n",
       "50%        52.315641      -1.411667\n",
       "75%        53.453452      -0.232869\n",
       "max        60.757544       1.762010"
      ]
     },
     "execution_count": 25,
     "metadata": {},
     "output_type": "execute_result"
    }
   ],
   "source": [
    "df[['Latitude', 'Longitude']].describe()"
   ]
  },
  {
   "cell_type": "markdown",
   "id": "7d9073c2-b472-4e1e-ad84-bcb56c7dfb2e",
   "metadata": {},
   "source": [
    "<p>This confirms that the spans of the data set cover both northern/sothern and eastern/western regions</p>"
   ]
  },
  {
   "cell_type": "markdown",
   "id": "7654313c-01d5-48fe-b4bd-d20c94cd1060",
   "metadata": {},
   "source": [
    "<h1>16. Is there a measurable connections between vehicle counts and casualties?</h1>"
   ]
  },
  {
   "cell_type": "code",
   "execution_count": 26,
   "id": "92f4b1e1-e4cb-4569-a91c-9d151e480578",
   "metadata": {},
   "outputs": [
    {
     "data": {
      "text/html": [
       "<div>\n",
       "<style scoped>\n",
       "    .dataframe tbody tr th:only-of-type {\n",
       "        vertical-align: middle;\n",
       "    }\n",
       "\n",
       "    .dataframe tbody tr th {\n",
       "        vertical-align: top;\n",
       "    }\n",
       "\n",
       "    .dataframe thead th {\n",
       "        text-align: right;\n",
       "    }\n",
       "</style>\n",
       "<table border=\"1\" class=\"dataframe\">\n",
       "  <thead>\n",
       "    <tr style=\"text-align: right;\">\n",
       "      <th></th>\n",
       "      <th>Number_of_Vehicles</th>\n",
       "      <th>Number_of_Casualties</th>\n",
       "    </tr>\n",
       "  </thead>\n",
       "  <tbody>\n",
       "    <tr>\n",
       "      <th>Number_of_Vehicles</th>\n",
       "      <td>1.000000</td>\n",
       "      <td>0.228889</td>\n",
       "    </tr>\n",
       "    <tr>\n",
       "      <th>Number_of_Casualties</th>\n",
       "      <td>0.228889</td>\n",
       "      <td>1.000000</td>\n",
       "    </tr>\n",
       "  </tbody>\n",
       "</table>\n",
       "</div>"
      ],
      "text/plain": [
       "                      Number_of_Vehicles  Number_of_Casualties\n",
       "Number_of_Vehicles              1.000000              0.228889\n",
       "Number_of_Casualties            0.228889              1.000000"
      ]
     },
     "execution_count": 26,
     "metadata": {},
     "output_type": "execute_result"
    }
   ],
   "source": [
    "df[['Number_of_Vehicles', 'Number_of_Casualties']].corr()"
   ]
  },
  {
   "cell_type": "markdown",
   "id": "f119fdd1-7eae-4ef4-b3f5-467e54635fbf",
   "metadata": {},
   "source": [
    "<p> This simply shows that there is connection, which indicates that more vehicles are prone to more casualties as well</p>"
   ]
  },
  {
   "cell_type": "markdown",
   "id": "f117b75f-52ac-41ce-bf01-603e99d40cbe",
   "metadata": {},
   "source": [
    "<h1>17. Which road design contributes most to accident frequency?</h1>"
   ]
  },
  {
   "cell_type": "code",
   "execution_count": 27,
   "id": "9ab0656f-2bb1-42c6-a857-4398810aa32d",
   "metadata": {},
   "outputs": [
    {
     "data": {
      "text/plain": [
       "Road_Type\n",
       "Single carriageway    492143\n",
       "Dual carriageway       99424\n",
       "Roundabout             43992\n",
       "One way street         13559\n",
       "Slip road               7041\n",
       "Name: count, dtype: int64"
      ]
     },
     "execution_count": 27,
     "metadata": {},
     "output_type": "execute_result"
    }
   ],
   "source": [
    "df[\"Road_Type\"].value_counts()"
   ]
  },
  {
   "cell_type": "markdown",
   "id": "97ea5450-4e0d-4149-9a15-1ae41389d54e",
   "metadata": {},
   "source": [
    "<p>This data shows that Single carriageway are the most common sites for accidents</p>"
   ]
  },
  {
   "cell_type": "markdown",
   "id": "6b29f02f-2a9c-4552-932c-1f09e8843d0c",
   "metadata": {},
   "source": [
    "<h1>18. Does the weather contributes to the severe damage of every accidents?</h1>"
   ]
  },
  {
   "cell_type": "code",
   "execution_count": 28,
   "id": "ca229a60-df93-43e6-bca8-abfe5d877b4a",
   "metadata": {},
   "outputs": [
    {
     "data": {
      "text/html": [
       "<div>\n",
       "<style scoped>\n",
       "    .dataframe tbody tr th:only-of-type {\n",
       "        vertical-align: middle;\n",
       "    }\n",
       "\n",
       "    .dataframe tbody tr th {\n",
       "        vertical-align: top;\n",
       "    }\n",
       "\n",
       "    .dataframe thead th {\n",
       "        text-align: right;\n",
       "    }\n",
       "</style>\n",
       "<table border=\"1\" class=\"dataframe\">\n",
       "  <thead>\n",
       "    <tr style=\"text-align: right;\">\n",
       "      <th>Accident_Severity</th>\n",
       "      <th>Fatal</th>\n",
       "      <th>Serious</th>\n",
       "      <th>Slight</th>\n",
       "    </tr>\n",
       "    <tr>\n",
       "      <th>Weather_Conditions</th>\n",
       "      <th></th>\n",
       "      <th></th>\n",
       "      <th></th>\n",
       "    </tr>\n",
       "  </thead>\n",
       "  <tbody>\n",
       "    <tr>\n",
       "      <th>Fine + high winds</th>\n",
       "      <td>175</td>\n",
       "      <td>1245</td>\n",
       "      <td>7134</td>\n",
       "    </tr>\n",
       "    <tr>\n",
       "      <th>Fine no high winds</th>\n",
       "      <td>7100</td>\n",
       "      <td>72046</td>\n",
       "      <td>441739</td>\n",
       "    </tr>\n",
       "    <tr>\n",
       "      <th>Fog or mist</th>\n",
       "      <td>82</td>\n",
       "      <td>483</td>\n",
       "      <td>2963</td>\n",
       "    </tr>\n",
       "    <tr>\n",
       "      <th>Other</th>\n",
       "      <td>165</td>\n",
       "      <td>1801</td>\n",
       "      <td>15184</td>\n",
       "    </tr>\n",
       "    <tr>\n",
       "      <th>Raining + high winds</th>\n",
       "      <td>145</td>\n",
       "      <td>1261</td>\n",
       "      <td>8209</td>\n",
       "    </tr>\n",
       "    <tr>\n",
       "      <th>Raining no high winds</th>\n",
       "      <td>848</td>\n",
       "      <td>9468</td>\n",
       "      <td>69380</td>\n",
       "    </tr>\n",
       "    <tr>\n",
       "      <th>Snowing + high winds</th>\n",
       "      <td>3</td>\n",
       "      <td>109</td>\n",
       "      <td>773</td>\n",
       "    </tr>\n",
       "    <tr>\n",
       "      <th>Snowing no high winds</th>\n",
       "      <td>36</td>\n",
       "      <td>565</td>\n",
       "      <td>5637</td>\n",
       "    </tr>\n",
       "  </tbody>\n",
       "</table>\n",
       "</div>"
      ],
      "text/plain": [
       "Accident_Severity      Fatal  Serious  Slight\n",
       "Weather_Conditions                           \n",
       "Fine + high winds        175     1245    7134\n",
       "Fine no high winds      7100    72046  441739\n",
       "Fog or mist               82      483    2963\n",
       "Other                    165     1801   15184\n",
       "Raining + high winds     145     1261    8209\n",
       "Raining no high winds    848     9468   69380\n",
       "Snowing + high winds       3      109     773\n",
       "Snowing no high winds     36      565    5637"
      ]
     },
     "execution_count": 28,
     "metadata": {},
     "output_type": "execute_result"
    }
   ],
   "source": [
    "pd.crosstab(df['Weather_Conditions'], df['Accident_Severity'])"
   ]
  },
  {
   "cell_type": "markdown",
   "id": "bdaa3d48-c56f-48f9-877e-f6668094e527",
   "metadata": {},
   "source": [
    "<p>It shows that weathers contributes, it simply shows that a severe outcomes are more frequent in poor weather</p>"
   ]
  },
  {
   "cell_type": "markdown",
   "id": "f486fb85-314c-4b72-aded-30c2150095fb",
   "metadata": {},
   "source": [
    "<h1>19. To what extend does road surface influence road severity?</h1>"
   ]
  },
  {
   "cell_type": "code",
   "execution_count": 29,
   "id": "b02c8643-85f6-4eac-a2d2-61ea849288a2",
   "metadata": {},
   "outputs": [
    {
     "data": {
      "text/html": [
       "<div>\n",
       "<style scoped>\n",
       "    .dataframe tbody tr th:only-of-type {\n",
       "        vertical-align: middle;\n",
       "    }\n",
       "\n",
       "    .dataframe tbody tr th {\n",
       "        vertical-align: top;\n",
       "    }\n",
       "\n",
       "    .dataframe thead th {\n",
       "        text-align: right;\n",
       "    }\n",
       "</style>\n",
       "<table border=\"1\" class=\"dataframe\">\n",
       "  <thead>\n",
       "    <tr style=\"text-align: right;\">\n",
       "      <th>Accident_Severity</th>\n",
       "      <th>Fatal</th>\n",
       "      <th>Serious</th>\n",
       "      <th>Slight</th>\n",
       "    </tr>\n",
       "    <tr>\n",
       "      <th>Road_Surface_Conditions</th>\n",
       "      <th></th>\n",
       "      <th></th>\n",
       "      <th></th>\n",
       "    </tr>\n",
       "  </thead>\n",
       "  <tbody>\n",
       "    <tr>\n",
       "      <th>Dry</th>\n",
       "      <td>5788</td>\n",
       "      <td>61638</td>\n",
       "      <td>380395</td>\n",
       "    </tr>\n",
       "    <tr>\n",
       "      <th>Flood over 3cm. deep</th>\n",
       "      <td>23</td>\n",
       "      <td>152</td>\n",
       "      <td>842</td>\n",
       "    </tr>\n",
       "    <tr>\n",
       "      <th>Frost or ice</th>\n",
       "      <td>193</td>\n",
       "      <td>2007</td>\n",
       "      <td>16317</td>\n",
       "    </tr>\n",
       "    <tr>\n",
       "      <th>Snow</th>\n",
       "      <td>35</td>\n",
       "      <td>565</td>\n",
       "      <td>5290</td>\n",
       "    </tr>\n",
       "    <tr>\n",
       "      <th>Wet or damp</th>\n",
       "      <td>2620</td>\n",
       "      <td>23785</td>\n",
       "      <td>160303</td>\n",
       "    </tr>\n",
       "  </tbody>\n",
       "</table>\n",
       "</div>"
      ],
      "text/plain": [
       "Accident_Severity        Fatal  Serious  Slight\n",
       "Road_Surface_Conditions                        \n",
       "Dry                       5788    61638  380395\n",
       "Flood over 3cm. deep        23      152     842\n",
       "Frost or ice               193     2007   16317\n",
       "Snow                        35      565    5290\n",
       "Wet or damp               2620    23785  160303"
      ]
     },
     "execution_count": 29,
     "metadata": {},
     "output_type": "execute_result"
    }
   ],
   "source": [
    "pd.crosstab(df['Road_Surface_Conditions'], df['Accident_Severity'])"
   ]
  },
  {
   "cell_type": "markdown",
   "id": "66a7f350-d43c-4378-8da4-18443ae42717",
   "metadata": {},
   "source": [
    "<p>This demonstrate that wet and icy have a higher risk of severe accidents</p>"
   ]
  },
  {
   "cell_type": "markdown",
   "id": "9685b0ea-6e18-4f02-9168-ef6dd8340ba9",
   "metadata": {},
   "source": [
    "<h1>20. What road type has the most road severity?</h1>"
   ]
  },
  {
   "cell_type": "code",
   "execution_count": 30,
   "id": "8dc2543a-b526-4852-8dc7-7ae1706afeb0",
   "metadata": {},
   "outputs": [
    {
     "data": {
      "text/html": [
       "<div>\n",
       "<style scoped>\n",
       "    .dataframe tbody tr th:only-of-type {\n",
       "        vertical-align: middle;\n",
       "    }\n",
       "\n",
       "    .dataframe tbody tr th {\n",
       "        vertical-align: top;\n",
       "    }\n",
       "\n",
       "    .dataframe thead th {\n",
       "        text-align: right;\n",
       "    }\n",
       "</style>\n",
       "<table border=\"1\" class=\"dataframe\">\n",
       "  <thead>\n",
       "    <tr style=\"text-align: right;\">\n",
       "      <th>Accident_Severity</th>\n",
       "      <th>Fatal</th>\n",
       "      <th>Serious</th>\n",
       "      <th>Slight</th>\n",
       "    </tr>\n",
       "    <tr>\n",
       "      <th>Road_Type</th>\n",
       "      <th></th>\n",
       "      <th></th>\n",
       "      <th></th>\n",
       "    </tr>\n",
       "  </thead>\n",
       "  <tbody>\n",
       "    <tr>\n",
       "      <th>Dual carriageway</th>\n",
       "      <td>1815</td>\n",
       "      <td>11746</td>\n",
       "      <td>85863</td>\n",
       "    </tr>\n",
       "    <tr>\n",
       "      <th>One way street</th>\n",
       "      <td>95</td>\n",
       "      <td>1655</td>\n",
       "      <td>11809</td>\n",
       "    </tr>\n",
       "    <tr>\n",
       "      <th>Roundabout</th>\n",
       "      <td>142</td>\n",
       "      <td>3665</td>\n",
       "      <td>40185</td>\n",
       "    </tr>\n",
       "    <tr>\n",
       "      <th>Single carriageway</th>\n",
       "      <td>6527</td>\n",
       "      <td>70059</td>\n",
       "      <td>415557</td>\n",
       "    </tr>\n",
       "    <tr>\n",
       "      <th>Slip road</th>\n",
       "      <td>49</td>\n",
       "      <td>611</td>\n",
       "      <td>6381</td>\n",
       "    </tr>\n",
       "  </tbody>\n",
       "</table>\n",
       "</div>"
      ],
      "text/plain": [
       "Accident_Severity   Fatal  Serious  Slight\n",
       "Road_Type                                 \n",
       "Dual carriageway     1815    11746   85863\n",
       "One way street         95     1655   11809\n",
       "Roundabout            142     3665   40185\n",
       "Single carriageway   6527    70059  415557\n",
       "Slip road              49      611    6381"
      ]
     },
     "execution_count": 30,
     "metadata": {},
     "output_type": "execute_result"
    }
   ],
   "source": [
    "pd.crosstab(df[\"Road_Type\"], df['Accident_Severity'])"
   ]
  },
  {
   "cell_type": "markdown",
   "id": "ecc72b45-ba5d-490c-b0c9-454bbae7949f",
   "metadata": {},
   "source": [
    "<p>The data set shows that most of the road severity comes from dual carriageway</p>"
   ]
  },
  {
   "cell_type": "code",
   "execution_count": 31,
   "id": "5d5fe071-d407-476e-b98e-64d7c3df4d23",
   "metadata": {},
   "outputs": [],
   "source": [
    "df['Accident Date'] = pd.to_datetime(df['Accident Date'], dayfirst = True, errors = 'coerce')"
   ]
  },
  {
   "cell_type": "code",
   "execution_count": 32,
   "id": "663360c4-ed6d-46c3-92cd-c822b1341d86",
   "metadata": {},
   "outputs": [
    {
     "data": {
      "text/plain": [
       "Index                              object\n",
       "Accident_Severity                  object\n",
       "Accident Date              datetime64[ns]\n",
       "Latitude                          float64\n",
       "Light_Conditions                   object\n",
       "District Area                      object\n",
       "Longitude                         float64\n",
       "Number_of_Casualties                int64\n",
       "Number_of_Vehicles                  int64\n",
       "Road_Surface_Conditions            object\n",
       "Road_Type                          object\n",
       "Urban_or_Rural_Area                object\n",
       "Weather_Conditions                 object\n",
       "Vehicle_Type                       object\n",
       "dtype: object"
      ]
     },
     "execution_count": 32,
     "metadata": {},
     "output_type": "execute_result"
    }
   ],
   "source": [
    "df.dtypes"
   ]
  },
  {
   "cell_type": "code",
   "execution_count": 33,
   "id": "0fd34cb4-f046-406d-a6f0-2fc966613930",
   "metadata": {},
   "outputs": [
    {
     "data": {
      "text/plain": [
       "Index                           0\n",
       "Accident_Severity               0\n",
       "Accident Date              395672\n",
       "Latitude                       25\n",
       "Light_Conditions                0\n",
       "District Area                   0\n",
       "Longitude                      26\n",
       "Number_of_Casualties            0\n",
       "Number_of_Vehicles              0\n",
       "Road_Surface_Conditions       726\n",
       "Road_Type                    4520\n",
       "Urban_or_Rural_Area            15\n",
       "Weather_Conditions          14128\n",
       "Vehicle_Type                    0\n",
       "dtype: int64"
      ]
     },
     "execution_count": 33,
     "metadata": {},
     "output_type": "execute_result"
    }
   ],
   "source": [
    "df.isnull().sum()"
   ]
  },
  {
   "cell_type": "markdown",
   "id": "163e3e6d-a77b-4a89-a2da-4590a983bff0",
   "metadata": {},
   "source": [
    "<h1>Extracting date information using pandas date time</h1>"
   ]
  },
  {
   "cell_type": "code",
   "execution_count": 34,
   "id": "527c21a2-65e3-4780-9fb1-769cc10fe1c9",
   "metadata": {},
   "outputs": [],
   "source": [
    "df['Year'] = df['Accident Date'].dt.year\n",
    "df['Month'] = df['Accident Date'].dt.month\n",
    "df['Day'] = df['Accident Date'].dt.day\n",
    "df['DayOfWeek'] = df['Accident Date'].dt.dayofweek"
   ]
  },
  {
   "cell_type": "code",
   "execution_count": 35,
   "id": "f99c816b-1fa4-4785-8318-bcd4f0294ce3",
   "metadata": {},
   "outputs": [
    {
     "data": {
      "text/plain": [
       "Index                           0\n",
       "Accident_Severity               0\n",
       "Accident Date              395672\n",
       "Latitude                       25\n",
       "Light_Conditions                0\n",
       "District Area                   0\n",
       "Longitude                      26\n",
       "Number_of_Casualties            0\n",
       "Number_of_Vehicles              0\n",
       "Road_Surface_Conditions       726\n",
       "Road_Type                    4520\n",
       "Urban_or_Rural_Area            15\n",
       "Weather_Conditions          14128\n",
       "Vehicle_Type                    0\n",
       "Year                       395672\n",
       "Month                      395672\n",
       "Day                        395672\n",
       "DayOfWeek                  395672\n",
       "dtype: int64"
      ]
     },
     "execution_count": 35,
     "metadata": {},
     "output_type": "execute_result"
    }
   ],
   "source": [
    "df.isnull().sum()"
   ]
  },
  {
   "cell_type": "markdown",
   "id": "1edbad6d-74d3-4307-863b-7db5589c8d70",
   "metadata": {},
   "source": [
    "<h1>Adding additional Insights</h1>"
   ]
  },
  {
   "cell_type": "markdown",
   "id": "03ad12b9-ce00-48f4-9bfd-519e234c7cc6",
   "metadata": {},
   "source": [
    "<h1>21. What year have the most severe accident of all time?</h1>"
   ]
  },
  {
   "cell_type": "code",
   "execution_count": 36,
   "id": "99665113-d854-48d0-a392-d3a5c9004ef2",
   "metadata": {},
   "outputs": [
    {
     "data": {
      "text/html": [
       "<div>\n",
       "<style scoped>\n",
       "    .dataframe tbody tr th:only-of-type {\n",
       "        vertical-align: middle;\n",
       "    }\n",
       "\n",
       "    .dataframe tbody tr th {\n",
       "        vertical-align: top;\n",
       "    }\n",
       "\n",
       "    .dataframe thead th {\n",
       "        text-align: right;\n",
       "    }\n",
       "</style>\n",
       "<table border=\"1\" class=\"dataframe\">\n",
       "  <thead>\n",
       "    <tr style=\"text-align: right;\">\n",
       "      <th>Accident_Severity</th>\n",
       "      <th>Fatal</th>\n",
       "      <th>Serious</th>\n",
       "      <th>Slight</th>\n",
       "    </tr>\n",
       "    <tr>\n",
       "      <th>Year</th>\n",
       "      <th></th>\n",
       "      <th></th>\n",
       "      <th></th>\n",
       "    </tr>\n",
       "  </thead>\n",
       "  <tbody>\n",
       "    <tr>\n",
       "      <th>2019.0</th>\n",
       "      <td>1116</td>\n",
       "      <td>9823</td>\n",
       "      <td>60928</td>\n",
       "    </tr>\n",
       "    <tr>\n",
       "      <th>2020.0</th>\n",
       "      <td>942</td>\n",
       "      <td>9346</td>\n",
       "      <td>59875</td>\n",
       "    </tr>\n",
       "    <tr>\n",
       "      <th>2021.0</th>\n",
       "      <td>823</td>\n",
       "      <td>8858</td>\n",
       "      <td>56491</td>\n",
       "    </tr>\n",
       "    <tr>\n",
       "      <th>2022.0</th>\n",
       "      <td>623</td>\n",
       "      <td>7266</td>\n",
       "      <td>48916</td>\n",
       "    </tr>\n",
       "  </tbody>\n",
       "</table>\n",
       "</div>"
      ],
      "text/plain": [
       "Accident_Severity  Fatal  Serious  Slight\n",
       "Year                                     \n",
       "2019.0              1116     9823   60928\n",
       "2020.0               942     9346   59875\n",
       "2021.0               823     8858   56491\n",
       "2022.0               623     7266   48916"
      ]
     },
     "execution_count": 36,
     "metadata": {},
     "output_type": "execute_result"
    }
   ],
   "source": [
    "pd.crosstab(df['Year'], df['Accident_Severity'])"
   ]
  },
  {
   "cell_type": "markdown",
   "id": "b1cf67c1-7628-4f33-bb0d-8c83ec239a59",
   "metadata": {},
   "source": [
    "<p>As the table shows above the highest severe accidents is in year 2019, which has a fatal numbers of 1116, while serious is 9823, and the slight was 60928</p>"
   ]
  },
  {
   "cell_type": "markdown",
   "id": "82da5f2a-f9c1-4a2e-a4d8-47966cba3358",
   "metadata": {},
   "source": [
    "<h1>22. What are the particular number of accidents per season in every year?</h1>"
   ]
  },
  {
   "cell_type": "code",
   "execution_count": 37,
   "id": "e9519204-4b0f-4157-b1ae-75d6369443c3",
   "metadata": {},
   "outputs": [
    {
     "data": {
      "text/html": [
       "<div>\n",
       "<style scoped>\n",
       "    .dataframe tbody tr th:only-of-type {\n",
       "        vertical-align: middle;\n",
       "    }\n",
       "\n",
       "    .dataframe tbody tr th {\n",
       "        vertical-align: top;\n",
       "    }\n",
       "\n",
       "    .dataframe thead th {\n",
       "        text-align: right;\n",
       "    }\n",
       "</style>\n",
       "<table border=\"1\" class=\"dataframe\">\n",
       "  <thead>\n",
       "    <tr style=\"text-align: right;\">\n",
       "      <th>Weather_Conditions</th>\n",
       "      <th>Fine + high winds</th>\n",
       "      <th>Fine no high winds</th>\n",
       "      <th>Fog or mist</th>\n",
       "      <th>Other</th>\n",
       "      <th>Raining + high winds</th>\n",
       "      <th>Raining no high winds</th>\n",
       "      <th>Snowing + high winds</th>\n",
       "      <th>Snowing no high winds</th>\n",
       "    </tr>\n",
       "    <tr>\n",
       "      <th>Year</th>\n",
       "      <th></th>\n",
       "      <th></th>\n",
       "      <th></th>\n",
       "      <th></th>\n",
       "      <th></th>\n",
       "      <th></th>\n",
       "      <th></th>\n",
       "      <th></th>\n",
       "    </tr>\n",
       "  </thead>\n",
       "  <tbody>\n",
       "    <tr>\n",
       "      <th>2019.0</th>\n",
       "      <td>1172</td>\n",
       "      <td>58345</td>\n",
       "      <td>245</td>\n",
       "      <td>1373</td>\n",
       "      <td>1395</td>\n",
       "      <td>7326</td>\n",
       "      <td>27</td>\n",
       "      <td>349</td>\n",
       "    </tr>\n",
       "    <tr>\n",
       "      <th>2020.0</th>\n",
       "      <td>1237</td>\n",
       "      <td>52827</td>\n",
       "      <td>327</td>\n",
       "      <td>2052</td>\n",
       "      <td>1411</td>\n",
       "      <td>10126</td>\n",
       "      <td>102</td>\n",
       "      <td>460</td>\n",
       "    </tr>\n",
       "    <tr>\n",
       "      <th>2021.0</th>\n",
       "      <td>722</td>\n",
       "      <td>51163</td>\n",
       "      <td>398</td>\n",
       "      <td>2060</td>\n",
       "      <td>818</td>\n",
       "      <td>8528</td>\n",
       "      <td>134</td>\n",
       "      <td>1005</td>\n",
       "    </tr>\n",
       "    <tr>\n",
       "      <th>2022.0</th>\n",
       "      <td>519</td>\n",
       "      <td>45558</td>\n",
       "      <td>282</td>\n",
       "      <td>1918</td>\n",
       "      <td>651</td>\n",
       "      <td>5380</td>\n",
       "      <td>157</td>\n",
       "      <td>1274</td>\n",
       "    </tr>\n",
       "  </tbody>\n",
       "</table>\n",
       "</div>"
      ],
      "text/plain": [
       "Weather_Conditions  Fine + high winds  Fine no high winds  Fog or mist  Other  \\\n",
       "Year                                                                            \n",
       "2019.0                           1172               58345          245   1373   \n",
       "2020.0                           1237               52827          327   2052   \n",
       "2021.0                            722               51163          398   2060   \n",
       "2022.0                            519               45558          282   1918   \n",
       "\n",
       "Weather_Conditions  Raining + high winds  Raining no high winds  \\\n",
       "Year                                                              \n",
       "2019.0                              1395                   7326   \n",
       "2020.0                              1411                  10126   \n",
       "2021.0                               818                   8528   \n",
       "2022.0                               651                   5380   \n",
       "\n",
       "Weather_Conditions  Snowing + high winds  Snowing no high winds  \n",
       "Year                                                             \n",
       "2019.0                                27                    349  \n",
       "2020.0                               102                    460  \n",
       "2021.0                               134                   1005  \n",
       "2022.0                               157                   1274  "
      ]
     },
     "execution_count": 37,
     "metadata": {},
     "output_type": "execute_result"
    }
   ],
   "source": [
    "pd.crosstab(df['Year'], df['Weather_Conditions'])"
   ]
  },
  {
   "cell_type": "markdown",
   "id": "86abd723-0c10-49ce-84fb-346f440d7ddc",
   "metadata": {},
   "source": [
    "<p>This shows all the numbers of accidents that happened in every different seasons, This data shows all the accidents that happened around 2019 - 2022</p>"
   ]
  },
  {
   "cell_type": "markdown",
   "id": "da72f715-3b62-4a8d-a6e0-2a294b7e2fba",
   "metadata": {},
   "source": [
    "<h1>23. In what month does the highest accidents cassualties occured?</h1>"
   ]
  },
  {
   "cell_type": "code",
   "execution_count": 38,
   "id": "82593bbd-aa64-432b-a489-23c230556dc1",
   "metadata": {},
   "outputs": [
    {
     "data": {
      "text/html": [
       "<div>\n",
       "<style scoped>\n",
       "    .dataframe tbody tr th:only-of-type {\n",
       "        vertical-align: middle;\n",
       "    }\n",
       "\n",
       "    .dataframe tbody tr th {\n",
       "        vertical-align: top;\n",
       "    }\n",
       "\n",
       "    .dataframe thead th {\n",
       "        text-align: right;\n",
       "    }\n",
       "</style>\n",
       "<table border=\"1\" class=\"dataframe\">\n",
       "  <thead>\n",
       "    <tr style=\"text-align: right;\">\n",
       "      <th>Number_of_Casualties</th>\n",
       "      <th>1</th>\n",
       "      <th>2</th>\n",
       "      <th>3</th>\n",
       "      <th>4</th>\n",
       "      <th>5</th>\n",
       "      <th>6</th>\n",
       "      <th>7</th>\n",
       "      <th>8</th>\n",
       "      <th>9</th>\n",
       "      <th>10</th>\n",
       "      <th>...</th>\n",
       "      <th>19</th>\n",
       "      <th>21</th>\n",
       "      <th>22</th>\n",
       "      <th>24</th>\n",
       "      <th>25</th>\n",
       "      <th>26</th>\n",
       "      <th>27</th>\n",
       "      <th>29</th>\n",
       "      <th>42</th>\n",
       "      <th>68</th>\n",
       "    </tr>\n",
       "    <tr>\n",
       "      <th>Month</th>\n",
       "      <th></th>\n",
       "      <th></th>\n",
       "      <th></th>\n",
       "      <th></th>\n",
       "      <th></th>\n",
       "      <th></th>\n",
       "      <th></th>\n",
       "      <th></th>\n",
       "      <th></th>\n",
       "      <th></th>\n",
       "      <th></th>\n",
       "      <th></th>\n",
       "      <th></th>\n",
       "      <th></th>\n",
       "      <th></th>\n",
       "      <th></th>\n",
       "      <th></th>\n",
       "      <th></th>\n",
       "      <th></th>\n",
       "      <th></th>\n",
       "      <th></th>\n",
       "    </tr>\n",
       "  </thead>\n",
       "  <tbody>\n",
       "    <tr>\n",
       "      <th>1.0</th>\n",
       "      <td>13837</td>\n",
       "      <td>3079</td>\n",
       "      <td>888</td>\n",
       "      <td>289</td>\n",
       "      <td>91</td>\n",
       "      <td>44</td>\n",
       "      <td>10</td>\n",
       "      <td>6</td>\n",
       "      <td>4</td>\n",
       "      <td>0</td>\n",
       "      <td>...</td>\n",
       "      <td>0</td>\n",
       "      <td>0</td>\n",
       "      <td>0</td>\n",
       "      <td>0</td>\n",
       "      <td>0</td>\n",
       "      <td>1</td>\n",
       "      <td>0</td>\n",
       "      <td>0</td>\n",
       "      <td>0</td>\n",
       "      <td>1</td>\n",
       "    </tr>\n",
       "    <tr>\n",
       "      <th>2.0</th>\n",
       "      <td>17133</td>\n",
       "      <td>3620</td>\n",
       "      <td>1000</td>\n",
       "      <td>340</td>\n",
       "      <td>111</td>\n",
       "      <td>37</td>\n",
       "      <td>10</td>\n",
       "      <td>3</td>\n",
       "      <td>4</td>\n",
       "      <td>2</td>\n",
       "      <td>...</td>\n",
       "      <td>0</td>\n",
       "      <td>0</td>\n",
       "      <td>0</td>\n",
       "      <td>0</td>\n",
       "      <td>0</td>\n",
       "      <td>0</td>\n",
       "      <td>0</td>\n",
       "      <td>0</td>\n",
       "      <td>0</td>\n",
       "      <td>0</td>\n",
       "    </tr>\n",
       "    <tr>\n",
       "      <th>3.0</th>\n",
       "      <td>16789</td>\n",
       "      <td>3561</td>\n",
       "      <td>978</td>\n",
       "      <td>323</td>\n",
       "      <td>98</td>\n",
       "      <td>45</td>\n",
       "      <td>10</td>\n",
       "      <td>11</td>\n",
       "      <td>3</td>\n",
       "      <td>3</td>\n",
       "      <td>...</td>\n",
       "      <td>1</td>\n",
       "      <td>1</td>\n",
       "      <td>0</td>\n",
       "      <td>0</td>\n",
       "      <td>0</td>\n",
       "      <td>0</td>\n",
       "      <td>0</td>\n",
       "      <td>0</td>\n",
       "      <td>0</td>\n",
       "      <td>0</td>\n",
       "    </tr>\n",
       "    <tr>\n",
       "      <th>4.0</th>\n",
       "      <td>14845</td>\n",
       "      <td>3364</td>\n",
       "      <td>964</td>\n",
       "      <td>370</td>\n",
       "      <td>142</td>\n",
       "      <td>63</td>\n",
       "      <td>23</td>\n",
       "      <td>4</td>\n",
       "      <td>4</td>\n",
       "      <td>1</td>\n",
       "      <td>...</td>\n",
       "      <td>0</td>\n",
       "      <td>0</td>\n",
       "      <td>0</td>\n",
       "      <td>0</td>\n",
       "      <td>0</td>\n",
       "      <td>0</td>\n",
       "      <td>1</td>\n",
       "      <td>0</td>\n",
       "      <td>0</td>\n",
       "      <td>0</td>\n",
       "    </tr>\n",
       "    <tr>\n",
       "      <th>5.0</th>\n",
       "      <td>16648</td>\n",
       "      <td>3458</td>\n",
       "      <td>1035</td>\n",
       "      <td>333</td>\n",
       "      <td>147</td>\n",
       "      <td>56</td>\n",
       "      <td>26</td>\n",
       "      <td>13</td>\n",
       "      <td>1</td>\n",
       "      <td>1</td>\n",
       "      <td>...</td>\n",
       "      <td>0</td>\n",
       "      <td>0</td>\n",
       "      <td>0</td>\n",
       "      <td>0</td>\n",
       "      <td>0</td>\n",
       "      <td>0</td>\n",
       "      <td>0</td>\n",
       "      <td>0</td>\n",
       "      <td>0</td>\n",
       "      <td>0</td>\n",
       "    </tr>\n",
       "    <tr>\n",
       "      <th>6.0</th>\n",
       "      <td>17137</td>\n",
       "      <td>3496</td>\n",
       "      <td>1016</td>\n",
       "      <td>343</td>\n",
       "      <td>125</td>\n",
       "      <td>39</td>\n",
       "      <td>19</td>\n",
       "      <td>5</td>\n",
       "      <td>5</td>\n",
       "      <td>4</td>\n",
       "      <td>...</td>\n",
       "      <td>0</td>\n",
       "      <td>0</td>\n",
       "      <td>1</td>\n",
       "      <td>0</td>\n",
       "      <td>0</td>\n",
       "      <td>0</td>\n",
       "      <td>0</td>\n",
       "      <td>0</td>\n",
       "      <td>0</td>\n",
       "      <td>0</td>\n",
       "    </tr>\n",
       "    <tr>\n",
       "      <th>7.0</th>\n",
       "      <td>17640</td>\n",
       "      <td>3654</td>\n",
       "      <td>1032</td>\n",
       "      <td>365</td>\n",
       "      <td>141</td>\n",
       "      <td>59</td>\n",
       "      <td>27</td>\n",
       "      <td>6</td>\n",
       "      <td>6</td>\n",
       "      <td>1</td>\n",
       "      <td>...</td>\n",
       "      <td>0</td>\n",
       "      <td>0</td>\n",
       "      <td>1</td>\n",
       "      <td>1</td>\n",
       "      <td>0</td>\n",
       "      <td>0</td>\n",
       "      <td>0</td>\n",
       "      <td>1</td>\n",
       "      <td>0</td>\n",
       "      <td>0</td>\n",
       "    </tr>\n",
       "    <tr>\n",
       "      <th>8.0</th>\n",
       "      <td>15842</td>\n",
       "      <td>3528</td>\n",
       "      <td>1048</td>\n",
       "      <td>420</td>\n",
       "      <td>171</td>\n",
       "      <td>51</td>\n",
       "      <td>24</td>\n",
       "      <td>10</td>\n",
       "      <td>9</td>\n",
       "      <td>0</td>\n",
       "      <td>...</td>\n",
       "      <td>0</td>\n",
       "      <td>0</td>\n",
       "      <td>0</td>\n",
       "      <td>0</td>\n",
       "      <td>1</td>\n",
       "      <td>0</td>\n",
       "      <td>0</td>\n",
       "      <td>1</td>\n",
       "      <td>0</td>\n",
       "      <td>0</td>\n",
       "    </tr>\n",
       "    <tr>\n",
       "      <th>9.0</th>\n",
       "      <td>17159</td>\n",
       "      <td>3724</td>\n",
       "      <td>1081</td>\n",
       "      <td>373</td>\n",
       "      <td>137</td>\n",
       "      <td>61</td>\n",
       "      <td>12</td>\n",
       "      <td>6</td>\n",
       "      <td>1</td>\n",
       "      <td>0</td>\n",
       "      <td>...</td>\n",
       "      <td>1</td>\n",
       "      <td>0</td>\n",
       "      <td>0</td>\n",
       "      <td>0</td>\n",
       "      <td>0</td>\n",
       "      <td>0</td>\n",
       "      <td>0</td>\n",
       "      <td>0</td>\n",
       "      <td>0</td>\n",
       "      <td>0</td>\n",
       "    </tr>\n",
       "    <tr>\n",
       "      <th>10.0</th>\n",
       "      <td>18505</td>\n",
       "      <td>3816</td>\n",
       "      <td>1062</td>\n",
       "      <td>356</td>\n",
       "      <td>139</td>\n",
       "      <td>45</td>\n",
       "      <td>19</td>\n",
       "      <td>7</td>\n",
       "      <td>1</td>\n",
       "      <td>4</td>\n",
       "      <td>...</td>\n",
       "      <td>1</td>\n",
       "      <td>0</td>\n",
       "      <td>0</td>\n",
       "      <td>0</td>\n",
       "      <td>0</td>\n",
       "      <td>0</td>\n",
       "      <td>0</td>\n",
       "      <td>0</td>\n",
       "      <td>1</td>\n",
       "      <td>0</td>\n",
       "    </tr>\n",
       "    <tr>\n",
       "      <th>11.0</th>\n",
       "      <td>18581</td>\n",
       "      <td>3920</td>\n",
       "      <td>1131</td>\n",
       "      <td>381</td>\n",
       "      <td>132</td>\n",
       "      <td>51</td>\n",
       "      <td>23</td>\n",
       "      <td>7</td>\n",
       "      <td>6</td>\n",
       "      <td>2</td>\n",
       "      <td>...</td>\n",
       "      <td>0</td>\n",
       "      <td>1</td>\n",
       "      <td>0</td>\n",
       "      <td>0</td>\n",
       "      <td>0</td>\n",
       "      <td>0</td>\n",
       "      <td>0</td>\n",
       "      <td>0</td>\n",
       "      <td>0</td>\n",
       "      <td>0</td>\n",
       "    </tr>\n",
       "    <tr>\n",
       "      <th>12.0</th>\n",
       "      <td>18491</td>\n",
       "      <td>3973</td>\n",
       "      <td>1121</td>\n",
       "      <td>386</td>\n",
       "      <td>116</td>\n",
       "      <td>47</td>\n",
       "      <td>10</td>\n",
       "      <td>3</td>\n",
       "      <td>2</td>\n",
       "      <td>2</td>\n",
       "      <td>...</td>\n",
       "      <td>0</td>\n",
       "      <td>0</td>\n",
       "      <td>0</td>\n",
       "      <td>0</td>\n",
       "      <td>0</td>\n",
       "      <td>0</td>\n",
       "      <td>0</td>\n",
       "      <td>0</td>\n",
       "      <td>0</td>\n",
       "      <td>0</td>\n",
       "    </tr>\n",
       "  </tbody>\n",
       "</table>\n",
       "<p>12 rows × 28 columns</p>\n",
       "</div>"
      ],
      "text/plain": [
       "Number_of_Casualties     1     2     3    4    5   6   7   8   9   10  ...  \\\n",
       "Month                                                                  ...   \n",
       "1.0                   13837  3079   888  289   91  44  10   6   4   0  ...   \n",
       "2.0                   17133  3620  1000  340  111  37  10   3   4   2  ...   \n",
       "3.0                   16789  3561   978  323   98  45  10  11   3   3  ...   \n",
       "4.0                   14845  3364   964  370  142  63  23   4   4   1  ...   \n",
       "5.0                   16648  3458  1035  333  147  56  26  13   1   1  ...   \n",
       "6.0                   17137  3496  1016  343  125  39  19   5   5   4  ...   \n",
       "7.0                   17640  3654  1032  365  141  59  27   6   6   1  ...   \n",
       "8.0                   15842  3528  1048  420  171  51  24  10   9   0  ...   \n",
       "9.0                   17159  3724  1081  373  137  61  12   6   1   0  ...   \n",
       "10.0                  18505  3816  1062  356  139  45  19   7   1   4  ...   \n",
       "11.0                  18581  3920  1131  381  132  51  23   7   6   2  ...   \n",
       "12.0                  18491  3973  1121  386  116  47  10   3   2   2  ...   \n",
       "\n",
       "Number_of_Casualties  19  21  22  24  25  26  27  29  42  68  \n",
       "Month                                                         \n",
       "1.0                    0   0   0   0   0   1   0   0   0   1  \n",
       "2.0                    0   0   0   0   0   0   0   0   0   0  \n",
       "3.0                    1   1   0   0   0   0   0   0   0   0  \n",
       "4.0                    0   0   0   0   0   0   1   0   0   0  \n",
       "5.0                    0   0   0   0   0   0   0   0   0   0  \n",
       "6.0                    0   0   1   0   0   0   0   0   0   0  \n",
       "7.0                    0   0   1   1   0   0   0   1   0   0  \n",
       "8.0                    0   0   0   0   1   0   0   1   0   0  \n",
       "9.0                    1   0   0   0   0   0   0   0   0   0  \n",
       "10.0                   1   0   0   0   0   0   0   0   1   0  \n",
       "11.0                   0   1   0   0   0   0   0   0   0   0  \n",
       "12.0                   0   0   0   0   0   0   0   0   0   0  \n",
       "\n",
       "[12 rows x 28 columns]"
      ]
     },
     "execution_count": 38,
     "metadata": {},
     "output_type": "execute_result"
    }
   ],
   "source": [
    "pd.crosstab(df['Month'], df['Number_of_Casualties'])"
   ]
  },
  {
   "cell_type": "markdown",
   "id": "b7a5458d-fc63-482e-b29a-df6f4c5b4c37",
   "metadata": {},
   "source": [
    "<p>The table above shows that month of november has the highest number of cassualties</p>"
   ]
  },
  {
   "cell_type": "markdown",
   "id": "a1065d15-f724-41d4-8885-67a52e2be21b",
   "metadata": {},
   "source": [
    "<h1>24 On what week does the highest data of accidents happened?</h1>"
   ]
  },
  {
   "cell_type": "code",
   "execution_count": 39,
   "id": "f198c1ef-eb25-4cb4-9f27-b8bc72e2705d",
   "metadata": {},
   "outputs": [
    {
     "data": {
      "text/html": [
       "<div>\n",
       "<style scoped>\n",
       "    .dataframe tbody tr th:only-of-type {\n",
       "        vertical-align: middle;\n",
       "    }\n",
       "\n",
       "    .dataframe tbody tr th {\n",
       "        vertical-align: top;\n",
       "    }\n",
       "\n",
       "    .dataframe thead th {\n",
       "        text-align: right;\n",
       "    }\n",
       "</style>\n",
       "<table border=\"1\" class=\"dataframe\">\n",
       "  <thead>\n",
       "    <tr style=\"text-align: right;\">\n",
       "      <th>Number_of_Casualties</th>\n",
       "      <th>1</th>\n",
       "      <th>2</th>\n",
       "      <th>3</th>\n",
       "      <th>4</th>\n",
       "      <th>5</th>\n",
       "      <th>6</th>\n",
       "      <th>7</th>\n",
       "      <th>8</th>\n",
       "      <th>9</th>\n",
       "      <th>10</th>\n",
       "      <th>...</th>\n",
       "      <th>19</th>\n",
       "      <th>21</th>\n",
       "      <th>22</th>\n",
       "      <th>24</th>\n",
       "      <th>25</th>\n",
       "      <th>26</th>\n",
       "      <th>27</th>\n",
       "      <th>29</th>\n",
       "      <th>42</th>\n",
       "      <th>68</th>\n",
       "    </tr>\n",
       "    <tr>\n",
       "      <th>DayOfWeek</th>\n",
       "      <th></th>\n",
       "      <th></th>\n",
       "      <th></th>\n",
       "      <th></th>\n",
       "      <th></th>\n",
       "      <th></th>\n",
       "      <th></th>\n",
       "      <th></th>\n",
       "      <th></th>\n",
       "      <th></th>\n",
       "      <th></th>\n",
       "      <th></th>\n",
       "      <th></th>\n",
       "      <th></th>\n",
       "      <th></th>\n",
       "      <th></th>\n",
       "      <th></th>\n",
       "      <th></th>\n",
       "      <th></th>\n",
       "      <th></th>\n",
       "      <th></th>\n",
       "    </tr>\n",
       "  </thead>\n",
       "  <tbody>\n",
       "    <tr>\n",
       "      <th>0.0</th>\n",
       "      <td>20380</td>\n",
       "      <td>5255</td>\n",
       "      <td>1762</td>\n",
       "      <td>690</td>\n",
       "      <td>279</td>\n",
       "      <td>120</td>\n",
       "      <td>40</td>\n",
       "      <td>21</td>\n",
       "      <td>9</td>\n",
       "      <td>2</td>\n",
       "      <td>...</td>\n",
       "      <td>0</td>\n",
       "      <td>0</td>\n",
       "      <td>0</td>\n",
       "      <td>0</td>\n",
       "      <td>0</td>\n",
       "      <td>0</td>\n",
       "      <td>0</td>\n",
       "      <td>0</td>\n",
       "      <td>0</td>\n",
       "      <td>0</td>\n",
       "    </tr>\n",
       "    <tr>\n",
       "      <th>1.0</th>\n",
       "      <td>30018</td>\n",
       "      <td>6166</td>\n",
       "      <td>1694</td>\n",
       "      <td>522</td>\n",
       "      <td>187</td>\n",
       "      <td>74</td>\n",
       "      <td>28</td>\n",
       "      <td>9</td>\n",
       "      <td>6</td>\n",
       "      <td>1</td>\n",
       "      <td>...</td>\n",
       "      <td>0</td>\n",
       "      <td>0</td>\n",
       "      <td>0</td>\n",
       "      <td>0</td>\n",
       "      <td>0</td>\n",
       "      <td>0</td>\n",
       "      <td>0</td>\n",
       "      <td>0</td>\n",
       "      <td>0</td>\n",
       "      <td>0</td>\n",
       "    </tr>\n",
       "    <tr>\n",
       "      <th>2.0</th>\n",
       "      <td>31213</td>\n",
       "      <td>6315</td>\n",
       "      <td>1664</td>\n",
       "      <td>562</td>\n",
       "      <td>173</td>\n",
       "      <td>68</td>\n",
       "      <td>25</td>\n",
       "      <td>5</td>\n",
       "      <td>3</td>\n",
       "      <td>2</td>\n",
       "      <td>...</td>\n",
       "      <td>0</td>\n",
       "      <td>1</td>\n",
       "      <td>0</td>\n",
       "      <td>0</td>\n",
       "      <td>0</td>\n",
       "      <td>0</td>\n",
       "      <td>0</td>\n",
       "      <td>0</td>\n",
       "      <td>0</td>\n",
       "      <td>0</td>\n",
       "    </tr>\n",
       "    <tr>\n",
       "      <th>3.0</th>\n",
       "      <td>31141</td>\n",
       "      <td>6045</td>\n",
       "      <td>1625</td>\n",
       "      <td>528</td>\n",
       "      <td>182</td>\n",
       "      <td>60</td>\n",
       "      <td>25</td>\n",
       "      <td>7</td>\n",
       "      <td>9</td>\n",
       "      <td>5</td>\n",
       "      <td>...</td>\n",
       "      <td>1</td>\n",
       "      <td>0</td>\n",
       "      <td>1</td>\n",
       "      <td>0</td>\n",
       "      <td>0</td>\n",
       "      <td>0</td>\n",
       "      <td>0</td>\n",
       "      <td>1</td>\n",
       "      <td>0</td>\n",
       "      <td>1</td>\n",
       "    </tr>\n",
       "    <tr>\n",
       "      <th>4.0</th>\n",
       "      <td>31073</td>\n",
       "      <td>6285</td>\n",
       "      <td>1638</td>\n",
       "      <td>559</td>\n",
       "      <td>167</td>\n",
       "      <td>47</td>\n",
       "      <td>28</td>\n",
       "      <td>6</td>\n",
       "      <td>5</td>\n",
       "      <td>2</td>\n",
       "      <td>...</td>\n",
       "      <td>1</td>\n",
       "      <td>0</td>\n",
       "      <td>1</td>\n",
       "      <td>1</td>\n",
       "      <td>0</td>\n",
       "      <td>1</td>\n",
       "      <td>1</td>\n",
       "      <td>0</td>\n",
       "      <td>1</td>\n",
       "      <td>0</td>\n",
       "    </tr>\n",
       "    <tr>\n",
       "      <th>5.0</th>\n",
       "      <td>33009</td>\n",
       "      <td>7080</td>\n",
       "      <td>2005</td>\n",
       "      <td>646</td>\n",
       "      <td>258</td>\n",
       "      <td>104</td>\n",
       "      <td>24</td>\n",
       "      <td>15</td>\n",
       "      <td>9</td>\n",
       "      <td>2</td>\n",
       "      <td>...</td>\n",
       "      <td>0</td>\n",
       "      <td>1</td>\n",
       "      <td>0</td>\n",
       "      <td>0</td>\n",
       "      <td>1</td>\n",
       "      <td>0</td>\n",
       "      <td>0</td>\n",
       "      <td>1</td>\n",
       "      <td>0</td>\n",
       "      <td>0</td>\n",
       "    </tr>\n",
       "    <tr>\n",
       "      <th>6.0</th>\n",
       "      <td>25773</td>\n",
       "      <td>6047</td>\n",
       "      <td>1968</td>\n",
       "      <td>772</td>\n",
       "      <td>304</td>\n",
       "      <td>125</td>\n",
       "      <td>43</td>\n",
       "      <td>18</td>\n",
       "      <td>5</td>\n",
       "      <td>6</td>\n",
       "      <td>...</td>\n",
       "      <td>1</td>\n",
       "      <td>0</td>\n",
       "      <td>0</td>\n",
       "      <td>0</td>\n",
       "      <td>0</td>\n",
       "      <td>0</td>\n",
       "      <td>0</td>\n",
       "      <td>0</td>\n",
       "      <td>0</td>\n",
       "      <td>0</td>\n",
       "    </tr>\n",
       "  </tbody>\n",
       "</table>\n",
       "<p>7 rows × 28 columns</p>\n",
       "</div>"
      ],
      "text/plain": [
       "Number_of_Casualties     1     2     3    4    5    6   7   8   9   10  ...  \\\n",
       "DayOfWeek                                                               ...   \n",
       "0.0                   20380  5255  1762  690  279  120  40  21   9   2  ...   \n",
       "1.0                   30018  6166  1694  522  187   74  28   9   6   1  ...   \n",
       "2.0                   31213  6315  1664  562  173   68  25   5   3   2  ...   \n",
       "3.0                   31141  6045  1625  528  182   60  25   7   9   5  ...   \n",
       "4.0                   31073  6285  1638  559  167   47  28   6   5   2  ...   \n",
       "5.0                   33009  7080  2005  646  258  104  24  15   9   2  ...   \n",
       "6.0                   25773  6047  1968  772  304  125  43  18   5   6  ...   \n",
       "\n",
       "Number_of_Casualties  19  21  22  24  25  26  27  29  42  68  \n",
       "DayOfWeek                                                     \n",
       "0.0                    0   0   0   0   0   0   0   0   0   0  \n",
       "1.0                    0   0   0   0   0   0   0   0   0   0  \n",
       "2.0                    0   1   0   0   0   0   0   0   0   0  \n",
       "3.0                    1   0   1   0   0   0   0   1   0   1  \n",
       "4.0                    1   0   1   1   0   1   1   0   1   0  \n",
       "5.0                    0   1   0   0   1   0   0   1   0   0  \n",
       "6.0                    1   0   0   0   0   0   0   0   0   0  \n",
       "\n",
       "[7 rows x 28 columns]"
      ]
     },
     "execution_count": 39,
     "metadata": {},
     "output_type": "execute_result"
    }
   ],
   "source": [
    "pd.crosstab(df['DayOfWeek'], df['Number_of_Casualties'])"
   ]
  },
  {
   "cell_type": "code",
   "execution_count": 40,
   "id": "78bf6d78-7760-410c-a3cf-90cd61092a09",
   "metadata": {},
   "outputs": [
    {
     "data": {
      "text/plain": [
       "<Axes: xlabel='Year'>"
      ]
     },
     "execution_count": 40,
     "metadata": {},
     "output_type": "execute_result"
    },
    {
     "data": {
      "image/png": "[encoded data removed]",
      "text/plain": [
       "<Figure size 640x480 with 1 Axes>"
      ]
     },
     "metadata": {},
     "output_type": "display_data"
    }
   ],
   "source": [
    "# Example: Bar chart of accident counts per year\n",
    "import matplotlib.pyplot as plt\n",
    "df.groupby('Year')['Index'].count().plot(kind='bar')"
   ]
  },
  {
   "cell_type": "code",
   "execution_count": 41,
   "id": "1accb575-f641-4349-9e08-9edc3684b94d",
   "metadata": {},
   "outputs": [
    {
     "data": {
      "image/png": "[encoded data removed]",
      "text/plain": [
       "<Figure size 640x480 with 1 Axes>"
      ]
     },
     "metadata": {},
     "output_type": "display_data"
    }
   ],
   "source": [
    "df['Vehicle_Type'].value_counts().plot(kind='bar')\n",
    "plt.show()"
   ]
  },
  {
   "cell_type": "code",
   "execution_count": 42,
   "id": "bb435877-1784-4d9c-9375-00a1de3ad879",
   "metadata": {},
   "outputs": [
    {
     "data": {
      "image/png": "[encoded data removed]",
      "text/plain": [
       "<Figure size 1000x500 with 1 Axes>"
      ]
     },
     "metadata": {},
     "output_type": "display_data"
    }
   ],
   "source": [
    "import matplotlib.pyplot as plt\n",
    "\n",
    "# 1. Group by Year FIRST, then Month (critical order!)\n",
    "monthly_data = df.groupby(['Year', 'Month']).size()\n",
    "\n",
    "# 2. Unstack Year to create separate lines for each year\n",
    "monthly_data = monthly_data.unstack(level=0)\n",
    "\n",
    "# 3. Plot with clean formatting (only 4 lines!)\n",
    "monthly_data.plot(\n",
    "    marker='o', \n",
    "    figsize=(10, 5),\n",
    "    title='Monthly Road Accidents by Year (2019-2022)'\n",
    ")\n",
    "plt.xticks(range(1, 13), ['Jan','Feb','Mar','Apr','May','Jun','Jul','Aug','Sep','Oct','Nov','Dec'])\n",
    "plt.legend(title='Year and Month Severity Comparison', bbox_to_anchor = (1.05,1), loc='upper left')\n",
    "plt.grid(alpha=0.3)\n",
    "plt.show()"
   ]
  },
  {
   "cell_type": "code",
   "execution_count": 43,
   "id": "75ad8b65-ed66-4d82-972d-ac3320240b79",
   "metadata": {},
   "outputs": [
    {
     "data": {
      "image/png": "[encoded data removed]",
      "text/plain": [
       "<Figure size 640x480 with 1 Axes>"
      ]
     },
     "metadata": {},
     "output_type": "display_data"
    },
    {
     "data": {
      "image/png": "[encoded data removed]",
      "text/plain": [
       "<Figure size 640x480 with 1 Axes>"
      ]
     },
     "metadata": {},
     "output_type": "display_data"
    },
    {
     "name": "stdout",
     "output_type": "stream",
     "text": [
      "DayOfWeek\n",
      "Monday       28564\n",
      "Tuesday      38714\n",
      "Wednesday    40037\n",
      "Thursday     39641\n",
      "Friday       39822\n",
      "Saturday     43164\n",
      "Sunday       35065\n",
      "Name: count, dtype: int64\n"
     ]
    },
    {
     "data": {
      "image/png": "[encoded data removed]",
      "text/plain": [
       "<Figure size 640x480 with 1 Axes>"
      ]
     },
     "metadata": {},
     "output_type": "display_data"
    }
   ],
   "source": [
    "# Accidents per year\n",
    "accidents_per_year = df['Year'].value_counts().sort_index()\n",
    "accidents_per_month = df['Month'].value_counts().sort_index()\n",
    "accidents_per_day = df['DayOfWeek'].value_counts().sort_index()\n",
    "\n",
    "\n",
    "#PER YEAR \n",
    "accidents_per_year.plot(kind='bar')\n",
    "plt.title('Accidents per Year')\n",
    "plt.xlabel('Year')\n",
    "plt.ylabel('Number of Accidents')\n",
    "plt.show()\n",
    "\n",
    "month_names = {\n",
    "    1: 'January', 2: 'February', 3: 'March', 4: 'April',\n",
    "    5: 'May', 6: 'June', 7: 'July', 8: 'August',\n",
    "    9: 'September', 10: 'October', 11: 'November', 12: 'December'\n",
    "}\n",
    "\n",
    "# Replace numerical months with their names\n",
    "accidents_per_month.index = accidents_per_month.index.map(month_names)\n",
    "\n",
    "\n",
    "accidents_per_month.plot(kind='bar')\n",
    "plt.title('Accidents per Month')\n",
    "plt.xlabel('Month')\n",
    "plt.ylabel('Number of Accidents')\n",
    "plt.show()\n",
    "\n",
    "\n",
    "#accident per day\n",
    "day_names = {\n",
    "    0: 'Monday',\n",
    "    1: 'Tuesday',\n",
    "    2: 'Wednesday',\n",
    "    3: 'Thursday',\n",
    "    4: 'Friday',\n",
    "    5: 'Saturday',\n",
    "    6: 'Sunday'\n",
    "}\n",
    "\n",
    "accidents_per_day.index = accidents_per_day.index.map(day_names)\n",
    "accidents_per_day.plot(kind='bar')\n",
    "print(accidents_per_day)"
   ]
  },
  {
   "cell_type": "code",
   "execution_count": 44,
   "id": "543bbe05-9fc5-47c8-b3b4-0eebc73bcb5c",
   "metadata": {},
   "outputs": [
    {
     "data": {
      "text/plain": [
       "Month\n",
       "1.0     18252\n",
       "2.0     22264\n",
       "3.0     21824\n",
       "4.0     19787\n",
       "5.0     21723\n",
       "6.0     22196\n",
       "7.0     22939\n",
       "8.0     21106\n",
       "9.0     22558\n",
       "10.0    23962\n",
       "11.0    24240\n",
       "12.0    24156\n",
       "Name: count, dtype: int64"
      ]
     },
     "execution_count": 44,
     "metadata": {},
     "output_type": "execute_result"
    }
   ],
   "source": [
    "accidents_per_month = df['Month'].value_counts().sort_index()\n",
    "accidents_per_month"
   ]
  },
  {
   "cell_type": "code",
   "execution_count": 45,
   "id": "eecfb867-3fc3-474d-b23c-63f0b218cca3",
   "metadata": {},
   "outputs": [
    {
     "data": {
      "image/png": "[encoded data removed]",
      "text/plain": [
       "<Figure size 1000x700 with 1 Axes>"
      ]
     },
     "metadata": {},
     "output_type": "display_data"
    },
    {
     "data": {
      "image/png": "[encoded data removed]",
      "text/plain": [
       "<Figure size 1000x700 with 1 Axes>"
      ]
     },
     "metadata": {},
     "output_type": "display_data"
    }
   ],
   "source": [
    "severity_counts = df['Accident_Severity'].value_counts()\n",
    "\n",
    "plt.pie(severity_counts,\n",
    "        labels = severity_counts.index,\n",
    "        autopct = '%1.1f%%',\n",
    "        startangle = 90)\n",
    "plt.gcf().set_size_inches(10,7)\n",
    "plt.title('Accident Severity Distribution')\n",
    "plt.show()\n",
    "\n",
    "severity_2019 = df[df['Year'] == 2019]\n",
    "# severity_2019\n",
    "sc_2019 = severity_2019['Accident_Severity'].value_counts()\n",
    "\n",
    "plt.pie(sc_2019,\n",
    "        labels = sc_2019.index,\n",
    "        autopct = '%1.1f%%',\n",
    "        startangle = 90)\n",
    "plt.gcf().set_size_inches(10,7)\n",
    "plt.title('Accident Severity Distribution')\n",
    "plt.show()\n"
   ]
  },
  {
   "cell_type": "code",
   "execution_count": 46,
   "id": "f0f127a3-ec32-4cee-b565-36a8495f946d",
   "metadata": {},
   "outputs": [
    {
     "data": {
      "image/png": "[encoded data removed]",
      "text/plain": [
       "<Figure size 1300x800 with 1 Axes>"
      ]
     },
     "metadata": {},
     "output_type": "display_data"
    },
    {
     "data": {
      "image/png": "[encoded data removed]",
      "text/plain": [
       "<Figure size 1300x800 with 1 Axes>"
      ]
     },
     "metadata": {},
     "output_type": "display_data"
    }
   ],
   "source": [
    "# Accidents per month considering severity\n",
    "accidents_per_month_severity = df.groupby(['Month', 'Accident_Severity']).size().unstack()\n",
    "\n",
    "accidents_per_month_severity.plot(kind='bar', stacked = True)\n",
    "plt.title('Accidents per Month by Severity')\n",
    "plt.xlabel('Month')\n",
    "plt.ylabel('Number of Accidents')\n",
    "plt.gcf().set_size_inches(13,8)\n",
    "plt.show()\n",
    "\n",
    "\n",
    "# # Pivot table for accidents by month and weather conditions\n",
    "accidents_by_month_weather = df.pivot_table(index='Month', columns='Weather_Conditions', values='Index', aggfunc='count')\n",
    "\n",
    "accidents_by_month_weather.plot(kind='bar', stacked=True)\n",
    "plt.title('Accidents per Month by Weather Conditions')\n",
    "plt.xlabel('Month')\n",
    "plt.legend(title='Weather Conditions', bbox_to_anchor=(1.05, 1), loc='upper left')\n",
    "plt.ylabel('Number of Accidents')\n",
    "plt.gcf().set_size_inches(13,8)\n",
    "plt.show()\n"
   ]
  },
  {
   "cell_type": "code",
   "execution_count": 47,
   "id": "2a56ffb2-f86c-46e3-9c24-5b5b53130f9e",
   "metadata": {},
   "outputs": [
    {
     "name": "stdout",
     "output_type": "stream",
     "text": [
      "Requirement already satisfied: folium in c:\\users\\user\\appdata\\local\\programs\\python\\python311\\lib\\site-packages (0.19.5)\n",
      "Requirement already satisfied: branca>=0.6.0 in c:\\users\\user\\appdata\\local\\programs\\python\\python311\\lib\\site-packages (from folium) (0.8.1)\n",
      "Requirement already satisfied: jinja2>=2.9 in c:\\users\\user\\appdata\\local\\programs\\python\\python311\\lib\\site-packages (from folium) (3.1.2)\n",
      "Requirement already satisfied: numpy in c:\\users\\user\\appdata\\local\\programs\\python\\python311\\lib\\site-packages (from folium) (1.26.4)\n",
      "Requirement already satisfied: requests in c:\\users\\user\\appdata\\local\\programs\\python\\python311\\lib\\site-packages (from folium) (2.31.0)\n",
      "Requirement already satisfied: xyzservices in c:\\users\\user\\appdata\\local\\programs\\python\\python311\\lib\\site-packages (from folium) (2025.1.0)\n",
      "Requirement already satisfied: MarkupSafe>=2.0 in c:\\users\\user\\appdata\\local\\programs\\python\\python311\\lib\\site-packages (from jinja2>=2.9->folium) (2.1.3)\n",
      "Requirement already satisfied: charset-normalizer<4,>=2 in c:\\users\\user\\appdata\\local\\programs\\python\\python311\\lib\\site-packages (from requests->folium) (3.2.0)\n",
      "Requirement already satisfied: idna<4,>=2.5 in c:\\users\\user\\appdata\\local\\programs\\python\\python311\\lib\\site-packages (from requests->folium) (3.4)\n",
      "Requirement already satisfied: urllib3<3,>=1.21.1 in c:\\users\\user\\appdata\\local\\programs\\python\\python311\\lib\\site-packages (from requests->folium) (2.0.5)\n",
      "Requirement already satisfied: certifi>=2017.4.17 in c:\\users\\user\\appdata\\local\\programs\\python\\python311\\lib\\site-packages (from requests->folium) (2023.7.22)\n",
      "Note: you may need to restart the kernel to use updated packages.\n"
     ]
    }
   ],
   "source": [
    "pip install folium"
   ]
  },
  {
   "cell_type": "code",
   "execution_count": null,
   "id": "76536883-1f41-4259-ad0a-74d52ffa7651",
   "metadata": {},
   "outputs": [],
   "source": []
  },
  {
   "cell_type": "code",
   "execution_count": 57,
   "id": "f8c9b172-4ffd-4bf8-81d1-90c8a6e624c2",
   "metadata": {},
   "outputs": [
    {
     "ename": "ValueError",
     "evalue": "Location values cannot contain NaNs.",
     "output_type": "error",
     "traceback": [
      "\u001b[1;31m---------------------------------------------------------------------------\u001b[0m",
      "\u001b[1;31mValueError\u001b[0m                                Traceback (most recent call last)",
      "Cell \u001b[1;32mIn[57], line 12\u001b[0m\n\u001b[0;32m      9\u001b[0m m \u001b[38;5;241m=\u001b[39m folium\u001b[38;5;241m.\u001b[39mMap(location\u001b[38;5;241m=\u001b[39m[df[\u001b[38;5;124m'\u001b[39m\u001b[38;5;124mLatitude\u001b[39m\u001b[38;5;124m'\u001b[39m]\u001b[38;5;241m.\u001b[39mmean(), df[\u001b[38;5;124m'\u001b[39m\u001b[38;5;124mLongitude\u001b[39m\u001b[38;5;124m'\u001b[39m]\u001b[38;5;241m.\u001b[39mmean()], zoom_start\u001b[38;5;241m=\u001b[39m\u001b[38;5;241m10\u001b[39m)\n\u001b[0;32m     11\u001b[0m \u001b[38;5;66;03m# Step 3: Add the heatmap layer\u001b[39;00m\n\u001b[1;32m---> 12\u001b[0m \u001b[43mHeatMap\u001b[49m\u001b[43m(\u001b[49m\u001b[43mlocations\u001b[49m\u001b[43m)\u001b[49m\u001b[38;5;241m.\u001b[39madd_to(m)\n\u001b[0;32m     14\u001b[0m \u001b[38;5;66;03m# Step 4: Save or display the map\u001b[39;00m\n\u001b[0;32m     15\u001b[0m m\u001b[38;5;241m.\u001b[39msave(\u001b[38;5;124m'\u001b[39m\u001b[38;5;124maccident_heatmap.html\u001b[39m\u001b[38;5;124m'\u001b[39m)  \u001b[38;5;66;03m# Save the map as an HTML file\u001b[39;00m\n",
      "File \u001b[1;32m~\\AppData\\Local\\Programs\\Python\\Python311\\Lib\\site-packages\\folium\\plugins\\heat_map.py:83\u001b[0m, in \u001b[0;36mHeatMap.__init__\u001b[1;34m(self, data, name, min_opacity, max_zoom, radius, blur, gradient, overlay, control, show, **kwargs)\u001b[0m\n\u001b[0;32m     81\u001b[0m \u001b[38;5;28mself\u001b[39m\u001b[38;5;241m.\u001b[39m_name \u001b[38;5;241m=\u001b[39m \u001b[38;5;124m\"\u001b[39m\u001b[38;5;124mHeatMap\u001b[39m\u001b[38;5;124m\"\u001b[39m\n\u001b[0;32m     82\u001b[0m data \u001b[38;5;241m=\u001b[39m if_pandas_df_convert_to_numpy(data)\n\u001b[1;32m---> 83\u001b[0m \u001b[38;5;28mself\u001b[39m\u001b[38;5;241m.\u001b[39mdata \u001b[38;5;241m=\u001b[39m \u001b[43m[\u001b[49m\n\u001b[0;32m     84\u001b[0m \u001b[43m    \u001b[49m\u001b[43m[\u001b[49m\u001b[38;5;241;43m*\u001b[39;49m\u001b[43mvalidate_location\u001b[49m\u001b[43m(\u001b[49m\u001b[43mline\u001b[49m\u001b[43m[\u001b[49m\u001b[43m:\u001b[49m\u001b[38;5;241;43m2\u001b[39;49m\u001b[43m]\u001b[49m\u001b[43m)\u001b[49m\u001b[43m,\u001b[49m\u001b[43m \u001b[49m\u001b[38;5;241;43m*\u001b[39;49m\u001b[43mline\u001b[49m\u001b[43m[\u001b[49m\u001b[38;5;241;43m2\u001b[39;49m\u001b[43m:\u001b[49m\u001b[43m]\u001b[49m\u001b[43m]\u001b[49m\u001b[43m \u001b[49m\u001b[38;5;28;43;01mfor\u001b[39;49;00m\u001b[43m \u001b[49m\u001b[43mline\u001b[49m\u001b[43m \u001b[49m\u001b[38;5;129;43;01min\u001b[39;49;00m\u001b[43m \u001b[49m\u001b[43mdata\u001b[49m\u001b[43m  \u001b[49m\u001b[38;5;66;43;03m# noqa: E999\u001b[39;49;00m\n\u001b[0;32m     85\u001b[0m \u001b[43m\u001b[49m\u001b[43m]\u001b[49m\n\u001b[0;32m     86\u001b[0m \u001b[38;5;28;01mif\u001b[39;00m np\u001b[38;5;241m.\u001b[39many(np\u001b[38;5;241m.\u001b[39misnan(\u001b[38;5;28mself\u001b[39m\u001b[38;5;241m.\u001b[39mdata)):\n\u001b[0;32m     87\u001b[0m     \u001b[38;5;28;01mraise\u001b[39;00m \u001b[38;5;167;01mValueError\u001b[39;00m(\u001b[38;5;124m\"\u001b[39m\u001b[38;5;124mdata may not contain NaNs.\u001b[39m\u001b[38;5;124m\"\u001b[39m)\n",
      "File \u001b[1;32m~\\AppData\\Local\\Programs\\Python\\Python311\\Lib\\site-packages\\folium\\plugins\\heat_map.py:84\u001b[0m, in \u001b[0;36m<listcomp>\u001b[1;34m(.0)\u001b[0m\n\u001b[0;32m     81\u001b[0m \u001b[38;5;28mself\u001b[39m\u001b[38;5;241m.\u001b[39m_name \u001b[38;5;241m=\u001b[39m \u001b[38;5;124m\"\u001b[39m\u001b[38;5;124mHeatMap\u001b[39m\u001b[38;5;124m\"\u001b[39m\n\u001b[0;32m     82\u001b[0m data \u001b[38;5;241m=\u001b[39m if_pandas_df_convert_to_numpy(data)\n\u001b[0;32m     83\u001b[0m \u001b[38;5;28mself\u001b[39m\u001b[38;5;241m.\u001b[39mdata \u001b[38;5;241m=\u001b[39m [\n\u001b[1;32m---> 84\u001b[0m     [\u001b[38;5;241m*\u001b[39m\u001b[43mvalidate_location\u001b[49m\u001b[43m(\u001b[49m\u001b[43mline\u001b[49m\u001b[43m[\u001b[49m\u001b[43m:\u001b[49m\u001b[38;5;241;43m2\u001b[39;49m\u001b[43m]\u001b[49m\u001b[43m)\u001b[49m, \u001b[38;5;241m*\u001b[39mline[\u001b[38;5;241m2\u001b[39m:]] \u001b[38;5;28;01mfor\u001b[39;00m line \u001b[38;5;129;01min\u001b[39;00m data  \u001b[38;5;66;03m# noqa: E999\u001b[39;00m\n\u001b[0;32m     85\u001b[0m ]\n\u001b[0;32m     86\u001b[0m \u001b[38;5;28;01mif\u001b[39;00m np\u001b[38;5;241m.\u001b[39many(np\u001b[38;5;241m.\u001b[39misnan(\u001b[38;5;28mself\u001b[39m\u001b[38;5;241m.\u001b[39mdata)):\n\u001b[0;32m     87\u001b[0m     \u001b[38;5;28;01mraise\u001b[39;00m \u001b[38;5;167;01mValueError\u001b[39;00m(\u001b[38;5;124m\"\u001b[39m\u001b[38;5;124mdata may not contain NaNs.\u001b[39m\u001b[38;5;124m\"\u001b[39m)\n",
      "File \u001b[1;32m~\\AppData\\Local\\Programs\\Python\\Python311\\Lib\\site-packages\\folium\\utilities.py:108\u001b[0m, in \u001b[0;36mvalidate_location\u001b[1;34m(location)\u001b[0m\n\u001b[0;32m    103\u001b[0m         \u001b[38;5;28;01mraise\u001b[39;00m \u001b[38;5;167;01mValueError\u001b[39;00m(\n\u001b[0;32m    104\u001b[0m             \u001b[38;5;124m\"\u001b[39m\u001b[38;5;124mLocation should consist of two numerical values, \u001b[39m\u001b[38;5;124m\"\u001b[39m\n\u001b[0;32m    105\u001b[0m             \u001b[38;5;124mf\u001b[39m\u001b[38;5;124m\"\u001b[39m\u001b[38;5;124mbut \u001b[39m\u001b[38;5;132;01m{\u001b[39;00mcoord\u001b[38;5;132;01m!r}\u001b[39;00m\u001b[38;5;124m of type \u001b[39m\u001b[38;5;132;01m{\u001b[39;00m\u001b[38;5;28mtype\u001b[39m(coord)\u001b[38;5;132;01m}\u001b[39;00m\u001b[38;5;124m is not convertible to float.\u001b[39m\u001b[38;5;124m\"\u001b[39m\n\u001b[0;32m    106\u001b[0m         )\n\u001b[0;32m    107\u001b[0m     \u001b[38;5;28;01mif\u001b[39;00m math\u001b[38;5;241m.\u001b[39misnan(\u001b[38;5;28mfloat\u001b[39m(coord)):\n\u001b[1;32m--> 108\u001b[0m         \u001b[38;5;28;01mraise\u001b[39;00m \u001b[38;5;167;01mValueError\u001b[39;00m(\u001b[38;5;124m\"\u001b[39m\u001b[38;5;124mLocation values cannot contain NaNs.\u001b[39m\u001b[38;5;124m\"\u001b[39m)\n\u001b[0;32m    109\u001b[0m \u001b[38;5;28;01mreturn\u001b[39;00m [\u001b[38;5;28mfloat\u001b[39m(x) \u001b[38;5;28;01mfor\u001b[39;00m x \u001b[38;5;129;01min\u001b[39;00m coords]\n",
      "\u001b[1;31mValueError\u001b[0m: Location values cannot contain NaNs."
     ]
    }
   ],
   "source": [
    "import folium\n",
    "from folium.plugins import HeatMap\n",
    "\n",
    "# Step 1: Extract latitude and longitude from the DataFrame\n",
    "locations = list(zip(df['Latitude'], df['Longitude']))\n",
    "\n",
    "# Step 2: Create a base map centered on a specific location\n",
    "# You can adjust the center and zoom level based on your data\n",
    "m = folium.Map(location=[df['Latitude'].mean(), df['Longitude'].mean()], zoom_start=10)\n",
    "\n",
    "# Step 3: Add the heatmap layer\n",
    "HeatMap(locations).add_to(m)\n",
    "\n",
    "# Step 4: Save or display the map\n",
    "m.save('accident_heatmap.html')  # Save the map as an HTML file\n",
    "m  # Display the map in a Jupyter Notebook"
   ]
  },
  {
   "cell_type": "code",
   "execution_count": 55,
   "id": "d3410f56-4c08-4143-9a1a-b2c20449f4d0",
   "metadata": {},
   "outputs": [
    {
     "ename": "ValueError",
     "evalue": "Location values cannot contain NaNs.",
     "output_type": "error",
     "traceback": [
      "\u001b[1;31m---------------------------------------------------------------------------\u001b[0m",
      "\u001b[1;31mValueError\u001b[0m                                Traceback (most recent call last)",
      "Cell \u001b[1;32mIn[55], line 13\u001b[0m\n\u001b[0;32m     10\u001b[0m m \u001b[38;5;241m=\u001b[39m folium\u001b[38;5;241m.\u001b[39mMap(location\u001b[38;5;241m=\u001b[39m[df[\u001b[38;5;124m'\u001b[39m\u001b[38;5;124mLatitude\u001b[39m\u001b[38;5;124m'\u001b[39m]\u001b[38;5;241m.\u001b[39mmean(), df[\u001b[38;5;124m'\u001b[39m\u001b[38;5;124mLongitude\u001b[39m\u001b[38;5;124m'\u001b[39m]\u001b[38;5;241m.\u001b[39mmean()], zoom_start\u001b[38;5;241m=\u001b[39m\u001b[38;5;241m10\u001b[39m)\n\u001b[0;32m     12\u001b[0m \u001b[38;5;66;03m# Step 3: Add the heatmap layer\u001b[39;00m\n\u001b[1;32m---> 13\u001b[0m \u001b[43mHeatMap\u001b[49m\u001b[43m(\u001b[49m\u001b[43mlocations\u001b[49m\u001b[43m)\u001b[49m\u001b[38;5;241m.\u001b[39madd_to(m)\n\u001b[0;32m     15\u001b[0m \u001b[38;5;66;03m# Step 4: Save or display the map\u001b[39;00m\n\u001b[0;32m     16\u001b[0m m\u001b[38;5;241m.\u001b[39msave(\u001b[38;5;124m'\u001b[39m\u001b[38;5;124mlondon_heatmap.html\u001b[39m\u001b[38;5;124m'\u001b[39m)  \u001b[38;5;66;03m# Save the map as an HTML file\u001b[39;00m\n",
      "File \u001b[1;32m~\\AppData\\Local\\Programs\\Python\\Python311\\Lib\\site-packages\\folium\\plugins\\heat_map.py:83\u001b[0m, in \u001b[0;36mHeatMap.__init__\u001b[1;34m(self, data, name, min_opacity, max_zoom, radius, blur, gradient, overlay, control, show, **kwargs)\u001b[0m\n\u001b[0;32m     81\u001b[0m \u001b[38;5;28mself\u001b[39m\u001b[38;5;241m.\u001b[39m_name \u001b[38;5;241m=\u001b[39m \u001b[38;5;124m\"\u001b[39m\u001b[38;5;124mHeatMap\u001b[39m\u001b[38;5;124m\"\u001b[39m\n\u001b[0;32m     82\u001b[0m data \u001b[38;5;241m=\u001b[39m if_pandas_df_convert_to_numpy(data)\n\u001b[1;32m---> 83\u001b[0m \u001b[38;5;28mself\u001b[39m\u001b[38;5;241m.\u001b[39mdata \u001b[38;5;241m=\u001b[39m \u001b[43m[\u001b[49m\n\u001b[0;32m     84\u001b[0m \u001b[43m    \u001b[49m\u001b[43m[\u001b[49m\u001b[38;5;241;43m*\u001b[39;49m\u001b[43mvalidate_location\u001b[49m\u001b[43m(\u001b[49m\u001b[43mline\u001b[49m\u001b[43m[\u001b[49m\u001b[43m:\u001b[49m\u001b[38;5;241;43m2\u001b[39;49m\u001b[43m]\u001b[49m\u001b[43m)\u001b[49m\u001b[43m,\u001b[49m\u001b[43m \u001b[49m\u001b[38;5;241;43m*\u001b[39;49m\u001b[43mline\u001b[49m\u001b[43m[\u001b[49m\u001b[38;5;241;43m2\u001b[39;49m\u001b[43m:\u001b[49m\u001b[43m]\u001b[49m\u001b[43m]\u001b[49m\u001b[43m \u001b[49m\u001b[38;5;28;43;01mfor\u001b[39;49;00m\u001b[43m \u001b[49m\u001b[43mline\u001b[49m\u001b[43m \u001b[49m\u001b[38;5;129;43;01min\u001b[39;49;00m\u001b[43m \u001b[49m\u001b[43mdata\u001b[49m\u001b[43m  \u001b[49m\u001b[38;5;66;43;03m# noqa: E999\u001b[39;49;00m\n\u001b[0;32m     85\u001b[0m \u001b[43m\u001b[49m\u001b[43m]\u001b[49m\n\u001b[0;32m     86\u001b[0m \u001b[38;5;28;01mif\u001b[39;00m np\u001b[38;5;241m.\u001b[39many(np\u001b[38;5;241m.\u001b[39misnan(\u001b[38;5;28mself\u001b[39m\u001b[38;5;241m.\u001b[39mdata)):\n\u001b[0;32m     87\u001b[0m     \u001b[38;5;28;01mraise\u001b[39;00m \u001b[38;5;167;01mValueError\u001b[39;00m(\u001b[38;5;124m\"\u001b[39m\u001b[38;5;124mdata may not contain NaNs.\u001b[39m\u001b[38;5;124m\"\u001b[39m)\n",
      "File \u001b[1;32m~\\AppData\\Local\\Programs\\Python\\Python311\\Lib\\site-packages\\folium\\plugins\\heat_map.py:84\u001b[0m, in \u001b[0;36m<listcomp>\u001b[1;34m(.0)\u001b[0m\n\u001b[0;32m     81\u001b[0m \u001b[38;5;28mself\u001b[39m\u001b[38;5;241m.\u001b[39m_name \u001b[38;5;241m=\u001b[39m \u001b[38;5;124m\"\u001b[39m\u001b[38;5;124mHeatMap\u001b[39m\u001b[38;5;124m\"\u001b[39m\n\u001b[0;32m     82\u001b[0m data \u001b[38;5;241m=\u001b[39m if_pandas_df_convert_to_numpy(data)\n\u001b[0;32m     83\u001b[0m \u001b[38;5;28mself\u001b[39m\u001b[38;5;241m.\u001b[39mdata \u001b[38;5;241m=\u001b[39m [\n\u001b[1;32m---> 84\u001b[0m     [\u001b[38;5;241m*\u001b[39m\u001b[43mvalidate_location\u001b[49m\u001b[43m(\u001b[49m\u001b[43mline\u001b[49m\u001b[43m[\u001b[49m\u001b[43m:\u001b[49m\u001b[38;5;241;43m2\u001b[39;49m\u001b[43m]\u001b[49m\u001b[43m)\u001b[49m, \u001b[38;5;241m*\u001b[39mline[\u001b[38;5;241m2\u001b[39m:]] \u001b[38;5;28;01mfor\u001b[39;00m line \u001b[38;5;129;01min\u001b[39;00m data  \u001b[38;5;66;03m# noqa: E999\u001b[39;00m\n\u001b[0;32m     85\u001b[0m ]\n\u001b[0;32m     86\u001b[0m \u001b[38;5;28;01mif\u001b[39;00m np\u001b[38;5;241m.\u001b[39many(np\u001b[38;5;241m.\u001b[39misnan(\u001b[38;5;28mself\u001b[39m\u001b[38;5;241m.\u001b[39mdata)):\n\u001b[0;32m     87\u001b[0m     \u001b[38;5;28;01mraise\u001b[39;00m \u001b[38;5;167;01mValueError\u001b[39;00m(\u001b[38;5;124m\"\u001b[39m\u001b[38;5;124mdata may not contain NaNs.\u001b[39m\u001b[38;5;124m\"\u001b[39m)\n",
      "File \u001b[1;32m~\\AppData\\Local\\Programs\\Python\\Python311\\Lib\\site-packages\\folium\\utilities.py:108\u001b[0m, in \u001b[0;36mvalidate_location\u001b[1;34m(location)\u001b[0m\n\u001b[0;32m    103\u001b[0m         \u001b[38;5;28;01mraise\u001b[39;00m \u001b[38;5;167;01mValueError\u001b[39;00m(\n\u001b[0;32m    104\u001b[0m             \u001b[38;5;124m\"\u001b[39m\u001b[38;5;124mLocation should consist of two numerical values, \u001b[39m\u001b[38;5;124m\"\u001b[39m\n\u001b[0;32m    105\u001b[0m             \u001b[38;5;124mf\u001b[39m\u001b[38;5;124m\"\u001b[39m\u001b[38;5;124mbut \u001b[39m\u001b[38;5;132;01m{\u001b[39;00mcoord\u001b[38;5;132;01m!r}\u001b[39;00m\u001b[38;5;124m of type \u001b[39m\u001b[38;5;132;01m{\u001b[39;00m\u001b[38;5;28mtype\u001b[39m(coord)\u001b[38;5;132;01m}\u001b[39;00m\u001b[38;5;124m is not convertible to float.\u001b[39m\u001b[38;5;124m\"\u001b[39m\n\u001b[0;32m    106\u001b[0m         )\n\u001b[0;32m    107\u001b[0m     \u001b[38;5;28;01mif\u001b[39;00m math\u001b[38;5;241m.\u001b[39misnan(\u001b[38;5;28mfloat\u001b[39m(coord)):\n\u001b[1;32m--> 108\u001b[0m         \u001b[38;5;28;01mraise\u001b[39;00m \u001b[38;5;167;01mValueError\u001b[39;00m(\u001b[38;5;124m\"\u001b[39m\u001b[38;5;124mLocation values cannot contain NaNs.\u001b[39m\u001b[38;5;124m\"\u001b[39m)\n\u001b[0;32m    109\u001b[0m \u001b[38;5;28;01mreturn\u001b[39;00m [\u001b[38;5;28mfloat\u001b[39m(x) \u001b[38;5;28;01mfor\u001b[39;00m x \u001b[38;5;129;01min\u001b[39;00m coords]\n",
      "\u001b[1;31mValueError\u001b[0m: Location values cannot contain NaNs."
     ]
    }
   ],
   "source": [
    "# Step 1: Extract latitude and longitude from the DataFrame\n",
    "#convert data into a tuple and then to a list \n",
    "\n",
    "import folium\n",
    "from folium.plugins import HeatMap\n",
    "locations = list(zip(df['Latitude'],df['Longitude']))\n",
    "\n",
    "# Step 2: Create a base map centered on a specific location\n",
    "# You can adjust the center and zoom level based on your data\n",
    "m = folium.Map(location=[df['Latitude'].mean(), df['Longitude'].mean()], zoom_start=10)\n",
    "\n",
    "# Step 3: Add the heatmap layer\n",
    "HeatMap(locations).add_to(m)\n",
    "\n",
    "# Step 4: Save or display the map\n",
    "m.save('london_heatmap.html')  # Save the map as an HTML file\n",
    "m  # Display the map in a Jupyter Notebook"
   ]
  },
  {
   "cell_type": "code",
   "execution_count": 53,
   "id": "683f82a4-9f4a-4eb6-95fe-ff5a2e7e8a63",
   "metadata": {},
   "outputs": [],
   "source": [
    "bolton_df = df[df['District Area'] == 'Bolton']\n"
   ]
  },
  {
   "cell_type": "code",
   "execution_count": 54,
   "id": "2004e30f-eeb7-4c49-98d0-4d6d934ad5f2",
   "metadata": {},
   "outputs": [
    {
     "data": {
      "text/html": [
       "<div style=\"width:100%;\"><div style=\"position:relative;width:100%;height:0;padding-bottom:60%;\"><span style=\"color:#565656\">Make this Notebook Trusted to load map: File -> Trust Notebook</span><iframe srcdoc=\"&lt;!DOCTYPE html&gt;\n",
       "&lt;html&gt;\n",
       "&lt;head&gt;\n",
       "    \n",
       "    &lt;meta http-equiv=&quot;content-type&quot; content=&quot;text/html; charset=UTF-8&quot; /&gt;\n",
       "    \n",
       "        &lt;script&gt;\n",
       "            L_NO_TOUCH = false;\n",
       "            L_DISABLE_3D = false;\n",
       "        &lt;/script&gt;\n",
       "    \n",
       "    &lt;style&gt;html, body {width: 100%;height: 100%;margin: 0;padding: 0;}&lt;/style&gt;\n",
       "    &lt;style&gt;#map {position:absolute;top:0;bottom:0;right:0;left:0;}&lt;/style&gt;\n",
       "    &lt;script src=&quot;https://cdn.jsdelivr.net/npm/leaflet@1.9.3/dist/leaflet.js&quot;&gt;&lt;/script&gt;\n",
       "    &lt;script src=&quot;https://code.jquery.com/jquery-3.7.1.min.js&quot;&gt;&lt;/script&gt;\n",
       "    &lt;script src=&quot;https://cdn.jsdelivr.net/npm/bootstrap@5.2.2/dist/js/bootstrap.bundle.min.js&quot;&gt;&lt;/script&gt;\n",
       "    &lt;script src=&quot;https://cdnjs.cloudflare.com/ajax/libs/Leaflet.awesome-markers/2.0.2/leaflet.awesome-markers.js&quot;&gt;&lt;/script&gt;\n",
       "    &lt;link rel=&quot;stylesheet&quot; href=&quot;https://cdn.jsdelivr.net/npm/leaflet@1.9.3/dist/leaflet.css&quot;/&gt;\n",
       "    &lt;link rel=&quot;stylesheet&quot; href=&quot;https://cdn.jsdelivr.net/npm/bootstrap@5.2.2/dist/css/bootstrap.min.css&quot;/&gt;\n",
       "    &lt;link rel=&quot;stylesheet&quot; href=&quot;https://netdna.bootstrapcdn.com/bootstrap/3.0.0/css/bootstrap-glyphicons.css&quot;/&gt;\n",
       "    &lt;link rel=&quot;stylesheet&quot; href=&quot;https://cdn.jsdelivr.net/npm/@fortawesome/fontawesome-free@6.2.0/css/all.min.css&quot;/&gt;\n",
       "    &lt;link rel=&quot;stylesheet&quot; href=&quot;https://cdnjs.cloudflare.com/ajax/libs/Leaflet.awesome-markers/2.0.2/leaflet.awesome-markers.css&quot;/&gt;\n",
       "    &lt;link rel=&quot;stylesheet&quot; href=&quot;https://cdn.jsdelivr.net/gh/python-visualization/folium/folium/templates/leaflet.awesome.rotate.min.css&quot;/&gt;\n",
       "    \n",
       "            &lt;meta name=&quot;viewport&quot; content=&quot;width=device-width,\n",
       "                initial-scale=1.0, maximum-scale=1.0, user-scalable=no&quot; /&gt;\n",
       "            &lt;style&gt;\n",
       "                #map_6fcae0440a6e20eb05af116a5c11a109 {\n",
       "                    position: relative;\n",
       "                    width: 100.0%;\n",
       "                    height: 100.0%;\n",
       "                    left: 0.0%;\n",
       "                    top: 0.0%;\n",
       "                }\n",
       "                .leaflet-container { font-size: 1rem; }\n",
       "            &lt;/style&gt;\n",
       "        \n",
       "    &lt;script src=&quot;https://cdn.jsdelivr.net/gh/python-visualization/folium@main/folium/templates/leaflet_heat.min.js&quot;&gt;&lt;/script&gt;\n",
       "&lt;/head&gt;\n",
       "&lt;body&gt;\n",
       "    \n",
       "    \n",
       "            &lt;div class=&quot;folium-map&quot; id=&quot;map_6fcae0440a6e20eb05af116a5c11a109&quot; &gt;&lt;/div&gt;\n",
       "        \n",
       "&lt;/body&gt;\n",
       "&lt;script&gt;\n",
       "    \n",
       "    \n",
       "            var map_6fcae0440a6e20eb05af116a5c11a109 = L.map(\n",
       "                &quot;map_6fcae0440a6e20eb05af116a5c11a109&quot;,\n",
       "                {\n",
       "                    center: [53.57227567417678, -2.4462657105719234],\n",
       "                    crs: L.CRS.EPSG3857,\n",
       "                    ...{\n",
       "  &quot;zoom&quot;: 10,\n",
       "  &quot;zoomControl&quot;: true,\n",
       "  &quot;preferCanvas&quot;: false,\n",
       "}\n",
       "\n",
       "                }\n",
       "            );\n",
       "\n",
       "            \n",
       "\n",
       "        \n",
       "    \n",
       "            var tile_layer_39809c37ee8dc1e1a90150cea24b0e9b = L.tileLayer(\n",
       "                &quot;https://tile.openstreetmap.org/{z}/{x}/{y}.png&quot;,\n",
       "                {\n",
       "  &quot;minZoom&quot;: 0,\n",
       "  &quot;maxZoom&quot;: 19,\n",
       "  &quot;maxNativeZoom&quot;: 19,\n",
       "  &quot;noWrap&quot;: false,\n",
       "  &quot;attribution&quot;: &quot;\\u0026copy; \\u003ca href=\\&quot;https://www.openstreetmap.org/copyright\\&quot;\\u003eOpenStreetMap\\u003c/a\\u003e contributors&quot;,\n",
       "  &quot;subdomains&quot;: &quot;abc&quot;,\n",
       "  &quot;detectRetina&quot;: false,\n",
       "  &quot;tms&quot;: false,\n",
       "  &quot;opacity&quot;: 1,\n",
       "}\n",
       "\n",
       "            );\n",
       "        \n",
       "    \n",
       "            tile_layer_39809c37ee8dc1e1a90150cea24b0e9b.addTo(map_6fcae0440a6e20eb05af116a5c11a109);\n",
       "        \n",
       "    \n",
       "            var heat_map_26c4e5cbc09f706c400ee4e377218cb1 = L.heatLayer(\n",
       "                [[53.591928, -2.45155], [53.569149, -2.546891], [53.561883, -2.380724], [53.571649, -2.550548], [53.578064, -2.433127], [53.548871, -2.427546], [53.566699, -2.444033], [53.590208, -2.430683], [53.550391, -2.499256], [53.565157, -2.447641], [53.547906, -2.469192], [53.60034, -2.54669], [53.534525, -2.362524], [53.585051, -2.387881], [53.612313, -2.432419], [53.589463, -2.412395], [53.538451, -2.371913], [53.578419, -2.563776], [53.549277, -2.41457], [53.569664, -2.4193], [53.594147, -2.544797], [53.571075, -2.45163], [53.579775, -2.501414], [53.56, -2.456645], [53.547292, -2.465412], [53.591271, -2.434924], [53.578872, -2.433437], [53.574387, -2.430824], [53.563549, -2.420296], [53.59199, -2.434931], [53.54267, -2.538552], [53.595293, -2.509153], [53.549369, -2.413817], [53.543887, -2.38675], [53.542459, -2.383417], [53.544299, -2.44893], [53.559205, -2.40259], [53.562086, -2.474935], [53.567957, -2.467602], [53.576202, -2.450476], [53.583561, -2.429256], [53.570584, -2.438487], [53.580678, -2.455357], [53.590242, -2.445791], [53.558462, -2.524713], [53.597898, -2.550133], [53.546674, -2.527585], [53.548319, -2.405505], [53.551647, -2.454894], [53.547105, -2.392213], [53.603318, -2.434141], [53.596867, -2.452811], [53.568475, -2.449639], [53.539529, -2.399989], [53.539709, -2.399991], [53.579417, -2.431781], [53.583418, -2.443755], [53.581291, -2.435728], [53.559535, -2.411349], [53.549293, -2.524901], [53.574183, -2.546805], [53.569932, -2.419756], [53.585294, -2.422325], [53.565079, -2.468023], [53.559321, -2.42116], [53.584198, -2.427148], [53.567246, -2.416709], [53.542582, -2.517876], [53.582398, -2.427734], [53.546387, -2.391753], [53.561234, -2.507234], [53.587568, -2.414492], [53.597122, -2.432566], [53.549, -2.416681], [53.573648, -2.545892], [53.590168, -2.44156], [53.556187, -2.488908], [53.584019, -2.538322], [53.57404, -2.427498], [53.558405, -2.450589], [53.593524, -2.480274], [53.574383, -2.479302], [53.586213, -2.389855], [53.555455, -2.421273], [53.595235, -2.542695], [53.544596, -2.389775], [53.580698, -2.399471], [53.568248, -2.462169], [53.556136, -2.456301], [53.557516, -2.396838], [53.576386, -2.449421], [53.58103, -2.433157], [53.565293, -2.459117], [53.582215, -2.428789], [53.579236, -2.432233], [53.573728, -2.439123], [53.546962, -2.523514], [53.590745, -2.478429], [53.600621, -2.408726], [53.571765, -2.435026], [53.573908, -2.439125], [53.576463, -2.428429], [53.625953, -2.438607], [53.572984, -2.553434], [53.572907, -2.442437], [53.591824, -2.431001], [53.532656, -2.526657], [53.543082, -2.385535], [53.597495, -2.559497], [53.547997, -2.469042], [53.548629, -2.393283], [53.57177, -2.433667], [53.600846, -2.591577], [53.591465, -2.430998], [53.578417, -2.434943], [53.58209, -2.386192], [53.591209, -2.538564], [53.591704, -2.43931], [53.564434, -2.448841], [53.567653, -2.428944], [53.546406, -2.357042], [53.6172, -2.423248], [53.594878, -2.431637], [53.5966, -2.452204], [53.585766, -2.415683], [53.559355, -2.411499], [53.549284, -2.412457], [53.593808, -2.540259], [53.58004, -2.457616], [53.598849, -2.53851], [53.57594, -2.423893], [53.551467, -2.499872], [53.549945, -2.403257], [53.575604, -2.390664], [53.573747, -2.433838], [53.568778, -2.440884], [53.589731, -2.412851], [53.578217, -2.415307], [53.582264, -2.439967], [53.581688, -2.425159], [53.557427, -2.396837], [53.547887, -2.400219], [53.590232, -2.535984], [53.577908, -2.42648], [53.573281, -2.438364], [53.589477, -2.408317], [53.533177, -2.530737], [53.59745, -2.549674], [53.589064, -2.397435], [53.568715, -2.433333], [53.598511, -2.445878], [53.537191, -2.537728], [53.560374, -2.452874], [53.57477, -2.424334], [53.594235, -2.382979], [53.566934, -2.453095], [53.580126, -2.409133], [53.55067, -2.496995], [53.544384, -2.516993], [53.592363, -2.478447], [53.60238, -2.39348], [53.576719, -2.432207], [53.574143, -2.423724], [53.563341, -2.428145], [53.549075, -2.420757], [53.591016, -2.430842], [53.573727, -2.439274], [53.571806, -2.49392], [53.587513, -2.430202], [53.54617, -2.429028], [53.576719, -2.432207], [53.596928, -2.410957], [53.553031, -2.420645], [53.582843, -2.539969], [53.585491, -2.390604], [53.56389, -2.449892], [53.568056, -2.441632], [53.593681, -2.463353], [53.568231, -2.417776], [53.558008, -2.436394], [53.558755, -2.453159], [53.554413, -2.525719], [53.594547, -2.448254], [53.55881, -2.484862], [53.549939, -2.455027], [53.58338, -2.520188], [53.581325, -2.426212], [53.57212, -2.436238], [53.57468, -2.424484], [53.597939, -2.454636], [53.539431, -2.374789], [53.557794, -2.394576], [53.551084, -2.505452], [53.585605, -2.525351], [53.561487, -2.467078], [53.576282, -2.428729], [53.574153, -2.394426], [53.54952, -2.446721], [53.599807, -2.545474], [53.573908, -2.439125], [53.572804, -2.394867], [53.554783, -2.407831], [53.584426, -2.386667], [53.549045, -2.429359], [53.547655, -2.508581], [53.546627, -2.517926], [53.555867, -2.455996], [53.575825, -2.430839], [53.538451, -2.371762], [53.553073, -2.52374], [53.56543, -2.446889], [53.542285, -2.381605], [53.586705, -2.429892], [53.583594, -2.444966], [53.579586, -2.434804], [53.584307, -2.446484], [53.576685, -2.487936], [53.598191, -2.435297], [53.545165, -2.457541], [53.59011, -2.432797], [53.566704, -2.466229], [53.597127, -2.561305], [53.569531, -2.431379], [53.613829, -2.410365], [53.598864, -2.535186], [53.58189, -2.44389], [53.589477, -2.408317], [53.585401, -2.417341], [53.589447, -2.569663], [53.549116, -2.409135], [53.550976, -2.417002], [53.614319, -2.424579], [53.547812, -2.470399], [53.579602, -2.430575], [53.562176, -2.474785], [53.583607, -2.465207], [53.561825, -2.370608], [53.576365, -2.560879], [53.567431, -2.464274], [53.5617, -2.409106], [53.576685, -2.487936], [53.543519, -2.529659], [53.546536, -2.518075], [53.573727, -2.439274], [53.589447, -2.569663], [53.571923, -2.549645], [53.552893, -2.523738], [53.582352, -2.440572], [53.542548, -2.38372], [53.573349, -2.444254], [53.588007, -2.466313], [53.581489, -2.454913], [53.58458, -2.420807], [53.591379, -2.429788], [53.58502, -2.448153], [53.576415, -2.487933], [53.580714, -2.394789], [53.578417, -2.564078], [53.548882, -2.424528], [53.584288, -2.426997], [53.585401, -2.417492], [53.593261, -2.431318], [53.596658, -2.411257], [53.557882, -2.421448], [53.54139, -2.38054], [53.570973, -2.404665], [53.573453, -2.44048], [53.571674, -2.435327], [53.568796, -2.525294], [53.58071, -2.395998], [53.572906, -2.442588], [53.587391, -2.413735], [53.609832, -2.470483], [53.547547, -2.469188], [53.57691, -2.540195], [53.557516, -2.396838], [53.573747, -2.433989], [53.600447, -2.432903], [53.580419, -2.452635], [53.577729, -2.426327], [53.575685, -2.419813], [53.568627, -2.45704], [53.588649, -2.462996], [53.590477, -2.430686], [53.602781, -2.433682], [53.532826, -2.359341], [53.562436, -2.376351], [53.561176, -2.477643], [53.602967, -2.40618], [53.584197, -2.427299], [53.579473, -2.487515], [53.603505, -2.432329], [53.602103, -2.554268], [53.598379, -2.432881], [53.57792, -2.447927], [53.57262, -2.422349], [53.592518, -2.43811], [53.550665, -2.402962], [53.566665, -2.402661], [53.555885, -2.400898], [53.568055, -2.441934], [53.564959, -2.428011], [53.573747, -2.433838], [53.573818, -2.438973], [53.541029, -2.408303], [53.57755, -2.426174], [53.542014, -2.382206], [53.540939, -2.408302], [53.543931, -2.517742], [53.537117, -2.367224], [53.604752, -2.435516], [53.545821, -2.399898], [53.571257, -2.450876], [53.581313, -2.454004], [53.547009, -2.394174], [53.554751, -2.509874], [53.59793, -2.432726], [53.585652, -2.534868], [53.567249, -2.464876], [53.605891, -2.551597], [53.542409, -2.516214], [53.574771, -2.424183], [53.596238, -2.519288], [53.574118, -2.43067], [53.573926, -2.434142], [53.548754, -2.409736], [53.562772, -2.410928], [53.599997, -2.457076], [53.539537, -2.471665], [53.548882, -2.424528], [53.55312, -2.420948], [53.573321, -2.42734], [53.540598, -2.402715], [53.579474, -2.487364], [53.568597, -2.441184], [53.580387, -2.5055], [53.57907, -2.374988], [53.595711, -2.449475], [53.575866, -2.419512], [53.572533, -2.44636], [53.579966, -2.476646], [53.574453, -2.546809], [53.587782, -2.454527], [53.586147, -2.481852], [53.558939, -2.451802], [53.575226, -2.422375], [53.543301, -2.451334], [53.603508, -2.40558], [53.570008, -2.39771], [53.553569, -2.445858], [53.636798, -2.447038], [53.605071, -2.395168], [53.559265, -2.411498], [53.564531, -2.470282], [53.546387, -2.391753], [53.59407, -2.431478], [53.592177, -2.407285], [53.58365, -2.429559], [53.562027, -2.418469], [53.586643, -2.573402], [53.566609, -2.444032], [53.574914, -2.544247], [53.542191, -2.382962], [53.600888, -2.435023], [53.557882, -2.421448], [53.570983, -2.452082], [53.575454, -2.434157], [53.56543, -2.446738], [53.598745, -2.541682], [53.622365, -2.411355], [53.617377, -2.423854], [53.571127, -2.437435], [53.543479, -2.451939], [53.578639, -2.535384], [53.542665, -2.519537], [53.605125, -2.431741], [53.572995, -2.44274], [53.592426, -2.413331], [53.593051, -2.439626], [53.5818, -2.443889], [53.579572, -2.567114], [53.562358, -2.474183], [53.596125, -2.409287], [53.571045, -2.435471], [53.549205, -2.409287], [53.579474, -2.487364], [53.549286, -2.411854], [53.614165, -2.41702], [53.591106, -2.478131], [53.562649, -2.420438], [53.556533, -2.421434], [53.549231, -2.518561], [53.58447, -2.426546], [53.57486, -2.424184], [53.56369, -2.478275], [53.576281, -2.429031], [53.543518, -2.52981], [53.581767, -2.428331], [53.56253, -2.375295], [53.582531, -2.440574], [53.573639, -2.438971], [53.595801, -2.449476], [53.594117, -2.443263], [53.628015, -2.44014], [53.572624, -2.446059], [53.558989, -2.438367], [53.587423, -2.454372], [53.598806, -2.54803], [53.577525, -2.43297], [53.545672, -2.362016], [53.582659, -2.454472], [53.593366, -2.451716], [53.553852, -2.417181], [53.569829, -2.423681], [53.577795, -2.432973], [53.555099, -2.49116], [53.571348, -2.450726], [53.579572, -2.567114], [53.590183, -2.43733], [53.548901, -2.419095], [53.566969, -2.443734], [53.555009, -2.491159], [53.584397, -2.446485], [53.581111, -2.435575], [53.596383, -2.412765], [53.542401, -2.558015], [53.589665, -2.405901], [53.564162, -2.449442], [53.610877, -2.4318], [53.600888, -2.435174], [53.605859, -2.401522], [53.580602, -2.401283], [53.599481, -2.426395], [53.564362, -2.418945], [53.549665, -2.500907], [53.579474, -2.487364], [53.584468, -2.42715], [53.542523, -2.362894], [53.574771, -2.424183], [53.599419, -2.551664], [53.548985, -2.420756], [53.587635, -2.394703], [53.564959, -2.428011], [53.595131, -2.50492], [53.5659, -2.441307], [53.581096, -2.387694], [53.57212, -2.436238], [53.601079, -2.432002], [53.574821, -2.435057], [53.595264, -2.494496], [53.572076, -2.448167], [53.604085, -2.553387], [53.615057, -2.419145], [53.548881, -2.39887], [53.559415, -2.532877], [53.573913, -2.546953], [53.584288, -2.426997], [53.565528, -2.419712], [53.585912, -2.449975], [53.592543, -2.43116], [53.590232, -2.535833], [53.571716, -2.49407], [53.581181, -2.389356], [53.602195, -2.553816], [53.598379, -2.432881], [53.543796, -2.3869], [53.584998, -2.429572], [53.565894, -2.442968], [53.587297, -2.528997], [53.602361, -2.594168], [53.544241, -2.388413], [53.533151, -2.516252], [53.534105, -2.52411], [53.586525, -2.42989], [53.58004, -2.457767], [53.584916, -2.427457], [53.591704, -2.43931], [53.59145, -2.435077], [53.584396, -2.446636], [53.569651, -2.368865], [53.566983, -2.439959], [53.568612, -2.54628], [53.561294, -2.367886], [53.556424, -2.401054], [53.566155, -2.420322], [53.592796, -2.459718], [53.571669, -2.436837], [53.591984, -2.436593], [53.540341, -2.51634], [53.598676, -2.425178], [53.594737, -2.445687], [53.557733, -2.461602], [53.565611, -2.446438], [53.572719, -2.4447], [53.575167, -2.438836], [53.582975, -2.442089], [53.55303, -2.420796], [53.598404, -2.425931], [53.565937, -2.541716], [53.587126, -2.437601], [53.574868, -2.421919], [53.57743, -2.43448], [53.578598, -2.434643], [53.575274, -2.544101], [53.593229, -2.440232], [53.55001, -2.525363], [53.549075, -2.420757], [53.606314, -2.399864], [53.546547, -2.448652], [53.572349, -2.447415], [53.593238, -2.484501], [53.590724, -2.437033], [53.58338, -2.520188], [53.605072, -2.394865], [53.542104, -2.382207], [53.590477, -2.430686], [53.547194, -2.392364], [53.592783, -2.439321], [53.565747, -2.433907], [53.571968, -2.428685], [53.578278, -2.535681], [53.56208, -2.453345], [53.59838, -2.43273], [53.571217, -2.437587], [53.60336, -2.396209], [53.557793, -2.394727], [53.591091, -2.435073], [53.551653, -2.498516], [53.57062, -2.453135], [53.54901, -2.438867], [53.547757, -2.526693], [53.586694, -2.407383], [53.588489, -2.457707], [53.566026, -2.541868], [53.534614, -2.362676], [53.583548, -2.4572], [53.544651, -2.37242], [53.573362, -2.440932], [53.555016, -2.489498], [53.576809, -2.432208], [53.582313, -2.517607], [53.547906, -2.469192], [53.580599, -2.40234], [53.545254, -2.433697], [53.556001, -2.444374], [53.574131, -2.427197], [53.573818, -2.438973], [53.597539, -2.549827], [53.543667, -2.51638], [53.573947, -2.428252], [53.59314, -2.44008], [53.551212, -2.496548], [53.588026, -2.437459], [53.574603, -2.394279], [53.545558, -2.448792], [53.549275, -2.415174], [53.576282, -2.42888], [53.54558, -2.391142], [53.602019, -2.553058], [53.591621, -2.437496], [53.602271, -2.594166], [53.568055, -2.441783], [53.543291, -2.376332], [53.579238, -2.43178], [53.553267, -2.430157], [53.596495, -2.37892], [53.574129, -2.42765], [53.591704, -2.43931], [53.571473, -2.549639], [53.548955, -2.429207], [53.581248, -2.422435], [53.553815, -2.427596], [53.601082, -2.431096], [53.546404, -2.527733], [53.544415, -2.390226], [53.56604, -2.373665], [53.602106, -2.553664], [53.55001, -2.525363], [53.557461, -2.462203], [53.585605, -2.5252], [53.586979, -2.453159], [53.592013, -2.45291], [53.551022, -2.49881], [53.548157, -2.400372], [53.579571, -2.567265], [53.590329, -2.395634], [53.568142, -2.417624], [53.582595, -2.422902], [53.575043, -2.42328], [53.591861, -2.39444], [53.573088, -2.441986], [53.557738, -2.436542], [53.581489, -2.454913], [53.605124, -2.431893], [53.542091, -2.547448], [53.567701, -2.440269], [53.588501, -2.430363], [53.580402, -2.407323], [53.580811, -2.392525], [53.561701, -2.408804], [53.547997, -2.469042], [53.597379, -2.410659], [53.559584, -2.423125], [53.572532, -2.446511], [53.594223, -2.438883], [53.572255, -2.471878], [53.579255, -2.426947], [53.566141, -2.44901], [53.568687, -2.441034], [53.609832, -2.470483], [53.560642, -2.453179], [53.559456, -2.433692], [53.602214, -2.549736], [53.56317, -2.399759], [53.57177, -2.433667], [53.541836, -2.544125], [53.59398, -2.431477], [53.542854, -2.5378], [53.539806, -2.471819], [53.548416, -2.51991], [53.587207, -2.528996], [53.561717, -2.454096], [53.600985, -2.433059], [53.573747, -2.433989], [53.591472, -2.578453], [53.568326, -2.441483], [53.595955, -2.432101], [53.572828, -2.528213], [53.593317, -2.440686], [53.573158, -2.422657], [53.571696, -2.429438], [53.595358, -2.447809], [53.565357, -2.442358], [53.555074, -2.401494], [53.590075, -2.442465], [53.583329, -2.443603], [53.55664, -2.465515], [53.600986, -2.432908], [53.562565, -2.418777], [53.604979, -2.395922], [53.558215, -2.519577], [53.561749, -2.420731], [53.591361, -2.434925], [53.590242, -2.394576], [53.554106, -2.469714], [53.57849, -2.414554], [53.569341, -2.381546], [53.573747, -2.433838], [53.605777, -2.399104], [53.547909, -2.468588], [53.581202, -2.435274], [53.590557, -2.433406], [53.583065, -2.44209], [53.569933, -2.419605], [53.606185, -2.546312], [53.533649, -2.525764], [53.568055, -2.441783], [53.575231, -2.421016], [53.580809, -2.393129], [53.577705, -2.432972], [53.55759, -2.40182], [53.569892, -2.455392], [53.580592, -2.404304], [53.579805, -2.471962], [53.566245, -2.420323], [53.563998, -2.42015], [53.571543, -2.4465], [53.563549, -2.420296], [53.547667, -2.526692], [53.581011, -2.386334], [53.557231, -2.401515], [53.591718, -2.435684], [53.587385, -2.529301], [53.598942, -2.557551], [53.589808, -2.569366], [53.587563, -2.529756], [53.560451, -2.456046], [53.570235, -2.482426], [53.570022, -2.419756], [53.549284, -2.412457], [53.585356, -2.540907], [53.575284, -2.431437], [53.580711, -2.395544], [53.566155, -2.420322], [53.583652, -2.428955], [53.560733, -2.428572], [53.562713, -2.452144], [53.600965, -2.43865], [53.596897, -2.552689], [53.590142, -2.535983], [53.555009, -2.491159], [53.543655, -2.374977], [53.589665, -2.405901], [53.567116, -2.452644], [53.588052, -2.45453], [53.580568, -2.384215], [53.563799, -2.450193], [53.539939, -2.411461], [53.601424, -2.383649], [53.574731, -2.435056], [53.559021, -2.403796], [53.542992, -2.385384], [53.539948, -2.408896], [53.581011, -2.386334], [53.584358, -2.522767], [53.559379, -2.404403], [53.591914, -2.431002], [53.576901, -2.431605], [53.556962, -2.401512], [53.568433, -2.546127], [53.599282, -2.45601], [53.586357, -2.451037], [53.576409, -2.443229], [53.568906, -2.430466], [53.572907, -2.442437], [53.535087, -2.384105], [53.564793, -2.370181], [53.538006, -2.370551], [53.59798, -2.418674], [53.56048, -2.535759], [53.592073, -2.436896], [53.559411, -2.421161], [53.562436, -2.376351], [53.594117, -2.443263], [53.594358, -2.426343], [53.563701, -2.427998], [53.547933, -2.506622], [53.578908, -2.493852], [53.589021, -2.410276], [53.601934, -2.551999], [53.558462, -2.524713], [53.55932, -2.421462], [53.581847, -2.4309], [53.590477, -2.430686], [53.549429, -2.447173], [53.567653, -2.428944], [53.578315, -2.438265], [53.600087, -2.432899], [53.540517, -2.399998], [53.564071, -2.449592], [53.573818, -2.438973], [53.579837, -2.463655], [53.546477, -2.391754], [53.569803, -2.430929], [53.594879, -2.431486], [53.590266, -2.439295], [53.598009, -2.410363], [53.565848, -2.541413], [53.576319, -2.443228], [53.57477, -2.424334], [53.602271, -2.594166], [53.567434, -2.439511], [53.548507, -2.519609], [53.557644, -2.46145], [53.567265, -2.411424], [53.575684, -2.419964], [53.58868, -2.430667], [53.589084, -2.489137], [53.574041, -2.427196], [53.587297, -2.528997], [53.575824, -2.431292], [53.578502, -2.436303], [53.583234, -2.393604], [53.539181, -2.396364], [53.560189, -2.404109], [53.573728, -2.439123], [53.618888, -2.428707], [53.57477, -2.424334], [53.5683, -2.369608], [53.547798, -2.400218], [53.580835, -2.385275], [53.55851, -2.446514], [53.587386, -2.52915], [53.56444, -2.470583], [53.549431, -2.44672], [53.544214, -2.470962], [53.585478, -2.572631], [53.584926, -2.424738], [53.56121, -2.366225], [53.55294, -2.420946], [53.567694, -2.417166], [53.583562, -2.429105], [53.589931, -2.432493], [53.593261, -2.431318], [53.574029, -2.430518], [53.563531, -2.399159], [53.559547, -2.457395], [53.577819, -2.426328], [53.580659, -2.383914], [53.597571, -2.432722], [53.567215, -2.45023], [53.593165, -2.407446], [53.603599, -2.40543], [53.605069, -2.395772], [53.57636, -2.432052], [53.586193, -2.422334], [53.589732, -2.412549], [53.571621, -2.449672], [53.567241, -2.443133], [53.590142, -2.535983], [53.632766, -2.443668], [53.588654, -2.412539], [53.56455, -2.441746], [53.546703, -2.521096], [53.583342, -2.388319], [53.57929, -2.488268], [53.544685, -2.390228], [53.571185, -2.421278], [53.577124, -2.444294], [53.557322, -2.401365], [53.536252, -2.385172], [53.596511, -2.452052], [53.562342, -2.37786], [53.581325, -2.426212], [53.569739, -2.42368], [53.618316, -2.437772], [53.562342, -2.37786], [53.582232, -2.423805], [53.550933, -2.498809], [53.575867, -2.419059], [53.603147, -2.40603], [53.57907, -2.374837], [53.543262, -2.385386], [53.567072, -2.529047], [53.555644, -2.489807], [53.554839, -2.488892], [53.573835, -2.544384], [53.568402, -2.533141], [53.540102, -2.416442], [53.528844, -2.368359], [53.561526, -2.407443], [53.531152, -2.377582], [53.538509, -2.409033], [53.546408, -2.385264], [53.545868, -2.385712], [53.561318, -2.508594], [53.543167, -2.387045], [53.575777, -2.419209], [53.563266, -2.515411], [53.573649, -2.54559], [53.529198, -2.370022], [53.552618, -2.482376], [53.561499, -2.508445], [53.532033, -2.383323], [53.537482, -2.393783], [53.5365, -2.391813], [53.564237, -2.519651], [53.543978, -2.386449], [53.573028, -2.543921], [53.543621, -2.385691], [53.558571, -2.499201], [53.537212, -2.393932], [53.582317, -2.425316], [53.537849, -2.391373], [53.558662, -2.499051], [53.531223, -2.383617], [53.550224, -2.474199], [53.575505, -2.419811], [53.538609, -2.406167], [53.538457, -2.397867], [53.575956, -2.419513], [53.54371, -2.385692], [53.548717, -2.468748], [53.565198, -2.411253], [53.573267, -2.417221], [53.585909, -2.55738], [53.530449, -2.372446], [53.55645, -2.490572], [53.538546, -2.39832], [53.560188, -2.40426], [53.563352, -2.516469], [53.535605, -2.390447], [53.541844, -2.432003], [53.552799, -2.481926], [53.539479, -2.414475], [53.537657, -2.395294], [53.529369, -2.37304], [53.549335, -2.471623], [53.600237, -2.549559], [53.577281, -2.426021], [53.616843, -2.422337], [53.553723, -2.402236], [53.595022, -2.441459], [53.600844, -2.554403], [53.569622, -2.431229], [53.543802, -2.38524], [53.54896, -2.401889], [53.580508, -2.452787], [53.583322, -2.445567], [53.548788, -2.425734], [53.602335, -2.43262], [53.55851, -2.446514], [53.546727, -2.515512], [53.580949, -2.43074], [53.558601, -2.421304], [53.562505, -2.435686], [53.577012, -2.425867], [53.586624, -2.451946], [53.576417, -2.389312], [53.541232, -2.538533], [53.580692, -2.474993], [53.568055, -2.441783], [53.576719, -2.432207], [53.573546, -2.439726], [53.617654, -2.421892], [53.617596, -2.437916], [53.603508, -2.40558], [53.563611, -2.427997], [53.57404, -2.427498], [53.604045, -2.432184], [53.600992, -2.431246], [53.545581, -2.390991], [53.553227, -2.508799], [53.579345, -2.426948], [53.603508, -2.40558], [53.571471, -2.550092], [53.599604, -2.442112], [53.572005, -2.551307], [53.537022, -2.369034], [53.565254, -2.469384], [53.588501, -2.430363], [53.589206, -2.524036], [53.586193, -2.422183], [53.551212, -2.496548], [53.597018, -2.410958], [53.591539, -2.43538], [53.591286, -2.430845], [53.553553, -2.399518], [53.580922, -2.386182], [53.57583, -2.559966], [53.56111, -2.369394], [53.565904, -2.440099], [53.557591, -2.401367], [53.585203, -2.422475], [53.616901, -2.455596], [53.581847, -2.4309], [53.590182, -2.437783], [53.584198, -2.427148], [53.580786, -2.450525], [53.601526, -2.432763], [53.562469, -2.420588], [53.589665, -2.405901], [53.565126, -2.431636], [53.580404, -2.40687], [53.54894, -2.523387], [53.557233, -2.401062], [53.557948, -2.51897], [53.592894, -2.581797], [53.573445, -2.442745], [53.554916, -2.421267], [53.579949, -2.457917], [53.541327, -2.537478], [53.558065, -2.393975], [53.572806, -2.445456], [53.601166, -2.43291], [53.590297, -2.430684], [53.56738, -2.429696], [53.539849, -2.526142], [53.597811, -2.549528], [53.568145, -2.441784], [53.578315, -2.438416], [53.570711, -2.452834], [53.602869, -2.433985], [53.561883, -2.380875], [53.536761, -2.366165], [53.554826, -2.469571], [53.56369, -2.500318], [53.588082, -2.395462], [53.575783, -2.417397], [53.571673, -2.410259], [53.583495, -2.470795], [53.582215, -2.428789], [53.603946, -2.434601], [53.558764, -2.450744], [53.588142, -2.430209], [53.56111, -2.369394], [53.561206, -2.367433], [53.566155, -2.420322], [53.567482, -2.37247], [53.578598, -2.434643], [53.577559, -2.448376], [53.597829, -2.410512], [53.547933, -2.506773], [53.558158, -2.444397], [53.601688, -2.385162], [53.543338, -2.389612], [53.572843, -2.435188], [53.582119, -2.541168], [53.56313, -2.411384], [53.563161, -2.428143], [53.581089, -2.39011], [53.590717, -2.386724], [53.562792, -2.430857], [53.594641, -2.493129], [53.610249, -2.431491], [53.566064, -2.445537], [53.614165, -2.417171], [53.623268, -2.435404], [53.54941, -2.452304], [53.60376, -2.436261], [53.551462, -2.522211], [53.576289, -2.426917], [53.549374, -2.412458], [53.613475, -2.434245], [53.581847, -2.4309], [53.56217, -2.453195], [53.56926, -2.43198], [53.548988, -2.393739], [53.59679, -2.472756], [53.573818, -2.439124], [53.585468, -2.448611], [53.557321, -2.401667], [53.581945, -2.428786], [53.546765, -2.527435], [53.568231, -2.417776], [53.591635, -2.480705], [53.581433, -2.446], [53.566699, -2.444033], [53.576493, -2.490955], [53.618779, -2.458035], [53.551925, -2.497915], [53.551212, -2.496548], [53.583914, -2.521554], [53.54905, -2.40189], [53.543522, -2.529055], [53.549804, -2.391483], [53.570989, -2.450572], [53.597722, -2.415498], [53.559819, -2.456794], [53.551473, -2.403272], [53.607095, -2.408184], [53.578627, -2.426638], [53.545529, -2.406535], [53.550232, -2.424089], [53.598035, -2.519461], [53.551827, -2.430595], [53.571712, -2.449371], [53.578273, -2.536739], [53.570325, -2.482427], [53.582386, -2.541624], [53.570954, -2.435621], [53.568413, -2.44239], [53.540412, -2.377061], [53.55866, -2.520639], [53.560888, -2.410004], [53.550748, -2.454885], [53.553162, -2.523892], [53.56161, -2.38193], [53.554872, -2.523461], [53.599625, -2.545925], [53.575011, -2.432341], [53.596928, -2.411108], [53.566608, -2.444183], [53.575825, -2.43099], [53.597306, -2.541815], [53.574533, -2.440038], [53.571173, -2.424902], [53.542404, -2.537794], [53.576203, -2.450325], [53.557552, -2.462053], [53.549276, -2.414721], [53.574208, -2.430671], [53.60763, -2.601043], [53.578761, -2.413953], [53.547401, -2.411081], [53.58071, -2.395847], [53.630466, -2.380736], [53.570824, -2.395603], [53.573747, -2.433989], [53.5931, -2.57636], [53.573294, -2.434739], [53.568058, -2.464734], [53.551291, -2.498964], [53.582176, -2.439362], [53.572806, -2.445305], [53.562654, -2.532162], [53.568058, -2.464734], [53.559825, -2.405314], [53.601342, -2.40828], [53.55148, -2.518136], [53.548326, -2.519908], [53.549574, -2.501208], [53.536043, -2.533187], [53.56138, -2.369397], [53.557321, -2.401667], [53.54905, -2.518861], [53.578598, -2.434643], [53.560104, -2.428565], [53.573385, -2.434589], [53.591407, -2.446861], [53.568136, -2.467755], [53.603084, -2.593422], [53.574001, -2.527321], [53.593239, -2.41213], [53.546458, -2.423749], [53.568055, -2.441934], [53.533596, -2.537682], [53.578778, -2.434645], [53.567448, -2.482696], [53.580783, -2.426962], [53.567522, -2.463822], [53.56066, -2.423891], [53.542409, -2.516365], [53.544294, -2.399732], [53.623805, -2.436014], [53.536189, -2.520514], [53.576653, -2.425561], [53.562126, -2.440966], [53.548903, -2.418642], [53.566704, -2.46638], [53.538006, -2.370551], [53.561407, -2.415746], [53.581179, -2.389809], [53.579094, -2.492193], [53.611191, -2.444349], [53.583652, -2.429106], [53.564472, -2.41336], [53.581112, -2.435424], [53.559095, -2.458144], [53.574821, -2.435057], [53.568378, -2.538576], [53.573272, -2.44078], [53.562127, -2.529438], [53.53495, -2.472519], [53.569622, -2.431229], [53.603955, -2.432183], [53.568597, -2.441033], [53.540759, -2.408451], [53.562986, -2.373034], [53.579805, -2.471962], [53.54689, -2.428583], [53.604663, -2.435213], [53.570163, -2.454942], [53.547306, -2.526989], [53.572907, -2.442437], [53.574914, -2.544247], [53.552656, -2.398905], [53.567123, -2.450682], [53.556097, -2.488907], [53.561202, -2.36864], [53.547906, -2.469192], [53.540472, -2.413428], [53.601309, -2.391203], [53.579076, -2.426794], [53.577, -2.540196], [53.55811, -2.407562], [53.606135, -2.39956], [53.554643, -2.422321], [53.582304, -2.428941], [53.579699, -2.428462], [53.630367, -2.383609], [53.599727, -2.432895], [53.600965, -2.547755], [53.546458, -2.4239], [53.574712, -2.440342], [53.564631, -2.419099], [53.570022, -2.419756], [53.574822, -2.434906], [53.548027, -2.505869], [53.551022, -2.49881], [53.592339, -2.412423], [53.578598, -2.434794], [53.586673, -2.52763], [53.578596, -2.435096], [53.540878, -2.399851], [53.567336, -2.41671], [53.583909, -2.522611], [53.562342, -2.37786], [53.59194, -2.423902], [53.549884, -2.469063], [53.610105, -2.469881], [53.599123, -2.425938], [53.600896, -2.432907], [53.602155, -2.40723], [53.557321, -2.401667], [53.568098, -2.454467], [53.578688, -2.434644], [53.589554, -2.437475], [53.59359, -2.463655], [53.574822, -2.434906], [53.537705, -2.380356], [53.57212, -2.436238], [53.544873, -2.528317], [53.592879, -2.412278], [53.586021, -2.44484], [53.606224, -2.400015], [53.55067, -2.496995], [53.556365, -2.46687], [53.600992, -2.541711], [53.578328, -2.434791], [53.557702, -2.421446], [53.548985, -2.420756], [53.581864, -2.450687], [53.591317, -2.44686], [53.579511, -2.430876], [53.561329, -2.526862], [53.551212, -2.496548], [53.544717, -2.407584], [53.598369, -2.410216], [53.548986, -2.420605], [53.57129, -2.441967], [53.586231, -2.384266], [53.557271, -2.487562], [53.543711, -2.385541], [53.586303, -2.389705], [53.575268, -2.545309], [53.551652, -2.498667], [53.580613, -2.398111], [53.580878, -2.450073], [53.594706, -2.476963], [53.598812, -2.584749], [53.564161, -2.449593], [53.560014, -2.428414], [53.591298, -2.538717], [53.542104, -2.382207], [53.574887, -2.441552], [53.572299, -2.436541], [53.582352, -2.529087], [53.579574, -2.412903], [53.581345, -2.512761], [53.569709, -2.456296], [53.597675, -2.559348], [53.591632, -2.381898], [53.563899, -2.422866], [53.590536, -2.439298], [53.565633, -2.440549], [53.56253, -2.375295], [53.605333, -2.397588], [53.564783, -2.538531], [53.565029, -2.480555], [53.579862, -2.50202], [53.549773, -2.517813], [53.569738, -2.423831], [53.595269, -2.447657], [53.544133, -2.393996], [53.569739, -2.423529], [53.5856, -2.411905], [53.557734, -2.461451], [53.600357, -2.432902], [53.586103, -2.422182], [53.553553, -2.399367], [53.580995, -2.391318], [53.590069, -2.443976], [53.585774, -2.438795], [53.585377, -2.448761], [53.585767, -2.415532], [53.5695, -2.439986], [53.59112, -2.538261], [53.600873, -2.548056], [53.566902, -2.437694], [53.568439, -2.435143], [53.543795, -2.387353], [53.595899, -2.55464], [53.558336, -2.393524], [53.614968, -2.418842], [53.583291, -2.520035], [53.554827, -2.421116], [53.53952, -2.375091], [53.589609, -2.534465], [53.547129, -2.505556], [53.559444, -2.4115], [53.550215, -2.403109], [53.554354, -2.401789], [53.581382, -2.435427], [53.590271, -2.437935], [53.593554, -2.593742], [53.546926, -2.391909], [53.562086, -2.474784], [53.581325, -2.426212], [53.546275, -2.398694], [53.590289, -2.433101], [53.579961, -2.430579], [53.580403, -2.407172], [53.564161, -2.370931], [53.585931, -2.393478], [53.551905, -2.502745], [53.580508, -2.452787], [53.549298, -2.408232], [53.629651, -2.382392], [53.596602, -2.4516], [53.567242, -2.442982], [53.56161, -2.409105], [53.559382, -2.403498], [53.586945, -2.46192], [53.585541, -2.40284], [53.603508, -2.40558], [53.598676, -2.425178], [53.549804, -2.391483], [53.575684, -2.444883], [53.583562, -2.429105], [53.550574, -2.403112], [53.568158, -2.462168], [53.550304, -2.40326], [53.586103, -2.422182], [53.557231, -2.401515], [53.542182, -2.41269], [53.579692, -2.430274], [53.547367, -2.469186], [53.595269, -2.447657], [53.605687, -2.399103], [53.577998, -2.426481], [53.564426, -2.450955], [53.57641, -2.443078], [53.579525, -2.426798], [53.545646, -2.449095], [53.595805, -2.555546], [53.581859, -2.427577], [53.583734, -2.5214], [53.547997, -2.469042], [53.56175, -2.42058], [53.597806, -2.417161], [53.622819, -2.435248], [53.581183, -2.486931], [53.546387, -2.391753], [53.597018, -2.410958], [53.558404, -2.45074], [53.595889, -2.425452], [53.539519, -2.375242], [53.601076, -2.432909], [53.54337, -2.501588], [53.559625, -2.411199], [53.580997, -2.390714], [53.60238, -2.39348], [53.546469, -2.420731], [53.56662, -2.464718], [53.589832, -2.435211], [53.57743, -2.43448], [53.599625, -2.545925], [53.545745, -2.36745], [53.566027, -2.541717], [53.596352, -2.554042], [53.561541, -2.476288], [53.548986, -2.420605], [53.579923, -2.487369], [53.560452, -2.406074], [53.550062, -2.395108], [53.566381, -2.542779], [53.595979, -2.425453], [53.54678, -2.434166], [53.591704, -2.43931], [53.580714, -2.394789], [53.580568, -2.384215], [53.573061, -2.494841], [53.560888, -2.410004], [53.549285, -2.412307], [53.580695, -2.450977], [53.585203, -2.422626], [53.593522, -2.543731], [53.600161, -2.546536], [53.626311, -2.438913], [53.545953, -2.358396], [53.543621, -2.38554], [53.605046, -2.428567], [53.589442, -2.489443], [53.557877, -2.447564], [53.600519, -2.546843], [53.566245, -2.420323], [53.555074, -2.401494], [53.580032, -2.459881], [53.548868, -2.402643], [53.543214, -2.399873], [53.581111, -2.435575], [53.574823, -2.544397], [53.583949, -2.533789], [53.58463, -2.406306], [53.579962, -2.430428], [53.597933, -2.52218], [53.559443, -2.411801], [53.576052, -2.417702], [53.559905, -2.523674], [53.576651, -2.450783], [53.577639, -2.426326], [53.538863, -2.383837], [53.542281, -2.382963], [53.571543, -2.4465], [53.594878, -2.431637], [53.592339, -2.412423], [53.541594, -2.538085], [53.549372, -2.412911], [53.594826, -2.445839], [53.599188, -2.43289], [53.587807, -2.39697], [53.538544, -2.516318], [53.550304, -2.403411], [53.586213, -2.389704], [53.556693, -2.401208], [53.559594, -2.445016], [53.563076, -2.373035], [53.592882, -2.483439], [53.575684, -2.419964], [53.549184, -2.415324], [53.593784, -2.436007], [53.548903, -2.418491], [53.548921, -2.438716], [53.578418, -2.434641], [53.558531, -2.440778], [53.578685, -2.409874], [53.560658, -2.424344], [53.587302, -2.567066], [53.541119, -2.408304], [53.582233, -2.423503], [53.604088, -2.552783], [53.55946, -2.522611], [53.591592, -2.445352], [53.542293, -2.5224], [53.5723, -2.43639], [53.573445, -2.417827], [53.600668, -2.591273], [53.589447, -2.569663], [53.618621, -2.427948], [53.599625, -2.545925], [53.58155, -2.527717], [53.562986, -2.373034], [53.568158, -2.462168], [53.54528, -2.400345], [53.588322, -2.454533], [53.561151, -2.526407], [53.543531, -2.38554], [53.588651, -2.462543], [53.609979, -2.431489], [53.545633, -2.51897], [53.542003, -2.356552], [53.594554, -2.492373], [53.542271, -2.412993], [53.579379, -2.41713], [53.543346, -2.387198], [53.566789, -2.444034], [53.56208, -2.453345], [53.563834, -2.464537], [53.549026, -2.524294], [53.558251, -2.443643], [53.577011, -2.426018], [53.54424, -2.388715], [53.578896, -2.426792], [53.580695, -2.450977], [53.571347, -2.450877], [53.591929, -2.451399], [53.544098, -2.376943], [53.578816, -2.53599], [53.574364, -2.384914], [53.583502, -2.394362], [53.598835, -2.541684], [53.588438, -2.396523], [53.565235, -2.37245], [53.590743, -2.479033], [53.598587, -2.425177], [53.555461, -2.511995], [53.569216, -2.418842], [53.572038, -2.434274], [53.592516, -2.462434], [53.57752, -2.434481], [53.557324, -2.40061], [53.576371, -2.429032], [53.608724, -2.43072], [53.600251, -2.546537], [53.579692, -2.430274], [53.590339, -2.443828], [53.557501, -2.401366], [53.590557, -2.433557], [53.549431, -2.44672], [53.562125, -2.416206], [53.592428, -2.437957], [53.574221, -2.427047], [53.574771, -2.424183], [53.583558, -2.520643], [53.592518, -2.43811], [53.594421, -2.563233], [53.595979, -2.425453], [53.573747, -2.433838], [53.562147, -2.409865], [53.584198, -2.426996], [53.606045, -2.425705], [53.544204, -2.399731], [53.58361, -2.464452], [53.587151, -2.455124], [53.606968, -2.392314], [53.562666, -2.360349], [53.572783, -2.427032], [53.57985, -2.411093], [53.591062, -2.442929], [53.547566, -2.50858], [53.563914, -2.418639], [53.562811, -2.473434], [53.577495, -2.416357], [53.600532, -2.408725], [53.576912, -2.428735], [53.581414, -2.426515], [53.599625, -2.545925], [53.560994, -2.455146], [53.58859, -2.430515], [53.569918, -2.423682], [53.5612, -2.369395], [53.596214, -2.45915], [53.605902, -2.440515], [53.551652, -2.498818], [53.571809, -2.422945], [53.579829, -2.465921], [53.589111, -2.410277], [53.547311, -2.411231], [53.578872, -2.433437], [53.579849, -2.460634], [53.547221, -2.411079], [53.579345, -2.426948], [53.586071, -2.478527], [53.571258, -2.450725], [53.586876, -2.406781], [53.5807, -2.398867], [53.582526, -2.390275], [53.551652, -2.498667], [53.596533, -2.553591], [53.605332, -2.397739], [53.561595, -2.52762], [53.60376, -2.436261], [53.572783, -2.427032], [53.601166, -2.43291], [53.566251, -2.443576], [53.579964, -2.477099], [53.567434, -2.439511], [53.595327, -2.431793], [53.598387, -2.455094], [53.56336, -2.53504], [53.591539, -2.435229], [53.541012, -2.413282], [53.59693, -2.410655], [53.573068, -2.422656], [53.567652, -2.429095], [53.562076, -2.454402], [53.562649, -2.420438], [53.572031, -2.436237], [53.567332, -2.442983], [53.559121, -2.451351], [53.580693, -2.401133], [53.569622, -2.431229], [53.533216, -2.521986], [53.571673, -2.410259], [53.589358, -2.569511], [53.573709, -2.392912], [53.553533, -2.405404], [53.600619, -2.434869], [53.551045, -2.396777], [53.59234, -2.584811], [53.580698, -2.399622], [53.565547, -2.414428], [53.551652, -2.498667], [53.568715, -2.433333], [53.573927, -2.43384], [53.575069, -2.441101], [53.565611, -2.446438], [53.583562, -2.429105], [53.569123, -2.444814], [53.567022, -2.4537], [53.582234, -2.423352], [53.605284, -2.437335], [53.601933, -2.55215], [53.594795, -2.429672], [53.542466, -2.523911], [53.562215, -2.441118], [53.559321, -2.42116], [53.573909, -2.438823], [53.554308, -2.415374], [53.542556, -2.523912], [53.565974, -2.445536], [53.564178, -2.365496], [53.5612, -2.369395], [53.550229, -2.398883], [53.576372, -2.428881], [53.565677, -2.45278], [53.569238, -2.547194], [53.5613, -2.420727], [53.598822, -2.409313], [53.542104, -2.382207], [53.577191, -2.42602], [53.548898, -2.393738], [53.595216, -2.546775], [53.575866, -2.419512], [53.570711, -2.452834], [53.581013, -2.527106], [53.600986, -2.432757], [53.576809, -2.432359], [53.57212, -2.436238], [53.619257, -2.426141], [53.594147, -2.544797], [53.543867, -2.532229], [53.601436, -2.43261], [53.571978, -2.425967], [53.576416, -2.487782], [53.583379, -2.429858], [53.583803, -2.46098], [53.609832, -2.470483], [53.574233, -2.423725], [53.574003, -2.546954], [53.588412, -2.43006], [53.585605, -2.5252], [53.612556, -2.414585], [53.588835, -2.437316], [53.549804, -2.391483], [53.579435, -2.426948], [53.572442, -2.446661], [53.603779, -2.405281], [53.574325, -2.423121], [53.578896, -2.426792], [53.543305, -2.399572], [53.57632, -2.443077], [53.57253, -2.422348], [53.565198, -2.411253], [53.595396, -2.546928], [53.56161, -2.381779], [53.548625, -2.394792], [53.561814, -2.475536], [53.590776, -2.396394], [53.543167, -2.387045], [53.530353, -2.374407], [53.545724, -2.452265], [53.542809, -2.438652], [53.537657, -2.395143], [53.55636, -2.49057], [53.54193, -2.43306], [53.529198, -2.370022], [53.584198, -2.427148], [53.574253, -2.417986], [53.538594, -2.410694], [53.576958, -2.549257], [53.565561, -2.525253], [53.537569, -2.394539], [53.544069, -2.386148], [53.54246, -2.383266], [53.54452, -2.385549], [53.591721, -2.563953], [53.545688, -2.38571], [53.568937, -2.534053], [53.548807, -2.468749], [53.538457, -2.397867], [53.538897, -2.400889], [53.569381, -2.535418], [53.529998, -2.373046], [53.538883, -2.404812], [53.541505, -2.426416], [53.559471, -2.403649], [53.538191, -2.396808], [53.54598, -2.45589], [53.545869, -2.385259], [53.550487, -2.475862], [53.54378, -2.443341], [53.556449, -2.490722], [53.561318, -2.508594], [53.583398, -2.556138], [53.57365, -2.545439], [53.555279, -2.491162], [53.58375, -2.426841], [53.541505, -2.426416], [53.559113, -2.403193], [53.541276, -2.388084], [53.549161, -2.470112], [53.531589, -2.381509], [53.564161, -2.370931], [53.568018, -2.401466], [53.573452, -2.440782], [53.581037, -2.455512], [53.572076, -2.448167], [53.589808, -2.569366], [53.558618, -2.416624], [53.579572, -2.567114], [53.544693, -2.528466], [53.590142, -2.535983], [53.55027, -2.413222], [53.547033, -2.413643], [53.601228, -2.549119], [53.633213, -2.444126], [53.567963, -2.41732], [53.568055, -2.441934], [53.57849, -2.414554], [53.590476, -2.478426], [53.584358, -2.522767], [53.57486, -2.424335], [53.548937, -2.523991], [53.602639, -2.555031], [53.548066, -2.400522], [53.570855, -2.438188], [53.554641, -2.422925], [53.56161, -2.38193], [53.548897, -2.39404], [53.580402, -2.407323], [53.540532, -2.53445], [53.600986, -2.432757], [53.560081, -2.524431], [53.576556, -2.427524], [53.589035, -2.406197], [53.571833, -2.549644], [53.585683, -2.438945], [53.538778, -2.503495], [53.572013, -2.549495], [53.595663, -2.547385], [53.574036, -2.428404], [53.556136, -2.45615], [53.600896, -2.432756], [53.588005, -2.466766], [53.546917, -2.469332], [53.59847, -2.456757], [53.582476, -2.455225], [53.582957, -2.42215], [53.549901, -2.487326], [53.59359, -2.463655], [53.552422, -2.414903], [53.597721, -2.4158], [53.552656, -2.398905], [53.603508, -2.40558], [53.546473, -2.419372], [53.597809, -2.416254], [53.584537, -2.407212], [53.569829, -2.423681], [53.552591, -2.510451], [53.564072, -2.449441], [53.59174, -2.578759], [53.546594, -2.504493], [53.565089, -2.441752], [53.586578, -2.414784], [53.592074, -2.436594], [53.592623, -2.457903], [53.599103, -2.455857], [53.59693, -2.410655], [53.576801, -2.434473], [53.547997, -2.469042], [53.612205, -2.412012], [53.569327, -2.547196], [53.596214, -2.45915], [53.591685, -2.468166], [53.573747, -2.433838], [53.569206, -2.446476], [53.557703, -2.394877], [53.557743, -2.524704], [53.575921, -2.429329], [53.586298, -2.391367], [53.574093, -2.546804], [53.599742, -2.375322], [53.555163, -2.401797], [53.581083, -2.510946], [53.585496, -2.415831], [53.549552, -2.484907], [53.596839, -2.410956], [53.549429, -2.447173], [53.57385, -2.430366], [53.549075, -2.420757], [53.55631, -2.407997], [53.549256, -2.468905], [53.586488, -2.414934], [53.544117, -2.449532], [53.598676, -2.425178], [53.543621, -2.38554], [53.548026, -2.50602], [53.559429, -2.440938], [53.578508, -2.434793], [53.557324, -2.40061], [53.575724, -2.434009], [53.619846, -2.437183], [53.56702, -2.454153], [53.568145, -2.441935], [53.616848, -2.420977], [53.55165, -2.49912], [53.583562, -2.429105], [53.559411, -2.421161], [53.562342, -2.37786], [53.553814, -2.402086], [53.561915, -2.37076], [53.568346, -2.482857], [53.587613, -2.427333], [53.584149, -2.440742], [53.579418, -2.431479], [53.584998, -2.429572], [53.591918, -2.477385], [53.574117, -2.430972], [53.580698, -2.399622], [53.58467, -2.394524], [53.549368, -2.414269], [53.573913, -2.546953], [53.586845, -2.415542], [53.572301, -2.435937], [53.584485, -2.44709], [53.566173, -2.415189], [53.560418, -2.440948], [53.56129, -2.369396], [53.595979, -2.425453], [53.573963, -2.555561], [53.552743, -2.425623], [53.567043, -2.448114], [53.568077, -2.545518], [53.568911, -2.476371], [53.590587, -2.536895], [53.583496, -2.53469], [53.57951, -2.377862], [53.580715, -2.394487], [53.565367, -2.414426], [53.591407, -2.446861], [53.582492, -2.426526], [53.54791, -2.468287], [53.549374, -2.412307], [53.597379, -2.410659], [53.572121, -2.436087], [53.580694, -2.451128], [53.582534, -2.43997], [53.591888, -2.527242], [53.548951, -2.430566], [53.560284, -2.452722], [53.544379, -2.40094], [53.565979, -2.444177], [53.549885, -2.468912], [53.598065, -2.420185], [53.599446, -2.54562], [53.590631, -2.412558], [53.580789, -2.399321], [53.586103, -2.422333], [53.565791, -2.421677], [53.535459, -2.522919], [53.602548, -2.555181], [53.533333, -2.472199], [53.557996, -2.486061], [53.579953, -2.37998], [53.558734, -2.458593], [53.574453, -2.412098], [53.573591, -2.427343], [53.59, -2.462105], [53.600897, -2.432605], [53.557905, -2.486361], [53.616441, -2.458463], [53.61878, -2.408146], [53.616427, -2.438206], [53.60062, -2.434718], [53.577011, -2.426169], [53.57486, -2.424335], [53.582476, -2.455225], [53.583048, -2.422], [53.615325, -2.419601], [53.598868, -2.534431], [53.569063, -2.460517], [53.574063, -2.394425], [53.582352, -2.529238], [53.58217, -2.441174], [53.559321, -2.42116], [53.604359, -2.552484], [53.602153, -2.433373], [53.574003, -2.546954], [53.549411, -2.452003], [53.569739, -2.42368], [53.562713, -2.452144], [53.562984, -2.451845], [53.592799, -2.409557], [53.598379, -2.432881], [53.600251, -2.546537], [53.543125, -2.450427], [53.601613, -2.40798], [53.546183, -2.399297], [53.582752, -2.453718], [53.551607, -2.416404], [53.580415, -2.453693], [53.585659, -2.420818], [53.566245, -2.420323], [53.592177, -2.407436], [53.564088, -2.420151], [53.571696, -2.429287], [53.545164, -2.457692], [53.544783, -2.528467], [53.591142, -2.445498], [53.583008, -2.380159], [53.61553, -2.437592], [53.630367, -2.383609], [53.58236, -2.484981], [53.565357, -2.442207], [53.581369, -2.527866], [53.594644, -2.492374], [53.571764, -2.435479], [53.577639, -2.426326], [53.549376, -2.483849], [53.588184, -2.391838], [53.548986, -2.420605], [53.573651, -2.410127], [53.55976, -2.424184], [53.591645, -2.431], [53.613061, -2.398265], [53.587374, -2.48957], [53.575094, -2.544098], [53.593761, -2.442202], [53.559163, -2.463882], [53.565246, -2.447793], [53.589969, -2.395782], [53.557142, -2.401212], [53.57486, -2.424335], [53.568158, -2.462168], [53.597171, -2.392374], [53.568433, -2.546278], [53.586303, -2.389705], [53.546474, -2.419222], [53.548137, -2.406258], [53.601884, -2.407529], [53.56478, -2.427858], [53.562415, -2.410321], [53.541329, -2.425207], [53.553176, -2.430307], [53.542765, -2.450574], [53.610175, -2.40111], [53.544316, -2.392941], [53.555796, -2.400746], [53.55067, -2.496995], [53.554832, -2.490553], [53.590222, -2.40077], [53.583014, -2.431365], [53.57849, -2.414554], [53.539498, -2.409194], [53.586001, -2.450278], [53.590343, -2.391253], [53.565062, -2.44915], [53.561497, -2.440959], [53.550762, -2.496543], [53.576318, -2.418762], [53.56324, -2.431164], [53.58496, -2.440146], [53.582233, -2.423654], [53.579951, -2.502323], [53.575825, -2.43099], [53.630526, -2.441679], [53.578094, -2.536585], [53.574092, -2.546955], [53.578549, -2.535383], [53.53826, -2.519483], [53.560573, -2.422984], [53.591537, -2.435984], [53.59234, -2.412272], [53.565528, -2.419863], [53.576021, -2.450927], [53.573913, -2.546953], [53.58134, -2.446603], [53.56253, -2.375295], [53.553723, -2.402236], [53.557141, -2.401514], [53.56868, -2.418082], [53.610372, -2.367859], [53.53533, -2.363738], [53.557426, -2.397139], [53.562214, -2.529892], [53.574822, -2.434906], [53.543713, -2.411951], [53.581186, -2.387846], [53.55845, -2.412999], [53.55851, -2.446514], [53.542636, -2.384324], [53.542028, -2.521189], [53.555099, -2.49116], [53.543886, -2.386901], [53.541857, -2.402727], [53.571403, -2.482741], [53.578508, -2.563928], [53.560697, -2.438536], [53.574039, -2.427649], [53.561556, -2.536376], [53.577999, -2.42633], [53.543353, -2.412098], [53.600986, -2.432757], [53.59367, -2.442503], [53.55391, -2.426088], [53.595237, -2.561733], [53.576123, -2.422988], [53.576589, -2.41816], [53.579572, -2.567114], [53.590182, -2.437632], [53.595956, -2.43195], [53.582266, -2.439514], [53.578459, -2.535382], [53.572808, -2.444852], [53.563076, -2.373186], [53.564072, -2.449441], [53.5805, -2.430584], [53.614995, -2.436528], [53.58873, -2.389879], [53.573616, -2.445163], [53.562414, -2.410471], [53.554719, -2.400132], [53.598297, -2.454942], [53.583048, -2.422], [53.539169, -2.399986], [53.552995, -2.430607], [53.551728, -2.502139], [53.578768, -2.526625], [53.563376, -2.418181], [53.543301, -2.451334], [53.603869, -2.405282], [53.559596, -2.444412], [53.550843, -2.498808], [53.566027, -2.541717], [53.55402, -2.512733], [53.56262, -2.375296], [53.543301, -2.451334], [53.569376, -2.47245], [53.573911, -2.52732], [53.549374, -2.412307], [53.544504, -2.390378], [53.556136, -2.45615], [53.574132, -2.426895], [53.551652, -2.498667], [53.557323, -2.401063], [53.546021, -2.36549], [53.580508, -2.452787], [53.576202, -2.450476], [53.569067, -2.459611], [53.542195, -2.381755], [53.581757, -2.43105], [53.566114, -2.431797], [53.547582, -2.436136], [53.591247, -2.44142], [53.541864, -2.537938], [53.546626, -2.518077], [53.560703, -2.436875], [53.590557, -2.433406], [53.551391, -2.496551], [53.54237, -2.383416], [53.557543, -2.486961], [53.572531, -2.446662], [53.544115, -2.516688], [53.563959, -2.431322], [53.572441, -2.422197], [53.569982, -2.455242], [53.572806, -2.445456], [53.580602, -2.401283], [53.54941, -2.452154], [53.577201, -2.447919], [53.551462, -2.50108], [53.546963, -2.523363], [53.579668, -2.483741], [53.600465, -2.427765], [53.588591, -2.430364], [53.61279, -2.398565], [53.567987, -2.545517], [53.584091, -2.522009], [53.582353, -2.440119], [53.580704, -2.39781], [53.59194, -2.423751], [53.571763, -2.43563], [53.565174, -2.466665], [53.562803, -2.452145], [53.600874, -2.4388], [53.567653, -2.428944], [53.56487, -2.427859], [53.588564, -2.412387], [53.569983, -2.430779], [53.578872, -2.433437], [53.603357, -2.59267], [53.580046, -2.406262], [53.540162, -2.516187], [53.549954, -2.517514], [53.610175, -2.40111], [53.546474, -2.419222], [53.550844, -2.402964], [53.587836, -2.415099], [53.581103, -2.526957], [53.580745, -2.385274], [53.569829, -2.423681], [53.559027, -2.401985], [53.5765, -2.418159], [53.561359, -2.47689], [53.550755, -2.402963], [53.570734, -2.395602], [53.583064, -2.442241], [53.54738, -2.417118], [53.557322, -2.401214], [53.548882, -2.424528], [53.588501, -2.430363], [53.579572, -2.567114], [53.547907, -2.469041], [53.600799, -2.434871], [53.546563, -2.419373], [53.543166, -2.387196], [53.590825, -2.433862], [53.542852, -2.538101], [53.590737, -2.433559], [53.589447, -2.569663], [53.618945, -2.461816], [53.58329, -2.520186], [53.591119, -2.451692], [53.547906, -2.469192], [53.571144, -2.432905], [53.572167, -2.447866], [53.579382, -2.487816], [53.563488, -2.411841], [53.555099, -2.49116], [53.597867, -2.516739], [53.550693, -2.420773], [53.550305, -2.403109], [53.589253, -2.533705], [53.580603, -2.400981], [53.550394, -2.40311], [53.599785, -2.44166], [53.616039, -2.42112], [53.57404, -2.427498], [53.569548, -2.426698], [53.5623, -2.417566], [53.574896, -2.387184], [53.567392, -2.372469], [53.590329, -2.395483], [53.579852, -2.459879], [53.60089, -2.434418], [53.575274, -2.544101], [53.562342, -2.37786], [53.568906, -2.430466], [53.532469, -2.358735], [53.5371, -2.537878], [53.583652, -2.429106], [53.598655, -2.455399], [53.602113, -2.490194], [53.551301, -2.49655], [53.579935, -2.461693], [53.569574, -2.419299], [53.54863, -2.393132], [53.581184, -2.388299], [53.55303, -2.420947], [53.575825, -2.430839], [53.574131, -2.427046], [53.584183, -2.455697], [53.568326, -2.441483], [53.581368, -2.528017], [53.59972, -2.409473], [53.569829, -2.423681], [53.566192, -2.435271], [53.569829, -2.423681], [53.580032, -2.41034], [53.562351, -2.452895], [53.583018, -2.430308], [53.578094, -2.536736], [53.590567, -2.430687], [53.566921, -2.456568], [53.560004, -2.405617], [53.581612, -2.394949], [53.543656, -2.452545], [53.601411, -2.439562], [53.554195, -2.492508], [53.554624, -2.401641], [53.551212, -2.496548], [53.558393, -2.520032], [53.577168, -2.432363], [53.546791, -2.52155], [53.540921, -2.413432], [53.581433, -2.445849], [53.600981, -2.458446], [53.57413, -2.427499], [53.543124, -2.400174], [53.559175, -2.436859], [53.545311, -2.390989], [53.567977, -2.462468], [53.581555, -2.437241], [53.595025, -2.587114], [53.578508, -2.563928], [53.551862, -2.420633], [53.54666, -2.417412], [53.575744, -2.428573], [53.546701, -2.521549], [53.561662, -2.365172], [53.545111, -2.448184], [53.595979, -2.425453], [53.549615, -2.420762], [53.590293, -2.40636], [53.57849, -2.414554], [53.567653, -2.428944], [53.59484, -2.390539], [53.565883, -2.445837], [53.560367, -2.404413], [53.557271, -2.487562], [53.594294, -2.443869], [53.573819, -2.438822], [53.55027, -2.413222], [53.561204, -2.368036], [53.576417, -2.389312], [53.568612, -2.54628], [53.602155, -2.432618], [53.537473, -2.368283], [53.549093, -2.415776], [53.603599, -2.40543], [53.617999, -2.425977], [53.539717, -2.471667], [53.574632, -2.412251], [53.549075, -2.420757], [53.609521, -2.408359], [53.578249, -2.43177], [53.559719, -2.482306], [53.594826, -2.445839], [53.547887, -2.400219], [53.572102, -2.549799], [53.589931, -2.432493], [53.543803, -2.411951], [53.545584, -2.361562], [53.575308, -2.424642], [53.554916, -2.421267], [53.586534, -2.451794], [53.574118, -2.430821], [53.543442, -2.385388], [53.579166, -2.426795], [53.589253, -2.533705], [53.561447, -2.454245], [53.572904, -2.443192], [53.603295, -2.549297], [53.572521, -2.449531], [53.573336, -2.423112], [53.58119, -2.438748], [53.546991, -2.399607], [53.560356, -2.480351], [53.605034, -2.431892], [53.576672, -2.420124], [53.592074, -2.436594], [53.599776, -2.552122], [53.564919, -2.413968], [53.629376, -2.384205], [53.566155, -2.420322], [53.551391, -2.496551], [53.544304, -2.470963], [53.577262, -2.455622], [53.543621, -2.38554], [53.604585, -2.431887], [53.590969, -2.443683], [53.590764, -2.537501], [53.596784, -2.450997], [53.568413, -2.442239], [53.537562, -2.368737], [53.559095, -2.458144], [53.592517, -2.462283], [53.57495, -2.424336], [53.597719, -2.54998], [53.588744, -2.412388], [53.542548, -2.38372], [53.581556, -2.436788], [53.595432, -2.558412], [53.538004, -2.516462], [53.589609, -2.534465], [53.565618, -2.419713], [53.595802, -2.449325], [53.543124, -2.400023], [53.548955, -2.429207], [53.557634, -2.48666], [53.575929, -2.45153], [53.602825, -2.394844], [53.592038, -2.421485], [53.603415, -2.432328], [53.574003, -2.546954], [53.593673, -2.441748], [53.550061, -2.395259], [53.538629, -2.372518], [53.549076, -2.420455], [53.547826, -2.418178], [53.598676, -2.425178], [53.545671, -2.362469], [53.549024, -2.481883], [53.584198, -2.427148], [53.597721, -2.415649], [53.574144, -2.423422], [53.597983, -2.417918], [53.576749, -2.448518], [53.588501, -2.430363], [53.579837, -2.463806], [53.585507, -2.412659], [53.541748, -2.380996], [53.603145, -2.432326], [53.551301, -2.49655], [53.567821, -2.456427], [53.571833, -2.549644], [53.59135, -2.412565], [53.547907, -2.469041], [53.587481, -2.413585], [53.597751, -2.432724], [53.580754, -2.434967], [53.578872, -2.433437], [53.546631, -2.425562], [53.558904, -2.411947], [53.57495, -2.424185], [53.56229, -2.420435], [53.538777, -2.40979], [53.629561, -2.382392], [53.559113, -2.403193], [53.591097, -2.562887], [53.543247, -2.441675], [53.533544, -2.388466], [53.554839, -2.488892], [53.544575, -2.447273], [53.55645, -2.490421], [53.543621, -2.38554], [53.542808, -2.38674], [53.579371, -2.552309], [53.565033, -2.522529], [53.55413, -2.486318], [53.55645, -2.490421], [53.545367, -2.451658], [53.537836, -2.395597], [53.55404, -2.486317], [53.541402, -2.430036], [53.538929, -2.391081], [53.573649, -2.54559], [53.544299, -2.448779], [53.532397, -2.381968], [53.565034, -2.522378], [53.544046, -2.4444], [53.543077, -2.387045], [53.573472, -2.544984], [53.547044, -2.459674], [53.530183, -2.371237], [53.552176, -2.48056], [53.538897, -2.400889], [53.541408, -2.428377], [53.544926, -2.449389], [53.531148, -2.379091], [53.569291, -2.535266], [53.569202, -2.535114], [53.530527, -2.376219], [53.538982, -2.402247], [53.599519, -2.587177], [53.546536, -2.518075], [53.586885, -2.429894], [53.564966, -2.45081], [53.562571, -2.416965], [53.577256, -2.456982], [53.574914, -2.544247], [53.576904, -2.455014], [53.57641, -2.443078], [53.576811, -2.431604], [53.569548, -2.426849], [53.548597, -2.519459], [53.56735, -2.412633], [53.556096, -2.489058], [53.587513, -2.454524], [53.547997, -2.469042], [53.557703, -2.394877], [53.569966, -2.482423], [53.592099, -2.453969], [53.586578, -2.414784], [53.563638, -2.420297], [53.538563, -2.444342], [53.544294, -2.450137], [53.568145, -2.441935], [53.586235, -2.482306], [53.554737, -2.421115], [53.544116, -2.399127], [53.556548, -2.48861], [53.543794, -2.414517], [53.545684, -2.527875], [53.574736, -2.381142], [53.580508, -2.452787], [53.576203, -2.450325], [53.597669, -2.377117], [53.591723, -2.48116], [53.594294, -2.44402], [53.578598, -2.434794], [53.574028, -2.430669], [53.561436, -2.407292], [53.588197, -2.414649], [53.534675, -2.537545], [53.543395, -2.399573], [53.585198, -2.448608], [53.596047, -2.431649], [53.558732, -2.524565], [53.585645, -2.449368], [53.630277, -2.383608], [53.58081, -2.392827], [53.590222, -2.474344], [53.566245, -2.420323], [53.546816, -2.448806], [53.580754, -2.434967], [53.567523, -2.463671], [53.582603, -2.445559], [53.564472, -2.41336], [53.566969, -2.443734], [53.585484, -2.419456], [53.623178, -2.435403], [53.570919, -2.491041], [53.561198, -2.369848], [53.607819, -2.479529], [53.558968, -2.419194], [53.575634, -2.434008], [53.593822, -2.473327], [53.538299, -2.362707], [53.57185, -2.436537], [53.54941, -2.452154], [53.5575, -2.401668], [53.573819, -2.438822], [53.573337, -2.422961], [53.565546, -2.414579], [53.595419, -2.500391], [53.545605, -2.383596], [53.579774, -2.379677], [53.564686, -2.375616], [53.601923, -2.554417], [53.584085, -2.523368], [53.576416, -2.487782], [53.554661, -2.509872], [53.543531, -2.38554], [53.595691, -2.579569], [53.600896, -2.432756], [53.606236, -2.422534], [53.591555, -2.430848], [53.60997, -2.434209], [53.569118, -2.469578], [53.588754, -2.458918], [53.570584, -2.438487], [53.562086, -2.474784], [53.62309, -2.4351], [53.542192, -2.382811], [53.583815, -2.523516], [53.586618, -2.403304], [53.591812, -2.481312], [53.574604, -2.572182], [53.571723, -2.39531], [53.61297, -2.398416], [53.57734, -2.434479], [53.577124, -2.444445], [53.574733, -2.544396], [53.541304, -2.406646], [53.573728, -2.438972], [53.575059, -2.418749], [53.598842, -2.540173], [53.597108, -2.410959], [53.568778, -2.440733], [53.576202, -2.450476], [53.555913, -2.44392], [53.567295, -2.476051], [53.53551, -2.36374], [53.566092, -2.412621], [53.581555, -2.384828], [53.597445, -2.390866], [53.572482, -2.435788], [53.561203, -2.368489], [53.571471, -2.550243], [53.598379, -2.432881], [53.566699, -2.444033], [53.565316, -2.375319], [53.593679, -2.463807], [53.598187, -2.410818], [53.590959, -2.395187], [53.584998, -2.429572], [53.562216, -2.440967], [53.547287, -2.418022], [53.57018, -2.450412], [53.595507, -2.431643], [53.588743, -2.412539], [53.537207, -2.367225], [53.568433, -2.546127], [53.605034, -2.431892], [53.563277, -2.469211], [53.542051, -2.449208], [53.578508, -2.434793], [53.574119, -2.430519], [53.604491, -2.432944], [53.59491, -2.493283], [53.57641, -2.443078], [53.593492, -2.442048], [53.578418, -2.563927], [53.616337, -2.438205], [53.551087, -2.525678], [53.591188, -2.407427], [53.571075, -2.45163], [53.58276, -2.451452], [53.546631, -2.399603], [53.592897, -2.40699], [53.594629, -2.45037], [53.542967, -2.39308], [53.602338, -2.431864], [53.544899, -2.456633], [53.580324, -2.453994], [53.594968, -2.431638], [53.578761, -2.413953], [53.558848, -2.401983], [53.560904, -2.455296], [53.572531, -2.446662], [53.611403, -2.41004], [53.574868, -2.42207], [53.567627, -2.43604], [53.591182, -2.409088], [53.598524, -2.550746], [53.57849, -2.414554], [53.579512, -2.377258], [53.55021, -2.499555], [53.59194, -2.423751], [53.549885, -2.468912], [53.547397, -2.52684], [53.587316, -2.382312], [53.598676, -2.425178], [53.55303, -2.420796], [53.574914, -2.544247], [53.551044, -2.396928], [53.569741, -2.368715], [53.569664, -2.419451], [53.542858, -2.556512], [53.573657, -2.433988], [53.550394, -2.40311], [53.546822, -2.514306], [53.570827, -2.420821], [53.581556, -2.384526], [53.597429, -2.554207], [53.552136, -2.419428], [53.58324, -2.4433], [53.548693, -2.401132], [53.569196, -2.449194], [53.572923, -2.484571], [53.560574, -2.422682], [53.545561, -2.423136], [53.565224, -2.429372], [53.567159, -2.464724], [53.581985, -2.442532], [53.563076, -2.373186], [53.569739, -2.42368], [53.554305, -2.508963], [53.551301, -2.49655], [53.595979, -2.425453], [53.574771, -2.424183], [53.578922, -2.39296], [53.57849, -2.414403], [53.546536, -2.518075], [53.574092, -2.546955], [53.543793, -2.414819], [53.578184, -2.536586], [53.592491, -2.393993], [53.565797, -2.420017], [53.563968, -2.559356], [53.578506, -2.435246], [53.572531, -2.446662], [53.578627, -2.426638], [53.59385, -2.442354], [53.548584, -2.407017], [53.570253, -2.430631], [53.562086, -2.474784], [53.588474, -2.412386], [53.545167, -2.379971], [53.543393, -2.450882], [53.576103, -2.428727], [53.615619, -2.437895], [53.602361, -2.594168], [53.546474, -2.419222], [53.603284, -2.551564], [53.582813, -2.484079], [53.580921, -2.386484], [53.572531, -2.446662], [53.567249, -2.464725], [53.557543, -2.486961], [53.555789, -2.375084], [53.596805, -2.553141], [53.548638, -2.509951], [53.547217, -2.412437], [53.549374, -2.412307], [53.565675, -2.375625], [53.541992, -2.360325], [53.561519, -2.382231], [53.597806, -2.417161], [53.565077, -2.444922], [53.58447, -2.426395], [53.566901, -2.437845], [53.559007, -2.45754], [53.55664, -2.465515], [53.576567, -2.449121], [53.584656, -2.449206], [53.5617, -2.408955], [53.565542, -2.440699], [53.579687, -2.37877], [53.612098, -2.465822], [53.60034, -2.54669], [53.616171, -2.458611], [53.55972, -2.524879], [53.587475, -2.529302], [53.585287, -2.44876], [53.57212, -2.436238], [53.598676, -2.425178], [53.61336, -2.415954], [53.571275, -2.42143], [53.585467, -2.448913], [53.58874, -2.462695], [53.579775, -2.501414], [53.591756, -2.449584], [53.546387, -2.391753], [53.551301, -2.49655], [53.614096, -2.410973], [53.572808, -2.444852], [53.567257, -2.438905], [53.590061, -2.534018], [53.59398, -2.431477], [53.579421, -2.377408], [53.559805, -2.41105], [53.549885, -2.468912], [53.554924, -2.48995], [53.55828, -2.459645], [53.577494, -2.416508], [53.57716, -2.434477], [53.54567, -2.391143], [53.611314, -2.409888], [53.57995, -2.457766], [53.589576, -2.405749], [53.559937, -2.449397], [53.586578, -2.414935], [53.574822, -2.434906], [53.588634, -2.570408], [53.590959, -2.395187], [53.588756, -2.458616], [53.554271, -2.399826], [53.59945, -2.435008], [53.556186, -2.489059], [53.579775, -2.501414], [53.558618, -2.416624], [53.557422, -2.398346], [53.541306, -2.406193], [53.573089, -2.441835], [53.5952, -2.390391], [53.574768, -2.424787], [53.590835, -2.47843], [53.59416, -2.431479], [53.572332, -2.497249], [53.598199, -2.43288], [53.546455, -2.424504], [53.578882, -2.430719], [53.574578, -2.427655], [53.579377, -2.489024], [53.544506, -2.389925], [53.576921, -2.426017], [53.57681, -2.432057], [53.547367, -2.469186], [53.615176, -2.410832], [53.568249, -2.462018], [53.566608, -2.444334], [53.587613, -2.427333], [53.548986, -2.420454], [53.598534, -2.54848], [53.580712, -2.395242], [53.600036, -2.514045], [53.594143, -2.410779], [53.57499, -2.412708], [53.574118, -2.430821], [53.546579, -2.387982], [53.551638, -2.501987], [53.58004, -2.457767], [53.595292, -2.587722], [53.571621, -2.449823], [53.569327, -2.547196], [53.551044, -2.396928], [53.589804, -2.570272], [53.584574, -2.447242], [53.552096, -2.45505], [53.579428, -2.498389], [53.541452, -2.360471], [53.620201, -2.462434], [53.559871, -2.489252], [53.57527, -2.545007], [53.582644, -2.381666], [53.616396, -2.421728], [53.584448, -2.522769], [53.579837, -2.463655], [53.575043, -2.423431], [53.560308, -2.367123], [53.599638, -2.432894], [53.546819, -2.51491], [53.571805, -2.494223], [53.585807, -2.429581], [53.575936, -2.425101], [53.578639, -2.535384], [53.576802, -2.434322], [53.584835, -2.424888], [53.557231, -2.401515], [53.572031, -2.436086], [53.576008, -2.430085], [53.56324, -2.431164], [53.600999, -2.42913], [53.585215, -2.392565], [53.593896, -2.540563], [53.59458, -2.586202], [53.581103, -2.526957], [53.597018, -2.411109], [53.580043, -2.457012], [53.539497, -2.409344], [53.573362, -2.440781], [53.589447, -2.569663], [53.55673, -2.465365], [53.58141, -2.401593], [53.556187, -2.488908], [53.567434, -2.439662], [53.549885, -2.468912], [53.60025, -2.546688], [53.575464, -2.431439], [53.582276, -2.436795], [53.580402, -2.407323], [53.552352, -2.524184], [53.561332, -2.436881], [53.579718, -2.471206], [53.568865, -2.441489], [53.546894, -2.427526], [53.5812, -2.435878], [53.599457, -2.380306], [53.601654, -2.554111], [53.58071, -2.395847], [53.557718, -2.509607], [53.596422, -2.451749], [53.571621, -2.449672], [53.588008, -2.466011], [53.565126, -2.431636], [53.553301, -2.512724], [53.560823, -2.428573], [53.593704, -2.407753], [53.531446, -2.515628], [53.546535, -2.518377], [53.545767, -2.360357], [53.597811, -2.549528], [53.582366, -2.436645], [53.572603, -2.427031], [53.573657, -2.433837], [53.589576, -2.405749], [53.576373, -2.428579], [53.552777, -2.416114], [53.56161, -2.381779], [53.559411, -2.421161], [53.55894, -2.451651], [53.581688, -2.425159], [53.590647, -2.433558], [53.580497, -2.405964], [53.568299, -2.448731], [53.572904, -2.443192], [53.57444, -2.416025], [53.57221, -2.436238], [53.626944, -2.385846], [53.595979, -2.425453], [53.544202, -2.426141], [53.597284, -2.412018], [53.592275, -2.541297], [53.558247, -2.444549], [53.599804, -2.546078], [53.603096, -2.553375], [53.562177, -2.474483], [53.583291, -2.520035], [53.60903, -2.394146], [53.575912, -2.431746], [53.534757, -2.518988], [53.598851, -2.538057], [53.58126, -2.511703], [53.559909, -2.456795], [53.552312, -2.420638], [53.578596, -2.435096], [53.573606, -2.423114], [53.573271, -2.441233], [53.583144, -2.393604], [53.57422, -2.427198], [53.566154, -2.445387], [53.598041, -2.518101], [53.582143, -2.423653], [53.584289, -2.426846], [53.598099, -2.410364], [53.608143, -2.39036], [53.606881, -2.551308], [53.555795, -2.400897], [53.561306, -2.363961], [53.59245, -2.456239], [53.546219, -2.388281], [53.598566, -2.455247], [53.577042, -2.417258], [53.591317, -2.44686], [53.57807, -2.431617], [53.550933, -2.498658], [53.578508, -2.434793], [53.542195, -2.381755], [53.583928, -2.427145], [53.573949, -2.427799], [53.545692, -2.411366], [53.56526, -2.467723], [53.584819, -2.42942], [53.550509, -2.395867], [53.616397, -2.421577], [53.571177, -2.494064], [53.618978, -2.428557], [53.557541, -2.464921], [53.579246, -2.376047], [53.605125, -2.431741], [53.547933, -2.506622], [53.543035, -2.399871], [53.63626, -2.44673], [53.572351, -2.422045], [53.595228, -2.408825], [53.572121, -2.436087], [53.548806, -2.420754], [53.573818, -2.438973], [53.569862, -2.439234], [53.576326, -2.487781], [53.546561, -2.420128], [53.57849, -2.414554], [53.574233, -2.423574], [53.548871, -2.427697], [53.561266, -2.454545], [53.569506, -2.5475], [53.560401, -2.420869], [53.567249, -2.464725], [53.615324, -2.419752], [53.572905, -2.44289], [53.585338, -2.524743], [53.537253, -2.523696], [53.571598, -2.40603], [53.559722, -2.524426], [53.579572, -2.567114], [53.574913, -2.434605], [53.595574, -2.547232], [53.59838, -2.43273], [53.5865, -2.483668], [53.588651, -2.462543], [53.548027, -2.505869], [53.573706, -2.445164], [53.543952, -2.533437], [53.557322, -2.401365], [53.594485, -2.441001], [53.546718, -2.426468], [53.59368, -2.463656], [53.572808, -2.444852], [53.568236, -2.441482], [53.56707, -2.464723], [53.579435, -2.426948], [53.581582, -2.454158], [53.57789, -2.431464], [53.56175, -2.42058], [53.587883, -2.427185], [53.572038, -2.434274], [53.579864, -2.379677], [53.572783, -2.426881], [53.560053, -2.417393], [53.585605, -2.5252], [53.586351, -2.428378], [53.561813, -2.475687], [53.580373, -2.41563], [53.600799, -2.43472], [53.586111, -2.444841], [53.578852, -2.413802], [53.565616, -2.468633], [53.57402, -2.433086], [53.595856, -2.409134], [53.598068, -2.5521], [53.556821, -2.465215], [53.575012, -2.37903], [53.603418, -2.405731], [53.591628, -2.435683], [53.564677, -2.43148], [53.569803, -2.430929], [53.562436, -2.376351], [53.602204, -2.552003], [53.617099, -2.42627], [53.555885, -2.400747], [53.605585, -2.428723], [53.579849, -2.411396], [53.572301, -2.435937], [53.545759, -2.363073], [53.55475, -2.510024], [53.555867, -2.455996], [53.588746, -2.461184], [53.604167, -2.493542], [53.572997, -2.442438], [53.599123, -2.426089], [53.543796, -2.387202], [53.569561, -2.368864], [53.547311, -2.41108], [53.551283, -2.521907], [53.579485, -2.412751], [53.563069, -2.428746], [53.574001, -2.527321], [53.538688, -2.503494], [53.585909, -2.55738], [53.555016, -2.489498], [53.543692, -2.442887], [53.542809, -2.438652], [53.545463, -2.449999], [53.537483, -2.393482], [53.539037, -2.412358], [53.534435, -2.390889], [53.559015, -2.500565], [53.556798, -2.493293], [53.531863, -2.380153], [53.537031, -2.394383], [53.552707, -2.482528], [53.575267, -2.545611], [53.548101, -2.46527], [53.541161, -2.422036], [53.536495, -2.393322], [53.530528, -2.376068], [53.534266, -2.387719], [53.566892, -2.529045], [53.565208, -2.523739], [53.585908, -2.557682], [53.537666, -2.392578], [53.563086, -2.51556], [53.55645, -2.490421], [53.535784, -2.390901], [53.562822, -2.514349], [53.538979, -2.403153], [53.529822, -2.371838], [53.564766, -2.522073], [53.529292, -2.368816], [53.535783, -2.391203], [53.530708, -2.376069]],\n",
       "                {\n",
       "  &quot;minOpacity&quot;: 0.5,\n",
       "  &quot;maxZoom&quot;: 18,\n",
       "  &quot;radius&quot;: 25,\n",
       "  &quot;blur&quot;: 15,\n",
       "}\n",
       "            );\n",
       "        \n",
       "    \n",
       "            heat_map_26c4e5cbc09f706c400ee4e377218cb1.addTo(map_6fcae0440a6e20eb05af116a5c11a109);\n",
       "        \n",
       "    \n",
       "            tile_layer_39809c37ee8dc1e1a90150cea24b0e9b.addTo(map_6fcae0440a6e20eb05af116a5c11a109);\n",
       "        \n",
       "    \n",
       "            heat_map_26c4e5cbc09f706c400ee4e377218cb1.addTo(map_6fcae0440a6e20eb05af116a5c11a109);\n",
       "        \n",
       "&lt;/script&gt;\n",
       "&lt;/html&gt;\" style=\"position:absolute;width:100%;height:100%;left:0;top:0;border:none !important;\" allowfullscreen webkitallowfullscreen mozallowfullscreen></iframe></div></div>"
      ],
      "text/plain": [
       "<folium.folium.Map at 0x18c6d19f6d0>"
      ]
     },
     "execution_count": 54,
     "metadata": {},
     "output_type": "execute_result"
    }
   ],
   "source": [
    "# bolton_df\n",
    "import folium\n",
    "from folium.plugins import HeatMap\n",
    "bolton_locations  = list(zip(bolton_df['Latitude'], bolton_df['Longitude']))\n",
    "bolton_map = folium.Map(location=[bolton_df['Latitude'].mean(), bolton_df['Longitude'].mean()], zoom_start=10)\n",
    "HeatMap(bolton_locations).add_to(bolton_map)\n",
    "bolton_map.save('bolton_heatmap.html')  \n",
    "bolton_map"
   ]
  },
  {
   "cell_type": "markdown",
   "id": "ad01d383-db5b-4c30-aae3-3a6e4dccce24",
   "metadata": {},
   "source": [
    "<h1> Seaborn is built on TOP of MATPLOTLIB\n",
    "</h1>"
   ]
  },
  {
   "cell_type": "code",
   "execution_count": 46,
   "id": "afaf3688-c9b0-49a0-827b-566b68a806c0",
   "metadata": {},
   "outputs": [],
   "source": [
    "import seaborn as sns"
   ]
  },
  {
   "cell_type": "code",
   "execution_count": 49,
   "id": "819320a8-23fa-4151-98b9-7a6ab9e61269",
   "metadata": {},
   "outputs": [
    {
     "name": "stdout",
     "output_type": "stream",
     "text": [
      "Requirement already satisfied: seaborn in c:\\users\\user\\appdata\\local\\programs\\python\\python311\\lib\\site-packages (0.13.2)\n",
      "Requirement already satisfied: numpy!=1.24.0,>=1.20 in c:\\users\\user\\appdata\\local\\programs\\python\\python311\\lib\\site-packages (from seaborn) (1.26.4)\n",
      "Requirement already satisfied: pandas>=1.2 in c:\\users\\user\\appdata\\local\\programs\\python\\python311\\lib\\site-packages (from seaborn) (2.2.1)\n",
      "Requirement already satisfied: matplotlib!=3.6.1,>=3.4 in c:\\users\\user\\appdata\\local\\programs\\python\\python311\\lib\\site-packages (from seaborn) (3.8.3)\n",
      "Requirement already satisfied: contourpy>=1.0.1 in c:\\users\\user\\appdata\\local\\programs\\python\\python311\\lib\\site-packages (from matplotlib!=3.6.1,>=3.4->seaborn) (1.2.0)\n",
      "Requirement already satisfied: cycler>=0.10 in c:\\users\\user\\appdata\\local\\programs\\python\\python311\\lib\\site-packages (from matplotlib!=3.6.1,>=3.4->seaborn) (0.12.1)\n",
      "Requirement already satisfied: fonttools>=4.22.0 in c:\\users\\user\\appdata\\local\\programs\\python\\python311\\lib\\site-packages (from matplotlib!=3.6.1,>=3.4->seaborn) (4.50.0)\n",
      "Requirement already satisfied: kiwisolver>=1.3.1 in c:\\users\\user\\appdata\\local\\programs\\python\\python311\\lib\\site-packages (from matplotlib!=3.6.1,>=3.4->seaborn) (1.4.5)\n",
      "Requirement already satisfied: packaging>=20.0 in c:\\users\\user\\appdata\\local\\programs\\python\\python311\\lib\\site-packages (from matplotlib!=3.6.1,>=3.4->seaborn) (23.1)\n",
      "Requirement already satisfied: pillow>=8 in c:\\users\\user\\appdata\\local\\programs\\python\\python311\\lib\\site-packages (from matplotlib!=3.6.1,>=3.4->seaborn) (10.2.0)\n",
      "Requirement already satisfied: pyparsing>=2.3.1 in c:\\users\\user\\appdata\\local\\programs\\python\\python311\\lib\\site-packages (from matplotlib!=3.6.1,>=3.4->seaborn) (3.1.2)\n",
      "Requirement already satisfied: python-dateutil>=2.7 in c:\\users\\user\\appdata\\local\\programs\\python\\python311\\lib\\site-packages (from matplotlib!=3.6.1,>=3.4->seaborn) (2.8.2)\n",
      "Requirement already satisfied: pytz>=2020.1 in c:\\users\\user\\appdata\\local\\programs\\python\\python311\\lib\\site-packages (from pandas>=1.2->seaborn) (2024.1)\n",
      "Requirement already satisfied: tzdata>=2022.7 in c:\\users\\user\\appdata\\local\\programs\\python\\python311\\lib\\site-packages (from pandas>=1.2->seaborn) (2024.1)\n",
      "Requirement already satisfied: six>=1.5 in c:\\users\\user\\appdata\\local\\programs\\python\\python311\\lib\\site-packages (from python-dateutil>=2.7->matplotlib!=3.6.1,>=3.4->seaborn) (1.16.0)\n",
      "Note: you may need to restart the kernel to use updated packages.\n"
     ]
    }
   ],
   "source": [
    "pip install seaborn"
   ]
  },
  {
   "cell_type": "code",
   "execution_count": 51,
   "id": "e3935c5e-a1b9-46a8-82c3-b7f061c8162f",
   "metadata": {},
   "outputs": [
    {
     "data": {
      "image/png": "[encoded data removed]",
      "text/plain": [
       "<Figure size 640x480 with 1 Axes>"
      ]
     },
     "metadata": {},
     "output_type": "display_data"
    }
   ],
   "source": [
    "visual = sns.barplot(x='Road_Type', y ='Accident_Severity',data=df)\n",
    "plt.show()"
   ]
  },
  {
   "cell_type": "code",
   "execution_count": null,
   "id": "f19904c4-5050-4235-88ed-b239ceb6eefb",
   "metadata": {},
   "outputs": [],
   "source": []
  }
 ],
 "metadata": {
  "kernelspec": {
   "display_name": "Python 3 (ipykernel)",
   "language": "python",
   "name": "python3"
  },
  "language_info": {
   "codemirror_mode": {
    "name": "ipython",
    "version": 3
   },
   "file_extension": ".py",
   "mimetype": "text/x-python",
   "name": "python",
   "nbconvert_exporter": "python",
   "pygments_lexer": "ipython3",
   "version": "3.11.3"
  }
 },
 "nbformat": 4,
 "nbformat_minor": 5
}
